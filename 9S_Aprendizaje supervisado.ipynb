{
 "cells": [
  {
   "cell_type": "markdown",
   "metadata": {},
   "source": [
    "## Descripción del proyecto\n",
    "Los clientes de Beta Bank se están yendo, cada mes, poco a poco. Los banqueros descubrieron que es más barato salvar a los clientes existentes que atraer nuevos.\n",
    "\n",
    "Necesitamos predecir si un cliente dejará el banco pronto. Tú tienes los datos sobre el comportamiento pasado de los clientes y la terminación de contratos con el banco.\n",
    "\n",
    "Crea un modelo con el máximo valor F1 posible. Para aprobar la revisión, necesitas un valor F1 de al menos 0.59. Verifica F1 para el conjunto de prueba. \n",
    "\n",
    "Además, debes medir la métrica AUC-ROC y compararla con el valor F1."
   ]
  },
  {
   "cell_type": "markdown",
   "metadata": {},
   "source": [
    "### Instrucciones del proyecto\n",
    "1. Descarga y prepara los datos.  Explica el procedimiento.\n",
    "\n",
    "2. Examina el equilibrio de clases. Entrena el modelo sin tener en cuenta el desequilibrio. Describe brevemente tus hallazgos.\n",
    "\n",
    "3. Mejora la calidad del modelo. Asegúrate de utilizar al menos dos enfoques para corregir el desequilibrio de clases. Utiliza conjuntos de entrenamiento y validación para encontrar el mejor modelo y el mejor conjunto de parámetros. Entrena diferentes modelos en los conjuntos de entrenamiento y validación. Encuentra el mejor. Describe brevemente tus hallazgos.\n",
    "\n",
    "4. Realiza la prueba final."
   ]
  },
  {
   "cell_type": "markdown",
   "metadata": {},
   "source": [
    "### Descripción de los datos\n",
    "Cada observación en el dataset contiene información del comportamiento mensual sobre un usuario. La información dada es la siguiente:\n",
    "Puedes encontrar los datos en el archivo  /datasets/Churn.csv file. Descarga el conjunto de datos.\n",
    "\n",
    "Características:\n",
    "\n",
    "- `Churn.csv`: cada fila corresponde a un pedido en la aplicación Instacart.\n",
    "    - `'RowNumber'`: índice de cadena de datos\n",
    "    - `'CustomerId'`: identificador de cliente único\n",
    "    - `'Surname'`: apellido\n",
    "    - `'CreditScore'`: valor de crédito\n",
    "    - `'Geography'`: país de residencia\n",
    "    - `'Gender'`: sexo\n",
    "    - `'Age'`: edad\n",
    "    - `'Tenure'`: período durante el cual ha madurado el depósito a plazo fijo de un cliente (años)\n",
    "    - `'Balance'`: saldo de la cuenta\n",
    "    - `'NumOfProducts'`: número de productos bancarios utilizados por el cliente\n",
    "    - `'HasCrCard'`: el cliente tiene una tarjeta de crédito (1 - sí; 0 - no)\n",
    "    - `'IsActiveMember'`: actividad del cliente (1 - sí; 0 - no)\n",
    "    - `'EstimatedSalary'`: salario estimado"
   ]
  },
  {
   "cell_type": "markdown",
   "metadata": {},
   "source": [
    "### Inicialización e importación de librerias "
   ]
  },
  {
   "cell_type": "markdown",
   "metadata": {},
   "source": [
    "### Cargar datasets"
   ]
  },
  {
   "cell_type": "code",
   "execution_count": 1,
   "metadata": {},
   "outputs": [],
   "source": [
    "from sklearn.metrics import roc_auc_score # Calcular el AUC-ROC\n",
    "from sklearn.metrics import roc_curve # Calcular la curva ROC\n",
    "from sklearn.metrics import recall_score # Calcular Recall\n",
    "from sklearn.metrics import precision_score # precision_score\n",
    "from sklearn.metrics import accuracy_score \n",
    "from sklearn.utils import shuffle # Submuestreo\n",
    "from sklearn.preprocessing import StandardScaler, MinMaxScaler # estandarizar los datos \n",
    "\n",
    "import matplotlib.pyplot as plt\n",
    "import pandas as pd\n",
    "import numpy as np\n",
    "\n",
    "from sklearn.ensemble import RandomForestClassifier # Ajuste de hiperparámetros # Bosque aleatorio\n",
    "from sklearn.linear_model import LogisticRegression # Regresión Logistica\n",
    "from sklearn.tree import DecisionTreeClassifier # Arbol de desiciones\n",
    "\n",
    "\n",
    "from sklearn.model_selection import train_test_split # Separa los datos en entrenamiento, validación y uno de prueba\n",
    "from sklearn.metrics import f1_score # Calcular valor F1"
   ]
  },
  {
   "cell_type": "code",
   "execution_count": 2,
   "metadata": {},
   "outputs": [],
   "source": [
    "data = pd.read_csv('/datasets/Churn.csv') "
   ]
  },
  {
   "cell_type": "markdown",
   "metadata": {},
   "source": [
    "### Exploración inicial de datos"
   ]
  },
  {
   "cell_type": "code",
   "execution_count": 3,
   "metadata": {},
   "outputs": [
    {
     "name": "stdout",
     "output_type": "stream",
     "text": [
      "<class 'pandas.core.frame.DataFrame'>\n",
      "RangeIndex: 10000 entries, 0 to 9999\n",
      "Data columns (total 14 columns):\n",
      " #   Column           Non-Null Count  Dtype  \n",
      "---  ------           --------------  -----  \n",
      " 0   RowNumber        10000 non-null  int64  \n",
      " 1   CustomerId       10000 non-null  int64  \n",
      " 2   Surname          10000 non-null  object \n",
      " 3   CreditScore      10000 non-null  int64  \n",
      " 4   Geography        10000 non-null  object \n",
      " 5   Gender           10000 non-null  object \n",
      " 6   Age              10000 non-null  int64  \n",
      " 7   Tenure           9091 non-null   float64\n",
      " 8   Balance          10000 non-null  float64\n",
      " 9   NumOfProducts    10000 non-null  int64  \n",
      " 10  HasCrCard        10000 non-null  int64  \n",
      " 11  IsActiveMember   10000 non-null  int64  \n",
      " 12  EstimatedSalary  10000 non-null  float64\n",
      " 13  Exited           10000 non-null  int64  \n",
      "dtypes: float64(3), int64(8), object(3)\n",
      "memory usage: 1.1+ MB\n"
     ]
    }
   ],
   "source": [
    "data.info()"
   ]
  },
  {
   "cell_type": "markdown",
   "metadata": {},
   "source": [
    "### Preprocesamiento de datos\n",
    "\n",
    "Corrige el formato en los encabezados de la tabla de acuerdo con las reglas del buen estilo:\n",
    "* Todos los caracteres deben ser minúsculas.\n",
    "* Elimina los espacios.\n",
    "* Si el nombre tiene varias palabras, utiliza snake_case.\n"
   ]
  },
  {
   "cell_type": "code",
   "execution_count": 4,
   "metadata": {},
   "outputs": [
    {
     "data": {
      "text/plain": [
       "(10000, 14)"
      ]
     },
     "execution_count": 4,
     "metadata": {},
     "output_type": "execute_result"
    }
   ],
   "source": [
    "data.shape # 14 filas 10000 datos"
   ]
  },
  {
   "cell_type": "code",
   "execution_count": 5,
   "metadata": {},
   "outputs": [
    {
     "data": {
      "text/html": [
       "<div>\n",
       "<style scoped>\n",
       "    .dataframe tbody tr th:only-of-type {\n",
       "        vertical-align: middle;\n",
       "    }\n",
       "\n",
       "    .dataframe tbody tr th {\n",
       "        vertical-align: top;\n",
       "    }\n",
       "\n",
       "    .dataframe thead th {\n",
       "        text-align: right;\n",
       "    }\n",
       "</style>\n",
       "<table border=\"1\" class=\"dataframe\">\n",
       "  <thead>\n",
       "    <tr style=\"text-align: right;\">\n",
       "      <th></th>\n",
       "      <th>RowNumber</th>\n",
       "      <th>CustomerId</th>\n",
       "      <th>Surname</th>\n",
       "      <th>CreditScore</th>\n",
       "      <th>Geography</th>\n",
       "      <th>Gender</th>\n",
       "      <th>Age</th>\n",
       "      <th>Tenure</th>\n",
       "      <th>Balance</th>\n",
       "      <th>NumOfProducts</th>\n",
       "      <th>HasCrCard</th>\n",
       "      <th>IsActiveMember</th>\n",
       "      <th>EstimatedSalary</th>\n",
       "      <th>Exited</th>\n",
       "    </tr>\n",
       "  </thead>\n",
       "  <tbody>\n",
       "    <tr>\n",
       "      <th>0</th>\n",
       "      <td>1</td>\n",
       "      <td>15634602</td>\n",
       "      <td>Hargrave</td>\n",
       "      <td>619</td>\n",
       "      <td>France</td>\n",
       "      <td>Female</td>\n",
       "      <td>42</td>\n",
       "      <td>2.0</td>\n",
       "      <td>0.00</td>\n",
       "      <td>1</td>\n",
       "      <td>1</td>\n",
       "      <td>1</td>\n",
       "      <td>101348.88</td>\n",
       "      <td>1</td>\n",
       "    </tr>\n",
       "    <tr>\n",
       "      <th>1</th>\n",
       "      <td>2</td>\n",
       "      <td>15647311</td>\n",
       "      <td>Hill</td>\n",
       "      <td>608</td>\n",
       "      <td>Spain</td>\n",
       "      <td>Female</td>\n",
       "      <td>41</td>\n",
       "      <td>1.0</td>\n",
       "      <td>83807.86</td>\n",
       "      <td>1</td>\n",
       "      <td>0</td>\n",
       "      <td>1</td>\n",
       "      <td>112542.58</td>\n",
       "      <td>0</td>\n",
       "    </tr>\n",
       "    <tr>\n",
       "      <th>2</th>\n",
       "      <td>3</td>\n",
       "      <td>15619304</td>\n",
       "      <td>Onio</td>\n",
       "      <td>502</td>\n",
       "      <td>France</td>\n",
       "      <td>Female</td>\n",
       "      <td>42</td>\n",
       "      <td>8.0</td>\n",
       "      <td>159660.80</td>\n",
       "      <td>3</td>\n",
       "      <td>1</td>\n",
       "      <td>0</td>\n",
       "      <td>113931.57</td>\n",
       "      <td>1</td>\n",
       "    </tr>\n",
       "    <tr>\n",
       "      <th>3</th>\n",
       "      <td>4</td>\n",
       "      <td>15701354</td>\n",
       "      <td>Boni</td>\n",
       "      <td>699</td>\n",
       "      <td>France</td>\n",
       "      <td>Female</td>\n",
       "      <td>39</td>\n",
       "      <td>1.0</td>\n",
       "      <td>0.00</td>\n",
       "      <td>2</td>\n",
       "      <td>0</td>\n",
       "      <td>0</td>\n",
       "      <td>93826.63</td>\n",
       "      <td>0</td>\n",
       "    </tr>\n",
       "    <tr>\n",
       "      <th>4</th>\n",
       "      <td>5</td>\n",
       "      <td>15737888</td>\n",
       "      <td>Mitchell</td>\n",
       "      <td>850</td>\n",
       "      <td>Spain</td>\n",
       "      <td>Female</td>\n",
       "      <td>43</td>\n",
       "      <td>2.0</td>\n",
       "      <td>125510.82</td>\n",
       "      <td>1</td>\n",
       "      <td>1</td>\n",
       "      <td>1</td>\n",
       "      <td>79084.10</td>\n",
       "      <td>0</td>\n",
       "    </tr>\n",
       "  </tbody>\n",
       "</table>\n",
       "</div>"
      ],
      "text/plain": [
       "   RowNumber  CustomerId   Surname  CreditScore Geography  Gender  Age  \\\n",
       "0          1    15634602  Hargrave          619    France  Female   42   \n",
       "1          2    15647311      Hill          608     Spain  Female   41   \n",
       "2          3    15619304      Onio          502    France  Female   42   \n",
       "3          4    15701354      Boni          699    France  Female   39   \n",
       "4          5    15737888  Mitchell          850     Spain  Female   43   \n",
       "\n",
       "   Tenure    Balance  NumOfProducts  HasCrCard  IsActiveMember  \\\n",
       "0     2.0       0.00              1          1               1   \n",
       "1     1.0   83807.86              1          0               1   \n",
       "2     8.0  159660.80              3          1               0   \n",
       "3     1.0       0.00              2          0               0   \n",
       "4     2.0  125510.82              1          1               1   \n",
       "\n",
       "   EstimatedSalary  Exited  \n",
       "0        101348.88       1  \n",
       "1        112542.58       0  \n",
       "2        113931.57       1  \n",
       "3         93826.63       0  \n",
       "4         79084.10       0  "
      ]
     },
     "execution_count": 5,
     "metadata": {},
     "output_type": "execute_result"
    }
   ],
   "source": [
    "data.head()"
   ]
  },
  {
   "cell_type": "markdown",
   "metadata": {},
   "source": [
    "- El target que queremos predecir el de la columna \"Exited\", no queremos considerar las columnas \"row_number\", \"customerid\" y \"surname\" ya que solo aportan valores únicos del tipo de datos string y no son de importancia para el analisis. \n",
    "- Para el analisis crearemos nuevas columnas binarias que nos ayudaran para realizar el analisis."
   ]
  },
  {
   "cell_type": "code",
   "execution_count": 6,
   "metadata": {},
   "outputs": [
    {
     "data": {
      "text/plain": [
       "Male      5457\n",
       "Female    4543\n",
       "Name: Gender, dtype: int64"
      ]
     },
     "execution_count": 6,
     "metadata": {},
     "output_type": "execute_result"
    }
   ],
   "source": [
    "# Tenemos solo 2 caracteristicas de valores, para el analisis lo transformaremos a binario\n",
    "data[\"Gender\"].value_counts() "
   ]
  },
  {
   "cell_type": "code",
   "execution_count": 7,
   "metadata": {},
   "outputs": [
    {
     "data": {
      "text/plain": [
       "France     5014\n",
       "Germany    2509\n",
       "Spain      2477\n",
       "Name: Geography, dtype: int64"
      ]
     },
     "execution_count": 7,
     "metadata": {},
     "output_type": "execute_result"
    }
   ],
   "source": [
    "# Verificamos los valores para el analisis lo transformaremos a binario\n",
    "data[\"Geography\"].value_counts()"
   ]
  },
  {
   "cell_type": "code",
   "execution_count": 8,
   "metadata": {},
   "outputs": [],
   "source": [
    "# Codificamos solo 2 valores para la columna gender\n",
    "data[\"gender_male\"] = (data[\"Gender\"] == \"Male\").astype(\"int\")\n",
    "\n",
    "# Codificamos solo 2 valores para la columna geography\n",
    "# tenemos que construir 3 categorias -1 ya que la 3 categoria queda implicita.\n",
    "data[\"geopgraphy_france\"] = (data[\"Geography\"] == \"France\").astype(\"int\")\n",
    "data[\"geopgraphy_germany\"] = (data[\"Geography\"] == \"Germany\").astype(\"int\")"
   ]
  },
  {
   "cell_type": "markdown",
   "metadata": {},
   "source": [
    "- Conclusión, creamos 3 columnas nuevas \"gender_male\", \"geopgraphy_france\", \"geopgraphy_germany\" para realizar nuestro analisis. Siempre construimos 1 columna menos del total de caterorias, ya que la ultima columna tendria un valor implicito. \n",
    "- En este caso queda por defecto la categoria \"spain\", evitamos crear inconsistencias en el modelo."
   ]
  },
  {
   "cell_type": "markdown",
   "metadata": {},
   "source": [
    "## Prepara los datos\n",
    "### Convierte los datos en los tipos necesarios.\n",
    "- Verifica y corrige los tipos de datos con dtype() \n",
    "- Identifica y completa valores ausentes con isna() sum()\n",
    "- Identifica y elimina los valores duplicados duplicated()  "
   ]
  },
  {
   "cell_type": "code",
   "execution_count": 9,
   "metadata": {},
   "outputs": [
    {
     "data": {
      "text/plain": [
       "RowNumber               int64\n",
       "CustomerId              int64\n",
       "Surname                object\n",
       "CreditScore             int64\n",
       "Geography              object\n",
       "Gender                 object\n",
       "Age                     int64\n",
       "Tenure                float64\n",
       "Balance               float64\n",
       "NumOfProducts           int64\n",
       "HasCrCard               int64\n",
       "IsActiveMember          int64\n",
       "EstimatedSalary       float64\n",
       "Exited                  int64\n",
       "gender_male             int64\n",
       "geopgraphy_france       int64\n",
       "geopgraphy_germany      int64\n",
       "dtype: object"
      ]
     },
     "execution_count": 9,
     "metadata": {},
     "output_type": "execute_result"
    }
   ],
   "source": [
    "type(data)\n",
    "\n",
    "# Identificamos tipos de datos\n",
    "data.dtypes"
   ]
  },
  {
   "cell_type": "code",
   "execution_count": 10,
   "metadata": {},
   "outputs": [
    {
     "data": {
      "text/plain": [
       "RowNumber               0\n",
       "CustomerId              0\n",
       "Surname                 0\n",
       "CreditScore             0\n",
       "Geography               0\n",
       "Gender                  0\n",
       "Age                     0\n",
       "Tenure                909\n",
       "Balance                 0\n",
       "NumOfProducts           0\n",
       "HasCrCard               0\n",
       "IsActiveMember          0\n",
       "EstimatedSalary         0\n",
       "Exited                  0\n",
       "gender_male             0\n",
       "geopgraphy_france       0\n",
       "geopgraphy_germany      0\n",
       "dtype: int64"
      ]
     },
     "execution_count": 10,
     "metadata": {},
     "output_type": "execute_result"
    }
   ],
   "source": [
    "# Buscamos valores ausentes y los sumamos\n",
    "data.isna().sum()"
   ]
  },
  {
   "cell_type": "code",
   "execution_count": 11,
   "metadata": {},
   "outputs": [
    {
     "data": {
      "text/plain": [
       "0.0     382\n",
       "1.0     952\n",
       "2.0     950\n",
       "3.0     928\n",
       "4.0     885\n",
       "5.0     927\n",
       "6.0     881\n",
       "7.0     925\n",
       "8.0     933\n",
       "9.0     882\n",
       "10.0    446\n",
       "NaN     909\n",
       "Name: Tenure, dtype: int64"
      ]
     },
     "execution_count": 11,
     "metadata": {},
     "output_type": "execute_result"
    }
   ],
   "source": [
    "data[\"Tenure\"].value_counts(dropna=False).sort_index()\n",
    "\n",
    "# utilizamos sort_index para ordenar ascendiente\n",
    "# Encontramos 909 valores nulos "
   ]
  },
  {
   "cell_type": "code",
   "execution_count": 12,
   "metadata": {},
   "outputs": [],
   "source": [
    "# Remplazamos los valores ausentes con un valor -1\n",
    "# Podriamos probar remplazar con otro valor diferente de -1 para realzar comparaciones\n",
    "\n",
    "data[\"Tenure\"].fillna(-1, inplace=True)"
   ]
  },
  {
   "cell_type": "code",
   "execution_count": 13,
   "metadata": {},
   "outputs": [
    {
     "data": {
      "text/plain": [
       "RowNumber             0\n",
       "CustomerId            0\n",
       "Surname               0\n",
       "CreditScore           0\n",
       "Geography             0\n",
       "Gender                0\n",
       "Age                   0\n",
       "Tenure                0\n",
       "Balance               0\n",
       "NumOfProducts         0\n",
       "HasCrCard             0\n",
       "IsActiveMember        0\n",
       "EstimatedSalary       0\n",
       "Exited                0\n",
       "gender_male           0\n",
       "geopgraphy_france     0\n",
       "geopgraphy_germany    0\n",
       "dtype: int64"
      ]
     },
     "execution_count": 13,
     "metadata": {},
     "output_type": "execute_result"
    }
   ],
   "source": [
    "# Verificamos que no existan valores ausentes\n",
    "data.isna().sum()"
   ]
  },
  {
   "cell_type": "code",
   "execution_count": 14,
   "metadata": {},
   "outputs": [
    {
     "data": {
      "text/plain": [
       "0"
      ]
     },
     "execution_count": 14,
     "metadata": {},
     "output_type": "execute_result"
    }
   ],
   "source": [
    "# Contar duplicados explícitos\n",
    "data.duplicated().sum()"
   ]
  },
  {
   "cell_type": "code",
   "execution_count": 15,
   "metadata": {},
   "outputs": [
    {
     "data": {
      "text/html": [
       "<div>\n",
       "<style scoped>\n",
       "    .dataframe tbody tr th:only-of-type {\n",
       "        vertical-align: middle;\n",
       "    }\n",
       "\n",
       "    .dataframe tbody tr th {\n",
       "        vertical-align: top;\n",
       "    }\n",
       "\n",
       "    .dataframe thead th {\n",
       "        text-align: right;\n",
       "    }\n",
       "</style>\n",
       "<table border=\"1\" class=\"dataframe\">\n",
       "  <thead>\n",
       "    <tr style=\"text-align: right;\">\n",
       "      <th></th>\n",
       "      <th>RowNumber</th>\n",
       "      <th>CustomerId</th>\n",
       "      <th>Surname</th>\n",
       "      <th>CreditScore</th>\n",
       "      <th>Geography</th>\n",
       "      <th>Gender</th>\n",
       "      <th>Age</th>\n",
       "      <th>Tenure</th>\n",
       "      <th>Balance</th>\n",
       "      <th>NumOfProducts</th>\n",
       "      <th>HasCrCard</th>\n",
       "      <th>IsActiveMember</th>\n",
       "      <th>EstimatedSalary</th>\n",
       "      <th>Exited</th>\n",
       "      <th>gender_male</th>\n",
       "      <th>geopgraphy_france</th>\n",
       "      <th>geopgraphy_germany</th>\n",
       "    </tr>\n",
       "  </thead>\n",
       "  <tbody>\n",
       "    <tr>\n",
       "      <th>0</th>\n",
       "      <td>1</td>\n",
       "      <td>15634602</td>\n",
       "      <td>Hargrave</td>\n",
       "      <td>619</td>\n",
       "      <td>France</td>\n",
       "      <td>Female</td>\n",
       "      <td>42</td>\n",
       "      <td>2.0</td>\n",
       "      <td>0.00</td>\n",
       "      <td>1</td>\n",
       "      <td>1</td>\n",
       "      <td>1</td>\n",
       "      <td>101348.88</td>\n",
       "      <td>1</td>\n",
       "      <td>0</td>\n",
       "      <td>1</td>\n",
       "      <td>0</td>\n",
       "    </tr>\n",
       "    <tr>\n",
       "      <th>1</th>\n",
       "      <td>2</td>\n",
       "      <td>15647311</td>\n",
       "      <td>Hill</td>\n",
       "      <td>608</td>\n",
       "      <td>Spain</td>\n",
       "      <td>Female</td>\n",
       "      <td>41</td>\n",
       "      <td>1.0</td>\n",
       "      <td>83807.86</td>\n",
       "      <td>1</td>\n",
       "      <td>0</td>\n",
       "      <td>1</td>\n",
       "      <td>112542.58</td>\n",
       "      <td>0</td>\n",
       "      <td>0</td>\n",
       "      <td>0</td>\n",
       "      <td>0</td>\n",
       "    </tr>\n",
       "  </tbody>\n",
       "</table>\n",
       "</div>"
      ],
      "text/plain": [
       "   RowNumber  CustomerId   Surname  CreditScore Geography  Gender  Age  \\\n",
       "0          1    15634602  Hargrave          619    France  Female   42   \n",
       "1          2    15647311      Hill          608     Spain  Female   41   \n",
       "\n",
       "   Tenure   Balance  NumOfProducts  HasCrCard  IsActiveMember  \\\n",
       "0     2.0      0.00              1          1               1   \n",
       "1     1.0  83807.86              1          0               1   \n",
       "\n",
       "   EstimatedSalary  Exited  gender_male  geopgraphy_france  geopgraphy_germany  \n",
       "0        101348.88       1            0                  1                   0  \n",
       "1        112542.58       0            0                  0                   0  "
      ]
     },
     "execution_count": 15,
     "metadata": {},
     "output_type": "execute_result"
    }
   ],
   "source": [
    "data.head(2)"
   ]
  },
  {
   "cell_type": "code",
   "execution_count": 16,
   "metadata": {},
   "outputs": [],
   "source": [
    "target = 'Exited'"
   ]
  },
  {
   "cell_type": "code",
   "execution_count": 17,
   "metadata": {},
   "outputs": [
    {
     "data": {
      "text/plain": [
       "0.2037"
      ]
     },
     "execution_count": 17,
     "metadata": {},
     "output_type": "execute_result"
    }
   ],
   "source": [
    "# Calculamos la proporción de esas filas que tienen un valor igual a 1 dentro de la clase positiva\n",
    "# calculamos el promedio 0.2 clase positiva\n",
    "data[\"Exited\"].mean()"
   ]
  },
  {
   "cell_type": "code",
   "execution_count": 18,
   "metadata": {},
   "outputs": [
    {
     "data": {
      "text/plain": [
       "0.7963"
      ]
     },
     "execution_count": 18,
     "metadata": {},
     "output_type": "execute_result"
    }
   ],
   "source": [
    "# Calculamos la proporción de esas filas que tienen un valor igual a 1 dentro de la clase negativa\n",
    "# calculamos el promedio 0.79 clase negativa\n",
    "1 - data[\"Exited\"].mean()\n",
    "# Valor 0.7963"
   ]
  },
  {
   "cell_type": "code",
   "execution_count": 19,
   "metadata": {},
   "outputs": [],
   "source": [
    "target = 'Exited'\n",
    "exclude_columns = [\"RowNumber\", \"CustomerId\", \"Surname\", \"Geography\", \"Gender\", target]\n",
    "features = [c for c in data.columns if c not in exclude_columns]"
   ]
  },
  {
   "cell_type": "markdown",
   "metadata": {},
   "source": [
    "## Analiza los datos\n",
    "### Instrucciones del proyecto\n",
    "- Segmenta los datos fuente en un conjunto de entrenamiento, uno de validación y uno de prueba."
   ]
  },
  {
   "cell_type": "code",
   "execution_count": 20,
   "metadata": {},
   "outputs": [],
   "source": [
    "# Separa los datos en entrenamiento, validación y uno de prueba\n",
    "full_train_df, test_df = train_test_split(\n",
    "    data, \n",
    "    test_size=0.18, \n",
    "    random_state=88)\n",
    "\n",
    "train_df, valid_df = train_test_split(\n",
    "    full_train_df, \n",
    "    test_size=0.23, \n",
    "    random_state=100)"
   ]
  },
  {
   "cell_type": "code",
   "execution_count": 21,
   "metadata": {},
   "outputs": [
    {
     "data": {
      "text/plain": [
       "[10000, 8200, 6314, 1886, 1800]"
      ]
     },
     "execution_count": 21,
     "metadata": {},
     "output_type": "execute_result"
    }
   ],
   "source": [
    "# Aplicamos len la cantidad de filas para cada una de las tablas entre[]\n",
    "[len(df) for df in [data, full_train_df, train_df, valid_df, test_df]]"
   ]
  },
  {
   "cell_type": "code",
   "execution_count": 22,
   "metadata": {},
   "outputs": [
    {
     "data": {
      "text/plain": [
       "[1.0, 0.82, 0.6314, 0.1886, 0.18]"
      ]
     },
     "execution_count": 22,
     "metadata": {},
     "output_type": "execute_result"
    }
   ],
   "source": [
    "# Verificamos que porcentaje estamos utilizando de la muestra\n",
    "[round(len(df) / len(data), 4) for df in [data, full_train_df, train_df, valid_df, test_df]]"
   ]
  },
  {
   "cell_type": "markdown",
   "metadata": {},
   "source": [
    "Conclusiones, \n",
    "- Consideramos trabajar con un porcentanje cercano al 65/ 20 / 15 para obtener una cantidad suficiente de datos para cada segmento. \n",
    "- Consideramos dividir en 4 grupos la proporcion del 100% de la tabla, para lo cual logramos lo siguiente: \n",
    "- full_train_df 0.631 es decir 63.1% de los datos, valid_df validar los datos con el 18.86% y el es test_df con el 18%"
   ]
  },
  {
   "cell_type": "markdown",
   "metadata": {},
   "source": [
    "### Examina el equilibrio de clases. Entrena el modelo sin tener en cuenta el desequilibrio. Describe brevemente tus hallazgos."
   ]
  },
  {
   "cell_type": "markdown",
   "metadata": {},
   "source": [
    "### Ajuste de hiperparámetros - Regresión logística"
   ]
  },
  {
   "cell_type": "code",
   "execution_count": 23,
   "metadata": {},
   "outputs": [],
   "source": [
    "# llamamos al modelo de regresión logistica\n",
    "\n",
    "lr_model = LogisticRegression(random_state=54321, solver='liblinear')# inicializa el constructor de regresión logística con los parámetros \n",
    "lr_model.fit(train_df[features], train_df[target]) # entrena el modelo en el conjunto de entrenamiento\n",
    "\n",
    "y_preds = lr_model.predict_proba(test_df[features])[:, 1]"
   ]
  },
  {
   "cell_type": "code",
   "execution_count": 24,
   "metadata": {},
   "outputs": [
    {
     "name": "stdout",
     "output_type": "stream",
     "text": [
      "Accuracy del modelo de regresión logística en el conjunto de entrenamiento: 0.7923661704149509\n",
      "Accuracy del modelo de regresión logística en el conjunto de validación: 0.7889713679745494\n"
     ]
    }
   ],
   "source": [
    "score_train = lr_model.score(train_df[features], train_df[target]) # calcula la puntuación de accuracy en el conjunto de entrenamiento\n",
    "score_valid = lr_model.score(valid_df[features],valid_df[target]) # calcula la puntuación de accuracy en el conjunto de validación\n",
    "\n",
    "print(\"Accuracy del modelo de regresión logística en el conjunto de entrenamiento:\", score_train)\n",
    "print(\"Accuracy del modelo de regresión logística en el conjunto de validación:\", score_valid)"
   ]
  },
  {
   "cell_type": "markdown",
   "metadata": {},
   "source": [
    "# Valor F1\n",
    "Crea un modelo con el máximo valor F1 posible. Para aprobar la revisión, necesitas un valor F1 de al menos 0.59. Verifica F1 para el conjunto de prueba. "
   ]
  },
  {
   "cell_type": "code",
   "execution_count": 25,
   "metadata": {},
   "outputs": [],
   "source": [
    "full_train_df, test_df = train_test_split(data[features + [target]], test_size=0.2, random_state=88)\n",
    "\n",
    "train_df, valid_df = train_test_split(full_train_df, test_size=0.2, random_state=888)"
   ]
  },
  {
   "cell_type": "code",
   "execution_count": 26,
   "metadata": {},
   "outputs": [],
   "source": [
    "# Estandarizar los datos \n",
    "# from sklearn.preprocessing import StandardScaler, MinMaxScaler\n",
    "\n",
    "scaler = StandardScaler()\n",
    "\n",
    "# columnas que queremos escalar corresponden a variables numericas\n",
    "columns_to_scale = [\"CreditScore\", \"Age\", \"Tenure\", \"Balance\", \"NumOfProducts\", \"EstimatedSalary\"]\n",
    "\n",
    "# Solamennte utilizar el train_df, para entrenar el scale solamente para las columnas que quiero escalar \n",
    "scaler.fit(train_df[columns_to_scale])\n",
    "\n",
    "# Muestra de entrenamiento\n",
    "train_df_scaled = train_df.copy() # realizamos una copia \n",
    "train_df_scaled[columns_to_scale] = scaler.transform(train_df_scaled[columns_to_scale])\n",
    "\n",
    "# Muestra de validación\n",
    "valid_df_scaled = valid_df.copy()\n",
    "valid_df_scaled[columns_to_scale] = scaler.transform(valid_df_scaled[columns_to_scale])\n",
    "\n",
    "# Muestra de prueba solo para el metodo transform \n",
    "test_df_scaled = test_df.copy()\n",
    "test_df_scaled[columns_to_scale] = scaler.transform(test_df_scaled[columns_to_scale])"
   ]
  },
  {
   "cell_type": "code",
   "execution_count": 27,
   "metadata": {},
   "outputs": [],
   "source": [
    "# Ajuste del umbral\n",
    "\n",
    "thresholds = []\n",
    "f1_scores = []\n",
    "best_threshold = -1\n",
    "best_score = -float(\"inf\")\n",
    "\n",
    "y_valid_preds = lr_model.predict_proba(valid_df[features])[:, 1] # Definimos la variable \n",
    "\n",
    "for t in np.linspace(0, 0.4, 21):\n",
    "    y_preds_class = y_valid_preds > t\n",
    "    \n",
    "    thresholds.append(t)\n",
    "    f1_score_result = f1_score(valid_df[target], y_preds_class)\n",
    "    \n",
    "    f1_scores.append(f1_score_result)\n",
    "    \n",
    "    if f1_score_result > best_score:\n",
    "        best_score = f1_score_result\n",
    "        best_threshold = t\n",
    "    \n",
    "evaluations = pd.DataFrame(data={\n",
    "    \"threshold\": thresholds,\n",
    "    \"f1_score\": f1_scores\n",
    "})"
   ]
  },
  {
   "cell_type": "code",
   "execution_count": 28,
   "metadata": {},
   "outputs": [
    {
     "data": {
      "image/png": "[encoded data removed]",
      "text/plain": [
       "<Figure size 800x400 with 1 Axes>"
      ]
     },
     "metadata": {},
     "output_type": "display_data"
    }
   ],
   "source": [
    "plt.figure(figsize=(8, 4))\n",
    "plt.title(f\"Max F1 score: {round(best_score, 4)}, best threshold: {best_threshold}\")\n",
    "evaluations.plot(kind=\"line\", x=\"threshold\", y=\"f1_score\", ax=plt.gca())\n",
    "plt.show()"
   ]
  },
  {
   "cell_type": "markdown",
   "metadata": {},
   "source": [
    "- Segun los datos analizados el 20% corresponde a la clase positiva y el 80% a la clase negativa. Cualquier valor diferente al 50% del promedio se considera desequilibrio. \n",
    "- El problema que mas afecta al F1 que elegimos es el valor del umbral que elegimos. F1 score: 0.40\n",
    "- La curva demuestra que decrese drasticamente a 0\n",
    "- El \"best_threshold\" es de 0.2"
   ]
  },
  {
   "cell_type": "code",
   "execution_count": 29,
   "metadata": {},
   "outputs": [
    {
     "name": "stdout",
     "output_type": "stream",
     "text": [
      "best final score: 5.5\n",
      "best final class weight: 5.5\n",
      "best_final_threshod: 0.65\n"
     ]
    }
   ],
   "source": [
    "# Entrenamiento de clase \n",
    "class_weights = [4, 4.5, 5, 5.5, 6]\n",
    "\n",
    "best_final_class_weight = 0\n",
    "best_final_score = -float(\"inf\")\n",
    "best_final_threshod = -1\n",
    "\n",
    "for class_weight in class_weights:\n",
    "\n",
    "    lr_model = LogisticRegression(class_weight={0: 1, 1: class_weight})\n",
    "    lr_model.fit(train_df_scaled[features], train_df_scaled[target])\n",
    "\n",
    "    y_valid_preds = lr_model.predict_proba(valid_df_scaled[features])[:, 1]\n",
    "\n",
    "    thresholds = []\n",
    "    f1_scores = []\n",
    "    best_threshold = -1\n",
    "    best_score = -float(\"inf\")\n",
    "\n",
    "    for t in np.linspace(0, 1, 21):\n",
    "        y_preds_class = y_valid_preds > t\n",
    "\n",
    "        thresholds.append(t)\n",
    "        f1_score_result = f1_score(valid_df[target], y_preds_class)\n",
    "\n",
    "        f1_scores.append(f1_score_result)\n",
    "\n",
    "        if f1_score_result > best_score:\n",
    "            best_score = f1_score_result\n",
    "            best_threshold = t\n",
    "\n",
    "    if best_score > best_final_score:\n",
    "        best_final_score = best_score\n",
    "        best_final_threshod = best_threshold\n",
    "        best_final_class_weight = class_weight\n",
    "        \n",
    "print('best final score:', best_final_class_weight)\n",
    "print('best final class weight:', best_final_class_weight)\n",
    "print('best_final_threshod:', best_final_threshod)"
   ]
  },
  {
   "cell_type": "code",
   "execution_count": 30,
   "metadata": {},
   "outputs": [
    {
     "name": "stdout",
     "output_type": "stream",
     "text": [
      "0.4811416921508665\n"
     ]
    }
   ],
   "source": [
    "# Entrenamos con el mejor \"best_final_class_weight\"\n",
    "\n",
    "full_train_df_scaled = full_train_df.copy()\n",
    "full_train_df_scaled[columns_to_scale] = scaler.transform(full_train_df_scaled[columns_to_scale])\n",
    "\n",
    "final_lr_model = LogisticRegression(class_weight={0:1, 1: best_final_class_weight})\n",
    "final_lr_model.fit(full_train_df_scaled[features], full_train_df_scaled[target])\n",
    "\n",
    "y_test_preds = final_lr_model.predict_proba(test_df_scaled[features])[:, 1]\n",
    "y_test_class_preds = y_test_preds > best_final_threshod\n",
    "\n",
    "final_f1_score_result = f1_score(test_df[target], y_test_class_preds)\n",
    "print(final_f1_score_result)"
   ]
  },
  {
   "cell_type": "markdown",
   "metadata": {},
   "source": [
    "- Conclusión con el entrenamiento de LogisticRegression y la mejora de clases logramos el resultado de 0.48 no es el mejor modelo de entrenamiento probaremos con otro modelo. "
   ]
  },
  {
   "cell_type": "code",
   "execution_count": 31,
   "metadata": {},
   "outputs": [],
   "source": [
    "# Actualización del modelo de entrenamiento \n",
    "\n",
    "target = data['Exited']\n",
    "features = data.drop('Exited', axis=1)\n",
    "\n",
    "features_train, features_valid, target_train, target_valid = train_test_split(\n",
    "    features, target, test_size=0.25, random_state=12345\n",
    ")"
   ]
  },
  {
   "cell_type": "markdown",
   "metadata": {},
   "source": [
    "## Sobremuestreo"
   ]
  },
  {
   "cell_type": "code",
   "execution_count": 32,
   "metadata": {},
   "outputs": [
    {
     "name": "stdout",
     "output_type": "stream",
     "text": [
      "(5998, 16)\n",
      "(1502, 16)\n",
      "(5998,)\n",
      "(1502,)\n"
     ]
    }
   ],
   "source": [
    "features_zeros = features_train[target_train == 0] \n",
    "features_ones = features_train[target_train == 1]\n",
    "target_zeros = target_train[target_train == 0]\n",
    "target_ones = target_train[target_train == 1]\n",
    "\n",
    "print(features_zeros.shape)\n",
    "print(features_ones.shape)\n",
    "print(target_zeros.shape)\n",
    "print(target_ones.shape)\n"
   ]
  },
  {
   "cell_type": "markdown",
   "metadata": {},
   "source": [
    "- Conlcusión, Las observaciones positivas son escasas en comparación con las negativas, por lo que debemos mantener el pensamiento positivo y el sobremuestreo. \n",
    "- Esta técnica ayuda al modelo a reconocer y clasificar mejor las instancias de clase minoritaria, lo que finalmente aumenta nuestro valor F1."
   ]
  },
  {
   "cell_type": "code",
   "execution_count": 33,
   "metadata": {},
   "outputs": [
    {
     "name": "stdout",
     "output_type": "stream",
     "text": [
      "(13508, 16)\n",
      "(13508,)\n"
     ]
    }
   ],
   "source": [
    "repeat = 5\n",
    "features_upsampled = pd.concat([features_zeros] + [features_ones] * repeat)\n",
    "target_upsampled = pd.concat([target_zeros] + [target_ones] * repeat)\n",
    "\n",
    "print(features_upsampled.shape)\n",
    "print(target_upsampled.shape)"
   ]
  },
  {
   "cell_type": "code",
   "execution_count": 34,
   "metadata": {},
   "outputs": [
    {
     "name": "stdout",
     "output_type": "stream",
     "text": [
      "0.20026666666666668 0.5559668344684632\n"
     ]
    }
   ],
   "source": [
    "# Verificamos el cambio en el promedio del target \n",
    "print(target_train.mean(), target_upsampled.mean())"
   ]
  },
  {
   "cell_type": "markdown",
   "metadata": {},
   "source": [
    "- Conclusión \n",
    "- Utilizamos un valor más bajo de repeat = 5\n",
    "- Para que el imbalance pasa de 0.20 (imbalanceado) y el queda target_upsampled en 0.55 (balanceado pues es cercano al 0.5)."
   ]
  },
  {
   "cell_type": "markdown",
   "metadata": {},
   "source": [
    "### Submuestreo"
   ]
  },
  {
   "cell_type": "code",
   "execution_count": 35,
   "metadata": {},
   "outputs": [
    {
     "name": "stdout",
     "output_type": "stream",
     "text": [
      "(3002, 16)\n",
      "(3002,)\n"
     ]
    }
   ],
   "source": [
    "def downsample(features, target, fraction): # pásale tres argumentos \n",
    "    features_zeros = features[target == 0]\n",
    "    features_ones = features[target == 1]\n",
    "    target_zeros = target[target == 0]\n",
    "    target_ones = target[target == 1]\n",
    "    \n",
    "# # Sample  para eliminar aleatoriamente una proporción de las observaciones \n",
    "#de la clase predominante (negativa en este caso)\n",
    "    features_downsampled = pd.concat( \n",
    "        [features_zeros.sample(frac=fraction, random_state=12345)]\n",
    "        + [features_ones]\n",
    "    )\n",
    "    target_downsampled = pd.concat(\n",
    "        [target_zeros.sample(frac=fraction, random_state=12345)]\n",
    "        + [target_ones]\n",
    "    )\n",
    "\n",
    "    features_downsampled, target_downsampled = shuffle(\n",
    "        features_downsampled, target_downsampled, random_state=12345\n",
    "    )\n",
    "    \n",
    "    return features_downsampled, target_downsampled\n",
    "\n",
    "features_downsampled, target_downsampled = downsample(\n",
    "    features_train, target_train, 0.25\n",
    ")\n",
    "\n",
    "print(features_downsampled.shape)\n",
    "print(target_downsampled.shape)"
   ]
  },
  {
   "cell_type": "code",
   "execution_count": 36,
   "metadata": {},
   "outputs": [
    {
     "name": "stdout",
     "output_type": "stream",
     "text": [
      "0.20026666666666668 0.5003331112591606\n"
     ]
    }
   ],
   "source": [
    "# Verificamos el cambio en el promedio del target \n",
    "print(target_train.mean(), target_downsampled.mean())"
   ]
  },
  {
   "cell_type": "markdown",
   "metadata": {},
   "source": [
    "- Conclusión \n",
    "- Utilizamos un valor target_train, 0.25\n",
    "- Para que el imbalance pasa de 0.20 (imbalanceado) y el queda target_upsampled en 0.50 (balanceado pues es cercano al 0.5)."
   ]
  },
  {
   "cell_type": "markdown",
   "metadata": {},
   "source": [
    "### Mejora la calidad del modelo. Asegúrate de utilizar al menos dos enfoques para corregir el desequilibrio de clases. Utiliza conjuntos de entrenamiento y validación para encontrar el mejor modelo y el mejor conjunto de parámetros. Entrena diferentes modelos en los conjuntos de entrenamiento y validación. Encuentra el mejor. Describe brevemente tus hallazgos."
   ]
  },
  {
   "cell_type": "markdown",
   "metadata": {},
   "source": [
    "### Ajuste de hiperparámetros -  Bosque aleatorio"
   ]
  },
  {
   "cell_type": "code",
   "execution_count": 37,
   "metadata": {},
   "outputs": [
    {
     "data": {
      "text/plain": [
       "False    7963\n",
       "True     2037\n",
       "Name: Exited, dtype: Int64"
      ]
     },
     "execution_count": 37,
     "metadata": {},
     "output_type": "execute_result"
    }
   ],
   "source": [
    "target.astype(\"boolean\").value_counts()"
   ]
  },
  {
   "cell_type": "code",
   "execution_count": 38,
   "metadata": {},
   "outputs": [
    {
     "data": {
      "text/html": [
       "<div>\n",
       "<style scoped>\n",
       "    .dataframe tbody tr th:only-of-type {\n",
       "        vertical-align: middle;\n",
       "    }\n",
       "\n",
       "    .dataframe tbody tr th {\n",
       "        vertical-align: top;\n",
       "    }\n",
       "\n",
       "    .dataframe thead th {\n",
       "        text-align: right;\n",
       "    }\n",
       "</style>\n",
       "<table border=\"1\" class=\"dataframe\">\n",
       "  <thead>\n",
       "    <tr style=\"text-align: right;\">\n",
       "      <th></th>\n",
       "      <th>RowNumber</th>\n",
       "      <th>CustomerId</th>\n",
       "      <th>Surname</th>\n",
       "      <th>CreditScore</th>\n",
       "      <th>Geography</th>\n",
       "      <th>Gender</th>\n",
       "      <th>Age</th>\n",
       "      <th>Tenure</th>\n",
       "      <th>Balance</th>\n",
       "      <th>NumOfProducts</th>\n",
       "      <th>HasCrCard</th>\n",
       "      <th>IsActiveMember</th>\n",
       "      <th>EstimatedSalary</th>\n",
       "      <th>gender_male</th>\n",
       "      <th>geopgraphy_france</th>\n",
       "      <th>geopgraphy_germany</th>\n",
       "    </tr>\n",
       "  </thead>\n",
       "  <tbody>\n",
       "    <tr>\n",
       "      <th>0</th>\n",
       "      <td>1</td>\n",
       "      <td>15634602</td>\n",
       "      <td>Hargrave</td>\n",
       "      <td>619</td>\n",
       "      <td>France</td>\n",
       "      <td>Female</td>\n",
       "      <td>42</td>\n",
       "      <td>2.0</td>\n",
       "      <td>0.00</td>\n",
       "      <td>1</td>\n",
       "      <td>1</td>\n",
       "      <td>1</td>\n",
       "      <td>101348.88</td>\n",
       "      <td>0</td>\n",
       "      <td>1</td>\n",
       "      <td>0</td>\n",
       "    </tr>\n",
       "    <tr>\n",
       "      <th>1</th>\n",
       "      <td>2</td>\n",
       "      <td>15647311</td>\n",
       "      <td>Hill</td>\n",
       "      <td>608</td>\n",
       "      <td>Spain</td>\n",
       "      <td>Female</td>\n",
       "      <td>41</td>\n",
       "      <td>1.0</td>\n",
       "      <td>83807.86</td>\n",
       "      <td>1</td>\n",
       "      <td>0</td>\n",
       "      <td>1</td>\n",
       "      <td>112542.58</td>\n",
       "      <td>0</td>\n",
       "      <td>0</td>\n",
       "      <td>0</td>\n",
       "    </tr>\n",
       "    <tr>\n",
       "      <th>2</th>\n",
       "      <td>3</td>\n",
       "      <td>15619304</td>\n",
       "      <td>Onio</td>\n",
       "      <td>502</td>\n",
       "      <td>France</td>\n",
       "      <td>Female</td>\n",
       "      <td>42</td>\n",
       "      <td>8.0</td>\n",
       "      <td>159660.80</td>\n",
       "      <td>3</td>\n",
       "      <td>1</td>\n",
       "      <td>0</td>\n",
       "      <td>113931.57</td>\n",
       "      <td>0</td>\n",
       "      <td>1</td>\n",
       "      <td>0</td>\n",
       "    </tr>\n",
       "    <tr>\n",
       "      <th>3</th>\n",
       "      <td>4</td>\n",
       "      <td>15701354</td>\n",
       "      <td>Boni</td>\n",
       "      <td>699</td>\n",
       "      <td>France</td>\n",
       "      <td>Female</td>\n",
       "      <td>39</td>\n",
       "      <td>1.0</td>\n",
       "      <td>0.00</td>\n",
       "      <td>2</td>\n",
       "      <td>0</td>\n",
       "      <td>0</td>\n",
       "      <td>93826.63</td>\n",
       "      <td>0</td>\n",
       "      <td>1</td>\n",
       "      <td>0</td>\n",
       "    </tr>\n",
       "    <tr>\n",
       "      <th>4</th>\n",
       "      <td>5</td>\n",
       "      <td>15737888</td>\n",
       "      <td>Mitchell</td>\n",
       "      <td>850</td>\n",
       "      <td>Spain</td>\n",
       "      <td>Female</td>\n",
       "      <td>43</td>\n",
       "      <td>2.0</td>\n",
       "      <td>125510.82</td>\n",
       "      <td>1</td>\n",
       "      <td>1</td>\n",
       "      <td>1</td>\n",
       "      <td>79084.10</td>\n",
       "      <td>0</td>\n",
       "      <td>0</td>\n",
       "      <td>0</td>\n",
       "    </tr>\n",
       "    <tr>\n",
       "      <th>...</th>\n",
       "      <td>...</td>\n",
       "      <td>...</td>\n",
       "      <td>...</td>\n",
       "      <td>...</td>\n",
       "      <td>...</td>\n",
       "      <td>...</td>\n",
       "      <td>...</td>\n",
       "      <td>...</td>\n",
       "      <td>...</td>\n",
       "      <td>...</td>\n",
       "      <td>...</td>\n",
       "      <td>...</td>\n",
       "      <td>...</td>\n",
       "      <td>...</td>\n",
       "      <td>...</td>\n",
       "      <td>...</td>\n",
       "    </tr>\n",
       "    <tr>\n",
       "      <th>9995</th>\n",
       "      <td>9996</td>\n",
       "      <td>15606229</td>\n",
       "      <td>Obijiaku</td>\n",
       "      <td>771</td>\n",
       "      <td>France</td>\n",
       "      <td>Male</td>\n",
       "      <td>39</td>\n",
       "      <td>5.0</td>\n",
       "      <td>0.00</td>\n",
       "      <td>2</td>\n",
       "      <td>1</td>\n",
       "      <td>0</td>\n",
       "      <td>96270.64</td>\n",
       "      <td>1</td>\n",
       "      <td>1</td>\n",
       "      <td>0</td>\n",
       "    </tr>\n",
       "    <tr>\n",
       "      <th>9996</th>\n",
       "      <td>9997</td>\n",
       "      <td>15569892</td>\n",
       "      <td>Johnstone</td>\n",
       "      <td>516</td>\n",
       "      <td>France</td>\n",
       "      <td>Male</td>\n",
       "      <td>35</td>\n",
       "      <td>10.0</td>\n",
       "      <td>57369.61</td>\n",
       "      <td>1</td>\n",
       "      <td>1</td>\n",
       "      <td>1</td>\n",
       "      <td>101699.77</td>\n",
       "      <td>1</td>\n",
       "      <td>1</td>\n",
       "      <td>0</td>\n",
       "    </tr>\n",
       "    <tr>\n",
       "      <th>9997</th>\n",
       "      <td>9998</td>\n",
       "      <td>15584532</td>\n",
       "      <td>Liu</td>\n",
       "      <td>709</td>\n",
       "      <td>France</td>\n",
       "      <td>Female</td>\n",
       "      <td>36</td>\n",
       "      <td>7.0</td>\n",
       "      <td>0.00</td>\n",
       "      <td>1</td>\n",
       "      <td>0</td>\n",
       "      <td>1</td>\n",
       "      <td>42085.58</td>\n",
       "      <td>0</td>\n",
       "      <td>1</td>\n",
       "      <td>0</td>\n",
       "    </tr>\n",
       "    <tr>\n",
       "      <th>9998</th>\n",
       "      <td>9999</td>\n",
       "      <td>15682355</td>\n",
       "      <td>Sabbatini</td>\n",
       "      <td>772</td>\n",
       "      <td>Germany</td>\n",
       "      <td>Male</td>\n",
       "      <td>42</td>\n",
       "      <td>3.0</td>\n",
       "      <td>75075.31</td>\n",
       "      <td>2</td>\n",
       "      <td>1</td>\n",
       "      <td>0</td>\n",
       "      <td>92888.52</td>\n",
       "      <td>1</td>\n",
       "      <td>0</td>\n",
       "      <td>1</td>\n",
       "    </tr>\n",
       "    <tr>\n",
       "      <th>9999</th>\n",
       "      <td>10000</td>\n",
       "      <td>15628319</td>\n",
       "      <td>Walker</td>\n",
       "      <td>792</td>\n",
       "      <td>France</td>\n",
       "      <td>Female</td>\n",
       "      <td>28</td>\n",
       "      <td>-1.0</td>\n",
       "      <td>130142.79</td>\n",
       "      <td>1</td>\n",
       "      <td>1</td>\n",
       "      <td>0</td>\n",
       "      <td>38190.78</td>\n",
       "      <td>0</td>\n",
       "      <td>1</td>\n",
       "      <td>0</td>\n",
       "    </tr>\n",
       "  </tbody>\n",
       "</table>\n",
       "<p>10000 rows × 16 columns</p>\n",
       "</div>"
      ],
      "text/plain": [
       "      RowNumber  CustomerId    Surname  CreditScore Geography  Gender  Age  \\\n",
       "0             1    15634602   Hargrave          619    France  Female   42   \n",
       "1             2    15647311       Hill          608     Spain  Female   41   \n",
       "2             3    15619304       Onio          502    France  Female   42   \n",
       "3             4    15701354       Boni          699    France  Female   39   \n",
       "4             5    15737888   Mitchell          850     Spain  Female   43   \n",
       "...         ...         ...        ...          ...       ...     ...  ...   \n",
       "9995       9996    15606229   Obijiaku          771    France    Male   39   \n",
       "9996       9997    15569892  Johnstone          516    France    Male   35   \n",
       "9997       9998    15584532        Liu          709    France  Female   36   \n",
       "9998       9999    15682355  Sabbatini          772   Germany    Male   42   \n",
       "9999      10000    15628319     Walker          792    France  Female   28   \n",
       "\n",
       "      Tenure    Balance  NumOfProducts  HasCrCard  IsActiveMember  \\\n",
       "0        2.0       0.00              1          1               1   \n",
       "1        1.0   83807.86              1          0               1   \n",
       "2        8.0  159660.80              3          1               0   \n",
       "3        1.0       0.00              2          0               0   \n",
       "4        2.0  125510.82              1          1               1   \n",
       "...      ...        ...            ...        ...             ...   \n",
       "9995     5.0       0.00              2          1               0   \n",
       "9996    10.0   57369.61              1          1               1   \n",
       "9997     7.0       0.00              1          0               1   \n",
       "9998     3.0   75075.31              2          1               0   \n",
       "9999    -1.0  130142.79              1          1               0   \n",
       "\n",
       "      EstimatedSalary  gender_male  geopgraphy_france  geopgraphy_germany  \n",
       "0           101348.88            0                  1                   0  \n",
       "1           112542.58            0                  0                   0  \n",
       "2           113931.57            0                  1                   0  \n",
       "3            93826.63            0                  1                   0  \n",
       "4            79084.10            0                  0                   0  \n",
       "...               ...          ...                ...                 ...  \n",
       "9995         96270.64            1                  1                   0  \n",
       "9996        101699.77            1                  1                   0  \n",
       "9997         42085.58            0                  1                   0  \n",
       "9998         92888.52            1                  0                   1  \n",
       "9999         38190.78            0                  1                   0  \n",
       "\n",
       "[10000 rows x 16 columns]"
      ]
     },
     "execution_count": 38,
     "metadata": {},
     "output_type": "execute_result"
    }
   ],
   "source": [
    "features"
   ]
  },
  {
   "cell_type": "code",
   "execution_count": 39,
   "metadata": {},
   "outputs": [
    {
     "data": {
      "text/plain": [
       "0.854"
      ]
     },
     "execution_count": 39,
     "metadata": {},
     "output_type": "execute_result"
    }
   ],
   "source": [
    "# Entrena a tu segundo modelo RandomForestClassifier\n",
    "model =  RandomForestClassifier(n_estimators=100, random_state=100)\n",
    "\n",
    "feature_names = features = [c for c in data.columns if c not in exclude_columns]\n",
    "target_name = 'Exited'\n",
    "\n",
    "model.fit(train_df[feature_names], train_df[target_name])\n",
    "y_preds = model.predict(test_df[feature_names])\n",
    "\n",
    "accuracy_score(test_df[target_name], y_preds)"
   ]
  },
  {
   "cell_type": "code",
   "execution_count": 40,
   "metadata": {},
   "outputs": [
    {
     "name": "stdout",
     "output_type": "stream",
     "text": [
      "\n",
      "            N estimator: 50\n",
      "            Max depth: 5\n",
      "            Accuracy: 0.842       \n",
      "            \n",
      "\n",
      "            N estimator: 50\n",
      "            Max depth: 10\n",
      "            Accuracy: 0.854       \n",
      "            \n",
      "\n",
      "            N estimator: 100\n",
      "            Max depth: 10\n",
      "            Accuracy: 0.8545       \n",
      "            \n",
      "\n",
      "            N estimator: 100\n",
      "            Max depth: 15\n",
      "            Accuracy: 0.8565       \n",
      "            \n",
      "\n",
      "            N estimator: 150\n",
      "            Max depth: 10\n",
      "            Accuracy: 0.8575       \n",
      "            \n",
      "\n",
      "            N estimator: 150\n",
      "            Max depth: 15\n",
      "            Accuracy: 0.859       \n",
      "            \n"
     ]
    }
   ],
   "source": [
    "max_score = -100\n",
    "\n",
    "for n_estims in [50, 100, 150, 200]:\n",
    "    for max_d in [5, 10, 15]:\n",
    "    \n",
    "        model = RandomForestClassifier(n_estimators=n_estims, max_depth=max_d, random_state=100)\n",
    "    \n",
    "        model.fit(train_df[feature_names], train_df[target_name])\n",
    "        y_preds = model.predict(test_df[feature_names])\n",
    "    \n",
    "        score = accuracy_score(test_df[target_name], y_preds)\n",
    "        \n",
    "        if score > max_score:\n",
    "            max_score = score\n",
    "            print(f\"\"\"\n",
    "            N estimator: {n_estims}\n",
    "            Max depth: {max_d}\n",
    "            Accuracy: {score}       \n",
    "            \"\"\")"
   ]
  },
  {
   "cell_type": "markdown",
   "metadata": {},
   "source": [
    "- Conclusión,\n",
    "- Podemos encontrar la mejor combinación. En este caso la que alcanzo el mejor desempeño es   \n",
    "            - N estimator: 50\n",
    "            - Max depth: 5\n",
    "            - Accuracy: 0.8395     "
   ]
  },
  {
   "cell_type": "markdown",
   "metadata": {},
   "source": [
    "## Realiza la prueba final."
   ]
  },
  {
   "cell_type": "markdown",
   "metadata": {},
   "source": [
    "### AUC-ROC \n",
    "Además, debes medir la métrica AUC-ROC y compararla con el valor F1"
   ]
  },
  {
   "cell_type": "code",
   "execution_count": 41,
   "metadata": {},
   "outputs": [],
   "source": [
    "# Separa los datos en entrenamiento y validación \n",
    "train, valid = train_test_split(data, test_size=0.25, random_state=12345)"
   ]
  },
  {
   "cell_type": "code",
   "execution_count": 42,
   "metadata": {},
   "outputs": [
    {
     "name": "stdout",
     "output_type": "stream",
     "text": [
      "(7500, 16)\n",
      "(2500, 16)\n"
     ]
    }
   ],
   "source": [
    "# Declara cuatro variables y almacena las características y el objetivo de la siguiente manera:\n",
    "\n",
    "features_train = train.drop('Exited', axis=1)\n",
    "target_train = train['Exited']\n",
    "\n",
    "features_valid = valid.drop('Exited', axis=1)\n",
    "target_valid = valid['Exited']\n",
    "\n",
    "\n",
    "print(features_train.shape)\n",
    "print(features_valid.shape)"
   ]
  },
  {
   "cell_type": "code",
   "execution_count": 43,
   "metadata": {},
   "outputs": [
    {
     "name": "stdout",
     "output_type": "stream",
     "text": [
      "RowNumber            int64\n",
      "CustomerId           int64\n",
      "Surname             object\n",
      "CreditScore          int64\n",
      "Geography           object\n",
      "Gender              object\n",
      "Age                  int64\n",
      "Tenure             float64\n",
      "Balance            float64\n",
      "NumOfProducts        int64\n",
      "HasCrCard            int64\n",
      "IsActiveMember       int64\n",
      "EstimatedSalary    float64\n",
      "Exited               int64\n",
      "dtype: object\n",
      "0    1\n",
      "1    0\n",
      "2    1\n",
      "3    0\n",
      "4    0\n",
      "Name: Exited, dtype: int64\n"
     ]
    }
   ],
   "source": [
    "#Entrenamiento de pilotos\n",
    "#Para predecir la clase, necesitamos a nuestra vieja amiga, la regresión logística.\n",
    "\n",
    "data = pd.read_csv('/datasets/Churn.csv') \n",
    "\n",
    "print(data.dtypes) # <  termina el código>)\n",
    "print(data['Exited'].head(5)) # <  termina el código >)"
   ]
  },
  {
   "cell_type": "code",
   "execution_count": 44,
   "metadata": {},
   "outputs": [
    {
     "name": "stdout",
     "output_type": "stream",
     "text": [
      "   0  1\n",
      "0  0  1\n",
      "1  1  0\n",
      "2  0  1\n",
      "3  1  0\n",
      "4  1  0\n"
     ]
    }
   ],
   "source": [
    "# Codificación One-Hot\n",
    "import pandas as pd\n",
    "\n",
    "data = pd.read_csv('/datasets/Churn.csv') \n",
    "\n",
    "print(pd.get_dummies(data[\"Exited\"]).head(5))"
   ]
  },
  {
   "cell_type": "markdown",
   "metadata": {},
   "source": [
    "Conclusión, se necesitan dos dummies para encontrar dos valores caracteristicos."
   ]
  },
  {
   "cell_type": "markdown",
   "metadata": {},
   "source": [
    "### Conclusión\n",
    "Podemos encontrar la mejor combinación para enconfrar el valor F1 En este caso la que alcanzo el mejor desempeño es   \n",
    "- N estimator: 50\n",
    "- Max depth: 5\n",
    "- Accuracy: 0.8395    \n",
    "            \n",
    "Obtuvimos los resultados para:            \n",
    "best final score: 5.5\n",
    "best final class weight: 5.5\n",
    "best_final_threshod: 0.65\n",
    "            "
   ]
  }
 ],
 "metadata": {
  "ExecuteTimeLog": [
   {
    "duration": 5102,
    "start_time": "2024-05-18T17:24:09.728Z"
   },
   {
    "duration": 61,
    "start_time": "2024-05-18T17:24:14.835Z"
   },
   {
    "duration": 41,
    "start_time": "2024-05-18T17:24:14.899Z"
   },
   {
    "duration": 18,
    "start_time": "2024-05-18T17:24:14.946Z"
   },
   {
    "duration": 7,
    "start_time": "2024-05-18T17:24:14.966Z"
   },
   {
    "duration": 54,
    "start_time": "2024-05-18T17:24:14.976Z"
   },
   {
    "duration": 10,
    "start_time": "2024-05-18T17:24:15.034Z"
   },
   {
    "duration": 9,
    "start_time": "2024-05-18T17:24:15.047Z"
   },
   {
    "duration": 11,
    "start_time": "2024-05-18T17:24:15.060Z"
   },
   {
    "duration": 51,
    "start_time": "2024-05-18T17:24:15.079Z"
   },
   {
    "duration": 13,
    "start_time": "2024-05-18T17:24:15.133Z"
   },
   {
    "duration": 5,
    "start_time": "2024-05-18T17:24:15.150Z"
   },
   {
    "duration": 13,
    "start_time": "2024-05-18T17:24:15.159Z"
   },
   {
    "duration": 59,
    "start_time": "2024-05-18T17:24:15.178Z"
   },
   {
    "duration": 19,
    "start_time": "2024-05-18T17:24:15.240Z"
   },
   {
    "duration": 520,
    "start_time": "2024-05-18T17:24:15.263Z"
   },
   {
    "duration": 0,
    "start_time": "2024-05-18T17:24:15.786Z"
   },
   {
    "duration": 0,
    "start_time": "2024-05-18T17:24:15.788Z"
   },
   {
    "duration": 0,
    "start_time": "2024-05-18T17:24:15.789Z"
   },
   {
    "duration": 0,
    "start_time": "2024-05-18T17:24:15.791Z"
   },
   {
    "duration": 0,
    "start_time": "2024-05-18T17:24:15.793Z"
   },
   {
    "duration": 0,
    "start_time": "2024-05-18T17:24:15.796Z"
   },
   {
    "duration": 0,
    "start_time": "2024-05-18T17:24:15.798Z"
   },
   {
    "duration": 0,
    "start_time": "2024-05-18T17:24:15.801Z"
   },
   {
    "duration": 0,
    "start_time": "2024-05-18T17:24:15.803Z"
   },
   {
    "duration": 0,
    "start_time": "2024-05-18T17:24:15.804Z"
   },
   {
    "duration": 0,
    "start_time": "2024-05-18T17:24:15.805Z"
   },
   {
    "duration": 0,
    "start_time": "2024-05-18T17:24:15.832Z"
   },
   {
    "duration": 0,
    "start_time": "2024-05-18T17:24:15.836Z"
   },
   {
    "duration": 0,
    "start_time": "2024-05-18T17:24:15.838Z"
   },
   {
    "duration": 24,
    "start_time": "2024-05-18T17:24:57.129Z"
   },
   {
    "duration": 24,
    "start_time": "2024-05-18T17:24:58.923Z"
   },
   {
    "duration": 23,
    "start_time": "2024-05-18T17:25:00.340Z"
   },
   {
    "duration": 23,
    "start_time": "2024-05-18T17:25:07.033Z"
   },
   {
    "duration": 24,
    "start_time": "2024-05-18T17:25:07.927Z"
   },
   {
    "duration": 5,
    "start_time": "2024-05-18T17:25:13.659Z"
   },
   {
    "duration": 4,
    "start_time": "2024-05-18T17:25:14.494Z"
   },
   {
    "duration": 23,
    "start_time": "2024-05-18T17:25:15.482Z"
   },
   {
    "duration": 16,
    "start_time": "2024-05-18T17:25:17.053Z"
   },
   {
    "duration": 6,
    "start_time": "2024-05-18T17:25:18.333Z"
   },
   {
    "duration": 24,
    "start_time": "2024-05-18T17:25:19.355Z"
   },
   {
    "duration": 11,
    "start_time": "2024-05-18T17:25:21.120Z"
   },
   {
    "duration": 9,
    "start_time": "2024-05-18T17:25:22.200Z"
   },
   {
    "duration": 12,
    "start_time": "2024-05-18T17:25:23.046Z"
   },
   {
    "duration": 9,
    "start_time": "2024-05-18T17:25:24.484Z"
   },
   {
    "duration": 15,
    "start_time": "2024-05-18T17:25:24.929Z"
   },
   {
    "duration": 5,
    "start_time": "2024-05-18T17:25:25.520Z"
   },
   {
    "duration": 11,
    "start_time": "2024-05-18T17:25:26.130Z"
   },
   {
    "duration": 16,
    "start_time": "2024-05-18T17:25:26.597Z"
   },
   {
    "duration": 17,
    "start_time": "2024-05-18T17:25:27.161Z"
   },
   {
    "duration": 26,
    "start_time": "2024-05-18T17:25:28.217Z"
   },
   {
    "duration": 24,
    "start_time": "2024-05-18T17:25:29.349Z"
   },
   {
    "duration": 23,
    "start_time": "2024-05-18T17:25:38.503Z"
   },
   {
    "duration": 4,
    "start_time": "2024-05-18T17:25:39.358Z"
   },
   {
    "duration": 5,
    "start_time": "2024-05-18T17:25:47.488Z"
   },
   {
    "duration": 6,
    "start_time": "2024-05-18T17:25:48.369Z"
   },
   {
    "duration": 10,
    "start_time": "2024-05-18T17:25:49.226Z"
   },
   {
    "duration": 9,
    "start_time": "2024-05-18T17:25:58.967Z"
   },
   {
    "duration": 157,
    "start_time": "2024-05-18T17:25:59.580Z"
   },
   {
    "duration": 53,
    "start_time": "2024-05-18T17:26:01.969Z"
   },
   {
    "duration": 228,
    "start_time": "2024-05-18T17:26:02.890Z"
   },
   {
    "duration": 31,
    "start_time": "2024-05-18T17:26:19.183Z"
   },
   {
    "duration": 25,
    "start_time": "2024-05-18T17:26:26.981Z"
   },
   {
    "duration": 25,
    "start_time": "2024-05-18T17:26:45.535Z"
   },
   {
    "duration": 27,
    "start_time": "2024-05-18T17:27:10.996Z"
   },
   {
    "duration": 7,
    "start_time": "2024-05-18T17:27:15.266Z"
   },
   {
    "duration": 25,
    "start_time": "2024-05-18T17:27:18.489Z"
   },
   {
    "duration": 9,
    "start_time": "2024-05-18T17:31:45.277Z"
   },
   {
    "duration": 9,
    "start_time": "2024-05-18T17:32:10.080Z"
   },
   {
    "duration": 14,
    "start_time": "2024-05-18T17:32:21.740Z"
   },
   {
    "duration": 7,
    "start_time": "2024-05-18T17:32:40.873Z"
   },
   {
    "duration": 11,
    "start_time": "2024-05-18T17:32:42.098Z"
   },
   {
    "duration": 9,
    "start_time": "2024-05-18T17:32:43.527Z"
   },
   {
    "duration": 4,
    "start_time": "2024-05-18T17:32:44.609Z"
   },
   {
    "duration": 11,
    "start_time": "2024-05-18T17:32:45.440Z"
   },
   {
    "duration": 4,
    "start_time": "2024-05-18T17:32:51.543Z"
   },
   {
    "duration": 4,
    "start_time": "2024-05-18T17:32:52.205Z"
   },
   {
    "duration": 23,
    "start_time": "2024-05-18T17:32:52.756Z"
   },
   {
    "duration": 19,
    "start_time": "2024-05-18T17:32:53.799Z"
   },
   {
    "duration": 5,
    "start_time": "2024-05-18T17:32:55.037Z"
   },
   {
    "duration": 18,
    "start_time": "2024-05-18T17:32:55.502Z"
   },
   {
    "duration": 7,
    "start_time": "2024-05-18T17:32:56.551Z"
   },
   {
    "duration": 8,
    "start_time": "2024-05-18T17:32:56.995Z"
   },
   {
    "duration": 12,
    "start_time": "2024-05-18T17:32:57.440Z"
   },
   {
    "duration": 9,
    "start_time": "2024-05-18T17:32:58.867Z"
   },
   {
    "duration": 13,
    "start_time": "2024-05-18T17:32:59.331Z"
   },
   {
    "duration": 10,
    "start_time": "2024-05-18T17:33:00.382Z"
   },
   {
    "duration": 5,
    "start_time": "2024-05-18T17:33:01.615Z"
   },
   {
    "duration": 15,
    "start_time": "2024-05-18T17:33:02.900Z"
   },
   {
    "duration": 5,
    "start_time": "2024-05-18T17:33:52.038Z"
   },
   {
    "duration": 11,
    "start_time": "2024-05-18T17:33:52.658Z"
   },
   {
    "duration": 10,
    "start_time": "2024-05-18T17:35:39.230Z"
   },
   {
    "duration": 49,
    "start_time": "2024-05-18T17:38:02.304Z"
   },
   {
    "duration": 27,
    "start_time": "2024-05-18T17:39:27.520Z"
   },
   {
    "duration": 1216,
    "start_time": "2024-05-18T18:17:10.407Z"
   },
   {
    "duration": 373,
    "start_time": "2024-05-18T18:17:12.012Z"
   },
   {
    "duration": 342,
    "start_time": "2024-05-18T18:17:18.707Z"
   },
   {
    "duration": 1266,
    "start_time": "2024-05-18T18:18:40.409Z"
   },
   {
    "duration": 1245,
    "start_time": "2024-05-18T18:18:44.716Z"
   },
   {
    "duration": 364,
    "start_time": "2024-05-18T18:19:04.361Z"
   },
   {
    "duration": 14510,
    "start_time": "2024-05-18T18:19:09.700Z"
   },
   {
    "duration": 1278,
    "start_time": "2024-05-18T18:19:24.215Z"
   },
   {
    "duration": 1238,
    "start_time": "2024-05-18T18:19:37.224Z"
   },
   {
    "duration": 26,
    "start_time": "2024-05-18T18:22:19.540Z"
   },
   {
    "duration": 45,
    "start_time": "2024-05-18T18:23:15.034Z"
   },
   {
    "duration": 43,
    "start_time": "2024-05-18T18:23:34.405Z"
   },
   {
    "duration": 43,
    "start_time": "2024-05-18T18:23:35.358Z"
   },
   {
    "duration": 209,
    "start_time": "2024-05-18T18:23:36.568Z"
   },
   {
    "duration": 888,
    "start_time": "2024-05-18T18:42:33.803Z"
   },
   {
    "duration": 203,
    "start_time": "2024-05-18T18:42:51.219Z"
   },
   {
    "duration": 38,
    "start_time": "2024-05-18T18:43:22.681Z"
   },
   {
    "duration": 61,
    "start_time": "2024-05-18T18:44:41.248Z"
   },
   {
    "duration": 52,
    "start_time": "2024-05-18T18:44:44.551Z"
   },
   {
    "duration": 41,
    "start_time": "2024-05-18T18:46:56.124Z"
   },
   {
    "duration": 33,
    "start_time": "2024-05-18T18:47:10.277Z"
   },
   {
    "duration": 69,
    "start_time": "2024-05-18T18:47:25.502Z"
   },
   {
    "duration": 14,
    "start_time": "2024-05-18T18:57:11.243Z"
   },
   {
    "duration": 76,
    "start_time": "2024-05-18T18:57:33.426Z"
   },
   {
    "duration": 71,
    "start_time": "2024-05-18T18:58:30.965Z"
   },
   {
    "duration": 68,
    "start_time": "2024-05-18T18:58:52.633Z"
   },
   {
    "duration": 182,
    "start_time": "2024-05-18T19:03:38.871Z"
   },
   {
    "duration": 60,
    "start_time": "2024-05-18T19:03:52.793Z"
   },
   {
    "duration": 58,
    "start_time": "2024-05-18T19:04:13.583Z"
   },
   {
    "duration": 7,
    "start_time": "2024-05-18T19:04:21.155Z"
   },
   {
    "duration": 55,
    "start_time": "2024-05-18T19:04:26.743Z"
   },
   {
    "duration": 3,
    "start_time": "2024-05-18T19:06:48.417Z"
   },
   {
    "duration": 9,
    "start_time": "2024-05-18T19:06:49.351Z"
   },
   {
    "duration": 64,
    "start_time": "2024-05-18T19:07:17.659Z"
   },
   {
    "duration": 44,
    "start_time": "2024-05-18T19:09:40.016Z"
   },
   {
    "duration": 8,
    "start_time": "2024-05-18T19:10:43.598Z"
   },
   {
    "duration": 6,
    "start_time": "2024-05-18T19:10:44.287Z"
   },
   {
    "duration": 55,
    "start_time": "2024-05-18T19:10:51.919Z"
   },
   {
    "duration": 54,
    "start_time": "2024-05-18T19:11:25.542Z"
   },
   {
    "duration": 56,
    "start_time": "2024-05-18T19:11:48.802Z"
   },
   {
    "duration": 6,
    "start_time": "2024-05-18T19:13:57.028Z"
   },
   {
    "duration": 33,
    "start_time": "2024-05-18T19:14:15.376Z"
   },
   {
    "duration": 13,
    "start_time": "2024-05-18T19:14:50.364Z"
   },
   {
    "duration": 8,
    "start_time": "2024-05-18T19:15:02.351Z"
   },
   {
    "duration": 8,
    "start_time": "2024-05-18T19:15:08.549Z"
   },
   {
    "duration": 27,
    "start_time": "2024-05-18T19:16:00.442Z"
   },
   {
    "duration": 27,
    "start_time": "2024-05-18T19:16:02.376Z"
   },
   {
    "duration": 62,
    "start_time": "2024-05-18T19:17:18.585Z"
   },
   {
    "duration": 79,
    "start_time": "2024-05-18T19:17:25.907Z"
   },
   {
    "duration": 57,
    "start_time": "2024-05-18T19:17:46.662Z"
   },
   {
    "duration": 228,
    "start_time": "2024-05-18T19:18:35.275Z"
   },
   {
    "duration": 7,
    "start_time": "2024-05-18T19:18:53.618Z"
   },
   {
    "duration": 69,
    "start_time": "2024-05-18T19:19:08.013Z"
   },
   {
    "duration": 56,
    "start_time": "2024-05-18T19:19:20.601Z"
   },
   {
    "duration": 56,
    "start_time": "2024-05-18T19:19:29.032Z"
   },
   {
    "duration": 4,
    "start_time": "2024-05-18T19:19:31.841Z"
   },
   {
    "duration": 56,
    "start_time": "2024-05-18T19:19:32.513Z"
   },
   {
    "duration": 58,
    "start_time": "2024-05-18T19:19:43.659Z"
   },
   {
    "duration": 7,
    "start_time": "2024-05-18T19:19:57.320Z"
   },
   {
    "duration": 777,
    "start_time": "2024-05-18T19:20:12.179Z"
   },
   {
    "duration": 75,
    "start_time": "2024-05-18T19:20:14.160Z"
   },
   {
    "duration": 70,
    "start_time": "2024-05-18T19:20:26.327Z"
   },
   {
    "duration": 57,
    "start_time": "2024-05-18T19:20:28.830Z"
   },
   {
    "duration": 6,
    "start_time": "2024-05-18T19:20:37.525Z"
   },
   {
    "duration": 55,
    "start_time": "2024-05-18T19:20:38.311Z"
   },
   {
    "duration": 54,
    "start_time": "2024-05-18T19:21:03.738Z"
   },
   {
    "duration": 56,
    "start_time": "2024-05-18T19:21:24.569Z"
   },
   {
    "duration": 314,
    "start_time": "2024-05-18T19:22:56.677Z"
   },
   {
    "duration": 6,
    "start_time": "2024-05-18T19:23:25.431Z"
   },
   {
    "duration": 133,
    "start_time": "2024-05-18T19:23:28.438Z"
   },
   {
    "duration": 8,
    "start_time": "2024-05-18T19:23:30.391Z"
   },
   {
    "duration": 53,
    "start_time": "2024-05-18T19:24:40.312Z"
   },
   {
    "duration": 55,
    "start_time": "2024-05-18T19:24:40.942Z"
   },
   {
    "duration": 68,
    "start_time": "2024-05-18T19:24:52.008Z"
   },
   {
    "duration": 55,
    "start_time": "2024-05-18T19:25:06.863Z"
   },
   {
    "duration": 55,
    "start_time": "2024-05-18T19:25:15.236Z"
   },
   {
    "duration": 52,
    "start_time": "2024-05-18T19:25:20.166Z"
   },
   {
    "duration": 54,
    "start_time": "2024-05-18T19:25:39.890Z"
   },
   {
    "duration": 6,
    "start_time": "2024-05-18T19:26:17.065Z"
   },
   {
    "duration": 8,
    "start_time": "2024-05-18T19:26:17.770Z"
   },
   {
    "duration": 56,
    "start_time": "2024-05-18T19:26:18.591Z"
   },
   {
    "duration": 57,
    "start_time": "2024-05-18T19:26:35.411Z"
   },
   {
    "duration": 25,
    "start_time": "2024-05-18T19:26:39.488Z"
   },
   {
    "duration": 127,
    "start_time": "2024-05-18T19:26:46.632Z"
   },
   {
    "duration": 115,
    "start_time": "2024-05-18T19:27:11.448Z"
   },
   {
    "duration": 76,
    "start_time": "2024-05-18T19:27:19.634Z"
   },
   {
    "duration": 8,
    "start_time": "2024-05-18T19:32:52.118Z"
   },
   {
    "duration": 11,
    "start_time": "2024-05-18T19:32:55.194Z"
   },
   {
    "duration": 28,
    "start_time": "2024-05-18T19:33:22.956Z"
   },
   {
    "duration": 18,
    "start_time": "2024-05-18T19:33:33.347Z"
   },
   {
    "duration": 5316,
    "start_time": "2024-05-19T15:59:29.833Z"
   },
   {
    "duration": 39,
    "start_time": "2024-05-19T15:59:35.152Z"
   },
   {
    "duration": 18,
    "start_time": "2024-05-19T15:59:35.194Z"
   },
   {
    "duration": 7,
    "start_time": "2024-05-19T15:59:35.215Z"
   },
   {
    "duration": 21,
    "start_time": "2024-05-19T15:59:35.226Z"
   },
   {
    "duration": 9,
    "start_time": "2024-05-19T15:59:35.251Z"
   },
   {
    "duration": 9,
    "start_time": "2024-05-19T15:59:35.303Z"
   },
   {
    "duration": 13,
    "start_time": "2024-05-19T15:59:35.314Z"
   },
   {
    "duration": 8,
    "start_time": "2024-05-19T15:59:35.329Z"
   },
   {
    "duration": 12,
    "start_time": "2024-05-19T15:59:35.340Z"
   },
   {
    "duration": 55,
    "start_time": "2024-05-19T15:59:35.355Z"
   },
   {
    "duration": 5,
    "start_time": "2024-05-19T15:59:35.413Z"
   },
   {
    "duration": 11,
    "start_time": "2024-05-19T15:59:35.421Z"
   },
   {
    "duration": 15,
    "start_time": "2024-05-19T15:59:35.439Z"
   },
   {
    "duration": 21,
    "start_time": "2024-05-19T15:59:35.502Z"
   },
   {
    "duration": 446,
    "start_time": "2024-05-19T15:59:35.526Z"
   },
   {
    "duration": 0,
    "start_time": "2024-05-19T15:59:35.975Z"
   },
   {
    "duration": 0,
    "start_time": "2024-05-19T15:59:35.978Z"
   },
   {
    "duration": 0,
    "start_time": "2024-05-19T15:59:35.981Z"
   },
   {
    "duration": 0,
    "start_time": "2024-05-19T15:59:35.982Z"
   },
   {
    "duration": 0,
    "start_time": "2024-05-19T15:59:35.985Z"
   },
   {
    "duration": 0,
    "start_time": "2024-05-19T15:59:36.002Z"
   },
   {
    "duration": 0,
    "start_time": "2024-05-19T15:59:36.005Z"
   },
   {
    "duration": 0,
    "start_time": "2024-05-19T15:59:36.007Z"
   },
   {
    "duration": 0,
    "start_time": "2024-05-19T15:59:36.009Z"
   },
   {
    "duration": 0,
    "start_time": "2024-05-19T15:59:36.012Z"
   },
   {
    "duration": 0,
    "start_time": "2024-05-19T15:59:36.014Z"
   },
   {
    "duration": 0,
    "start_time": "2024-05-19T15:59:36.016Z"
   },
   {
    "duration": 0,
    "start_time": "2024-05-19T15:59:36.019Z"
   },
   {
    "duration": 0,
    "start_time": "2024-05-19T15:59:36.021Z"
   },
   {
    "duration": 308,
    "start_time": "2024-05-20T02:31:53.875Z"
   },
   {
    "duration": 5043,
    "start_time": "2024-05-20T02:32:08.796Z"
   },
   {
    "duration": 30,
    "start_time": "2024-05-20T02:32:13.842Z"
   },
   {
    "duration": 29,
    "start_time": "2024-05-20T02:32:13.875Z"
   },
   {
    "duration": 7,
    "start_time": "2024-05-20T02:32:13.909Z"
   },
   {
    "duration": 21,
    "start_time": "2024-05-20T02:32:13.919Z"
   },
   {
    "duration": 9,
    "start_time": "2024-05-20T02:32:13.943Z"
   },
   {
    "duration": 51,
    "start_time": "2024-05-20T02:32:13.956Z"
   },
   {
    "duration": 13,
    "start_time": "2024-05-20T02:32:14.011Z"
   },
   {
    "duration": 9,
    "start_time": "2024-05-20T02:32:14.027Z"
   },
   {
    "duration": 57,
    "start_time": "2024-05-20T02:32:14.045Z"
   },
   {
    "duration": 9,
    "start_time": "2024-05-20T02:32:14.105Z"
   },
   {
    "duration": 5,
    "start_time": "2024-05-20T02:32:14.117Z"
   },
   {
    "duration": 11,
    "start_time": "2024-05-20T02:32:14.125Z"
   },
   {
    "duration": 17,
    "start_time": "2024-05-20T02:32:14.139Z"
   },
   {
    "duration": 1312,
    "start_time": "2024-05-20T02:32:14.202Z"
   },
   {
    "duration": 0,
    "start_time": "2024-05-20T02:32:15.518Z"
   },
   {
    "duration": 0,
    "start_time": "2024-05-20T02:32:15.520Z"
   },
   {
    "duration": 0,
    "start_time": "2024-05-20T02:32:15.521Z"
   },
   {
    "duration": 0,
    "start_time": "2024-05-20T02:32:15.523Z"
   },
   {
    "duration": 0,
    "start_time": "2024-05-20T02:32:15.525Z"
   },
   {
    "duration": 0,
    "start_time": "2024-05-20T02:32:15.527Z"
   },
   {
    "duration": 0,
    "start_time": "2024-05-20T02:32:15.529Z"
   },
   {
    "duration": 0,
    "start_time": "2024-05-20T02:32:15.530Z"
   },
   {
    "duration": 0,
    "start_time": "2024-05-20T02:32:15.533Z"
   },
   {
    "duration": 0,
    "start_time": "2024-05-20T02:32:15.535Z"
   },
   {
    "duration": 0,
    "start_time": "2024-05-20T02:32:15.537Z"
   },
   {
    "duration": 0,
    "start_time": "2024-05-20T02:32:15.539Z"
   },
   {
    "duration": 1,
    "start_time": "2024-05-20T02:32:15.541Z"
   },
   {
    "duration": 0,
    "start_time": "2024-05-20T02:32:15.544Z"
   },
   {
    "duration": 79,
    "start_time": "2024-05-20T02:32:40.566Z"
   },
   {
    "duration": 15,
    "start_time": "2024-05-20T02:33:09.359Z"
   },
   {
    "duration": 6,
    "start_time": "2024-05-20T02:33:18.296Z"
   },
   {
    "duration": 23,
    "start_time": "2024-05-20T02:33:20.097Z"
   },
   {
    "duration": 19,
    "start_time": "2024-05-20T02:33:30.770Z"
   },
   {
    "duration": 19,
    "start_time": "2024-05-20T02:33:37.568Z"
   },
   {
    "duration": 78,
    "start_time": "2024-05-20T02:33:43.449Z"
   },
   {
    "duration": 24,
    "start_time": "2024-05-20T02:33:53.053Z"
   },
   {
    "duration": 24,
    "start_time": "2024-05-20T02:34:03.176Z"
   },
   {
    "duration": 22,
    "start_time": "2024-05-20T02:34:04.705Z"
   },
   {
    "duration": 23,
    "start_time": "2024-05-20T02:34:15.088Z"
   },
   {
    "duration": 6,
    "start_time": "2024-05-20T02:34:25.679Z"
   },
   {
    "duration": 5,
    "start_time": "2024-05-20T02:34:29.532Z"
   },
   {
    "duration": 22,
    "start_time": "2024-05-20T02:34:30.316Z"
   },
   {
    "duration": 24,
    "start_time": "2024-05-20T02:34:31.351Z"
   },
   {
    "duration": 6,
    "start_time": "2024-05-20T02:34:41.114Z"
   },
   {
    "duration": 24,
    "start_time": "2024-05-20T02:34:42.025Z"
   },
   {
    "duration": 24,
    "start_time": "2024-05-20T02:34:43.005Z"
   },
   {
    "duration": 87,
    "start_time": "2024-05-20T02:34:46.747Z"
   },
   {
    "duration": 6,
    "start_time": "2024-05-20T02:35:21.926Z"
   },
   {
    "duration": 23,
    "start_time": "2024-05-20T02:35:23.013Z"
   },
   {
    "duration": 16,
    "start_time": "2024-05-20T02:35:25.094Z"
   },
   {
    "duration": 6,
    "start_time": "2024-05-20T02:35:28.317Z"
   },
   {
    "duration": 18,
    "start_time": "2024-05-20T02:35:29.090Z"
   },
   {
    "duration": 9,
    "start_time": "2024-05-20T02:35:31.212Z"
   },
   {
    "duration": 9,
    "start_time": "2024-05-20T02:35:32.390Z"
   },
   {
    "duration": 11,
    "start_time": "2024-05-20T02:35:33.157Z"
   },
   {
    "duration": 8,
    "start_time": "2024-05-20T02:35:36.148Z"
   },
   {
    "duration": 11,
    "start_time": "2024-05-20T02:35:36.956Z"
   },
   {
    "duration": 9,
    "start_time": "2024-05-20T02:35:37.681Z"
   },
   {
    "duration": 4,
    "start_time": "2024-05-20T02:35:38.996Z"
   },
   {
    "duration": 13,
    "start_time": "2024-05-20T02:35:40.514Z"
   },
   {
    "duration": 16,
    "start_time": "2024-05-20T02:35:43.674Z"
   },
   {
    "duration": 17,
    "start_time": "2024-05-20T02:35:45.062Z"
   },
   {
    "duration": 6,
    "start_time": "2024-05-20T02:35:46.851Z"
   },
   {
    "duration": 24,
    "start_time": "2024-05-20T02:35:47.724Z"
   },
   {
    "duration": 24,
    "start_time": "2024-05-20T02:35:48.696Z"
   },
   {
    "duration": 26,
    "start_time": "2024-05-20T02:35:51.379Z"
   },
   {
    "duration": 6,
    "start_time": "2024-05-20T02:35:57.240Z"
   },
   {
    "duration": 80,
    "start_time": "2024-05-20T02:36:02.480Z"
   },
   {
    "duration": 5,
    "start_time": "2024-05-20T02:36:13.215Z"
   },
   {
    "duration": 23,
    "start_time": "2024-05-20T02:36:14.225Z"
   },
   {
    "duration": 80,
    "start_time": "2024-05-20T02:36:15.300Z"
   },
   {
    "duration": 4,
    "start_time": "2024-05-20T02:36:16.377Z"
   },
   {
    "duration": 77,
    "start_time": "2024-05-20T02:36:48.709Z"
   },
   {
    "duration": 80,
    "start_time": "2024-05-20T02:36:49.743Z"
   },
   {
    "duration": 98,
    "start_time": "2024-05-20T02:36:58.211Z"
   },
   {
    "duration": 22,
    "start_time": "2024-05-20T02:37:14.466Z"
   },
   {
    "duration": 29,
    "start_time": "2024-05-20T02:37:15.873Z"
   },
   {
    "duration": 28,
    "start_time": "2024-05-20T02:37:16.905Z"
   },
   {
    "duration": 23,
    "start_time": "2024-05-20T02:37:20.087Z"
   },
   {
    "duration": 27,
    "start_time": "2024-05-20T02:37:21.302Z"
   },
   {
    "duration": 81,
    "start_time": "2024-05-20T02:37:45.142Z"
   },
   {
    "duration": 85,
    "start_time": "2024-05-20T02:37:45.848Z"
   },
   {
    "duration": 5,
    "start_time": "2024-05-20T02:37:47.036Z"
   },
   {
    "duration": 6,
    "start_time": "2024-05-20T02:37:51.746Z"
   },
   {
    "duration": 8,
    "start_time": "2024-05-20T02:38:31.010Z"
   },
   {
    "duration": 79,
    "start_time": "2024-05-20T02:38:31.985Z"
   },
   {
    "duration": 78,
    "start_time": "2024-05-20T02:38:32.890Z"
   },
   {
    "duration": 5,
    "start_time": "2024-05-20T02:38:34.113Z"
   },
   {
    "duration": 98,
    "start_time": "2024-05-20T02:38:45.918Z"
   },
   {
    "duration": 24,
    "start_time": "2024-05-20T02:39:09.766Z"
   },
   {
    "duration": 5,
    "start_time": "2024-05-20T02:39:16.945Z"
   },
   {
    "duration": 18,
    "start_time": "2024-05-20T02:39:34.682Z"
   },
   {
    "duration": 15,
    "start_time": "2024-05-20T02:39:35.468Z"
   },
   {
    "duration": 79,
    "start_time": "2024-05-20T02:39:37.781Z"
   },
   {
    "duration": 84,
    "start_time": "2024-05-20T02:39:38.487Z"
   },
   {
    "duration": 5,
    "start_time": "2024-05-20T02:39:50.421Z"
   },
   {
    "duration": 9,
    "start_time": "2024-05-20T02:40:11.459Z"
   },
   {
    "duration": 82,
    "start_time": "2024-05-20T02:40:12.247Z"
   },
   {
    "duration": 6,
    "start_time": "2024-05-20T02:40:23.308Z"
   },
   {
    "duration": 6,
    "start_time": "2024-05-20T02:40:30.313Z"
   },
   {
    "duration": 6,
    "start_time": "2024-05-20T02:43:43.655Z"
   },
   {
    "duration": 28,
    "start_time": "2024-05-20T02:43:44.588Z"
   },
   {
    "duration": 5864,
    "start_time": "2024-05-21T00:28:16.148Z"
   },
   {
    "duration": 38,
    "start_time": "2024-05-21T00:28:22.016Z"
   },
   {
    "duration": 18,
    "start_time": "2024-05-21T00:28:22.058Z"
   },
   {
    "duration": 7,
    "start_time": "2024-05-21T00:28:22.079Z"
   },
   {
    "duration": 46,
    "start_time": "2024-05-21T00:28:22.092Z"
   },
   {
    "duration": 9,
    "start_time": "2024-05-21T00:28:22.142Z"
   },
   {
    "duration": 10,
    "start_time": "2024-05-21T00:28:22.154Z"
   },
   {
    "duration": 12,
    "start_time": "2024-05-21T00:28:22.167Z"
   },
   {
    "duration": 7,
    "start_time": "2024-05-21T00:28:22.225Z"
   },
   {
    "duration": 11,
    "start_time": "2024-05-21T00:28:22.237Z"
   },
   {
    "duration": 11,
    "start_time": "2024-05-21T00:28:22.252Z"
   },
   {
    "duration": 5,
    "start_time": "2024-05-21T00:28:22.267Z"
   },
   {
    "duration": 60,
    "start_time": "2024-05-21T00:28:22.276Z"
   },
   {
    "duration": 17,
    "start_time": "2024-05-21T00:28:22.344Z"
   },
   {
    "duration": 21,
    "start_time": "2024-05-21T00:28:22.365Z"
   },
   {
    "duration": 503,
    "start_time": "2024-05-21T00:28:22.426Z"
   },
   {
    "duration": 0,
    "start_time": "2024-05-21T00:28:22.933Z"
   },
   {
    "duration": 0,
    "start_time": "2024-05-21T00:28:22.936Z"
   },
   {
    "duration": 0,
    "start_time": "2024-05-21T00:28:22.938Z"
   },
   {
    "duration": 0,
    "start_time": "2024-05-21T00:28:22.941Z"
   },
   {
    "duration": 0,
    "start_time": "2024-05-21T00:28:22.944Z"
   },
   {
    "duration": 0,
    "start_time": "2024-05-21T00:28:22.947Z"
   },
   {
    "duration": 0,
    "start_time": "2024-05-21T00:28:22.949Z"
   },
   {
    "duration": 0,
    "start_time": "2024-05-21T00:28:22.952Z"
   },
   {
    "duration": 0,
    "start_time": "2024-05-21T00:28:22.955Z"
   },
   {
    "duration": 0,
    "start_time": "2024-05-21T00:28:22.958Z"
   },
   {
    "duration": 0,
    "start_time": "2024-05-21T00:28:22.961Z"
   },
   {
    "duration": 0,
    "start_time": "2024-05-21T00:28:22.965Z"
   },
   {
    "duration": 0,
    "start_time": "2024-05-21T00:28:22.967Z"
   },
   {
    "duration": 0,
    "start_time": "2024-05-21T00:28:23.026Z"
   },
   {
    "duration": 0,
    "start_time": "2024-05-21T00:28:23.028Z"
   },
   {
    "duration": 24,
    "start_time": "2024-05-21T00:32:18.585Z"
   },
   {
    "duration": 1,
    "start_time": "2024-05-21T00:32:18.613Z"
   },
   {
    "duration": 0,
    "start_time": "2024-05-21T00:32:18.617Z"
   },
   {
    "duration": 0,
    "start_time": "2024-05-21T00:32:18.619Z"
   },
   {
    "duration": 0,
    "start_time": "2024-05-21T00:32:18.621Z"
   },
   {
    "duration": 0,
    "start_time": "2024-05-21T00:32:18.625Z"
   },
   {
    "duration": 0,
    "start_time": "2024-05-21T00:32:18.627Z"
   },
   {
    "duration": 0,
    "start_time": "2024-05-21T00:32:18.630Z"
   },
   {
    "duration": 1,
    "start_time": "2024-05-21T00:32:18.631Z"
   },
   {
    "duration": 0,
    "start_time": "2024-05-21T00:32:18.634Z"
   },
   {
    "duration": 0,
    "start_time": "2024-05-21T00:32:18.638Z"
   },
   {
    "duration": 0,
    "start_time": "2024-05-21T00:32:18.640Z"
   },
   {
    "duration": 0,
    "start_time": "2024-05-21T00:32:18.644Z"
   },
   {
    "duration": 0,
    "start_time": "2024-05-21T00:32:18.646Z"
   },
   {
    "duration": 0,
    "start_time": "2024-05-21T00:32:18.649Z"
   },
   {
    "duration": 0,
    "start_time": "2024-05-21T00:32:18.652Z"
   },
   {
    "duration": 25,
    "start_time": "2024-05-21T00:32:26.925Z"
   },
   {
    "duration": 0,
    "start_time": "2024-05-21T00:32:26.955Z"
   },
   {
    "duration": 0,
    "start_time": "2024-05-21T00:32:26.958Z"
   },
   {
    "duration": 0,
    "start_time": "2024-05-21T00:32:26.959Z"
   },
   {
    "duration": 0,
    "start_time": "2024-05-21T00:32:26.961Z"
   },
   {
    "duration": 0,
    "start_time": "2024-05-21T00:32:26.963Z"
   },
   {
    "duration": 0,
    "start_time": "2024-05-21T00:32:26.965Z"
   },
   {
    "duration": 0,
    "start_time": "2024-05-21T00:32:26.967Z"
   },
   {
    "duration": 0,
    "start_time": "2024-05-21T00:32:26.969Z"
   },
   {
    "duration": 0,
    "start_time": "2024-05-21T00:32:26.971Z"
   },
   {
    "duration": 0,
    "start_time": "2024-05-21T00:32:26.973Z"
   },
   {
    "duration": 0,
    "start_time": "2024-05-21T00:32:26.975Z"
   },
   {
    "duration": 0,
    "start_time": "2024-05-21T00:32:26.978Z"
   },
   {
    "duration": 0,
    "start_time": "2024-05-21T00:32:26.980Z"
   },
   {
    "duration": 0,
    "start_time": "2024-05-21T00:32:27.026Z"
   },
   {
    "duration": 10,
    "start_time": "2024-05-22T00:14:18.527Z"
   },
   {
    "duration": 369,
    "start_time": "2024-05-22T00:14:31.627Z"
   },
   {
    "duration": 5460,
    "start_time": "2024-05-22T00:14:45.896Z"
   },
   {
    "duration": 38,
    "start_time": "2024-05-22T00:14:51.360Z"
   },
   {
    "duration": 26,
    "start_time": "2024-05-22T00:14:51.401Z"
   },
   {
    "duration": 7,
    "start_time": "2024-05-22T00:14:51.433Z"
   },
   {
    "duration": 24,
    "start_time": "2024-05-22T00:14:51.443Z"
   },
   {
    "duration": 9,
    "start_time": "2024-05-22T00:14:51.470Z"
   },
   {
    "duration": 50,
    "start_time": "2024-05-22T00:14:51.482Z"
   },
   {
    "duration": 12,
    "start_time": "2024-05-22T00:14:51.535Z"
   },
   {
    "duration": 8,
    "start_time": "2024-05-22T00:14:51.551Z"
   },
   {
    "duration": 11,
    "start_time": "2024-05-22T00:14:51.566Z"
   },
   {
    "duration": 11,
    "start_time": "2024-05-22T00:14:51.626Z"
   },
   {
    "duration": 5,
    "start_time": "2024-05-22T00:14:51.640Z"
   },
   {
    "duration": 12,
    "start_time": "2024-05-22T00:14:51.648Z"
   },
   {
    "duration": 63,
    "start_time": "2024-05-22T00:14:51.663Z"
   },
   {
    "duration": 18,
    "start_time": "2024-05-22T00:14:51.729Z"
   },
   {
    "duration": 6,
    "start_time": "2024-05-22T00:14:51.751Z"
   },
   {
    "duration": 1317,
    "start_time": "2024-05-22T00:14:51.760Z"
   },
   {
    "duration": 0,
    "start_time": "2024-05-22T00:14:53.081Z"
   },
   {
    "duration": 0,
    "start_time": "2024-05-22T00:14:53.084Z"
   },
   {
    "duration": 0,
    "start_time": "2024-05-22T00:14:53.086Z"
   },
   {
    "duration": 0,
    "start_time": "2024-05-22T00:14:53.089Z"
   },
   {
    "duration": 0,
    "start_time": "2024-05-22T00:14:53.092Z"
   },
   {
    "duration": 0,
    "start_time": "2024-05-22T00:14:53.096Z"
   },
   {
    "duration": 0,
    "start_time": "2024-05-22T00:14:53.127Z"
   },
   {
    "duration": 0,
    "start_time": "2024-05-22T00:14:53.129Z"
   },
   {
    "duration": 0,
    "start_time": "2024-05-22T00:14:53.131Z"
   },
   {
    "duration": 0,
    "start_time": "2024-05-22T00:14:53.135Z"
   },
   {
    "duration": 0,
    "start_time": "2024-05-22T00:14:53.137Z"
   },
   {
    "duration": 0,
    "start_time": "2024-05-22T00:14:53.140Z"
   },
   {
    "duration": 0,
    "start_time": "2024-05-22T00:14:53.141Z"
   },
   {
    "duration": 0,
    "start_time": "2024-05-22T00:14:53.143Z"
   },
   {
    "duration": 5,
    "start_time": "2024-05-22T00:15:16.126Z"
   },
   {
    "duration": 86,
    "start_time": "2024-05-22T00:15:20.230Z"
   },
   {
    "duration": 5,
    "start_time": "2024-05-22T00:15:45.572Z"
   },
   {
    "duration": 86,
    "start_time": "2024-05-22T00:15:46.438Z"
   },
   {
    "duration": 35,
    "start_time": "2024-05-22T00:16:12.807Z"
   },
   {
    "duration": 7,
    "start_time": "2024-05-22T00:16:40.284Z"
   },
   {
    "duration": 7,
    "start_time": "2024-05-22T00:17:06.283Z"
   },
   {
    "duration": 24,
    "start_time": "2024-05-22T00:17:16.755Z"
   },
   {
    "duration": 24,
    "start_time": "2024-05-22T00:17:36.055Z"
   },
   {
    "duration": 5,
    "start_time": "2024-05-22T00:17:49.626Z"
   },
   {
    "duration": 10,
    "start_time": "2024-05-22T00:17:52.447Z"
   },
   {
    "duration": 6,
    "start_time": "2024-05-22T00:17:53.342Z"
   },
   {
    "duration": 6,
    "start_time": "2024-05-22T00:17:57.250Z"
   },
   {
    "duration": 184,
    "start_time": "2024-05-22T00:18:10.451Z"
   },
   {
    "duration": 48,
    "start_time": "2024-05-22T00:18:17.583Z"
   },
   {
    "duration": 259,
    "start_time": "2024-05-22T00:18:19.351Z"
   },
   {
    "duration": 1300,
    "start_time": "2024-05-22T00:18:22.826Z"
   },
   {
    "duration": 14589,
    "start_time": "2024-05-22T00:18:24.130Z"
   },
   {
    "duration": 17,
    "start_time": "2024-05-22T00:18:38.723Z"
   },
   {
    "duration": 9,
    "start_time": "2024-05-22T00:18:47.176Z"
   },
   {
    "duration": 10,
    "start_time": "2024-05-22T00:18:48.020Z"
   },
   {
    "duration": 27,
    "start_time": "2024-05-22T00:18:49.330Z"
   },
   {
    "duration": 27,
    "start_time": "2024-05-22T00:18:50.287Z"
   },
   {
    "duration": 4,
    "start_time": "2024-05-22T00:19:13.334Z"
   },
   {
    "duration": 4,
    "start_time": "2024-05-22T00:19:16.713Z"
   },
   {
    "duration": 4,
    "start_time": "2024-05-22T00:19:25.050Z"
   },
   {
    "duration": 36,
    "start_time": "2024-05-22T00:20:57.196Z"
   },
   {
    "duration": 31,
    "start_time": "2024-05-22T00:21:17.220Z"
   },
   {
    "duration": 7,
    "start_time": "2024-05-22T00:21:50.378Z"
   },
   {
    "duration": 42,
    "start_time": "2024-05-22T00:21:53.504Z"
   },
   {
    "duration": 36,
    "start_time": "2024-05-22T00:22:16.242Z"
   },
   {
    "duration": 51,
    "start_time": "2024-05-22T00:23:31.020Z"
   },
   {
    "duration": 34,
    "start_time": "2024-05-22T00:27:36.998Z"
   },
   {
    "duration": 4,
    "start_time": "2024-05-22T00:28:35.992Z"
   },
   {
    "duration": 34,
    "start_time": "2024-05-22T00:28:36.878Z"
   },
   {
    "duration": 47,
    "start_time": "2024-05-22T00:29:28.585Z"
   },
   {
    "duration": 180,
    "start_time": "2024-05-22T00:29:37.186Z"
   },
   {
    "duration": 5,
    "start_time": "2024-05-22T00:30:12.520Z"
   },
   {
    "duration": 10,
    "start_time": "2024-05-22T00:30:15.945Z"
   },
   {
    "duration": 437,
    "start_time": "2024-05-22T00:30:16.726Z"
   },
   {
    "duration": 9,
    "start_time": "2024-05-22T00:30:49.152Z"
   },
   {
    "duration": 156,
    "start_time": "2024-05-22T00:30:49.870Z"
   },
   {
    "duration": 6,
    "start_time": "2024-05-22T00:31:12.025Z"
   },
   {
    "duration": 5,
    "start_time": "2024-05-22T00:31:20.450Z"
   },
   {
    "duration": 46,
    "start_time": "2024-05-22T00:31:22.497Z"
   },
   {
    "duration": 153,
    "start_time": "2024-05-22T00:31:44.726Z"
   },
   {
    "duration": 159,
    "start_time": "2024-05-22T00:31:48.959Z"
   },
   {
    "duration": 169,
    "start_time": "2024-05-22T00:32:18.346Z"
   },
   {
    "duration": 5,
    "start_time": "2024-05-22T00:32:21.744Z"
   },
   {
    "duration": 9,
    "start_time": "2024-05-22T00:32:32.927Z"
   },
   {
    "duration": 5,
    "start_time": "2024-05-22T00:32:34.084Z"
   },
   {
    "duration": 155,
    "start_time": "2024-05-22T00:32:38.131Z"
   },
   {
    "duration": 3,
    "start_time": "2024-05-22T00:32:57.645Z"
   },
   {
    "duration": 6,
    "start_time": "2024-05-22T00:32:58.504Z"
   },
   {
    "duration": 6,
    "start_time": "2024-05-22T00:32:59.368Z"
   },
   {
    "duration": 6,
    "start_time": "2024-05-22T00:33:00.150Z"
   },
   {
    "duration": 4,
    "start_time": "2024-05-22T00:33:01.112Z"
   },
   {
    "duration": 9,
    "start_time": "2024-05-22T00:33:05.408Z"
   },
   {
    "duration": 146,
    "start_time": "2024-05-22T00:33:06.064Z"
   },
   {
    "duration": 147,
    "start_time": "2024-05-22T00:33:20.109Z"
   },
   {
    "duration": 4,
    "start_time": "2024-05-22T00:33:40.817Z"
   },
   {
    "duration": 8,
    "start_time": "2024-05-22T00:33:42.588Z"
   },
   {
    "duration": 144,
    "start_time": "2024-05-22T00:33:43.289Z"
   },
   {
    "duration": 44,
    "start_time": "2024-05-22T00:33:59.297Z"
   },
   {
    "duration": 5,
    "start_time": "2024-05-22T00:34:42.414Z"
   },
   {
    "duration": 26,
    "start_time": "2024-05-22T00:34:44.786Z"
   },
   {
    "duration": 8,
    "start_time": "2024-05-22T00:34:52.378Z"
   },
   {
    "duration": 146,
    "start_time": "2024-05-22T00:34:53.088Z"
   },
   {
    "duration": 6,
    "start_time": "2024-05-22T00:35:05.928Z"
   },
   {
    "duration": 24,
    "start_time": "2024-05-22T00:35:07.181Z"
   },
   {
    "duration": 17,
    "start_time": "2024-05-22T00:35:08.739Z"
   },
   {
    "duration": 5,
    "start_time": "2024-05-22T00:35:10.804Z"
   },
   {
    "duration": 19,
    "start_time": "2024-05-22T00:35:11.621Z"
   },
   {
    "duration": 9,
    "start_time": "2024-05-22T00:35:12.954Z"
   },
   {
    "duration": 8,
    "start_time": "2024-05-22T00:35:13.704Z"
   },
   {
    "duration": 12,
    "start_time": "2024-05-22T00:35:14.182Z"
   },
   {
    "duration": 8,
    "start_time": "2024-05-22T00:35:16.470Z"
   },
   {
    "duration": 12,
    "start_time": "2024-05-22T00:35:17.279Z"
   },
   {
    "duration": 12,
    "start_time": "2024-05-22T00:35:17.904Z"
   },
   {
    "duration": 6,
    "start_time": "2024-05-22T00:35:18.954Z"
   },
   {
    "duration": 12,
    "start_time": "2024-05-22T00:35:19.644Z"
   },
   {
    "duration": 18,
    "start_time": "2024-05-22T00:35:20.508Z"
   },
   {
    "duration": 18,
    "start_time": "2024-05-22T00:35:21.294Z"
   },
   {
    "duration": 3,
    "start_time": "2024-05-22T00:35:24.992Z"
   },
   {
    "duration": 6,
    "start_time": "2024-05-22T00:35:25.584Z"
   },
   {
    "duration": 7,
    "start_time": "2024-05-22T00:35:26.342Z"
   },
   {
    "duration": 6,
    "start_time": "2024-05-22T00:35:27.166Z"
   },
   {
    "duration": 5,
    "start_time": "2024-05-22T00:35:27.937Z"
   },
   {
    "duration": 10,
    "start_time": "2024-05-22T00:35:29.377Z"
   },
   {
    "duration": 142,
    "start_time": "2024-05-22T00:35:30.090Z"
   },
   {
    "duration": 341,
    "start_time": "2024-05-26T22:47:37.067Z"
   },
   {
    "duration": 5972,
    "start_time": "2024-05-26T22:48:22.259Z"
   },
   {
    "duration": 40,
    "start_time": "2024-05-26T22:48:28.236Z"
   },
   {
    "duration": 1372,
    "start_time": "2024-05-26T22:48:33.157Z"
   },
   {
    "duration": 32,
    "start_time": "2024-05-26T22:48:34.533Z"
   },
   {
    "duration": 43,
    "start_time": "2024-05-26T22:48:34.569Z"
   },
   {
    "duration": 11,
    "start_time": "2024-05-26T22:48:34.620Z"
   },
   {
    "duration": 27,
    "start_time": "2024-05-26T22:48:34.638Z"
   },
   {
    "duration": 10,
    "start_time": "2024-05-26T22:48:34.669Z"
   },
   {
    "duration": 11,
    "start_time": "2024-05-26T22:48:34.713Z"
   },
   {
    "duration": 14,
    "start_time": "2024-05-26T22:48:34.728Z"
   },
   {
    "duration": 9,
    "start_time": "2024-05-26T22:48:34.746Z"
   },
   {
    "duration": 54,
    "start_time": "2024-05-26T22:48:34.759Z"
   },
   {
    "duration": 11,
    "start_time": "2024-05-26T22:48:34.816Z"
   },
   {
    "duration": 4,
    "start_time": "2024-05-26T22:48:34.832Z"
   },
   {
    "duration": 13,
    "start_time": "2024-05-26T22:48:34.840Z"
   },
   {
    "duration": 59,
    "start_time": "2024-05-26T22:48:34.860Z"
   },
   {
    "duration": 24,
    "start_time": "2024-05-26T22:48:34.922Z"
   },
   {
    "duration": 4,
    "start_time": "2024-05-26T22:48:34.950Z"
   },
   {
    "duration": 7,
    "start_time": "2024-05-26T22:48:34.957Z"
   },
   {
    "duration": 43,
    "start_time": "2024-05-26T22:48:34.968Z"
   },
   {
    "duration": 545,
    "start_time": "2024-05-26T22:48:35.015Z"
   },
   {
    "duration": 0,
    "start_time": "2024-05-26T22:48:35.563Z"
   },
   {
    "duration": 0,
    "start_time": "2024-05-26T22:48:35.566Z"
   },
   {
    "duration": 0,
    "start_time": "2024-05-26T22:48:35.568Z"
   },
   {
    "duration": 0,
    "start_time": "2024-05-26T22:48:35.571Z"
   },
   {
    "duration": 0,
    "start_time": "2024-05-26T22:48:35.575Z"
   },
   {
    "duration": 0,
    "start_time": "2024-05-26T22:48:35.579Z"
   },
   {
    "duration": 0,
    "start_time": "2024-05-26T22:48:35.608Z"
   },
   {
    "duration": 0,
    "start_time": "2024-05-26T22:48:35.610Z"
   },
   {
    "duration": 0,
    "start_time": "2024-05-26T22:48:35.615Z"
   },
   {
    "duration": 0,
    "start_time": "2024-05-26T22:48:35.617Z"
   },
   {
    "duration": 0,
    "start_time": "2024-05-26T22:48:35.620Z"
   },
   {
    "duration": 0,
    "start_time": "2024-05-26T22:48:35.622Z"
   },
   {
    "duration": 0,
    "start_time": "2024-05-26T22:48:35.623Z"
   },
   {
    "duration": 0,
    "start_time": "2024-05-26T22:48:35.625Z"
   },
   {
    "duration": 6,
    "start_time": "2024-05-26T22:48:47.512Z"
   },
   {
    "duration": 30,
    "start_time": "2024-05-26T22:48:48.834Z"
   },
   {
    "duration": 14,
    "start_time": "2024-05-26T22:48:54.881Z"
   },
   {
    "duration": 13,
    "start_time": "2024-05-26T22:48:58.680Z"
   },
   {
    "duration": 37,
    "start_time": "2024-05-26T22:49:26.490Z"
   },
   {
    "duration": 31,
    "start_time": "2024-05-26T22:49:29.739Z"
   },
   {
    "duration": 9,
    "start_time": "2024-05-26T22:49:31.963Z"
   },
   {
    "duration": 7,
    "start_time": "2024-05-26T22:49:35.082Z"
   },
   {
    "duration": 7,
    "start_time": "2024-05-26T22:50:25.766Z"
   },
   {
    "duration": 31,
    "start_time": "2024-05-26T22:50:49.612Z"
   },
   {
    "duration": 6,
    "start_time": "2024-05-26T22:50:57.662Z"
   },
   {
    "duration": 433,
    "start_time": "2024-05-26T22:53:35.221Z"
   },
   {
    "duration": 224,
    "start_time": "2024-05-26T22:54:09.873Z"
   },
   {
    "duration": 12,
    "start_time": "2024-05-26T22:56:13.336Z"
   },
   {
    "duration": 221,
    "start_time": "2024-05-26T22:58:25.145Z"
   },
   {
    "duration": 164,
    "start_time": "2024-05-26T22:59:09.684Z"
   },
   {
    "duration": 145,
    "start_time": "2024-05-26T22:59:11.408Z"
   },
   {
    "duration": 16,
    "start_time": "2024-05-26T22:59:15.479Z"
   },
   {
    "duration": 9,
    "start_time": "2024-05-26T22:59:19.625Z"
   },
   {
    "duration": 12,
    "start_time": "2024-05-26T22:59:20.764Z"
   },
   {
    "duration": 28,
    "start_time": "2024-05-26T22:59:21.732Z"
   },
   {
    "duration": 28,
    "start_time": "2024-05-26T22:59:22.684Z"
   },
   {
    "duration": 653,
    "start_time": "2024-05-26T22:59:37.333Z"
   },
   {
    "duration": 89,
    "start_time": "2024-05-26T23:00:19.338Z"
   },
   {
    "duration": 68,
    "start_time": "2024-05-26T23:01:53.882Z"
   },
   {
    "duration": 163,
    "start_time": "2024-05-26T23:02:03.487Z"
   },
   {
    "duration": 68,
    "start_time": "2024-05-26T23:02:29.995Z"
   },
   {
    "duration": 158,
    "start_time": "2024-05-26T23:03:08.955Z"
   },
   {
    "duration": 61,
    "start_time": "2024-05-26T23:03:20.222Z"
   },
   {
    "duration": 65,
    "start_time": "2024-05-26T23:03:28.494Z"
   },
   {
    "duration": 68,
    "start_time": "2024-05-26T23:04:05.247Z"
   },
   {
    "duration": 64,
    "start_time": "2024-05-26T23:06:59.224Z"
   },
   {
    "duration": 64,
    "start_time": "2024-05-26T23:07:10.171Z"
   },
   {
    "duration": 66,
    "start_time": "2024-05-26T23:07:23.523Z"
   },
   {
    "duration": 64,
    "start_time": "2024-05-26T23:07:43.967Z"
   },
   {
    "duration": 26,
    "start_time": "2024-05-26T23:08:02.194Z"
   },
   {
    "duration": 60,
    "start_time": "2024-05-26T23:08:30.596Z"
   },
   {
    "duration": 65,
    "start_time": "2024-05-26T23:08:35.659Z"
   },
   {
    "duration": 62,
    "start_time": "2024-05-26T23:08:37.522Z"
   },
   {
    "duration": 29,
    "start_time": "2024-05-26T23:10:10.561Z"
   },
   {
    "duration": 79,
    "start_time": "2024-05-26T23:10:22.911Z"
   },
   {
    "duration": 55,
    "start_time": "2024-05-26T23:11:31.904Z"
   },
   {
    "duration": 11,
    "start_time": "2024-05-26T23:11:50.065Z"
   },
   {
    "duration": 6,
    "start_time": "2024-05-26T23:11:52.268Z"
   },
   {
    "duration": 9,
    "start_time": "2024-05-26T23:11:53.137Z"
   },
   {
    "duration": 56,
    "start_time": "2024-05-26T23:11:54.718Z"
   },
   {
    "duration": 11,
    "start_time": "2024-05-26T23:12:30.702Z"
   },
   {
    "duration": 67,
    "start_time": "2024-05-26T23:12:32.604Z"
   },
   {
    "duration": 63,
    "start_time": "2024-05-26T23:13:38.849Z"
   },
   {
    "duration": 3,
    "start_time": "2024-05-26T23:13:48.768Z"
   },
   {
    "duration": 26,
    "start_time": "2024-05-26T23:15:20.282Z"
   },
   {
    "duration": 6,
    "start_time": "2024-05-26T23:16:00.779Z"
   },
   {
    "duration": 5,
    "start_time": "2024-05-26T23:16:06.363Z"
   },
   {
    "duration": 25,
    "start_time": "2024-05-26T23:16:14.494Z"
   },
   {
    "duration": 35,
    "start_time": "2024-05-26T23:16:36.939Z"
   },
   {
    "duration": 137,
    "start_time": "2024-05-26T23:16:43.462Z"
   },
   {
    "duration": 131,
    "start_time": "2024-05-26T23:16:49.314Z"
   },
   {
    "duration": 146,
    "start_time": "2024-05-26T23:16:54.229Z"
   },
   {
    "duration": 152,
    "start_time": "2024-05-26T23:18:37.005Z"
   },
   {
    "duration": 151,
    "start_time": "2024-05-26T23:18:55.215Z"
   },
   {
    "duration": 58,
    "start_time": "2024-05-26T23:19:41.578Z"
   },
   {
    "duration": 35,
    "start_time": "2024-05-26T23:20:20.237Z"
   },
   {
    "duration": 40,
    "start_time": "2024-05-26T23:20:45.630Z"
   },
   {
    "duration": 24,
    "start_time": "2024-05-26T23:21:13.729Z"
   },
   {
    "duration": 5,
    "start_time": "2024-05-26T23:21:45.772Z"
   },
   {
    "duration": 10,
    "start_time": "2024-05-26T23:21:52.308Z"
   },
   {
    "duration": 6,
    "start_time": "2024-05-26T23:21:52.810Z"
   },
   {
    "duration": 7,
    "start_time": "2024-05-26T23:21:53.356Z"
   },
   {
    "duration": 26,
    "start_time": "2024-05-26T23:21:54.516Z"
   },
   {
    "duration": 145,
    "start_time": "2024-05-26T23:22:04.027Z"
   },
   {
    "duration": 9,
    "start_time": "2024-05-26T23:22:25.719Z"
   },
   {
    "duration": 10,
    "start_time": "2024-05-26T23:22:26.640Z"
   },
   {
    "duration": 9,
    "start_time": "2024-05-26T23:22:27.498Z"
   },
   {
    "duration": 4,
    "start_time": "2024-05-26T23:22:28.356Z"
   },
   {
    "duration": 14,
    "start_time": "2024-05-26T23:22:28.901Z"
   },
   {
    "duration": 17,
    "start_time": "2024-05-26T23:22:29.677Z"
   },
   {
    "duration": 15,
    "start_time": "2024-05-26T23:22:30.293Z"
   },
   {
    "duration": 4,
    "start_time": "2024-05-26T23:22:33.568Z"
   },
   {
    "duration": 6,
    "start_time": "2024-05-26T23:22:34.126Z"
   },
   {
    "duration": 8,
    "start_time": "2024-05-26T23:22:34.898Z"
   },
   {
    "duration": 5,
    "start_time": "2024-05-26T23:22:35.476Z"
   },
   {
    "duration": 4,
    "start_time": "2024-05-26T23:22:36.298Z"
   },
   {
    "duration": 11,
    "start_time": "2024-05-26T23:22:38.705Z"
   },
   {
    "duration": 6,
    "start_time": "2024-05-26T23:22:39.558Z"
   },
   {
    "duration": 6,
    "start_time": "2024-05-26T23:22:40.330Z"
   },
   {
    "duration": 48,
    "start_time": "2024-05-26T23:22:41.519Z"
   },
   {
    "duration": 47,
    "start_time": "2024-05-26T23:22:49.597Z"
   },
   {
    "duration": 960,
    "start_time": "2024-05-26T23:24:41.513Z"
   },
   {
    "duration": 10785,
    "start_time": "2024-05-26T23:24:42.530Z"
   },
   {
    "duration": 54,
    "start_time": "2024-05-26T23:25:18.108Z"
   },
   {
    "duration": 250,
    "start_time": "2024-05-26T23:25:19.710Z"
   },
   {
    "duration": 50,
    "start_time": "2024-05-26T23:48:26.003Z"
   },
   {
    "duration": 53,
    "start_time": "2024-05-26T23:49:52.886Z"
   },
   {
    "duration": 249,
    "start_time": "2024-05-26T23:49:54.515Z"
   },
   {
    "duration": 53,
    "start_time": "2024-05-26T23:53:47.425Z"
   },
   {
    "duration": 48,
    "start_time": "2024-05-26T23:54:04.686Z"
   },
   {
    "duration": 50,
    "start_time": "2024-05-26T23:54:33.071Z"
   },
   {
    "duration": 9,
    "start_time": "2024-05-26T23:54:46.038Z"
   },
   {
    "duration": 14,
    "start_time": "2024-05-26T23:55:41.932Z"
   },
   {
    "duration": 48,
    "start_time": "2024-05-27T00:11:52.065Z"
   },
   {
    "duration": 13,
    "start_time": "2024-05-27T00:15:52.451Z"
   },
   {
    "duration": 21,
    "start_time": "2024-05-27T00:17:19.309Z"
   },
   {
    "duration": 11,
    "start_time": "2024-05-27T00:18:19.767Z"
   },
   {
    "duration": 66,
    "start_time": "2024-05-27T00:19:06.945Z"
   },
   {
    "duration": 13,
    "start_time": "2024-05-27T00:19:24.821Z"
   },
   {
    "duration": 70,
    "start_time": "2024-05-27T00:19:29.643Z"
   },
   {
    "duration": 60,
    "start_time": "2024-05-27T00:20:12.919Z"
   },
   {
    "duration": 21,
    "start_time": "2024-05-27T00:20:39.695Z"
   },
   {
    "duration": 9,
    "start_time": "2024-05-27T00:21:15.120Z"
   },
   {
    "duration": 21,
    "start_time": "2024-05-27T00:21:42.646Z"
   },
   {
    "duration": 74,
    "start_time": "2024-05-27T00:22:35.595Z"
   },
   {
    "duration": 68,
    "start_time": "2024-05-27T00:23:06.193Z"
   },
   {
    "duration": 82,
    "start_time": "2024-05-27T00:23:20.487Z"
   },
   {
    "duration": 86,
    "start_time": "2024-05-27T00:27:59.223Z"
   },
   {
    "duration": 65,
    "start_time": "2024-05-27T00:29:03.902Z"
   },
   {
    "duration": 55,
    "start_time": "2024-05-27T00:29:17.564Z"
   },
   {
    "duration": 55,
    "start_time": "2024-05-27T00:31:40.404Z"
   },
   {
    "duration": 56,
    "start_time": "2024-05-27T00:31:42.201Z"
   },
   {
    "duration": 57,
    "start_time": "2024-05-27T00:32:56.725Z"
   },
   {
    "duration": 53,
    "start_time": "2024-05-27T00:33:00.241Z"
   },
   {
    "duration": 33,
    "start_time": "2024-05-27T00:34:08.639Z"
   },
   {
    "duration": 28,
    "start_time": "2024-05-27T00:34:23.115Z"
   },
   {
    "duration": 41,
    "start_time": "2024-05-27T00:34:37.141Z"
   },
   {
    "duration": 69,
    "start_time": "2024-05-27T00:35:17.495Z"
   },
   {
    "duration": 59,
    "start_time": "2024-05-27T00:35:46.189Z"
   },
   {
    "duration": 61,
    "start_time": "2024-05-27T00:35:47.994Z"
   },
   {
    "duration": 44,
    "start_time": "2024-05-27T00:36:35.823Z"
   },
   {
    "duration": 21,
    "start_time": "2024-05-27T00:37:09.542Z"
   },
   {
    "duration": 55,
    "start_time": "2024-05-27T00:37:38.813Z"
   },
   {
    "duration": 54,
    "start_time": "2024-05-27T00:37:58.198Z"
   },
   {
    "duration": 56,
    "start_time": "2024-05-27T00:38:10.981Z"
   },
   {
    "duration": 66,
    "start_time": "2024-05-27T00:38:26.361Z"
   },
   {
    "duration": 64,
    "start_time": "2024-05-27T00:38:54.468Z"
   },
   {
    "duration": 55,
    "start_time": "2024-05-27T00:39:05.913Z"
   },
   {
    "duration": 56,
    "start_time": "2024-05-27T00:39:07.795Z"
   },
   {
    "duration": 31,
    "start_time": "2024-05-27T00:39:56.368Z"
   },
   {
    "duration": 90,
    "start_time": "2024-05-27T00:40:40.921Z"
   },
   {
    "duration": 92,
    "start_time": "2024-05-27T00:40:47.861Z"
   },
   {
    "duration": 83,
    "start_time": "2024-05-27T00:41:09.085Z"
   },
   {
    "duration": 472,
    "start_time": "2024-05-27T00:41:52.497Z"
   },
   {
    "duration": 105,
    "start_time": "2024-05-27T00:42:00.951Z"
   },
   {
    "duration": 90,
    "start_time": "2024-05-27T00:43:13.740Z"
   },
   {
    "duration": 83,
    "start_time": "2024-05-27T00:43:34.819Z"
   },
   {
    "duration": 86,
    "start_time": "2024-05-27T00:44:01.834Z"
   },
   {
    "duration": 90,
    "start_time": "2024-05-27T00:44:16.603Z"
   },
   {
    "duration": 108,
    "start_time": "2024-05-27T00:44:20.805Z"
   },
   {
    "duration": 107,
    "start_time": "2024-05-27T00:46:05.361Z"
   },
   {
    "duration": 104,
    "start_time": "2024-05-27T00:46:17.567Z"
   },
   {
    "duration": 97,
    "start_time": "2024-05-27T00:46:32.244Z"
   },
   {
    "duration": 87,
    "start_time": "2024-05-27T00:46:52.837Z"
   },
   {
    "duration": 108,
    "start_time": "2024-05-27T00:47:03.466Z"
   },
   {
    "duration": 101,
    "start_time": "2024-05-27T00:47:36.950Z"
   },
   {
    "duration": 86,
    "start_time": "2024-05-27T00:47:46.501Z"
   },
   {
    "duration": 58,
    "start_time": "2024-05-27T00:48:54.498Z"
   },
   {
    "duration": 59,
    "start_time": "2024-05-27T00:49:40.818Z"
   },
   {
    "duration": 135,
    "start_time": "2024-05-27T00:49:55.235Z"
   },
   {
    "duration": 116,
    "start_time": "2024-05-27T00:50:25.713Z"
   },
   {
    "duration": 107,
    "start_time": "2024-05-27T00:50:30.814Z"
   },
   {
    "duration": 120,
    "start_time": "2024-05-27T00:50:33.847Z"
   },
   {
    "duration": 112,
    "start_time": "2024-05-27T00:50:49.213Z"
   },
   {
    "duration": 175,
    "start_time": "2024-05-27T00:50:54.701Z"
   },
   {
    "duration": 67,
    "start_time": "2024-05-27T00:50:59.356Z"
   },
   {
    "duration": 52,
    "start_time": "2024-05-27T00:51:04.510Z"
   },
   {
    "duration": 53,
    "start_time": "2024-05-27T00:52:59.567Z"
   },
   {
    "duration": 64,
    "start_time": "2024-05-27T00:53:04.314Z"
   },
   {
    "duration": 64,
    "start_time": "2024-05-27T00:53:34.359Z"
   },
   {
    "duration": 65,
    "start_time": "2024-05-27T00:53:55.157Z"
   },
   {
    "duration": 447,
    "start_time": "2024-05-27T00:54:33.341Z"
   },
   {
    "duration": 103,
    "start_time": "2024-05-27T00:54:49.836Z"
   },
   {
    "duration": 33,
    "start_time": "2024-05-27T00:55:01.024Z"
   },
   {
    "duration": 90,
    "start_time": "2024-05-27T00:55:07.672Z"
   },
   {
    "duration": 111,
    "start_time": "2024-05-27T00:55:40.266Z"
   },
   {
    "duration": 57,
    "start_time": "2024-05-27T00:55:48.295Z"
   },
   {
    "duration": 64,
    "start_time": "2024-05-27T00:55:58.491Z"
   },
   {
    "duration": 72,
    "start_time": "2024-05-27T00:57:44.171Z"
   },
   {
    "duration": 20,
    "start_time": "2024-05-27T00:57:50.703Z"
   },
   {
    "duration": 65,
    "start_time": "2024-05-27T00:57:57.001Z"
   },
   {
    "duration": 90,
    "start_time": "2024-05-27T00:59:50.938Z"
   },
   {
    "duration": 484,
    "start_time": "2024-05-27T01:00:27.076Z"
   },
   {
    "duration": 113,
    "start_time": "2024-05-27T01:00:43.122Z"
   },
   {
    "duration": 229,
    "start_time": "2024-05-27T01:00:46.543Z"
   },
   {
    "duration": 65,
    "start_time": "2024-05-27T02:26:45.572Z"
   },
   {
    "duration": 85,
    "start_time": "2024-05-27T02:27:55.442Z"
   },
   {
    "duration": 75,
    "start_time": "2024-05-27T02:28:10.617Z"
   },
   {
    "duration": 185,
    "start_time": "2024-05-27T02:28:44.971Z"
   },
   {
    "duration": 257,
    "start_time": "2024-05-27T02:28:48.428Z"
   },
   {
    "duration": 85,
    "start_time": "2024-05-27T02:28:57.599Z"
   },
   {
    "duration": 74,
    "start_time": "2024-05-27T02:29:37.129Z"
   },
   {
    "duration": 73,
    "start_time": "2024-05-27T02:29:47.595Z"
   },
   {
    "duration": 131,
    "start_time": "2024-05-27T02:30:00.414Z"
   },
   {
    "duration": 285,
    "start_time": "2024-05-27T02:30:02.929Z"
   },
   {
    "duration": 266,
    "start_time": "2024-05-27T02:30:27.454Z"
   },
   {
    "duration": 182,
    "start_time": "2024-05-27T02:30:38.110Z"
   },
   {
    "duration": 8,
    "start_time": "2024-05-27T02:31:15.640Z"
   },
   {
    "duration": 176,
    "start_time": "2024-05-27T02:32:09.732Z"
   },
   {
    "duration": 60,
    "start_time": "2024-05-27T02:32:23.526Z"
   },
   {
    "duration": 64,
    "start_time": "2024-05-27T02:33:00.513Z"
   },
   {
    "duration": 289,
    "start_time": "2024-05-27T02:34:18.331Z"
   },
   {
    "duration": 291,
    "start_time": "2024-05-27T02:34:39.168Z"
   },
   {
    "duration": 75,
    "start_time": "2024-05-27T02:34:56.722Z"
   },
   {
    "duration": 73,
    "start_time": "2024-05-27T02:35:04.791Z"
   },
   {
    "duration": 65,
    "start_time": "2024-05-27T02:35:12.293Z"
   },
   {
    "duration": 129,
    "start_time": "2024-05-27T02:35:55.290Z"
   },
   {
    "duration": 83,
    "start_time": "2024-05-27T02:36:13.976Z"
   },
   {
    "duration": 112,
    "start_time": "2024-05-27T02:36:19.031Z"
   },
   {
    "duration": 156,
    "start_time": "2024-05-27T02:36:24.527Z"
   },
   {
    "duration": 228,
    "start_time": "2024-05-27T02:36:40.092Z"
   },
   {
    "duration": 288,
    "start_time": "2024-05-27T02:36:44.028Z"
   },
   {
    "duration": 160,
    "start_time": "2024-05-27T02:36:53.045Z"
   },
   {
    "duration": 159,
    "start_time": "2024-05-27T02:37:08.441Z"
   },
   {
    "duration": 262,
    "start_time": "2024-05-27T02:37:15.653Z"
   },
   {
    "duration": 62,
    "start_time": "2024-05-27T02:37:49.132Z"
   },
   {
    "duration": 57,
    "start_time": "2024-05-27T02:38:11.036Z"
   },
   {
    "duration": 12,
    "start_time": "2024-05-27T02:38:40.293Z"
   },
   {
    "duration": 69,
    "start_time": "2024-05-27T02:39:02.271Z"
   },
   {
    "duration": 78,
    "start_time": "2024-05-27T02:39:53.643Z"
   },
   {
    "duration": 273,
    "start_time": "2024-05-27T02:40:37.321Z"
   },
   {
    "duration": 278,
    "start_time": "2024-05-27T02:40:45.906Z"
   },
   {
    "duration": 211,
    "start_time": "2024-05-27T02:40:54.604Z"
   },
   {
    "duration": 73,
    "start_time": "2024-05-27T02:41:22.246Z"
   },
   {
    "duration": 129,
    "start_time": "2024-05-27T02:41:43.399Z"
   },
   {
    "duration": 143,
    "start_time": "2024-05-27T02:41:49.550Z"
   },
   {
    "duration": 300,
    "start_time": "2024-05-27T02:41:53.259Z"
   },
   {
    "duration": 298,
    "start_time": "2024-05-27T02:42:25.614Z"
   },
   {
    "duration": 154,
    "start_time": "2024-05-27T02:42:33.402Z"
   },
   {
    "duration": 286,
    "start_time": "2024-05-27T02:42:47.212Z"
   },
   {
    "duration": 260,
    "start_time": "2024-05-27T02:42:50.149Z"
   },
   {
    "duration": 73,
    "start_time": "2024-05-27T02:42:54.998Z"
   },
   {
    "duration": 77,
    "start_time": "2024-05-27T02:43:08.429Z"
   },
   {
    "duration": 277,
    "start_time": "2024-05-27T02:43:33.107Z"
   },
   {
    "duration": 293,
    "start_time": "2024-05-27T02:43:43.163Z"
   },
   {
    "duration": 291,
    "start_time": "2024-05-27T02:43:57.910Z"
   },
   {
    "duration": 241,
    "start_time": "2024-05-27T02:44:08.046Z"
   },
   {
    "duration": 129,
    "start_time": "2024-05-27T02:44:21.461Z"
   },
   {
    "duration": 129,
    "start_time": "2024-05-27T02:44:24.831Z"
   },
   {
    "duration": 124,
    "start_time": "2024-05-27T02:44:30.827Z"
   },
   {
    "duration": 157,
    "start_time": "2024-05-27T02:44:49.831Z"
   },
   {
    "duration": 241,
    "start_time": "2024-05-27T02:45:23.263Z"
   },
   {
    "duration": 74,
    "start_time": "2024-05-27T02:45:28.103Z"
   },
   {
    "duration": 81,
    "start_time": "2024-05-27T02:45:35.038Z"
   },
   {
    "duration": 215,
    "start_time": "2024-05-27T02:46:00.923Z"
   },
   {
    "duration": 65,
    "start_time": "2024-05-27T02:46:58.519Z"
   },
   {
    "duration": 279,
    "start_time": "2024-05-27T02:47:12.031Z"
   },
   {
    "duration": 298,
    "start_time": "2024-05-27T02:47:58.185Z"
   },
   {
    "duration": 260,
    "start_time": "2024-05-27T02:48:12.757Z"
   },
   {
    "duration": 65,
    "start_time": "2024-05-27T02:48:30.586Z"
   },
   {
    "duration": 57,
    "start_time": "2024-05-27T02:48:48.946Z"
   },
   {
    "duration": 57,
    "start_time": "2024-05-27T02:48:53.974Z"
   },
   {
    "duration": 92,
    "start_time": "2024-05-27T02:49:26.143Z"
   },
   {
    "duration": 70,
    "start_time": "2024-05-27T02:49:39.100Z"
   },
   {
    "duration": 262,
    "start_time": "2024-05-27T02:49:53.750Z"
   },
   {
    "duration": 56,
    "start_time": "2024-05-27T02:53:06.795Z"
   },
   {
    "duration": 81,
    "start_time": "2024-05-27T02:54:03.427Z"
   },
   {
    "duration": 82,
    "start_time": "2024-05-27T02:54:10.708Z"
   },
   {
    "duration": 65,
    "start_time": "2024-05-27T02:54:30.054Z"
   },
   {
    "duration": 167,
    "start_time": "2024-05-27T02:55:06.897Z"
   },
   {
    "duration": 141,
    "start_time": "2024-05-27T02:55:19.887Z"
   },
   {
    "duration": 184,
    "start_time": "2024-05-27T02:55:31.850Z"
   },
   {
    "duration": 93,
    "start_time": "2024-05-27T03:01:38.445Z"
   },
   {
    "duration": 86,
    "start_time": "2024-05-27T03:01:50.962Z"
   },
   {
    "duration": 85,
    "start_time": "2024-05-27T03:01:57.532Z"
   },
   {
    "duration": 46,
    "start_time": "2024-05-27T03:03:57.906Z"
   },
   {
    "duration": 137,
    "start_time": "2024-05-27T03:05:23.217Z"
   },
   {
    "duration": 141,
    "start_time": "2024-05-27T03:05:36.607Z"
   },
   {
    "duration": 78,
    "start_time": "2024-05-27T03:06:12.465Z"
   },
   {
    "duration": 83,
    "start_time": "2024-05-27T03:08:31.684Z"
   },
   {
    "duration": 96,
    "start_time": "2024-05-27T03:08:40.285Z"
   },
   {
    "duration": 84,
    "start_time": "2024-05-27T03:08:54.483Z"
   },
   {
    "duration": 80,
    "start_time": "2024-05-27T03:09:14.986Z"
   },
   {
    "duration": 58,
    "start_time": "2024-05-27T03:09:57.020Z"
   },
   {
    "duration": 68,
    "start_time": "2024-05-27T03:10:13.088Z"
   },
   {
    "duration": 86,
    "start_time": "2024-05-27T03:10:49.541Z"
   },
   {
    "duration": 66,
    "start_time": "2024-05-27T03:11:01.996Z"
   },
   {
    "duration": 81,
    "start_time": "2024-05-27T03:11:14.438Z"
   },
   {
    "duration": 70,
    "start_time": "2024-05-27T03:11:29.101Z"
   },
   {
    "duration": 128,
    "start_time": "2024-05-27T03:11:33.120Z"
   },
   {
    "duration": 91,
    "start_time": "2024-05-27T03:12:31.306Z"
   },
   {
    "duration": 5631,
    "start_time": "2024-05-27T19:37:26.009Z"
   },
   {
    "duration": 40,
    "start_time": "2024-05-27T19:37:31.644Z"
   },
   {
    "duration": 19,
    "start_time": "2024-05-27T19:37:31.688Z"
   },
   {
    "duration": 7,
    "start_time": "2024-05-27T19:37:31.710Z"
   },
   {
    "duration": 21,
    "start_time": "2024-05-27T19:37:31.723Z"
   },
   {
    "duration": 12,
    "start_time": "2024-05-27T19:37:31.747Z"
   },
   {
    "duration": 48,
    "start_time": "2024-05-27T19:37:31.761Z"
   },
   {
    "duration": 15,
    "start_time": "2024-05-27T19:37:31.813Z"
   },
   {
    "duration": 21,
    "start_time": "2024-05-27T19:37:31.831Z"
   },
   {
    "duration": 13,
    "start_time": "2024-05-27T19:37:31.856Z"
   },
   {
    "duration": 42,
    "start_time": "2024-05-27T19:37:31.873Z"
   },
   {
    "duration": 10,
    "start_time": "2024-05-27T19:37:31.918Z"
   },
   {
    "duration": 13,
    "start_time": "2024-05-27T19:37:31.932Z"
   },
   {
    "duration": 55,
    "start_time": "2024-05-27T19:37:31.953Z"
   },
   {
    "duration": 22,
    "start_time": "2024-05-27T19:37:32.011Z"
   },
   {
    "duration": 3,
    "start_time": "2024-05-27T19:37:32.036Z"
   },
   {
    "duration": 7,
    "start_time": "2024-05-27T19:37:32.043Z"
   },
   {
    "duration": 7,
    "start_time": "2024-05-27T19:37:32.052Z"
   },
   {
    "duration": 549,
    "start_time": "2024-05-27T19:37:32.062Z"
   },
   {
    "duration": 0,
    "start_time": "2024-05-27T19:37:32.614Z"
   },
   {
    "duration": 0,
    "start_time": "2024-05-27T19:37:32.619Z"
   },
   {
    "duration": 0,
    "start_time": "2024-05-27T19:37:32.621Z"
   },
   {
    "duration": 0,
    "start_time": "2024-05-27T19:37:32.624Z"
   },
   {
    "duration": 0,
    "start_time": "2024-05-27T19:37:32.626Z"
   },
   {
    "duration": 0,
    "start_time": "2024-05-27T19:37:32.628Z"
   },
   {
    "duration": 0,
    "start_time": "2024-05-27T19:37:32.630Z"
   },
   {
    "duration": 0,
    "start_time": "2024-05-27T19:37:32.632Z"
   },
   {
    "duration": 0,
    "start_time": "2024-05-27T19:37:32.634Z"
   },
   {
    "duration": 0,
    "start_time": "2024-05-27T19:37:32.636Z"
   },
   {
    "duration": 1,
    "start_time": "2024-05-27T19:37:32.638Z"
   },
   {
    "duration": 0,
    "start_time": "2024-05-27T19:37:32.641Z"
   },
   {
    "duration": 0,
    "start_time": "2024-05-27T19:37:32.643Z"
   },
   {
    "duration": 0,
    "start_time": "2024-05-27T19:37:32.645Z"
   },
   {
    "duration": 0,
    "start_time": "2024-05-27T19:37:32.648Z"
   },
   {
    "duration": 0,
    "start_time": "2024-05-27T19:37:32.651Z"
   },
   {
    "duration": 0,
    "start_time": "2024-05-27T19:37:32.706Z"
   },
   {
    "duration": 0,
    "start_time": "2024-05-27T19:37:32.709Z"
   },
   {
    "duration": 0,
    "start_time": "2024-05-27T19:37:32.712Z"
   },
   {
    "duration": 0,
    "start_time": "2024-05-27T19:37:32.715Z"
   },
   {
    "duration": 0,
    "start_time": "2024-05-27T19:37:32.718Z"
   },
   {
    "duration": 7,
    "start_time": "2024-05-27T19:42:44.609Z"
   },
   {
    "duration": 24,
    "start_time": "2024-05-27T19:42:44.904Z"
   },
   {
    "duration": 20,
    "start_time": "2024-05-27T19:42:44.932Z"
   },
   {
    "duration": 6,
    "start_time": "2024-05-27T19:42:44.956Z"
   },
   {
    "duration": 19,
    "start_time": "2024-05-27T19:42:45.020Z"
   },
   {
    "duration": 9,
    "start_time": "2024-05-27T19:42:45.043Z"
   },
   {
    "duration": 9,
    "start_time": "2024-05-27T19:42:45.055Z"
   },
   {
    "duration": 45,
    "start_time": "2024-05-27T19:42:45.067Z"
   },
   {
    "duration": 8,
    "start_time": "2024-05-27T19:42:45.117Z"
   },
   {
    "duration": 14,
    "start_time": "2024-05-27T19:42:45.128Z"
   },
   {
    "duration": 9,
    "start_time": "2024-05-27T19:42:45.144Z"
   },
   {
    "duration": 50,
    "start_time": "2024-05-27T19:42:45.157Z"
   },
   {
    "duration": 14,
    "start_time": "2024-05-27T19:42:45.210Z"
   },
   {
    "duration": 18,
    "start_time": "2024-05-27T19:42:45.227Z"
   },
   {
    "duration": 58,
    "start_time": "2024-05-27T19:42:45.248Z"
   },
   {
    "duration": 4,
    "start_time": "2024-05-27T19:42:45.310Z"
   },
   {
    "duration": 6,
    "start_time": "2024-05-27T19:42:45.318Z"
   },
   {
    "duration": 7,
    "start_time": "2024-05-27T19:42:45.333Z"
   },
   {
    "duration": 5,
    "start_time": "2024-05-27T19:42:45.344Z"
   },
   {
    "duration": 55,
    "start_time": "2024-05-27T19:42:45.353Z"
   },
   {
    "duration": 9,
    "start_time": "2024-05-27T19:42:45.414Z"
   },
   {
    "duration": 9,
    "start_time": "2024-05-27T19:42:45.425Z"
   },
   {
    "duration": 94,
    "start_time": "2024-05-27T19:42:45.436Z"
   },
   {
    "duration": 78,
    "start_time": "2024-05-27T19:42:45.533Z"
   },
   {
    "duration": 121,
    "start_time": "2024-05-27T19:42:45.614Z"
   },
   {
    "duration": 301,
    "start_time": "2024-05-27T19:42:45.738Z"
   },
   {
    "duration": 33,
    "start_time": "2024-05-27T19:42:46.045Z"
   },
   {
    "duration": 0,
    "start_time": "2024-05-27T19:42:46.081Z"
   },
   {
    "duration": 0,
    "start_time": "2024-05-27T19:42:46.083Z"
   },
   {
    "duration": 0,
    "start_time": "2024-05-27T19:42:46.108Z"
   },
   {
    "duration": 0,
    "start_time": "2024-05-27T19:42:46.110Z"
   },
   {
    "duration": 0,
    "start_time": "2024-05-27T19:42:46.112Z"
   },
   {
    "duration": 0,
    "start_time": "2024-05-27T19:42:46.114Z"
   },
   {
    "duration": 0,
    "start_time": "2024-05-27T19:42:46.117Z"
   },
   {
    "duration": 0,
    "start_time": "2024-05-27T19:42:46.123Z"
   },
   {
    "duration": 0,
    "start_time": "2024-05-27T19:42:46.125Z"
   },
   {
    "duration": 1,
    "start_time": "2024-05-27T19:42:46.126Z"
   },
   {
    "duration": 0,
    "start_time": "2024-05-27T19:42:46.128Z"
   },
   {
    "duration": 0,
    "start_time": "2024-05-27T19:42:46.133Z"
   },
   {
    "duration": 367,
    "start_time": "2024-05-27T23:33:38.646Z"
   },
   {
    "duration": 22,
    "start_time": "2024-05-27T23:34:43.844Z"
   },
   {
    "duration": 23,
    "start_time": "2024-05-27T23:35:04.610Z"
   },
   {
    "duration": 5177,
    "start_time": "2024-05-27T23:35:16.455Z"
   },
   {
    "duration": 41,
    "start_time": "2024-05-27T23:35:21.635Z"
   },
   {
    "duration": 18,
    "start_time": "2024-05-27T23:35:21.679Z"
   },
   {
    "duration": 7,
    "start_time": "2024-05-27T23:35:24.882Z"
   },
   {
    "duration": 21,
    "start_time": "2024-05-27T23:35:25.730Z"
   },
   {
    "duration": 8,
    "start_time": "2024-05-27T23:35:27.219Z"
   },
   {
    "duration": 9,
    "start_time": "2024-05-27T23:35:27.960Z"
   },
   {
    "duration": 11,
    "start_time": "2024-05-27T23:35:28.657Z"
   },
   {
    "duration": 8,
    "start_time": "2024-05-27T23:35:31.107Z"
   },
   {
    "duration": 11,
    "start_time": "2024-05-27T23:35:31.918Z"
   },
   {
    "duration": 9,
    "start_time": "2024-05-27T23:35:32.450Z"
   },
   {
    "duration": 4,
    "start_time": "2024-05-27T23:35:33.125Z"
   },
   {
    "duration": 10,
    "start_time": "2024-05-27T23:35:33.627Z"
   },
   {
    "duration": 16,
    "start_time": "2024-05-27T23:35:34.061Z"
   },
   {
    "duration": 17,
    "start_time": "2024-05-27T23:35:34.623Z"
   },
   {
    "duration": 3,
    "start_time": "2024-05-27T23:35:37.461Z"
   },
   {
    "duration": 6,
    "start_time": "2024-05-27T23:35:37.933Z"
   },
   {
    "duration": 6,
    "start_time": "2024-05-27T23:35:38.524Z"
   },
   {
    "duration": 5,
    "start_time": "2024-05-27T23:35:39.155Z"
   },
   {
    "duration": 12,
    "start_time": "2024-05-27T23:35:41.818Z"
   },
   {
    "duration": 5,
    "start_time": "2024-05-27T23:35:42.847Z"
   },
   {
    "duration": 6,
    "start_time": "2024-05-27T23:35:43.629Z"
   },
   {
    "duration": 55,
    "start_time": "2024-05-27T23:35:46.033Z"
   },
   {
    "duration": 16,
    "start_time": "2024-05-27T23:35:46.832Z"
   },
   {
    "duration": 43,
    "start_time": "2024-05-27T23:35:48.801Z"
   },
   {
    "duration": 277,
    "start_time": "2024-05-27T23:35:49.861Z"
   },
   {
    "duration": 342,
    "start_time": "2024-05-27T23:35:54.075Z"
   },
   {
    "duration": 106,
    "start_time": "2024-05-27T23:35:57.043Z"
   },
   {
    "duration": 7,
    "start_time": "2024-05-27T23:37:33.921Z"
   },
   {
    "duration": 6,
    "start_time": "2024-05-27T23:37:43.029Z"
   },
   {
    "duration": 51,
    "start_time": "2024-05-27T23:38:39.092Z"
   },
   {
    "duration": 10,
    "start_time": "2024-05-27T23:39:12.983Z"
   },
   {
    "duration": 11,
    "start_time": "2024-05-27T23:39:16.256Z"
   },
   {
    "duration": 16,
    "start_time": "2024-05-27T23:39:17.711Z"
   },
   {
    "duration": 8,
    "start_time": "2024-05-27T23:40:29.433Z"
   },
   {
    "duration": 11,
    "start_time": "2024-05-27T23:40:42.962Z"
   },
   {
    "duration": 26,
    "start_time": "2024-05-27T23:40:47.317Z"
   },
   {
    "duration": 76,
    "start_time": "2024-05-27T23:40:48.224Z"
   },
   {
    "duration": 25,
    "start_time": "2024-05-27T23:41:07.388Z"
   },
   {
    "duration": 56,
    "start_time": "2024-05-27T23:41:08.340Z"
   },
   {
    "duration": 59,
    "start_time": "2024-05-27T23:41:13.571Z"
   },
   {
    "duration": 47,
    "start_time": "2024-05-27T23:41:18.676Z"
   },
   {
    "duration": 47,
    "start_time": "2024-05-27T23:41:21.770Z"
   },
   {
    "duration": 49,
    "start_time": "2024-05-27T23:41:22.839Z"
   },
   {
    "duration": 13,
    "start_time": "2024-05-27T23:41:25.701Z"
   },
   {
    "duration": 8,
    "start_time": "2024-05-27T23:41:28.643Z"
   },
   {
    "duration": 9,
    "start_time": "2024-05-27T23:41:29.761Z"
   },
   {
    "duration": 27,
    "start_time": "2024-05-27T23:41:35.776Z"
   },
   {
    "duration": 28,
    "start_time": "2024-05-27T23:41:38.690Z"
   },
   {
    "duration": 49,
    "start_time": "2024-05-27T23:41:43.577Z"
   },
   {
    "duration": 45,
    "start_time": "2024-05-27T23:41:52.163Z"
   },
   {
    "duration": 58,
    "start_time": "2024-05-27T23:41:56.304Z"
   },
   {
    "duration": 64,
    "start_time": "2024-05-27T23:42:25.240Z"
   },
   {
    "duration": 64,
    "start_time": "2024-05-27T23:42:39.102Z"
   },
   {
    "duration": 83,
    "start_time": "2024-05-27T23:42:46.604Z"
   },
   {
    "duration": 65,
    "start_time": "2024-05-27T23:43:00.898Z"
   },
   {
    "duration": 5,
    "start_time": "2024-05-27T23:43:14.581Z"
   },
   {
    "duration": 9,
    "start_time": "2024-05-27T23:43:17.969Z"
   },
   {
    "duration": 20,
    "start_time": "2024-05-27T23:43:19.905Z"
   },
   {
    "duration": 68,
    "start_time": "2024-05-27T23:43:20.476Z"
   },
   {
    "duration": 20,
    "start_time": "2024-05-27T23:43:22.418Z"
   },
   {
    "duration": 56,
    "start_time": "2024-05-27T23:43:23.366Z"
   },
   {
    "duration": 48,
    "start_time": "2024-05-27T23:43:25.016Z"
   },
   {
    "duration": 45,
    "start_time": "2024-05-27T23:43:26.588Z"
   },
   {
    "duration": 51,
    "start_time": "2024-05-27T23:43:27.156Z"
   },
   {
    "duration": 15,
    "start_time": "2024-05-27T23:43:28.543Z"
   },
   {
    "duration": 9,
    "start_time": "2024-05-27T23:43:30.674Z"
   },
   {
    "duration": 9,
    "start_time": "2024-05-27T23:43:31.293Z"
   },
   {
    "duration": 27,
    "start_time": "2024-05-27T23:43:31.834Z"
   },
   {
    "duration": 28,
    "start_time": "2024-05-27T23:43:32.734Z"
   },
   {
    "duration": 47,
    "start_time": "2024-05-27T23:43:41.509Z"
   },
   {
    "duration": 6,
    "start_time": "2024-05-27T23:43:48.583Z"
   },
   {
    "duration": 24,
    "start_time": "2024-05-27T23:43:50.107Z"
   },
   {
    "duration": 17,
    "start_time": "2024-05-27T23:43:52.005Z"
   },
   {
    "duration": 6,
    "start_time": "2024-05-27T23:43:53.913Z"
   },
   {
    "duration": 18,
    "start_time": "2024-05-27T23:43:54.702Z"
   },
   {
    "duration": 8,
    "start_time": "2024-05-27T23:43:55.835Z"
   },
   {
    "duration": 8,
    "start_time": "2024-05-27T23:43:56.638Z"
   },
   {
    "duration": 10,
    "start_time": "2024-05-27T23:43:57.101Z"
   },
   {
    "duration": 7,
    "start_time": "2024-05-27T23:43:59.180Z"
   },
   {
    "duration": 12,
    "start_time": "2024-05-27T23:43:59.658Z"
   },
   {
    "duration": 9,
    "start_time": "2024-05-27T23:44:00.451Z"
   },
   {
    "duration": 4,
    "start_time": "2024-05-27T23:44:01.057Z"
   },
   {
    "duration": 11,
    "start_time": "2024-05-27T23:44:01.510Z"
   },
   {
    "duration": 15,
    "start_time": "2024-05-27T23:44:02.215Z"
   },
   {
    "duration": 18,
    "start_time": "2024-05-27T23:44:02.713Z"
   },
   {
    "duration": 4,
    "start_time": "2024-05-27T23:44:06.509Z"
   },
   {
    "duration": 7,
    "start_time": "2024-05-27T23:44:08.292Z"
   },
   {
    "duration": 9,
    "start_time": "2024-05-27T23:44:09.702Z"
   },
   {
    "duration": 7,
    "start_time": "2024-05-27T23:44:10.531Z"
   },
   {
    "duration": 12,
    "start_time": "2024-05-27T23:44:17.224Z"
   },
   {
    "duration": 11,
    "start_time": "2024-05-27T23:44:18.721Z"
   },
   {
    "duration": 8,
    "start_time": "2024-05-27T23:44:19.577Z"
   },
   {
    "duration": 52,
    "start_time": "2024-05-27T23:44:22.556Z"
   },
   {
    "duration": 15,
    "start_time": "2024-05-27T23:44:24.007Z"
   },
   {
    "duration": 42,
    "start_time": "2024-05-27T23:44:26.137Z"
   },
   {
    "duration": 239,
    "start_time": "2024-05-27T23:44:27.318Z"
   },
   {
    "duration": 7,
    "start_time": "2024-05-27T23:44:32.428Z"
   },
   {
    "duration": 10,
    "start_time": "2024-05-27T23:44:33.977Z"
   },
   {
    "duration": 20,
    "start_time": "2024-05-27T23:44:35.621Z"
   },
   {
    "duration": 72,
    "start_time": "2024-05-27T23:44:36.568Z"
   },
   {
    "duration": 20,
    "start_time": "2024-05-27T23:44:42.072Z"
   },
   {
    "duration": 58,
    "start_time": "2024-05-27T23:44:42.870Z"
   },
   {
    "duration": 56,
    "start_time": "2024-05-27T23:44:44.545Z"
   },
   {
    "duration": 1010,
    "start_time": "2024-05-27T23:44:50.942Z"
   },
   {
    "duration": 11766,
    "start_time": "2024-05-27T23:44:52.142Z"
   },
   {
    "duration": 9,
    "start_time": "2024-05-27T23:45:05.987Z"
   },
   {
    "duration": 9,
    "start_time": "2024-05-27T23:45:06.823Z"
   },
   {
    "duration": 30,
    "start_time": "2024-05-27T23:45:07.726Z"
   },
   {
    "duration": 27,
    "start_time": "2024-05-27T23:45:08.938Z"
   },
   {
    "duration": 4,
    "start_time": "2024-05-27T23:45:35.999Z"
   },
   {
    "duration": 12,
    "start_time": "2024-05-27T23:46:08.884Z"
   },
   {
    "duration": 10,
    "start_time": "2024-05-27T23:46:11.455Z"
   },
   {
    "duration": 1512,
    "start_time": "2024-05-28T19:27:37.844Z"
   },
   {
    "duration": 25,
    "start_time": "2024-05-28T19:27:39.360Z"
   },
   {
    "duration": 43,
    "start_time": "2024-05-28T19:27:39.388Z"
   },
   {
    "duration": 7,
    "start_time": "2024-05-28T19:27:39.435Z"
   },
   {
    "duration": 21,
    "start_time": "2024-05-28T19:27:39.446Z"
   },
   {
    "duration": 9,
    "start_time": "2024-05-28T19:27:39.470Z"
   },
   {
    "duration": 49,
    "start_time": "2024-05-28T19:27:39.483Z"
   },
   {
    "duration": 12,
    "start_time": "2024-05-28T19:27:39.534Z"
   },
   {
    "duration": 8,
    "start_time": "2024-05-28T19:27:39.549Z"
   },
   {
    "duration": 11,
    "start_time": "2024-05-28T19:27:39.562Z"
   },
   {
    "duration": 9,
    "start_time": "2024-05-28T19:27:39.576Z"
   },
   {
    "duration": 5,
    "start_time": "2024-05-28T19:27:39.632Z"
   },
   {
    "duration": 11,
    "start_time": "2024-05-28T19:27:39.640Z"
   },
   {
    "duration": 15,
    "start_time": "2024-05-28T19:27:39.654Z"
   },
   {
    "duration": 17,
    "start_time": "2024-05-28T19:27:39.672Z"
   },
   {
    "duration": 4,
    "start_time": "2024-05-28T19:27:39.732Z"
   },
   {
    "duration": 7,
    "start_time": "2024-05-28T19:27:39.739Z"
   },
   {
    "duration": 6,
    "start_time": "2024-05-28T19:27:39.749Z"
   },
   {
    "duration": 4,
    "start_time": "2024-05-28T19:27:39.758Z"
   },
   {
    "duration": 66,
    "start_time": "2024-05-28T19:27:39.765Z"
   },
   {
    "duration": 7,
    "start_time": "2024-05-28T19:27:39.834Z"
   },
   {
    "duration": 7,
    "start_time": "2024-05-28T19:27:39.844Z"
   },
   {
    "duration": 82,
    "start_time": "2024-05-28T19:27:39.854Z"
   },
   {
    "duration": 17,
    "start_time": "2024-05-28T19:27:39.939Z"
   },
   {
    "duration": 126,
    "start_time": "2024-05-28T19:27:40.032Z"
   },
   {
    "duration": 341,
    "start_time": "2024-05-28T19:27:40.161Z"
   },
   {
    "duration": 28,
    "start_time": "2024-05-28T19:27:40.505Z"
   },
   {
    "duration": 11,
    "start_time": "2024-05-28T19:27:40.540Z"
   },
   {
    "duration": 23,
    "start_time": "2024-05-28T19:27:40.553Z"
   },
   {
    "duration": 54,
    "start_time": "2024-05-28T19:27:40.579Z"
   },
   {
    "duration": 264,
    "start_time": "2024-05-28T19:27:40.636Z"
   },
   {
    "duration": 0,
    "start_time": "2024-05-28T19:27:40.904Z"
   },
   {
    "duration": 0,
    "start_time": "2024-05-28T19:27:40.906Z"
   },
   {
    "duration": 0,
    "start_time": "2024-05-28T19:27:40.908Z"
   },
   {
    "duration": 0,
    "start_time": "2024-05-28T19:27:40.910Z"
   },
   {
    "duration": 0,
    "start_time": "2024-05-28T19:27:40.911Z"
   },
   {
    "duration": 0,
    "start_time": "2024-05-28T19:27:40.913Z"
   },
   {
    "duration": 0,
    "start_time": "2024-05-28T19:27:40.931Z"
   },
   {
    "duration": 31,
    "start_time": "2024-05-28T19:38:25.776Z"
   },
   {
    "duration": 7,
    "start_time": "2024-05-28T19:38:39.690Z"
   },
   {
    "duration": 28,
    "start_time": "2024-05-28T19:38:46.049Z"
   },
   {
    "duration": 11,
    "start_time": "2024-05-28T19:38:50.516Z"
   },
   {
    "duration": 31,
    "start_time": "2024-05-28T19:39:56.240Z"
   },
   {
    "duration": 224,
    "start_time": "2024-05-28T19:40:07.175Z"
   },
   {
    "duration": 8,
    "start_time": "2024-05-28T19:40:11.842Z"
   },
   {
    "duration": 7,
    "start_time": "2024-05-28T19:40:27.133Z"
   },
   {
    "duration": 8,
    "start_time": "2024-05-28T19:40:39.941Z"
   },
   {
    "duration": 7,
    "start_time": "2024-05-28T19:40:50.945Z"
   },
   {
    "duration": 8,
    "start_time": "2024-05-28T19:41:09.503Z"
   },
   {
    "duration": 10,
    "start_time": "2024-05-28T19:41:36.087Z"
   },
   {
    "duration": 7,
    "start_time": "2024-05-28T19:41:51.955Z"
   },
   {
    "duration": 7,
    "start_time": "2024-05-28T19:41:57.921Z"
   },
   {
    "duration": 7,
    "start_time": "2024-05-28T19:42:06.256Z"
   },
   {
    "duration": 8,
    "start_time": "2024-05-28T19:42:47.857Z"
   },
   {
    "duration": 310,
    "start_time": "2024-05-29T16:46:04.874Z"
   },
   {
    "duration": 7,
    "start_time": "2024-05-29T16:46:31.882Z"
   },
   {
    "duration": 132,
    "start_time": "2024-05-29T16:46:34.209Z"
   },
   {
    "duration": 25,
    "start_time": "2024-05-29T16:46:59.963Z"
   },
   {
    "duration": 26,
    "start_time": "2024-05-29T16:47:07.219Z"
   },
   {
    "duration": 27,
    "start_time": "2024-05-29T16:47:14.333Z"
   },
   {
    "duration": 25,
    "start_time": "2024-05-29T16:47:23.739Z"
   },
   {
    "duration": 339,
    "start_time": "2024-05-29T20:02:14.153Z"
   },
   {
    "duration": 33,
    "start_time": "2024-05-29T20:02:18.128Z"
   },
   {
    "duration": 23,
    "start_time": "2024-05-29T20:02:21.019Z"
   },
   {
    "duration": 5083,
    "start_time": "2024-05-29T20:02:29.013Z"
   },
   {
    "duration": 38,
    "start_time": "2024-05-29T20:02:34.100Z"
   },
   {
    "duration": 17,
    "start_time": "2024-05-29T20:02:34.141Z"
   },
   {
    "duration": 7,
    "start_time": "2024-05-29T20:02:34.161Z"
   },
   {
    "duration": 45,
    "start_time": "2024-05-29T20:02:34.172Z"
   },
   {
    "duration": 9,
    "start_time": "2024-05-29T20:02:34.219Z"
   },
   {
    "duration": 9,
    "start_time": "2024-05-29T20:02:34.231Z"
   },
   {
    "duration": 11,
    "start_time": "2024-05-29T20:02:34.243Z"
   },
   {
    "duration": 50,
    "start_time": "2024-05-29T20:02:34.257Z"
   },
   {
    "duration": 14,
    "start_time": "2024-05-29T20:02:34.310Z"
   },
   {
    "duration": 9,
    "start_time": "2024-05-29T20:02:34.326Z"
   },
   {
    "duration": 5,
    "start_time": "2024-05-29T20:02:34.338Z"
   },
   {
    "duration": 11,
    "start_time": "2024-05-29T20:02:34.346Z"
   },
   {
    "duration": 16,
    "start_time": "2024-05-29T20:02:34.407Z"
   },
   {
    "duration": 17,
    "start_time": "2024-05-29T20:02:34.426Z"
   },
   {
    "duration": 4,
    "start_time": "2024-05-29T20:02:34.445Z"
   },
   {
    "duration": 7,
    "start_time": "2024-05-29T20:02:34.453Z"
   },
   {
    "duration": 46,
    "start_time": "2024-05-29T20:02:34.463Z"
   },
   {
    "duration": 5,
    "start_time": "2024-05-29T20:02:34.512Z"
   },
   {
    "duration": 12,
    "start_time": "2024-05-29T20:02:34.521Z"
   },
   {
    "duration": 6,
    "start_time": "2024-05-29T20:02:34.536Z"
   },
   {
    "duration": 8,
    "start_time": "2024-05-29T20:02:34.545Z"
   },
   {
    "duration": 101,
    "start_time": "2024-05-29T20:02:34.556Z"
   },
   {
    "duration": 56,
    "start_time": "2024-05-29T20:02:34.660Z"
   },
   {
    "duration": 198,
    "start_time": "2024-05-29T20:02:34.718Z"
   },
   {
    "duration": 329,
    "start_time": "2024-05-29T20:02:34.919Z"
   },
   {
    "duration": 12,
    "start_time": "2024-05-29T20:02:35.251Z"
   },
   {
    "duration": 12,
    "start_time": "2024-05-29T20:02:35.266Z"
   },
   {
    "duration": 46,
    "start_time": "2024-05-29T20:02:35.280Z"
   },
   {
    "duration": 20,
    "start_time": "2024-05-29T20:02:35.329Z"
   },
   {
    "duration": 272,
    "start_time": "2024-05-29T20:02:35.352Z"
   },
   {
    "duration": 0,
    "start_time": "2024-05-29T20:02:35.627Z"
   },
   {
    "duration": 0,
    "start_time": "2024-05-29T20:02:35.629Z"
   },
   {
    "duration": 0,
    "start_time": "2024-05-29T20:02:35.631Z"
   },
   {
    "duration": 0,
    "start_time": "2024-05-29T20:02:35.633Z"
   },
   {
    "duration": 0,
    "start_time": "2024-05-29T20:02:35.637Z"
   },
   {
    "duration": 0,
    "start_time": "2024-05-29T20:02:35.638Z"
   },
   {
    "duration": 0,
    "start_time": "2024-05-29T20:02:35.641Z"
   },
   {
    "duration": 6,
    "start_time": "2024-05-29T20:02:56.162Z"
   },
   {
    "duration": 32,
    "start_time": "2024-05-29T20:02:58.088Z"
   },
   {
    "duration": 17,
    "start_time": "2024-05-29T20:03:00.034Z"
   },
   {
    "duration": 6,
    "start_time": "2024-05-29T20:03:01.664Z"
   },
   {
    "duration": 19,
    "start_time": "2024-05-29T20:03:02.125Z"
   },
   {
    "duration": 10,
    "start_time": "2024-05-29T20:03:03.275Z"
   },
   {
    "duration": 9,
    "start_time": "2024-05-29T20:03:03.982Z"
   },
   {
    "duration": 11,
    "start_time": "2024-05-29T20:03:04.414Z"
   },
   {
    "duration": 7,
    "start_time": "2024-05-29T20:03:06.979Z"
   },
   {
    "duration": 13,
    "start_time": "2024-05-29T20:03:07.680Z"
   },
   {
    "duration": 10,
    "start_time": "2024-05-29T20:03:08.548Z"
   },
   {
    "duration": 4,
    "start_time": "2024-05-29T20:03:09.329Z"
   },
   {
    "duration": 11,
    "start_time": "2024-05-29T20:03:10.002Z"
   },
   {
    "duration": 16,
    "start_time": "2024-05-29T20:03:11.035Z"
   },
   {
    "duration": 17,
    "start_time": "2024-05-29T20:03:11.842Z"
   },
   {
    "duration": 4,
    "start_time": "2024-05-29T20:03:15.245Z"
   },
   {
    "duration": 6,
    "start_time": "2024-05-29T20:03:16.005Z"
   },
   {
    "duration": 7,
    "start_time": "2024-05-29T20:03:16.698Z"
   },
   {
    "duration": 5,
    "start_time": "2024-05-29T20:03:17.322Z"
   },
   {
    "duration": 11,
    "start_time": "2024-05-29T20:03:21.343Z"
   },
   {
    "duration": 6,
    "start_time": "2024-05-29T20:03:22.706Z"
   },
   {
    "duration": 7,
    "start_time": "2024-05-29T20:03:23.398Z"
   },
   {
    "duration": 46,
    "start_time": "2024-05-29T20:03:26.068Z"
   },
   {
    "duration": 16,
    "start_time": "2024-05-29T20:03:27.119Z"
   },
   {
    "duration": 48,
    "start_time": "2024-05-29T20:03:29.029Z"
   },
   {
    "duration": 224,
    "start_time": "2024-05-29T20:03:30.134Z"
   },
   {
    "duration": 11,
    "start_time": "2024-05-29T20:03:34.505Z"
   },
   {
    "duration": 10,
    "start_time": "2024-05-29T20:03:36.794Z"
   },
   {
    "duration": 20,
    "start_time": "2024-05-29T20:03:38.258Z"
   },
   {
    "duration": 20,
    "start_time": "2024-05-29T20:03:42.420Z"
   },
   {
    "duration": 55,
    "start_time": "2024-05-29T20:03:47.870Z"
   },
   {
    "duration": 46,
    "start_time": "2024-05-29T20:03:58.174Z"
   },
   {
    "duration": 54,
    "start_time": "2024-05-29T20:04:01.366Z"
   },
   {
    "duration": 11,
    "start_time": "2024-05-29T20:04:03.139Z"
   },
   {
    "duration": 55,
    "start_time": "2024-05-29T20:04:43.035Z"
   },
   {
    "duration": 46,
    "start_time": "2024-05-29T20:04:47.739Z"
   },
   {
    "duration": 47,
    "start_time": "2024-05-29T20:04:51.865Z"
   },
   {
    "duration": 14,
    "start_time": "2024-05-29T20:06:22.036Z"
   },
   {
    "duration": 13,
    "start_time": "2024-05-29T20:07:00.073Z"
   },
   {
    "duration": 48,
    "start_time": "2024-05-29T20:07:33.251Z"
   },
   {
    "duration": 47,
    "start_time": "2024-05-29T20:07:36.067Z"
   },
   {
    "duration": 8,
    "start_time": "2024-05-29T20:22:18.816Z"
   },
   {
    "duration": 8,
    "start_time": "2024-05-29T20:22:24.217Z"
   },
   {
    "duration": 4,
    "start_time": "2024-05-29T20:23:22.775Z"
   },
   {
    "duration": 880,
    "start_time": "2024-05-29T20:29:52.250Z"
   },
   {
    "duration": 64,
    "start_time": "2024-05-29T20:29:57.280Z"
   },
   {
    "duration": 11,
    "start_time": "2024-05-29T20:30:07.949Z"
   },
   {
    "duration": 8,
    "start_time": "2024-05-29T20:30:08.814Z"
   },
   {
    "duration": 6,
    "start_time": "2024-05-29T20:30:09.557Z"
   },
   {
    "duration": 48,
    "start_time": "2024-05-29T20:30:12.295Z"
   },
   {
    "duration": 49,
    "start_time": "2024-05-29T20:30:13.353Z"
   },
   {
    "duration": 65,
    "start_time": "2024-05-29T20:30:17.282Z"
   },
   {
    "duration": 225,
    "start_time": "2024-05-29T20:30:18.240Z"
   },
   {
    "duration": 8,
    "start_time": "2024-05-29T20:30:34.147Z"
   },
   {
    "duration": 24,
    "start_time": "2024-05-29T20:30:35.936Z"
   },
   {
    "duration": 18,
    "start_time": "2024-05-29T20:30:37.618Z"
   },
   {
    "duration": 7,
    "start_time": "2024-05-29T20:30:39.039Z"
   },
   {
    "duration": 22,
    "start_time": "2024-05-29T20:30:39.621Z"
   },
   {
    "duration": 9,
    "start_time": "2024-05-29T20:30:40.601Z"
   },
   {
    "duration": 8,
    "start_time": "2024-05-29T20:30:41.229Z"
   },
   {
    "duration": 11,
    "start_time": "2024-05-29T20:30:41.771Z"
   },
   {
    "duration": 7,
    "start_time": "2024-05-29T20:30:43.718Z"
   },
   {
    "duration": 13,
    "start_time": "2024-05-29T20:30:44.351Z"
   },
   {
    "duration": 10,
    "start_time": "2024-05-29T20:30:44.797Z"
   },
   {
    "duration": 4,
    "start_time": "2024-05-29T20:30:45.987Z"
   },
   {
    "duration": 12,
    "start_time": "2024-05-29T20:30:46.489Z"
   },
   {
    "duration": 18,
    "start_time": "2024-05-29T20:30:47.087Z"
   },
   {
    "duration": 19,
    "start_time": "2024-05-29T20:30:47.569Z"
   },
   {
    "duration": 4,
    "start_time": "2024-05-29T20:30:50.176Z"
   },
   {
    "duration": 7,
    "start_time": "2024-05-29T20:30:50.615Z"
   },
   {
    "duration": 7,
    "start_time": "2024-05-29T20:30:51.333Z"
   },
   {
    "duration": 4,
    "start_time": "2024-05-29T20:30:51.941Z"
   },
   {
    "duration": 12,
    "start_time": "2024-05-29T20:30:54.493Z"
   },
   {
    "duration": 6,
    "start_time": "2024-05-29T20:30:55.295Z"
   },
   {
    "duration": 6,
    "start_time": "2024-05-29T20:30:55.820Z"
   },
   {
    "duration": 45,
    "start_time": "2024-05-29T20:30:58.437Z"
   },
   {
    "duration": 14,
    "start_time": "2024-05-29T20:30:59.210Z"
   },
   {
    "duration": 44,
    "start_time": "2024-05-29T20:31:01.923Z"
   },
   {
    "duration": 221,
    "start_time": "2024-05-29T20:31:04.485Z"
   },
   {
    "duration": 11,
    "start_time": "2024-05-29T20:31:15.593Z"
   },
   {
    "duration": 12,
    "start_time": "2024-05-29T20:31:18.287Z"
   },
   {
    "duration": 22,
    "start_time": "2024-05-29T20:31:19.436Z"
   },
   {
    "duration": 24,
    "start_time": "2024-05-29T20:31:20.574Z"
   },
   {
    "duration": 50,
    "start_time": "2024-05-29T20:31:22.524Z"
   },
   {
    "duration": 65,
    "start_time": "2024-05-29T20:31:24.593Z"
   },
   {
    "duration": 50,
    "start_time": "2024-05-29T20:31:25.601Z"
   },
   {
    "duration": 7,
    "start_time": "2024-05-29T20:31:31.165Z"
   },
   {
    "duration": 8,
    "start_time": "2024-05-29T20:31:31.826Z"
   },
   {
    "duration": 24,
    "start_time": "2024-05-29T20:31:32.610Z"
   },
   {
    "duration": 26,
    "start_time": "2024-05-29T20:31:33.595Z"
   },
   {
    "duration": 84,
    "start_time": "2024-05-29T20:52:50.309Z"
   },
   {
    "duration": 74,
    "start_time": "2024-05-29T20:52:53.412Z"
   },
   {
    "duration": 283,
    "start_time": "2024-05-29T20:52:54.186Z"
   },
   {
    "duration": 71,
    "start_time": "2024-05-29T20:53:00.522Z"
   },
   {
    "duration": 238,
    "start_time": "2024-05-29T20:53:02.090Z"
   },
   {
    "duration": 65,
    "start_time": "2024-05-29T20:53:16.176Z"
   },
   {
    "duration": 52,
    "start_time": "2024-05-29T20:53:20.225Z"
   },
   {
    "duration": 1423,
    "start_time": "2024-05-29T20:53:30.013Z"
   },
   {
    "duration": 28,
    "start_time": "2024-05-29T20:53:31.440Z"
   },
   {
    "duration": 37,
    "start_time": "2024-05-29T20:53:31.471Z"
   },
   {
    "duration": 17,
    "start_time": "2024-05-29T20:53:31.511Z"
   },
   {
    "duration": 27,
    "start_time": "2024-05-29T20:53:31.533Z"
   },
   {
    "duration": 9,
    "start_time": "2024-05-29T20:53:31.564Z"
   },
   {
    "duration": 10,
    "start_time": "2024-05-29T20:53:31.606Z"
   },
   {
    "duration": 12,
    "start_time": "2024-05-29T20:53:31.620Z"
   },
   {
    "duration": 9,
    "start_time": "2024-05-29T20:53:31.636Z"
   },
   {
    "duration": 13,
    "start_time": "2024-05-29T20:53:31.648Z"
   },
   {
    "duration": 50,
    "start_time": "2024-05-29T20:53:31.664Z"
   },
   {
    "duration": 6,
    "start_time": "2024-05-29T20:53:31.717Z"
   },
   {
    "duration": 11,
    "start_time": "2024-05-29T20:53:31.726Z"
   },
   {
    "duration": 61,
    "start_time": "2024-05-29T20:53:31.745Z"
   },
   {
    "duration": 24,
    "start_time": "2024-05-29T20:53:31.810Z"
   },
   {
    "duration": 5,
    "start_time": "2024-05-29T20:53:31.837Z"
   },
   {
    "duration": 7,
    "start_time": "2024-05-29T20:53:31.846Z"
   },
   {
    "duration": 45,
    "start_time": "2024-05-29T20:53:31.860Z"
   },
   {
    "duration": 5,
    "start_time": "2024-05-29T20:53:31.908Z"
   },
   {
    "duration": 14,
    "start_time": "2024-05-29T20:53:31.916Z"
   },
   {
    "duration": 8,
    "start_time": "2024-05-29T20:53:31.933Z"
   },
   {
    "duration": 9,
    "start_time": "2024-05-29T20:53:31.945Z"
   },
   {
    "duration": 101,
    "start_time": "2024-05-29T20:53:31.957Z"
   },
   {
    "duration": 53,
    "start_time": "2024-05-29T20:53:32.061Z"
   },
   {
    "duration": 196,
    "start_time": "2024-05-29T20:53:32.117Z"
   },
   {
    "duration": 330,
    "start_time": "2024-05-29T20:53:32.316Z"
   },
   {
    "duration": 3,
    "start_time": "2024-05-29T20:53:32.650Z"
   },
   {
    "duration": 21,
    "start_time": "2024-05-29T20:53:32.656Z"
   },
   {
    "duration": 36,
    "start_time": "2024-05-29T20:53:32.680Z"
   },
   {
    "duration": 13,
    "start_time": "2024-05-29T20:53:32.720Z"
   },
   {
    "duration": 24,
    "start_time": "2024-05-29T20:53:32.736Z"
   },
   {
    "duration": 53,
    "start_time": "2024-05-29T20:53:32.764Z"
   },
   {
    "duration": 264,
    "start_time": "2024-05-29T20:53:32.820Z"
   },
   {
    "duration": 0,
    "start_time": "2024-05-29T20:53:33.087Z"
   },
   {
    "duration": 0,
    "start_time": "2024-05-29T20:53:33.089Z"
   },
   {
    "duration": 0,
    "start_time": "2024-05-29T20:53:33.093Z"
   },
   {
    "duration": 0,
    "start_time": "2024-05-29T20:53:33.108Z"
   },
   {
    "duration": 0,
    "start_time": "2024-05-29T20:53:33.110Z"
   },
   {
    "duration": 0,
    "start_time": "2024-05-29T20:53:33.112Z"
   },
   {
    "duration": 6,
    "start_time": "2024-05-29T20:53:37.130Z"
   },
   {
    "duration": 11,
    "start_time": "2024-05-29T20:53:44.855Z"
   },
   {
    "duration": 7,
    "start_time": "2024-05-29T20:53:45.723Z"
   },
   {
    "duration": 7,
    "start_time": "2024-05-29T20:53:46.463Z"
   },
   {
    "duration": 47,
    "start_time": "2024-05-29T20:53:48.840Z"
   },
   {
    "duration": 49,
    "start_time": "2024-05-29T20:53:49.457Z"
   },
   {
    "duration": 48,
    "start_time": "2024-05-29T20:53:54.895Z"
   },
   {
    "duration": 58,
    "start_time": "2024-05-29T20:53:55.544Z"
   },
   {
    "duration": 5,
    "start_time": "2024-05-29T20:54:01.752Z"
   },
   {
    "duration": 28,
    "start_time": "2024-05-29T20:54:03.278Z"
   },
   {
    "duration": 17,
    "start_time": "2024-05-29T20:54:04.484Z"
   },
   {
    "duration": 6,
    "start_time": "2024-05-29T20:54:05.887Z"
   },
   {
    "duration": 17,
    "start_time": "2024-05-29T20:54:06.283Z"
   },
   {
    "duration": 10,
    "start_time": "2024-05-29T20:54:07.062Z"
   },
   {
    "duration": 9,
    "start_time": "2024-05-29T20:54:07.590Z"
   },
   {
    "duration": 11,
    "start_time": "2024-05-29T20:54:07.950Z"
   },
   {
    "duration": 7,
    "start_time": "2024-05-29T20:54:09.375Z"
   },
   {
    "duration": 11,
    "start_time": "2024-05-29T20:54:09.743Z"
   },
   {
    "duration": 9,
    "start_time": "2024-05-29T20:54:10.174Z"
   },
   {
    "duration": 8,
    "start_time": "2024-05-29T20:54:10.537Z"
   },
   {
    "duration": 11,
    "start_time": "2024-05-29T20:54:10.868Z"
   },
   {
    "duration": 16,
    "start_time": "2024-05-29T20:54:11.295Z"
   },
   {
    "duration": 17,
    "start_time": "2024-05-29T20:54:11.817Z"
   },
   {
    "duration": 3,
    "start_time": "2024-05-29T20:54:14.754Z"
   },
   {
    "duration": 7,
    "start_time": "2024-05-29T20:54:15.395Z"
   },
   {
    "duration": 8,
    "start_time": "2024-05-29T20:54:15.887Z"
   },
   {
    "duration": 8,
    "start_time": "2024-05-29T20:54:16.377Z"
   },
   {
    "duration": 16,
    "start_time": "2024-05-29T20:54:18.532Z"
   },
   {
    "duration": 9,
    "start_time": "2024-05-29T20:54:19.166Z"
   },
   {
    "duration": 7,
    "start_time": "2024-05-29T20:54:19.746Z"
   },
   {
    "duration": 47,
    "start_time": "2024-05-29T20:54:22.655Z"
   },
   {
    "duration": 15,
    "start_time": "2024-05-29T20:54:23.535Z"
   },
   {
    "duration": 43,
    "start_time": "2024-05-29T20:54:30.114Z"
   },
   {
    "duration": 42,
    "start_time": "2024-05-29T20:54:45.650Z"
   },
   {
    "duration": 229,
    "start_time": "2024-05-29T20:54:47.055Z"
   },
   {
    "duration": 235,
    "start_time": "2024-05-29T21:06:12.469Z"
   },
   {
    "duration": 27,
    "start_time": "2024-05-29T21:06:18.754Z"
   },
   {
    "duration": 25,
    "start_time": "2024-05-29T21:06:28.218Z"
   },
   {
    "duration": 4,
    "start_time": "2024-05-29T21:06:31.040Z"
   },
   {
    "duration": 26,
    "start_time": "2024-05-29T21:06:31.730Z"
   },
   {
    "duration": 6,
    "start_time": "2024-05-29T21:07:00.668Z"
   },
   {
    "duration": 6,
    "start_time": "2024-05-29T21:07:12.834Z"
   },
   {
    "duration": 25,
    "start_time": "2024-05-29T21:07:22.682Z"
   },
   {
    "duration": 10,
    "start_time": "2024-05-29T21:07:36.029Z"
   },
   {
    "duration": 6,
    "start_time": "2024-05-29T21:09:17.356Z"
   },
   {
    "duration": 7,
    "start_time": "2024-05-29T21:09:19.526Z"
   },
   {
    "duration": 4,
    "start_time": "2024-05-29T21:09:33.291Z"
   },
   {
    "duration": 4,
    "start_time": "2024-05-29T21:11:15.583Z"
   },
   {
    "duration": 31,
    "start_time": "2024-05-29T21:17:49.591Z"
   },
   {
    "duration": 32,
    "start_time": "2024-05-29T21:18:17.594Z"
   },
   {
    "duration": 30,
    "start_time": "2024-05-29T21:22:11.786Z"
   },
   {
    "duration": 31,
    "start_time": "2024-05-29T21:22:15.090Z"
   },
   {
    "duration": 9,
    "start_time": "2024-05-29T21:22:16.811Z"
   },
   {
    "duration": 32,
    "start_time": "2024-05-29T21:22:17.479Z"
   },
   {
    "duration": 13,
    "start_time": "2024-05-29T22:48:41.613Z"
   },
   {
    "duration": 29,
    "start_time": "2024-05-29T22:48:45.684Z"
   },
   {
    "duration": 139,
    "start_time": "2024-05-29T22:49:33.170Z"
   },
   {
    "duration": 28,
    "start_time": "2024-05-29T22:50:06.145Z"
   },
   {
    "duration": 131,
    "start_time": "2024-05-29T22:50:07.078Z"
   },
   {
    "duration": 36,
    "start_time": "2024-05-29T22:50:26.602Z"
   },
   {
    "duration": 1226,
    "start_time": "2024-05-29T22:50:27.183Z"
   },
   {
    "duration": 1055,
    "start_time": "2024-05-29T22:50:51.960Z"
   },
   {
    "duration": 54,
    "start_time": "2024-05-29T22:53:13.561Z"
   },
   {
    "duration": 1195,
    "start_time": "2024-05-29T22:55:44.233Z"
   },
   {
    "duration": 1075,
    "start_time": "2024-05-29T22:55:54.254Z"
   },
   {
    "duration": 1075,
    "start_time": "2024-05-29T22:57:38.422Z"
   },
   {
    "duration": 12646,
    "start_time": "2024-05-29T22:57:40.377Z"
   },
   {
    "duration": 9,
    "start_time": "2024-05-29T22:58:52.981Z"
   },
   {
    "duration": 8,
    "start_time": "2024-05-29T22:59:31.262Z"
   },
   {
    "duration": 10,
    "start_time": "2024-05-29T22:59:32.348Z"
   },
   {
    "duration": 26,
    "start_time": "2024-05-29T22:59:33.286Z"
   },
   {
    "duration": 28,
    "start_time": "2024-05-29T22:59:37.106Z"
   },
   {
    "duration": 36,
    "start_time": "2024-05-29T23:01:31.569Z"
   },
   {
    "duration": 1017,
    "start_time": "2024-05-29T23:01:32.192Z"
   },
   {
    "duration": 114,
    "start_time": "2024-05-29T23:01:33.212Z"
   },
   {
    "duration": 7,
    "start_time": "2024-05-29T23:01:39.138Z"
   },
   {
    "duration": 42,
    "start_time": "2024-05-29T23:01:45.812Z"
   },
   {
    "duration": 211,
    "start_time": "2024-05-29T23:01:46.781Z"
   },
   {
    "duration": 44,
    "start_time": "2024-05-29T23:02:38.722Z"
   },
   {
    "duration": 197,
    "start_time": "2024-05-29T23:02:39.585Z"
   },
   {
    "duration": 43,
    "start_time": "2024-05-29T23:02:49.882Z"
   },
   {
    "duration": 199,
    "start_time": "2024-05-29T23:02:51.570Z"
   },
   {
    "duration": 44,
    "start_time": "2024-05-29T23:03:08.561Z"
   },
   {
    "duration": 14,
    "start_time": "2024-05-29T23:03:12.051Z"
   },
   {
    "duration": 15,
    "start_time": "2024-05-29T23:03:53.605Z"
   },
   {
    "duration": 11,
    "start_time": "2024-05-29T23:04:03.823Z"
   },
   {
    "duration": 463,
    "start_time": "2024-05-29T23:04:05.407Z"
   },
   {
    "duration": 13,
    "start_time": "2024-05-29T23:04:30.338Z"
   },
   {
    "duration": 37,
    "start_time": "2024-05-29T23:04:30.832Z"
   },
   {
    "duration": 128,
    "start_time": "2024-05-29T23:04:32.452Z"
   },
   {
    "duration": 201,
    "start_time": "2024-05-29T23:04:33.696Z"
   },
   {
    "duration": 381,
    "start_time": "2024-05-29T23:04:51.820Z"
   },
   {
    "duration": 160,
    "start_time": "2024-05-29T23:04:55.490Z"
   },
   {
    "duration": 12,
    "start_time": "2024-05-29T23:05:01.959Z"
   },
   {
    "duration": 44,
    "start_time": "2024-05-29T23:05:02.391Z"
   },
   {
    "duration": 165,
    "start_time": "2024-05-29T23:05:02.827Z"
   },
   {
    "duration": 151,
    "start_time": "2024-05-29T23:05:03.947Z"
   },
   {
    "duration": 131,
    "start_time": "2024-05-29T23:05:25.289Z"
   },
   {
    "duration": 11,
    "start_time": "2024-05-29T23:05:38.574Z"
   },
   {
    "duration": 10,
    "start_time": "2024-05-29T23:05:45.917Z"
   },
   {
    "duration": 36,
    "start_time": "2024-05-29T23:07:11.631Z"
   },
   {
    "duration": 140,
    "start_time": "2024-05-29T23:07:12.562Z"
   },
   {
    "duration": 140,
    "start_time": "2024-05-29T23:07:24.687Z"
   },
   {
    "duration": 1136,
    "start_time": "2024-05-29T23:07:48.606Z"
   },
   {
    "duration": 307,
    "start_time": "2024-05-29T23:08:22.499Z"
   },
   {
    "duration": 160,
    "start_time": "2024-05-29T23:08:30.706Z"
   },
   {
    "duration": 200,
    "start_time": "2024-05-29T23:08:32.323Z"
   },
   {
    "duration": 140,
    "start_time": "2024-05-29T23:08:41.395Z"
   },
   {
    "duration": 36,
    "start_time": "2024-05-29T23:08:45.421Z"
   },
   {
    "duration": 131,
    "start_time": "2024-05-29T23:08:45.925Z"
   },
   {
    "duration": 215,
    "start_time": "2024-05-29T23:08:47.933Z"
   },
   {
    "duration": 10,
    "start_time": "2024-05-29T23:09:03.050Z"
   },
   {
    "duration": 37,
    "start_time": "2024-05-29T23:09:04.841Z"
   },
   {
    "duration": 1389,
    "start_time": "2024-05-29T23:09:39.054Z"
   },
   {
    "duration": 25,
    "start_time": "2024-05-29T23:09:40.447Z"
   },
   {
    "duration": 34,
    "start_time": "2024-05-29T23:09:40.475Z"
   },
   {
    "duration": 8,
    "start_time": "2024-05-29T23:09:40.512Z"
   },
   {
    "duration": 29,
    "start_time": "2024-05-29T23:09:40.525Z"
   },
   {
    "duration": 9,
    "start_time": "2024-05-29T23:09:40.560Z"
   },
   {
    "duration": 8,
    "start_time": "2024-05-29T23:09:40.605Z"
   },
   {
    "duration": 12,
    "start_time": "2024-05-29T23:09:40.617Z"
   },
   {
    "duration": 8,
    "start_time": "2024-05-29T23:09:40.632Z"
   },
   {
    "duration": 12,
    "start_time": "2024-05-29T23:09:40.642Z"
   },
   {
    "duration": 54,
    "start_time": "2024-05-29T23:09:40.656Z"
   },
   {
    "duration": 4,
    "start_time": "2024-05-29T23:09:40.714Z"
   },
   {
    "duration": 12,
    "start_time": "2024-05-29T23:09:40.721Z"
   },
   {
    "duration": 18,
    "start_time": "2024-05-29T23:09:40.741Z"
   },
   {
    "duration": 17,
    "start_time": "2024-05-29T23:09:40.805Z"
   },
   {
    "duration": 3,
    "start_time": "2024-05-29T23:09:40.825Z"
   },
   {
    "duration": 6,
    "start_time": "2024-05-29T23:09:40.832Z"
   },
   {
    "duration": 7,
    "start_time": "2024-05-29T23:09:40.840Z"
   },
   {
    "duration": 4,
    "start_time": "2024-05-29T23:09:40.851Z"
   },
   {
    "duration": 55,
    "start_time": "2024-05-29T23:09:40.859Z"
   },
   {
    "duration": 7,
    "start_time": "2024-05-29T23:09:40.917Z"
   },
   {
    "duration": 8,
    "start_time": "2024-05-29T23:09:40.927Z"
   },
   {
    "duration": 85,
    "start_time": "2024-05-29T23:09:40.938Z"
   },
   {
    "duration": 82,
    "start_time": "2024-05-29T23:09:41.025Z"
   },
   {
    "duration": 13,
    "start_time": "2024-05-29T23:09:41.110Z"
   },
   {
    "duration": 107,
    "start_time": "2024-05-29T23:09:41.126Z"
   },
   {
    "duration": 496,
    "start_time": "2024-05-29T23:09:41.236Z"
   },
   {
    "duration": 0,
    "start_time": "2024-05-29T23:09:41.734Z"
   },
   {
    "duration": 0,
    "start_time": "2024-05-29T23:09:41.737Z"
   },
   {
    "duration": 0,
    "start_time": "2024-05-29T23:09:41.739Z"
   },
   {
    "duration": 0,
    "start_time": "2024-05-29T23:09:41.741Z"
   },
   {
    "duration": 0,
    "start_time": "2024-05-29T23:09:41.743Z"
   },
   {
    "duration": 0,
    "start_time": "2024-05-29T23:09:41.745Z"
   },
   {
    "duration": 0,
    "start_time": "2024-05-29T23:09:41.747Z"
   },
   {
    "duration": 0,
    "start_time": "2024-05-29T23:09:41.749Z"
   },
   {
    "duration": 0,
    "start_time": "2024-05-29T23:09:41.751Z"
   },
   {
    "duration": 0,
    "start_time": "2024-05-29T23:09:41.754Z"
   },
   {
    "duration": 0,
    "start_time": "2024-05-29T23:09:41.755Z"
   },
   {
    "duration": 0,
    "start_time": "2024-05-29T23:09:41.758Z"
   },
   {
    "duration": 0,
    "start_time": "2024-05-29T23:09:41.760Z"
   },
   {
    "duration": 6,
    "start_time": "2024-05-29T23:09:50.145Z"
   },
   {
    "duration": 24,
    "start_time": "2024-05-29T23:09:51.653Z"
   },
   {
    "duration": 16,
    "start_time": "2024-05-29T23:09:53.082Z"
   },
   {
    "duration": 10,
    "start_time": "2024-05-29T23:09:54.645Z"
   },
   {
    "duration": 17,
    "start_time": "2024-05-29T23:09:54.995Z"
   },
   {
    "duration": 9,
    "start_time": "2024-05-29T23:09:56.029Z"
   },
   {
    "duration": 8,
    "start_time": "2024-05-29T23:09:56.455Z"
   },
   {
    "duration": 10,
    "start_time": "2024-05-29T23:09:56.896Z"
   },
   {
    "duration": 9,
    "start_time": "2024-05-29T23:09:58.242Z"
   },
   {
    "duration": 11,
    "start_time": "2024-05-29T23:09:58.815Z"
   },
   {
    "duration": 9,
    "start_time": "2024-05-29T23:09:59.278Z"
   },
   {
    "duration": 4,
    "start_time": "2024-05-29T23:09:59.856Z"
   },
   {
    "duration": 11,
    "start_time": "2024-05-29T23:10:00.270Z"
   },
   {
    "duration": 16,
    "start_time": "2024-05-29T23:10:00.970Z"
   },
   {
    "duration": 16,
    "start_time": "2024-05-29T23:10:01.387Z"
   },
   {
    "duration": 3,
    "start_time": "2024-05-29T23:10:03.152Z"
   },
   {
    "duration": 6,
    "start_time": "2024-05-29T23:10:03.522Z"
   },
   {
    "duration": 7,
    "start_time": "2024-05-29T23:10:03.922Z"
   },
   {
    "duration": 4,
    "start_time": "2024-05-29T23:10:04.639Z"
   },
   {
    "duration": 12,
    "start_time": "2024-05-29T23:10:08.960Z"
   },
   {
    "duration": 6,
    "start_time": "2024-05-29T23:10:09.612Z"
   },
   {
    "duration": 7,
    "start_time": "2024-05-29T23:10:10.221Z"
   },
   {
    "duration": 58,
    "start_time": "2024-05-29T23:10:12.380Z"
   },
   {
    "duration": 15,
    "start_time": "2024-05-29T23:10:15.205Z"
   },
   {
    "duration": 11,
    "start_time": "2024-05-29T23:10:22.127Z"
   },
   {
    "duration": 35,
    "start_time": "2024-05-29T23:10:22.818Z"
   },
   {
    "duration": 28,
    "start_time": "2024-05-29T23:10:23.517Z"
   },
   {
    "duration": 369,
    "start_time": "2024-05-29T23:12:02.614Z"
   },
   {
    "duration": 31,
    "start_time": "2024-05-29T23:12:12.093Z"
   },
   {
    "duration": 1186,
    "start_time": "2024-05-29T23:12:17.747Z"
   },
   {
    "duration": 92,
    "start_time": "2024-05-29T23:12:20.122Z"
   },
   {
    "duration": 37,
    "start_time": "2024-05-29T23:13:28.273Z"
   },
   {
    "duration": 129,
    "start_time": "2024-05-29T23:14:26.162Z"
   },
   {
    "duration": 134,
    "start_time": "2024-05-29T23:14:30.837Z"
   },
   {
    "duration": 29,
    "start_time": "2024-05-29T23:14:50.013Z"
   },
   {
    "duration": 39,
    "start_time": "2024-05-29T23:15:18.787Z"
   },
   {
    "duration": 203,
    "start_time": "2024-05-29T23:15:20.061Z"
   },
   {
    "duration": 42,
    "start_time": "2024-05-29T23:15:38.737Z"
   },
   {
    "duration": 243,
    "start_time": "2024-05-29T23:15:48.891Z"
   },
   {
    "duration": 10,
    "start_time": "2024-05-29T23:18:07.667Z"
   },
   {
    "duration": 17,
    "start_time": "2024-05-29T23:18:09.646Z"
   },
   {
    "duration": 21,
    "start_time": "2024-05-29T23:18:11.294Z"
   },
   {
    "duration": 22,
    "start_time": "2024-05-29T23:18:15.478Z"
   },
   {
    "duration": 52,
    "start_time": "2024-05-29T23:18:31.672Z"
   },
   {
    "duration": 43,
    "start_time": "2024-05-29T23:18:35.996Z"
   },
   {
    "duration": 49,
    "start_time": "2024-05-29T23:18:36.875Z"
   },
   {
    "duration": 44,
    "start_time": "2024-05-29T23:18:46.646Z"
   },
   {
    "duration": 45,
    "start_time": "2024-05-29T23:18:47.748Z"
   },
   {
    "duration": 44,
    "start_time": "2024-05-29T23:19:10.295Z"
   },
   {
    "duration": 45,
    "start_time": "2024-05-29T23:19:11.107Z"
   },
   {
    "duration": 8,
    "start_time": "2024-05-29T23:19:14.560Z"
   },
   {
    "duration": 9,
    "start_time": "2024-05-29T23:19:15.379Z"
   },
   {
    "duration": 26,
    "start_time": "2024-05-29T23:19:16.276Z"
   },
   {
    "duration": 686,
    "start_time": "2024-05-29T23:19:54.593Z"
   },
   {
    "duration": 0,
    "start_time": "2024-05-29T23:19:55.282Z"
   },
   {
    "duration": 69,
    "start_time": "2024-05-29T23:19:55.978Z"
   },
   {
    "duration": 19,
    "start_time": "2024-05-29T23:20:36.227Z"
   },
   {
    "duration": 56,
    "start_time": "2024-05-29T23:20:36.659Z"
   },
   {
    "duration": 64,
    "start_time": "2024-05-29T23:20:37.374Z"
   },
   {
    "duration": 9,
    "start_time": "2024-05-29T23:21:03.099Z"
   },
   {
    "duration": 52,
    "start_time": "2024-05-29T23:21:03.848Z"
   },
   {
    "duration": 29,
    "start_time": "2024-05-29T23:21:41.216Z"
   },
   {
    "duration": 50,
    "start_time": "2024-05-29T23:21:41.706Z"
   },
   {
    "duration": 64,
    "start_time": "2024-05-29T23:21:42.214Z"
   },
   {
    "duration": 28,
    "start_time": "2024-05-29T23:21:48.225Z"
   },
   {
    "duration": 54,
    "start_time": "2024-05-29T23:21:48.672Z"
   },
   {
    "duration": 55,
    "start_time": "2024-05-29T23:21:49.038Z"
   },
   {
    "duration": 13,
    "start_time": "2024-05-29T23:21:59.709Z"
   },
   {
    "duration": 52,
    "start_time": "2024-05-29T23:22:00.732Z"
   },
   {
    "duration": 55,
    "start_time": "2024-05-29T23:22:01.784Z"
   },
   {
    "duration": 45,
    "start_time": "2024-05-29T23:22:31.054Z"
   },
   {
    "duration": 55,
    "start_time": "2024-05-29T23:22:31.730Z"
   },
   {
    "duration": 64,
    "start_time": "2024-05-29T23:23:20.548Z"
   },
   {
    "duration": 48,
    "start_time": "2024-05-29T23:23:21.472Z"
   },
   {
    "duration": 3,
    "start_time": "2024-05-29T23:23:28.953Z"
   },
   {
    "duration": 46,
    "start_time": "2024-05-29T23:24:09.321Z"
   },
   {
    "duration": 48,
    "start_time": "2024-05-29T23:24:10.960Z"
   },
   {
    "duration": 46,
    "start_time": "2024-05-29T23:24:49.965Z"
   },
   {
    "duration": 45,
    "start_time": "2024-05-29T23:25:02.636Z"
   },
   {
    "duration": 46,
    "start_time": "2024-05-29T23:25:19.429Z"
   },
   {
    "duration": 4,
    "start_time": "2024-05-29T23:25:29.326Z"
   },
   {
    "duration": 45,
    "start_time": "2024-05-29T23:25:31.150Z"
   },
   {
    "duration": 50,
    "start_time": "2024-05-29T23:25:32.033Z"
   },
   {
    "duration": 1391,
    "start_time": "2024-05-29T23:25:40.949Z"
   },
   {
    "duration": 24,
    "start_time": "2024-05-29T23:25:42.344Z"
   },
   {
    "duration": 36,
    "start_time": "2024-05-29T23:25:42.371Z"
   },
   {
    "duration": 7,
    "start_time": "2024-05-29T23:25:42.410Z"
   },
   {
    "duration": 19,
    "start_time": "2024-05-29T23:25:42.422Z"
   },
   {
    "duration": 11,
    "start_time": "2024-05-29T23:25:42.444Z"
   },
   {
    "duration": 48,
    "start_time": "2024-05-29T23:25:42.458Z"
   },
   {
    "duration": 13,
    "start_time": "2024-05-29T23:25:42.508Z"
   },
   {
    "duration": 8,
    "start_time": "2024-05-29T23:25:42.524Z"
   },
   {
    "duration": 11,
    "start_time": "2024-05-29T23:25:42.535Z"
   },
   {
    "duration": 11,
    "start_time": "2024-05-29T23:25:42.548Z"
   },
   {
    "duration": 5,
    "start_time": "2024-05-29T23:25:42.608Z"
   },
   {
    "duration": 13,
    "start_time": "2024-05-29T23:25:42.617Z"
   },
   {
    "duration": 17,
    "start_time": "2024-05-29T23:25:42.638Z"
   },
   {
    "duration": 56,
    "start_time": "2024-05-29T23:25:42.658Z"
   },
   {
    "duration": 4,
    "start_time": "2024-05-29T23:25:42.718Z"
   },
   {
    "duration": 7,
    "start_time": "2024-05-29T23:25:42.725Z"
   },
   {
    "duration": 6,
    "start_time": "2024-05-29T23:25:42.736Z"
   },
   {
    "duration": 4,
    "start_time": "2024-05-29T23:25:42.746Z"
   },
   {
    "duration": 11,
    "start_time": "2024-05-29T23:25:42.806Z"
   },
   {
    "duration": 7,
    "start_time": "2024-05-29T23:25:42.820Z"
   },
   {
    "duration": 7,
    "start_time": "2024-05-29T23:25:42.830Z"
   },
   {
    "duration": 77,
    "start_time": "2024-05-29T23:25:42.840Z"
   },
   {
    "duration": 17,
    "start_time": "2024-05-29T23:25:42.919Z"
   },
   {
    "duration": 12,
    "start_time": "2024-05-29T23:25:43.007Z"
   },
   {
    "duration": 110,
    "start_time": "2024-05-29T23:25:43.021Z"
   },
   {
    "duration": 491,
    "start_time": "2024-05-29T23:25:43.134Z"
   },
   {
    "duration": 0,
    "start_time": "2024-05-29T23:25:43.628Z"
   },
   {
    "duration": 0,
    "start_time": "2024-05-29T23:25:43.630Z"
   },
   {
    "duration": 0,
    "start_time": "2024-05-29T23:25:43.633Z"
   },
   {
    "duration": 0,
    "start_time": "2024-05-29T23:25:43.635Z"
   },
   {
    "duration": 0,
    "start_time": "2024-05-29T23:25:43.637Z"
   },
   {
    "duration": 0,
    "start_time": "2024-05-29T23:25:43.641Z"
   },
   {
    "duration": 0,
    "start_time": "2024-05-29T23:25:43.643Z"
   },
   {
    "duration": 0,
    "start_time": "2024-05-29T23:25:43.645Z"
   },
   {
    "duration": 0,
    "start_time": "2024-05-29T23:25:43.647Z"
   },
   {
    "duration": 0,
    "start_time": "2024-05-29T23:25:43.650Z"
   },
   {
    "duration": 0,
    "start_time": "2024-05-29T23:25:43.652Z"
   },
   {
    "duration": 0,
    "start_time": "2024-05-29T23:25:43.654Z"
   },
   {
    "duration": 0,
    "start_time": "2024-05-29T23:25:43.657Z"
   },
   {
    "duration": 0,
    "start_time": "2024-05-29T23:25:43.707Z"
   },
   {
    "duration": 1018,
    "start_time": "2024-05-29T23:25:51.664Z"
   },
   {
    "duration": 12352,
    "start_time": "2024-05-29T23:25:53.793Z"
   },
   {
    "duration": 28,
    "start_time": "2024-05-29T23:26:12.162Z"
   },
   {
    "duration": 9,
    "start_time": "2024-05-29T23:26:15.654Z"
   },
   {
    "duration": 9,
    "start_time": "2024-05-29T23:26:16.454Z"
   },
   {
    "duration": 25,
    "start_time": "2024-05-29T23:26:17.514Z"
   },
   {
    "duration": 30,
    "start_time": "2024-05-29T23:26:18.612Z"
   },
   {
    "duration": 7,
    "start_time": "2024-05-29T23:27:18.051Z"
   },
   {
    "duration": 12,
    "start_time": "2024-05-29T23:27:19.032Z"
   },
   {
    "duration": 25,
    "start_time": "2024-05-29T23:27:19.848Z"
   },
   {
    "duration": 26,
    "start_time": "2024-05-29T23:27:20.797Z"
   },
   {
    "duration": 6,
    "start_time": "2024-05-29T23:27:30.700Z"
   },
   {
    "duration": 23,
    "start_time": "2024-05-29T23:27:31.787Z"
   },
   {
    "duration": 16,
    "start_time": "2024-05-29T23:27:32.898Z"
   },
   {
    "duration": 5,
    "start_time": "2024-05-29T23:27:34.143Z"
   },
   {
    "duration": 17,
    "start_time": "2024-05-29T23:27:34.606Z"
   },
   {
    "duration": 8,
    "start_time": "2024-05-29T23:27:35.554Z"
   },
   {
    "duration": 8,
    "start_time": "2024-05-29T23:27:36.137Z"
   },
   {
    "duration": 12,
    "start_time": "2024-05-29T23:27:36.641Z"
   },
   {
    "duration": 7,
    "start_time": "2024-05-29T23:27:38.586Z"
   },
   {
    "duration": 12,
    "start_time": "2024-05-29T23:27:39.100Z"
   },
   {
    "duration": 10,
    "start_time": "2024-05-29T23:27:39.595Z"
   },
   {
    "duration": 4,
    "start_time": "2024-05-29T23:27:40.189Z"
   },
   {
    "duration": 10,
    "start_time": "2024-05-29T23:27:40.742Z"
   },
   {
    "duration": 16,
    "start_time": "2024-05-29T23:27:41.544Z"
   },
   {
    "duration": 18,
    "start_time": "2024-05-29T23:27:42.217Z"
   },
   {
    "duration": 4,
    "start_time": "2024-05-29T23:27:46.134Z"
   },
   {
    "duration": 6,
    "start_time": "2024-05-29T23:27:47.050Z"
   },
   {
    "duration": 6,
    "start_time": "2024-05-29T23:27:47.785Z"
   },
   {
    "duration": 4,
    "start_time": "2024-05-29T23:27:48.297Z"
   },
   {
    "duration": 11,
    "start_time": "2024-05-29T23:27:50.948Z"
   },
   {
    "duration": 6,
    "start_time": "2024-05-29T23:27:51.953Z"
   },
   {
    "duration": 6,
    "start_time": "2024-05-29T23:27:52.655Z"
   },
   {
    "duration": 48,
    "start_time": "2024-05-29T23:27:55.429Z"
   },
   {
    "duration": 14,
    "start_time": "2024-05-29T23:27:57.312Z"
   },
   {
    "duration": 13,
    "start_time": "2024-05-29T23:28:00.590Z"
   },
   {
    "duration": 36,
    "start_time": "2024-05-29T23:28:01.431Z"
   },
   {
    "duration": 34,
    "start_time": "2024-05-29T23:28:02.689Z"
   },
   {
    "duration": 199,
    "start_time": "2024-05-29T23:28:04.866Z"
   },
   {
    "duration": 1010,
    "start_time": "2024-05-29T23:28:08.116Z"
   },
   {
    "duration": 109,
    "start_time": "2024-05-29T23:28:09.207Z"
   },
   {
    "duration": 11,
    "start_time": "2024-05-29T23:28:17.202Z"
   },
   {
    "duration": 17,
    "start_time": "2024-05-29T23:28:19.055Z"
   },
   {
    "duration": 26,
    "start_time": "2024-05-29T23:28:20.553Z"
   },
   {
    "duration": 19,
    "start_time": "2024-05-29T23:28:22.146Z"
   },
   {
    "duration": 2,
    "start_time": "2024-05-29T23:28:24.823Z"
   },
   {
    "duration": 51,
    "start_time": "2024-05-29T23:28:26.490Z"
   },
   {
    "duration": 45,
    "start_time": "2024-05-29T23:28:27.806Z"
   },
   {
    "duration": 1391,
    "start_time": "2024-05-29T23:28:41.351Z"
   },
   {
    "duration": 25,
    "start_time": "2024-05-29T23:28:42.746Z"
   },
   {
    "duration": 34,
    "start_time": "2024-05-29T23:28:42.773Z"
   },
   {
    "duration": 7,
    "start_time": "2024-05-29T23:28:42.810Z"
   },
   {
    "duration": 21,
    "start_time": "2024-05-29T23:28:42.823Z"
   },
   {
    "duration": 8,
    "start_time": "2024-05-29T23:28:42.847Z"
   },
   {
    "duration": 52,
    "start_time": "2024-05-29T23:28:42.859Z"
   },
   {
    "duration": 10,
    "start_time": "2024-05-29T23:28:42.915Z"
   },
   {
    "duration": 8,
    "start_time": "2024-05-29T23:28:42.929Z"
   },
   {
    "duration": 12,
    "start_time": "2024-05-29T23:28:42.940Z"
   },
   {
    "duration": 57,
    "start_time": "2024-05-29T23:28:42.954Z"
   },
   {
    "duration": 5,
    "start_time": "2024-05-29T23:28:43.014Z"
   },
   {
    "duration": 11,
    "start_time": "2024-05-29T23:28:43.023Z"
   },
   {
    "duration": 16,
    "start_time": "2024-05-29T23:28:43.041Z"
   },
   {
    "duration": 58,
    "start_time": "2024-05-29T23:28:43.060Z"
   },
   {
    "duration": 3,
    "start_time": "2024-05-29T23:28:43.121Z"
   },
   {
    "duration": 7,
    "start_time": "2024-05-29T23:28:43.128Z"
   },
   {
    "duration": 7,
    "start_time": "2024-05-29T23:28:43.138Z"
   },
   {
    "duration": 5,
    "start_time": "2024-05-29T23:28:43.148Z"
   },
   {
    "duration": 59,
    "start_time": "2024-05-29T23:28:43.156Z"
   },
   {
    "duration": 7,
    "start_time": "2024-05-29T23:28:43.217Z"
   },
   {
    "duration": 7,
    "start_time": "2024-05-29T23:28:43.227Z"
   },
   {
    "duration": 89,
    "start_time": "2024-05-29T23:28:43.237Z"
   },
   {
    "duration": 80,
    "start_time": "2024-05-29T23:28:43.328Z"
   },
   {
    "duration": 11,
    "start_time": "2024-05-29T23:28:43.411Z"
   },
   {
    "duration": 108,
    "start_time": "2024-05-29T23:28:43.425Z"
   },
   {
    "duration": 514,
    "start_time": "2024-05-29T23:28:43.535Z"
   },
   {
    "duration": 0,
    "start_time": "2024-05-29T23:28:44.052Z"
   },
   {
    "duration": 0,
    "start_time": "2024-05-29T23:28:44.054Z"
   },
   {
    "duration": 0,
    "start_time": "2024-05-29T23:28:44.056Z"
   },
   {
    "duration": 0,
    "start_time": "2024-05-29T23:28:44.058Z"
   },
   {
    "duration": 0,
    "start_time": "2024-05-29T23:28:44.061Z"
   },
   {
    "duration": 0,
    "start_time": "2024-05-29T23:28:44.063Z"
   },
   {
    "duration": 0,
    "start_time": "2024-05-29T23:28:44.066Z"
   },
   {
    "duration": 0,
    "start_time": "2024-05-29T23:28:44.068Z"
   },
   {
    "duration": 0,
    "start_time": "2024-05-29T23:28:44.071Z"
   },
   {
    "duration": 0,
    "start_time": "2024-05-29T23:28:44.073Z"
   },
   {
    "duration": 0,
    "start_time": "2024-05-29T23:28:44.106Z"
   },
   {
    "duration": 0,
    "start_time": "2024-05-29T23:28:44.108Z"
   },
   {
    "duration": 0,
    "start_time": "2024-05-29T23:28:44.110Z"
   },
   {
    "duration": 0,
    "start_time": "2024-05-29T23:28:44.112Z"
   },
   {
    "duration": 1014,
    "start_time": "2024-05-29T23:28:50.763Z"
   },
   {
    "duration": 11926,
    "start_time": "2024-05-29T23:28:52.607Z"
   },
   {
    "duration": 9,
    "start_time": "2024-05-29T23:29:07.527Z"
   },
   {
    "duration": 11,
    "start_time": "2024-05-29T23:29:08.794Z"
   },
   {
    "duration": 27,
    "start_time": "2024-05-29T23:29:09.588Z"
   },
   {
    "duration": 26,
    "start_time": "2024-05-29T23:29:10.450Z"
   },
   {
    "duration": 17,
    "start_time": "2024-05-29T23:29:17.422Z"
   },
   {
    "duration": 21,
    "start_time": "2024-05-29T23:29:20.195Z"
   },
   {
    "duration": 20,
    "start_time": "2024-05-29T23:29:22.736Z"
   },
   {
    "duration": 42,
    "start_time": "2024-05-29T23:29:36.022Z"
   },
   {
    "duration": 961,
    "start_time": "2024-05-29T23:29:38.946Z"
   },
   {
    "duration": 61,
    "start_time": "2024-05-29T23:29:42.549Z"
   },
   {
    "duration": 673,
    "start_time": "2024-05-29T23:29:50.034Z"
   },
   {
    "duration": 36,
    "start_time": "2024-05-29T23:29:50.723Z"
   },
   {
    "duration": 47,
    "start_time": "2024-05-29T23:29:51.691Z"
   },
   {
    "duration": 272,
    "start_time": "2024-05-29T23:29:54.504Z"
   },
   {
    "duration": 63,
    "start_time": "2024-05-29T23:30:03.926Z"
   },
   {
    "duration": 60,
    "start_time": "2024-05-29T23:30:06.625Z"
   },
   {
    "duration": 54,
    "start_time": "2024-05-29T23:30:25.155Z"
   },
   {
    "duration": 15,
    "start_time": "2024-05-29T23:30:27.468Z"
   },
   {
    "duration": 13,
    "start_time": "2024-05-29T23:30:30.573Z"
   },
   {
    "duration": 6,
    "start_time": "2024-05-29T23:30:31.471Z"
   },
   {
    "duration": 7,
    "start_time": "2024-05-29T23:30:32.174Z"
   },
   {
    "duration": 44,
    "start_time": "2024-05-29T23:30:47.991Z"
   },
   {
    "duration": 359,
    "start_time": "2024-05-29T23:30:48.817Z"
   },
   {
    "duration": 218,
    "start_time": "2024-05-29T23:30:49.781Z"
   },
   {
    "duration": 59,
    "start_time": "2024-05-29T23:31:11.191Z"
   },
   {
    "duration": 36,
    "start_time": "2024-05-29T23:31:13.985Z"
   },
   {
    "duration": 129,
    "start_time": "2024-05-29T23:31:14.763Z"
   },
   {
    "duration": 211,
    "start_time": "2024-05-29T23:31:17.414Z"
   },
   {
    "duration": 6,
    "start_time": "2024-05-29T23:31:25.248Z"
   },
   {
    "duration": 29,
    "start_time": "2024-05-29T23:31:26.700Z"
   },
   {
    "duration": 16,
    "start_time": "2024-05-29T23:31:27.694Z"
   },
   {
    "duration": 8,
    "start_time": "2024-05-29T23:31:28.816Z"
   },
   {
    "duration": 18,
    "start_time": "2024-05-29T23:31:29.106Z"
   },
   {
    "duration": 11,
    "start_time": "2024-05-29T23:31:29.941Z"
   },
   {
    "duration": 8,
    "start_time": "2024-05-29T23:31:30.401Z"
   },
   {
    "duration": 10,
    "start_time": "2024-05-29T23:31:30.813Z"
   },
   {
    "duration": 7,
    "start_time": "2024-05-29T23:31:32.553Z"
   },
   {
    "duration": 12,
    "start_time": "2024-05-29T23:31:32.935Z"
   },
   {
    "duration": 9,
    "start_time": "2024-05-29T23:31:33.407Z"
   },
   {
    "duration": 5,
    "start_time": "2024-05-29T23:31:33.854Z"
   },
   {
    "duration": 14,
    "start_time": "2024-05-29T23:31:34.292Z"
   },
   {
    "duration": 16,
    "start_time": "2024-05-29T23:31:34.970Z"
   },
   {
    "duration": 20,
    "start_time": "2024-05-29T23:31:35.464Z"
   },
   {
    "duration": 3,
    "start_time": "2024-05-29T23:31:37.970Z"
   },
   {
    "duration": 6,
    "start_time": "2024-05-29T23:31:38.448Z"
   },
   {
    "duration": 6,
    "start_time": "2024-05-29T23:31:39.650Z"
   },
   {
    "duration": 4,
    "start_time": "2024-05-29T23:31:40.304Z"
   },
   {
    "duration": 12,
    "start_time": "2024-05-29T23:31:42.943Z"
   },
   {
    "duration": 6,
    "start_time": "2024-05-29T23:31:43.514Z"
   },
   {
    "duration": 7,
    "start_time": "2024-05-29T23:31:44.111Z"
   },
   {
    "duration": 53,
    "start_time": "2024-05-29T23:31:46.475Z"
   },
   {
    "duration": 17,
    "start_time": "2024-05-29T23:31:47.028Z"
   },
   {
    "duration": 12,
    "start_time": "2024-05-29T23:31:49.709Z"
   },
   {
    "duration": 45,
    "start_time": "2024-05-29T23:31:50.673Z"
   },
   {
    "duration": 42,
    "start_time": "2024-05-29T23:31:51.333Z"
   },
   {
    "duration": 212,
    "start_time": "2024-05-29T23:31:52.630Z"
   },
   {
    "duration": 5518,
    "start_time": "2024-05-30T21:35:13.077Z"
   },
   {
    "duration": 41,
    "start_time": "2024-05-30T21:35:18.600Z"
   },
   {
    "duration": 22,
    "start_time": "2024-05-30T21:35:18.644Z"
   },
   {
    "duration": 8,
    "start_time": "2024-05-30T21:35:18.671Z"
   },
   {
    "duration": 58,
    "start_time": "2024-05-30T21:35:18.684Z"
   },
   {
    "duration": 9,
    "start_time": "2024-05-30T21:35:18.746Z"
   },
   {
    "duration": 9,
    "start_time": "2024-05-30T21:35:18.759Z"
   },
   {
    "duration": 53,
    "start_time": "2024-05-30T21:35:18.772Z"
   },
   {
    "duration": 9,
    "start_time": "2024-05-30T21:35:18.829Z"
   },
   {
    "duration": 12,
    "start_time": "2024-05-30T21:35:18.845Z"
   },
   {
    "duration": 10,
    "start_time": "2024-05-30T21:35:18.860Z"
   },
   {
    "duration": 53,
    "start_time": "2024-05-30T21:35:18.873Z"
   },
   {
    "duration": 15,
    "start_time": "2024-05-30T21:35:18.930Z"
   },
   {
    "duration": 17,
    "start_time": "2024-05-30T21:35:18.948Z"
   },
   {
    "duration": 64,
    "start_time": "2024-05-30T21:35:18.969Z"
   },
   {
    "duration": 4,
    "start_time": "2024-05-30T21:35:19.037Z"
   },
   {
    "duration": 7,
    "start_time": "2024-05-30T21:35:19.045Z"
   },
   {
    "duration": 7,
    "start_time": "2024-05-30T21:35:19.056Z"
   },
   {
    "duration": 5,
    "start_time": "2024-05-30T21:35:19.067Z"
   },
   {
    "duration": 15,
    "start_time": "2024-05-30T21:35:19.125Z"
   },
   {
    "duration": 7,
    "start_time": "2024-05-30T21:35:19.143Z"
   },
   {
    "duration": 7,
    "start_time": "2024-05-30T21:35:19.155Z"
   },
   {
    "duration": 100,
    "start_time": "2024-05-30T21:35:19.166Z"
   },
   {
    "duration": 61,
    "start_time": "2024-05-30T21:35:19.269Z"
   },
   {
    "duration": 89,
    "start_time": "2024-05-30T21:35:19.334Z"
   },
   {
    "duration": 115,
    "start_time": "2024-05-30T21:35:19.426Z"
   },
   {
    "duration": 502,
    "start_time": "2024-05-30T21:35:19.544Z"
   },
   {
    "duration": 0,
    "start_time": "2024-05-30T21:35:20.051Z"
   },
   {
    "duration": 0,
    "start_time": "2024-05-30T21:35:20.055Z"
   },
   {
    "duration": 0,
    "start_time": "2024-05-30T21:35:20.058Z"
   },
   {
    "duration": 0,
    "start_time": "2024-05-30T21:35:20.061Z"
   },
   {
    "duration": 0,
    "start_time": "2024-05-30T21:35:20.063Z"
   },
   {
    "duration": 0,
    "start_time": "2024-05-30T21:35:20.066Z"
   },
   {
    "duration": 0,
    "start_time": "2024-05-30T21:35:20.069Z"
   },
   {
    "duration": 0,
    "start_time": "2024-05-30T21:35:20.071Z"
   },
   {
    "duration": 0,
    "start_time": "2024-05-30T21:35:20.074Z"
   },
   {
    "duration": 0,
    "start_time": "2024-05-30T21:35:20.077Z"
   },
   {
    "duration": 0,
    "start_time": "2024-05-30T21:35:20.079Z"
   },
   {
    "duration": 0,
    "start_time": "2024-05-30T21:35:20.080Z"
   },
   {
    "duration": 0,
    "start_time": "2024-05-30T21:35:20.081Z"
   },
   {
    "duration": 5463,
    "start_time": "2024-05-30T22:06:13.184Z"
   },
   {
    "duration": 38,
    "start_time": "2024-05-30T22:06:18.651Z"
   },
   {
    "duration": 30,
    "start_time": "2024-05-30T22:06:18.696Z"
   },
   {
    "duration": 7,
    "start_time": "2024-05-30T22:06:18.731Z"
   },
   {
    "duration": 24,
    "start_time": "2024-05-30T22:06:18.742Z"
   },
   {
    "duration": 11,
    "start_time": "2024-05-30T22:06:18.770Z"
   },
   {
    "duration": 46,
    "start_time": "2024-05-30T22:06:18.784Z"
   },
   {
    "duration": 14,
    "start_time": "2024-05-30T22:06:18.833Z"
   },
   {
    "duration": 9,
    "start_time": "2024-05-30T22:06:18.850Z"
   },
   {
    "duration": 12,
    "start_time": "2024-05-30T22:06:18.866Z"
   },
   {
    "duration": 11,
    "start_time": "2024-05-30T22:06:18.925Z"
   },
   {
    "duration": 7,
    "start_time": "2024-05-30T22:06:18.940Z"
   },
   {
    "duration": 13,
    "start_time": "2024-05-30T22:06:18.951Z"
   },
   {
    "duration": 59,
    "start_time": "2024-05-30T22:06:18.967Z"
   },
   {
    "duration": 21,
    "start_time": "2024-05-30T22:06:19.030Z"
   },
   {
    "duration": 6,
    "start_time": "2024-05-30T22:06:19.054Z"
   },
   {
    "duration": 11,
    "start_time": "2024-05-30T22:06:19.063Z"
   },
   {
    "duration": 7,
    "start_time": "2024-05-30T22:06:19.078Z"
   },
   {
    "duration": 5,
    "start_time": "2024-05-30T22:06:19.125Z"
   },
   {
    "duration": 17,
    "start_time": "2024-05-30T22:06:19.135Z"
   },
   {
    "duration": 9,
    "start_time": "2024-05-30T22:06:19.155Z"
   },
   {
    "duration": 55,
    "start_time": "2024-05-30T22:06:19.168Z"
   },
   {
    "duration": 65,
    "start_time": "2024-05-30T22:06:19.226Z"
   },
   {
    "duration": 18,
    "start_time": "2024-05-30T22:06:19.326Z"
   },
   {
    "duration": 106,
    "start_time": "2024-05-30T22:06:19.347Z"
   },
   {
    "duration": 101,
    "start_time": "2024-05-30T22:06:19.464Z"
   },
   {
    "duration": 555,
    "start_time": "2024-05-30T22:06:19.569Z"
   },
   {
    "duration": 0,
    "start_time": "2024-05-30T22:06:20.129Z"
   },
   {
    "duration": 0,
    "start_time": "2024-05-30T22:06:20.132Z"
   },
   {
    "duration": 0,
    "start_time": "2024-05-30T22:06:20.135Z"
   },
   {
    "duration": 0,
    "start_time": "2024-05-30T22:06:20.138Z"
   },
   {
    "duration": 0,
    "start_time": "2024-05-30T22:06:20.140Z"
   },
   {
    "duration": 0,
    "start_time": "2024-05-30T22:06:20.144Z"
   },
   {
    "duration": 0,
    "start_time": "2024-05-30T22:06:20.146Z"
   },
   {
    "duration": 0,
    "start_time": "2024-05-30T22:06:20.150Z"
   },
   {
    "duration": 0,
    "start_time": "2024-05-30T22:06:20.153Z"
   },
   {
    "duration": 0,
    "start_time": "2024-05-30T22:06:20.156Z"
   },
   {
    "duration": 0,
    "start_time": "2024-05-30T22:06:20.159Z"
   },
   {
    "duration": 0,
    "start_time": "2024-05-30T22:06:20.161Z"
   },
   {
    "duration": 0,
    "start_time": "2024-05-30T22:06:20.165Z"
   },
   {
    "duration": 1283,
    "start_time": "2024-05-30T22:06:32.266Z"
   },
   {
    "duration": 66,
    "start_time": "2024-05-30T22:06:34.761Z"
   },
   {
    "duration": 13,
    "start_time": "2024-05-30T22:06:40.163Z"
   },
   {
    "duration": 12,
    "start_time": "2024-05-30T22:06:42.126Z"
   },
   {
    "duration": 28,
    "start_time": "2024-05-30T22:06:43.345Z"
   },
   {
    "duration": 27,
    "start_time": "2024-05-30T22:06:44.570Z"
   },
   {
    "duration": 77,
    "start_time": "2024-05-30T22:06:47.334Z"
   },
   {
    "duration": 58,
    "start_time": "2024-05-30T22:06:50.299Z"
   },
   {
    "duration": 51,
    "start_time": "2024-05-30T22:06:59.343Z"
   },
   {
    "duration": 66,
    "start_time": "2024-05-30T22:07:00.174Z"
   },
   {
    "duration": 11,
    "start_time": "2024-05-30T22:07:05.019Z"
   },
   {
    "duration": 10,
    "start_time": "2024-05-30T22:07:06.339Z"
   },
   {
    "duration": 29,
    "start_time": "2024-05-30T22:07:07.066Z"
   },
   {
    "duration": 31,
    "start_time": "2024-05-30T22:07:07.735Z"
   },
   {
    "duration": 1415,
    "start_time": "2024-06-06T17:34:40.795Z"
   },
   {
    "duration": 39,
    "start_time": "2024-06-06T17:34:42.213Z"
   },
   {
    "duration": 18,
    "start_time": "2024-06-06T17:34:42.255Z"
   },
   {
    "duration": 6,
    "start_time": "2024-06-06T17:34:42.278Z"
   },
   {
    "duration": 22,
    "start_time": "2024-06-06T17:34:42.303Z"
   },
   {
    "duration": 13,
    "start_time": "2024-06-06T17:34:42.329Z"
   },
   {
    "duration": 9,
    "start_time": "2024-06-06T17:34:42.345Z"
   },
   {
    "duration": 52,
    "start_time": "2024-06-06T17:34:42.357Z"
   },
   {
    "duration": 11,
    "start_time": "2024-06-06T17:34:42.412Z"
   },
   {
    "duration": 11,
    "start_time": "2024-06-06T17:34:42.429Z"
   },
   {
    "duration": 9,
    "start_time": "2024-06-06T17:34:42.443Z"
   },
   {
    "duration": 5,
    "start_time": "2024-06-06T17:34:42.455Z"
   },
   {
    "duration": 11,
    "start_time": "2024-06-06T17:34:42.503Z"
   },
   {
    "duration": 16,
    "start_time": "2024-06-06T17:34:42.516Z"
   },
   {
    "duration": 18,
    "start_time": "2024-06-06T17:34:42.535Z"
   },
   {
    "duration": 3,
    "start_time": "2024-06-06T17:34:42.556Z"
   },
   {
    "duration": 7,
    "start_time": "2024-06-06T17:34:42.603Z"
   },
   {
    "duration": 7,
    "start_time": "2024-06-06T17:34:42.615Z"
   },
   {
    "duration": 5,
    "start_time": "2024-06-06T17:34:42.626Z"
   },
   {
    "duration": 14,
    "start_time": "2024-06-06T17:34:42.635Z"
   },
   {
    "duration": 51,
    "start_time": "2024-06-06T17:34:42.652Z"
   },
   {
    "duration": 9,
    "start_time": "2024-06-06T17:34:42.706Z"
   },
   {
    "duration": 88,
    "start_time": "2024-06-06T17:34:42.717Z"
   },
   {
    "duration": 18,
    "start_time": "2024-06-06T17:34:42.808Z"
   },
   {
    "duration": 11,
    "start_time": "2024-06-06T17:34:42.903Z"
   },
   {
    "duration": 111,
    "start_time": "2024-06-06T17:34:42.917Z"
   },
   {
    "duration": 491,
    "start_time": "2024-06-06T17:34:43.031Z"
   },
   {
    "duration": 0,
    "start_time": "2024-06-06T17:34:43.526Z"
   },
   {
    "duration": 0,
    "start_time": "2024-06-06T17:34:43.529Z"
   },
   {
    "duration": 0,
    "start_time": "2024-06-06T17:34:43.531Z"
   },
   {
    "duration": 0,
    "start_time": "2024-06-06T17:34:43.534Z"
   },
   {
    "duration": 0,
    "start_time": "2024-06-06T17:34:43.536Z"
   },
   {
    "duration": 0,
    "start_time": "2024-06-06T17:34:43.538Z"
   },
   {
    "duration": 0,
    "start_time": "2024-06-06T17:34:43.550Z"
   },
   {
    "duration": 0,
    "start_time": "2024-06-06T17:34:43.551Z"
   },
   {
    "duration": 0,
    "start_time": "2024-06-06T17:34:43.553Z"
   },
   {
    "duration": 0,
    "start_time": "2024-06-06T17:34:43.555Z"
   },
   {
    "duration": 0,
    "start_time": "2024-06-06T17:34:43.558Z"
   },
   {
    "duration": 0,
    "start_time": "2024-06-06T17:34:43.561Z"
   },
   {
    "duration": 0,
    "start_time": "2024-06-06T17:34:43.563Z"
   },
   {
    "duration": 6,
    "start_time": "2024-06-06T17:35:48.843Z"
   },
   {
    "duration": 31,
    "start_time": "2024-06-06T17:35:50.234Z"
   },
   {
    "duration": 17,
    "start_time": "2024-06-06T17:35:52.881Z"
   },
   {
    "duration": 4,
    "start_time": "2024-06-06T17:36:22.691Z"
   },
   {
    "duration": 4,
    "start_time": "2024-06-06T17:36:26.450Z"
   },
   {
    "duration": 10,
    "start_time": "2024-06-06T17:36:26.925Z"
   },
   {
    "duration": 10,
    "start_time": "2024-06-06T17:36:49.197Z"
   },
   {
    "duration": 11,
    "start_time": "2024-06-06T17:37:52.035Z"
   },
   {
    "duration": 688,
    "start_time": "2024-06-06T17:38:05.689Z"
   },
   {
    "duration": 59,
    "start_time": "2024-06-06T17:39:05.021Z"
   },
   {
    "duration": 63,
    "start_time": "2024-06-06T17:39:06.218Z"
   },
   {
    "duration": 61,
    "start_time": "2024-06-06T17:39:11.424Z"
   },
   {
    "duration": 61,
    "start_time": "2024-06-06T17:39:12.085Z"
   },
   {
    "duration": 66,
    "start_time": "2024-06-06T17:39:12.847Z"
   },
   {
    "duration": 13,
    "start_time": "2024-06-06T17:39:24.050Z"
   },
   {
    "duration": 6,
    "start_time": "2024-06-06T17:39:24.957Z"
   },
   {
    "duration": 6,
    "start_time": "2024-06-06T17:39:25.808Z"
   },
   {
    "duration": 60,
    "start_time": "2024-06-06T17:39:28.958Z"
   },
   {
    "duration": 69,
    "start_time": "2024-06-06T17:39:29.956Z"
   },
   {
    "duration": 70,
    "start_time": "2024-06-06T17:39:30.959Z"
   },
   {
    "duration": 3,
    "start_time": "2024-06-06T17:39:42.212Z"
   },
   {
    "duration": 7,
    "start_time": "2024-06-06T17:39:43.151Z"
   },
   {
    "duration": 6,
    "start_time": "2024-06-06T17:39:43.961Z"
   },
   {
    "duration": 4,
    "start_time": "2024-06-06T17:39:44.752Z"
   },
   {
    "duration": 13,
    "start_time": "2024-06-06T17:39:49.500Z"
   },
   {
    "duration": 6,
    "start_time": "2024-06-06T17:39:50.388Z"
   },
   {
    "duration": 6,
    "start_time": "2024-06-06T17:39:50.988Z"
   },
   {
    "duration": 245,
    "start_time": "2024-06-06T17:39:54.321Z"
   },
   {
    "duration": 50,
    "start_time": "2024-06-06T17:39:55.691Z"
   },
   {
    "duration": 18,
    "start_time": "2024-06-06T17:39:56.744Z"
   },
   {
    "duration": 4,
    "start_time": "2024-06-06T17:40:06.363Z"
   },
   {
    "duration": 11,
    "start_time": "2024-06-06T17:40:43.582Z"
   },
   {
    "duration": 36,
    "start_time": "2024-06-06T17:40:44.848Z"
   },
   {
    "duration": 29,
    "start_time": "2024-06-06T17:40:46.420Z"
   },
   {
    "duration": 11,
    "start_time": "2024-06-06T17:41:05.833Z"
   },
   {
    "duration": 37,
    "start_time": "2024-06-06T17:41:06.740Z"
   },
   {
    "duration": 9,
    "start_time": "2024-06-06T17:41:07.601Z"
   },
   {
    "duration": 43,
    "start_time": "2024-06-06T17:41:08.624Z"
   },
   {
    "duration": 276,
    "start_time": "2024-06-06T17:41:11.127Z"
   },
   {
    "duration": 14,
    "start_time": "2024-06-06T17:42:03.543Z"
   },
   {
    "duration": 91,
    "start_time": "2024-06-06T17:42:04.628Z"
   },
   {
    "duration": 1005,
    "start_time": "2024-06-06T17:42:18.702Z"
   },
   {
    "duration": 45,
    "start_time": "2024-06-06T17:42:20.985Z"
   },
   {
    "duration": 18,
    "start_time": "2024-06-06T17:42:26.391Z"
   },
   {
    "duration": 15,
    "start_time": "2024-06-06T17:43:14.387Z"
   },
   {
    "duration": 26,
    "start_time": "2024-06-06T17:43:20.269Z"
   },
   {
    "duration": 11,
    "start_time": "2024-06-06T17:43:25.500Z"
   },
   {
    "duration": 13,
    "start_time": "2024-06-06T17:43:27.171Z"
   },
   {
    "duration": 24,
    "start_time": "2024-06-06T17:43:28.415Z"
   },
   {
    "duration": 12,
    "start_time": "2024-06-06T17:44:52.758Z"
   },
   {
    "duration": 12,
    "start_time": "2024-06-06T17:44:55.382Z"
   },
   {
    "duration": 32,
    "start_time": "2024-06-06T17:44:57.126Z"
   },
   {
    "duration": 12,
    "start_time": "2024-06-06T17:51:44.375Z"
   },
   {
    "duration": 11,
    "start_time": "2024-06-06T17:51:46.717Z"
   },
   {
    "duration": 30,
    "start_time": "2024-06-06T17:51:48.399Z"
   },
   {
    "duration": 3,
    "start_time": "2024-06-06T17:52:45.186Z"
   },
   {
    "duration": 20,
    "start_time": "2024-06-06T17:52:48.881Z"
   },
   {
    "duration": 5,
    "start_time": "2024-06-06T17:53:02.785Z"
   },
   {
    "duration": 4,
    "start_time": "2024-06-06T17:54:15.603Z"
   },
   {
    "duration": 19,
    "start_time": "2024-06-06T17:55:05.137Z"
   },
   {
    "duration": 15,
    "start_time": "2024-06-06T17:56:05.513Z"
   },
   {
    "duration": 5,
    "start_time": "2024-06-06T17:56:07.659Z"
   },
   {
    "duration": 11,
    "start_time": "2024-06-06T17:56:45.104Z"
   },
   {
    "duration": 4,
    "start_time": "2024-06-06T17:56:46.997Z"
   },
   {
    "duration": 16,
    "start_time": "2024-06-06T17:57:16.658Z"
   },
   {
    "duration": 5,
    "start_time": "2024-06-06T17:57:18.245Z"
   },
   {
    "duration": 20,
    "start_time": "2024-06-06T18:00:23.723Z"
   },
   {
    "duration": 19,
    "start_time": "2024-06-06T18:01:32.453Z"
   },
   {
    "duration": 20,
    "start_time": "2024-06-06T18:02:00.987Z"
   },
   {
    "duration": 16,
    "start_time": "2024-06-06T18:02:27.157Z"
   },
   {
    "duration": 8,
    "start_time": "2024-06-06T18:02:28.205Z"
   },
   {
    "duration": 11,
    "start_time": "2024-06-06T18:02:31.922Z"
   },
   {
    "duration": 10,
    "start_time": "2024-06-06T18:02:38.601Z"
   },
   {
    "duration": 11,
    "start_time": "2024-06-06T18:02:40.336Z"
   },
   {
    "duration": 16,
    "start_time": "2024-06-06T18:02:41.576Z"
   },
   {
    "duration": 5,
    "start_time": "2024-06-06T18:02:42.392Z"
   },
   {
    "duration": 21,
    "start_time": "2024-06-06T18:02:45.644Z"
   },
   {
    "duration": 12,
    "start_time": "2024-06-06T18:03:05.815Z"
   },
   {
    "duration": 6,
    "start_time": "2024-06-06T18:03:23.451Z"
   },
   {
    "duration": 52,
    "start_time": "2024-06-06T18:06:11.851Z"
   },
   {
    "duration": 48,
    "start_time": "2024-06-06T18:06:24.060Z"
   },
   {
    "duration": 186,
    "start_time": "2024-06-06T18:06:29.988Z"
   },
   {
    "duration": 37,
    "start_time": "2024-06-06T18:06:30.833Z"
   },
   {
    "duration": 1409,
    "start_time": "2024-06-06T18:06:39.731Z"
   },
   {
    "duration": 27,
    "start_time": "2024-06-06T18:06:41.144Z"
   },
   {
    "duration": 29,
    "start_time": "2024-06-06T18:06:41.174Z"
   },
   {
    "duration": 8,
    "start_time": "2024-06-06T18:06:41.207Z"
   },
   {
    "duration": 20,
    "start_time": "2024-06-06T18:06:41.218Z"
   },
   {
    "duration": 10,
    "start_time": "2024-06-06T18:06:41.241Z"
   },
   {
    "duration": 49,
    "start_time": "2024-06-06T18:06:41.254Z"
   },
   {
    "duration": 12,
    "start_time": "2024-06-06T18:06:41.306Z"
   },
   {
    "duration": 10,
    "start_time": "2024-06-06T18:06:41.321Z"
   },
   {
    "duration": 13,
    "start_time": "2024-06-06T18:06:41.336Z"
   },
   {
    "duration": 52,
    "start_time": "2024-06-06T18:06:41.352Z"
   },
   {
    "duration": 5,
    "start_time": "2024-06-06T18:06:41.407Z"
   },
   {
    "duration": 11,
    "start_time": "2024-06-06T18:06:41.416Z"
   },
   {
    "duration": 16,
    "start_time": "2024-06-06T18:06:41.430Z"
   },
   {
    "duration": 62,
    "start_time": "2024-06-06T18:06:41.449Z"
   },
   {
    "duration": 3,
    "start_time": "2024-06-06T18:06:41.515Z"
   },
   {
    "duration": 7,
    "start_time": "2024-06-06T18:06:41.521Z"
   },
   {
    "duration": 6,
    "start_time": "2024-06-06T18:06:41.532Z"
   },
   {
    "duration": 4,
    "start_time": "2024-06-06T18:06:41.541Z"
   },
   {
    "duration": 58,
    "start_time": "2024-06-06T18:06:41.549Z"
   },
   {
    "duration": 6,
    "start_time": "2024-06-06T18:06:41.611Z"
   },
   {
    "duration": 6,
    "start_time": "2024-06-06T18:06:41.621Z"
   },
   {
    "duration": 82,
    "start_time": "2024-06-06T18:06:41.631Z"
   },
   {
    "duration": 17,
    "start_time": "2024-06-06T18:06:41.715Z"
   },
   {
    "duration": 12,
    "start_time": "2024-06-06T18:06:41.803Z"
   },
   {
    "duration": 115,
    "start_time": "2024-06-06T18:06:41.821Z"
   },
   {
    "duration": 15,
    "start_time": "2024-06-06T18:06:41.939Z"
   },
   {
    "duration": 200,
    "start_time": "2024-06-06T18:06:42.002Z"
   },
   {
    "duration": 336,
    "start_time": "2024-06-06T18:06:42.205Z"
   },
   {
    "duration": 1167,
    "start_time": "2024-06-06T18:06:42.544Z"
   },
   {
    "duration": 99,
    "start_time": "2024-06-06T18:06:43.715Z"
   },
   {
    "duration": 90,
    "start_time": "2024-06-06T18:06:43.819Z"
   },
   {
    "duration": 12,
    "start_time": "2024-06-06T18:06:43.912Z"
   },
   {
    "duration": 17,
    "start_time": "2024-06-06T18:06:44.002Z"
   },
   {
    "duration": 5,
    "start_time": "2024-06-06T18:06:44.022Z"
   },
   {
    "duration": 22,
    "start_time": "2024-06-06T18:06:44.030Z"
   },
   {
    "duration": 47,
    "start_time": "2024-06-06T18:06:44.055Z"
   },
   {
    "duration": 270,
    "start_time": "2024-06-06T18:06:44.106Z"
   },
   {
    "duration": 0,
    "start_time": "2024-06-06T18:06:44.379Z"
   },
   {
    "duration": 0,
    "start_time": "2024-06-06T18:06:44.381Z"
   },
   {
    "duration": 0,
    "start_time": "2024-06-06T18:06:44.382Z"
   },
   {
    "duration": 0,
    "start_time": "2024-06-06T18:06:44.384Z"
   },
   {
    "duration": 0,
    "start_time": "2024-06-06T18:06:44.386Z"
   },
   {
    "duration": 61,
    "start_time": "2024-06-06T18:07:20.534Z"
   },
   {
    "duration": 47,
    "start_time": "2024-06-06T18:07:25.473Z"
   },
   {
    "duration": 1498,
    "start_time": "2024-06-06T18:07:35.377Z"
   },
   {
    "duration": 33,
    "start_time": "2024-06-06T18:07:36.879Z"
   },
   {
    "duration": 18,
    "start_time": "2024-06-06T18:07:36.914Z"
   },
   {
    "duration": 7,
    "start_time": "2024-06-06T18:07:36.937Z"
   },
   {
    "duration": 21,
    "start_time": "2024-06-06T18:07:36.947Z"
   },
   {
    "duration": 16,
    "start_time": "2024-06-06T18:07:37.003Z"
   },
   {
    "duration": 8,
    "start_time": "2024-06-06T18:07:37.022Z"
   },
   {
    "duration": 11,
    "start_time": "2024-06-06T18:07:37.034Z"
   },
   {
    "duration": 8,
    "start_time": "2024-06-06T18:07:37.049Z"
   },
   {
    "duration": 49,
    "start_time": "2024-06-06T18:07:37.064Z"
   },
   {
    "duration": 11,
    "start_time": "2024-06-06T18:07:37.115Z"
   },
   {
    "duration": 5,
    "start_time": "2024-06-06T18:07:37.129Z"
   },
   {
    "duration": 11,
    "start_time": "2024-06-06T18:07:37.138Z"
   },
   {
    "duration": 62,
    "start_time": "2024-06-06T18:07:37.152Z"
   },
   {
    "duration": 18,
    "start_time": "2024-06-06T18:07:37.216Z"
   },
   {
    "duration": 3,
    "start_time": "2024-06-06T18:07:37.237Z"
   },
   {
    "duration": 7,
    "start_time": "2024-06-06T18:07:37.244Z"
   },
   {
    "duration": 48,
    "start_time": "2024-06-06T18:07:37.254Z"
   },
   {
    "duration": 5,
    "start_time": "2024-06-06T18:07:37.306Z"
   },
   {
    "duration": 13,
    "start_time": "2024-06-06T18:07:37.314Z"
   },
   {
    "duration": 9,
    "start_time": "2024-06-06T18:07:37.330Z"
   },
   {
    "duration": 6,
    "start_time": "2024-06-06T18:07:37.342Z"
   },
   {
    "duration": 99,
    "start_time": "2024-06-06T18:07:37.351Z"
   },
   {
    "duration": 63,
    "start_time": "2024-06-06T18:07:37.453Z"
   },
   {
    "duration": 84,
    "start_time": "2024-06-06T18:07:37.519Z"
   },
   {
    "duration": 113,
    "start_time": "2024-06-06T18:07:37.607Z"
   },
   {
    "duration": 8,
    "start_time": "2024-06-06T18:07:37.723Z"
   },
   {
    "duration": 164,
    "start_time": "2024-06-06T18:07:37.739Z"
   },
   {
    "duration": 356,
    "start_time": "2024-06-06T18:07:37.906Z"
   },
   {
    "duration": 1041,
    "start_time": "2024-06-06T18:07:38.265Z"
   },
   {
    "duration": 105,
    "start_time": "2024-06-06T18:07:39.309Z"
   },
   {
    "duration": 88,
    "start_time": "2024-06-06T18:07:39.417Z"
   },
   {
    "duration": 12,
    "start_time": "2024-06-06T18:07:39.508Z"
   },
   {
    "duration": 89,
    "start_time": "2024-06-06T18:07:39.524Z"
   },
   {
    "duration": 5,
    "start_time": "2024-06-06T18:07:39.615Z"
   },
   {
    "duration": 23,
    "start_time": "2024-06-06T18:07:39.623Z"
   },
   {
    "duration": 6,
    "start_time": "2024-06-06T18:07:39.649Z"
   },
   {
    "duration": 291,
    "start_time": "2024-06-06T18:07:39.659Z"
   },
   {
    "duration": 0,
    "start_time": "2024-06-06T18:07:39.953Z"
   },
   {
    "duration": 0,
    "start_time": "2024-06-06T18:07:39.955Z"
   },
   {
    "duration": 0,
    "start_time": "2024-06-06T18:07:39.957Z"
   },
   {
    "duration": 0,
    "start_time": "2024-06-06T18:07:39.959Z"
   },
   {
    "duration": 1,
    "start_time": "2024-06-06T18:07:39.960Z"
   },
   {
    "duration": 6,
    "start_time": "2024-06-06T18:07:55.335Z"
   },
   {
    "duration": 27,
    "start_time": "2024-06-06T18:07:58.604Z"
   },
   {
    "duration": 46,
    "start_time": "2024-06-06T18:08:10.918Z"
   },
   {
    "duration": 5,
    "start_time": "2024-06-06T18:08:19.070Z"
   },
   {
    "duration": 13,
    "start_time": "2024-06-06T18:08:22.693Z"
   },
   {
    "duration": 6,
    "start_time": "2024-06-06T18:08:23.402Z"
   },
   {
    "duration": 7,
    "start_time": "2024-06-06T18:08:24.365Z"
   },
   {
    "duration": 716,
    "start_time": "2024-06-06T18:08:27.838Z"
   },
   {
    "duration": 139,
    "start_time": "2024-06-06T18:08:28.986Z"
   },
   {
    "duration": 231,
    "start_time": "2024-06-06T18:08:35.609Z"
   },
   {
    "duration": 99,
    "start_time": "2024-06-06T18:08:36.151Z"
   },
   {
    "duration": 12,
    "start_time": "2024-06-06T18:08:39.457Z"
   },
   {
    "duration": 5,
    "start_time": "2024-06-06T18:08:43.095Z"
   },
   {
    "duration": 4,
    "start_time": "2024-06-06T18:08:45.064Z"
   },
   {
    "duration": 7,
    "start_time": "2024-06-06T18:08:45.885Z"
   },
   {
    "duration": 7,
    "start_time": "2024-06-06T18:08:46.580Z"
   },
   {
    "duration": 8,
    "start_time": "2024-06-06T18:08:47.262Z"
   },
   {
    "duration": 17,
    "start_time": "2024-06-06T18:08:51.785Z"
   },
   {
    "duration": 6,
    "start_time": "2024-06-06T18:08:52.517Z"
   },
   {
    "duration": 7,
    "start_time": "2024-06-06T18:08:53.201Z"
   },
   {
    "duration": 157,
    "start_time": "2024-06-06T18:08:55.627Z"
   },
   {
    "duration": 79,
    "start_time": "2024-06-06T18:08:56.433Z"
   },
   {
    "duration": 76,
    "start_time": "2024-06-06T18:09:30.005Z"
   },
   {
    "duration": 1620,
    "start_time": "2024-06-06T18:09:39.691Z"
   },
   {
    "duration": 26,
    "start_time": "2024-06-06T18:09:41.315Z"
   },
   {
    "duration": 19,
    "start_time": "2024-06-06T18:09:41.345Z"
   },
   {
    "duration": 34,
    "start_time": "2024-06-06T18:09:41.369Z"
   },
   {
    "duration": 24,
    "start_time": "2024-06-06T18:09:41.407Z"
   },
   {
    "duration": 9,
    "start_time": "2024-06-06T18:09:41.437Z"
   },
   {
    "duration": 11,
    "start_time": "2024-06-06T18:09:41.450Z"
   },
   {
    "duration": 14,
    "start_time": "2024-06-06T18:09:41.503Z"
   },
   {
    "duration": 8,
    "start_time": "2024-06-06T18:09:41.521Z"
   },
   {
    "duration": 12,
    "start_time": "2024-06-06T18:09:41.537Z"
   },
   {
    "duration": 54,
    "start_time": "2024-06-06T18:09:41.553Z"
   },
   {
    "duration": 6,
    "start_time": "2024-06-06T18:09:41.611Z"
   },
   {
    "duration": 12,
    "start_time": "2024-06-06T18:09:41.620Z"
   },
   {
    "duration": 19,
    "start_time": "2024-06-06T18:09:41.637Z"
   },
   {
    "duration": 53,
    "start_time": "2024-06-06T18:09:41.659Z"
   },
   {
    "duration": 4,
    "start_time": "2024-06-06T18:09:41.715Z"
   },
   {
    "duration": 7,
    "start_time": "2024-06-06T18:09:41.723Z"
   },
   {
    "duration": 10,
    "start_time": "2024-06-06T18:09:41.733Z"
   },
   {
    "duration": 5,
    "start_time": "2024-06-06T18:09:41.747Z"
   },
   {
    "duration": 14,
    "start_time": "2024-06-06T18:09:41.806Z"
   },
   {
    "duration": 7,
    "start_time": "2024-06-06T18:09:41.824Z"
   },
   {
    "duration": 7,
    "start_time": "2024-06-06T18:09:41.835Z"
   },
   {
    "duration": 94,
    "start_time": "2024-06-06T18:09:41.847Z"
   },
   {
    "duration": 79,
    "start_time": "2024-06-06T18:09:41.945Z"
   },
   {
    "duration": 89,
    "start_time": "2024-06-06T18:09:42.026Z"
   },
   {
    "duration": 118,
    "start_time": "2024-06-06T18:09:42.119Z"
   },
   {
    "duration": 11,
    "start_time": "2024-06-06T18:09:42.240Z"
   },
   {
    "duration": 161,
    "start_time": "2024-06-06T18:09:42.259Z"
   },
   {
    "duration": 441,
    "start_time": "2024-06-06T18:09:42.423Z"
   },
   {
    "duration": 1034,
    "start_time": "2024-06-06T18:09:42.869Z"
   },
   {
    "duration": 105,
    "start_time": "2024-06-06T18:09:43.906Z"
   },
   {
    "duration": 87,
    "start_time": "2024-06-06T18:09:44.014Z"
   },
   {
    "duration": 21,
    "start_time": "2024-06-06T18:09:44.104Z"
   },
   {
    "duration": 80,
    "start_time": "2024-06-06T18:09:44.128Z"
   },
   {
    "duration": 6,
    "start_time": "2024-06-06T18:09:44.212Z"
   },
   {
    "duration": 23,
    "start_time": "2024-06-06T18:09:44.221Z"
   },
   {
    "duration": 6,
    "start_time": "2024-06-06T18:09:44.248Z"
   },
   {
    "duration": 334,
    "start_time": "2024-06-06T18:09:44.258Z"
   },
   {
    "duration": 0,
    "start_time": "2024-06-06T18:09:44.603Z"
   },
   {
    "duration": 0,
    "start_time": "2024-06-06T18:09:44.605Z"
   },
   {
    "duration": 0,
    "start_time": "2024-06-06T18:09:44.607Z"
   },
   {
    "duration": 0,
    "start_time": "2024-06-06T18:09:44.609Z"
   },
   {
    "duration": 0,
    "start_time": "2024-06-06T18:09:44.611Z"
   },
   {
    "duration": 8,
    "start_time": "2024-06-06T18:10:00.253Z"
   },
   {
    "duration": 23,
    "start_time": "2024-06-06T18:10:07.189Z"
   },
   {
    "duration": 18,
    "start_time": "2024-06-06T18:10:09.248Z"
   },
   {
    "duration": 12,
    "start_time": "2024-06-06T18:10:12.596Z"
   },
   {
    "duration": 22,
    "start_time": "2024-06-06T18:10:13.245Z"
   },
   {
    "duration": 11,
    "start_time": "2024-06-06T18:10:15.974Z"
   },
   {
    "duration": 9,
    "start_time": "2024-06-06T18:10:16.665Z"
   },
   {
    "duration": 13,
    "start_time": "2024-06-06T18:10:17.245Z"
   },
   {
    "duration": 8,
    "start_time": "2024-06-06T18:10:20.287Z"
   },
   {
    "duration": 14,
    "start_time": "2024-06-06T18:10:21.313Z"
   },
   {
    "duration": 10,
    "start_time": "2024-06-06T18:10:22.022Z"
   },
   {
    "duration": 5,
    "start_time": "2024-06-06T18:10:22.814Z"
   },
   {
    "duration": 13,
    "start_time": "2024-06-06T18:10:24.163Z"
   },
   {
    "duration": 20,
    "start_time": "2024-06-06T18:10:24.952Z"
   },
   {
    "duration": 19,
    "start_time": "2024-06-06T18:10:26.226Z"
   },
   {
    "duration": 3,
    "start_time": "2024-06-06T18:10:30.631Z"
   },
   {
    "duration": 8,
    "start_time": "2024-06-06T18:10:31.408Z"
   },
   {
    "duration": 7,
    "start_time": "2024-06-06T18:10:32.164Z"
   },
   {
    "duration": 5,
    "start_time": "2024-06-06T18:10:32.998Z"
   },
   {
    "duration": 15,
    "start_time": "2024-06-06T18:10:35.943Z"
   },
   {
    "duration": 10,
    "start_time": "2024-06-06T18:10:36.847Z"
   },
   {
    "duration": 6,
    "start_time": "2024-06-06T18:10:37.624Z"
   },
   {
    "duration": 54,
    "start_time": "2024-06-06T18:10:44.583Z"
   },
   {
    "duration": 12,
    "start_time": "2024-06-06T18:10:55.823Z"
   },
   {
    "duration": 38,
    "start_time": "2024-06-06T18:10:57.971Z"
   },
   {
    "duration": 38,
    "start_time": "2024-06-06T18:11:01.666Z"
   },
   {
    "duration": 40,
    "start_time": "2024-06-06T18:11:13.771Z"
   },
   {
    "duration": 14,
    "start_time": "2024-06-06T18:11:14.771Z"
   },
   {
    "duration": 12,
    "start_time": "2024-06-06T18:11:23.745Z"
   },
   {
    "duration": 203,
    "start_time": "2024-06-06T18:11:24.199Z"
   },
   {
    "duration": 173,
    "start_time": "2024-06-06T18:11:37.838Z"
   },
   {
    "duration": 285,
    "start_time": "2024-06-06T18:11:39.025Z"
   },
   {
    "duration": 1039,
    "start_time": "2024-06-06T18:12:04.185Z"
   },
   {
    "duration": 12,
    "start_time": "2024-06-06T18:12:13.623Z"
   },
   {
    "duration": 14,
    "start_time": "2024-06-06T18:12:17.322Z"
   },
   {
    "duration": 25,
    "start_time": "2024-06-06T18:12:19.968Z"
   },
   {
    "duration": 7,
    "start_time": "2024-06-06T18:12:21.585Z"
   },
   {
    "duration": 23,
    "start_time": "2024-06-06T18:13:04.227Z"
   },
   {
    "duration": 5,
    "start_time": "2024-06-06T18:13:07.296Z"
   },
   {
    "duration": 13,
    "start_time": "2024-06-06T18:14:16.360Z"
   },
   {
    "duration": 31,
    "start_time": "2024-06-06T18:14:17.300Z"
   },
   {
    "duration": 1087,
    "start_time": "2024-06-06T18:15:05.237Z"
   },
   {
    "duration": 957,
    "start_time": "2024-06-06T18:15:12.476Z"
   },
   {
    "duration": 12586,
    "start_time": "2024-06-06T18:15:25.578Z"
   },
   {
    "duration": 15,
    "start_time": "2024-06-06T18:16:24.651Z"
   },
   {
    "duration": 12,
    "start_time": "2024-06-06T18:16:25.649Z"
   },
   {
    "duration": 32,
    "start_time": "2024-06-06T18:16:26.542Z"
   },
   {
    "duration": 29,
    "start_time": "2024-06-06T18:16:30.057Z"
   },
   {
    "duration": 8,
    "start_time": "2024-06-06T18:19:32.579Z"
   },
   {
    "duration": 6,
    "start_time": "2024-06-06T18:21:37.321Z"
   },
   {
    "duration": 9,
    "start_time": "2024-06-06T18:21:55.200Z"
   },
   {
    "duration": 5187,
    "start_time": "2024-06-07T12:51:11.909Z"
   },
   {
    "duration": 49,
    "start_time": "2024-06-07T12:51:17.100Z"
   },
   {
    "duration": 22,
    "start_time": "2024-06-07T12:51:17.152Z"
   },
   {
    "duration": 8,
    "start_time": "2024-06-07T12:51:17.177Z"
   },
   {
    "duration": 45,
    "start_time": "2024-06-07T12:51:17.192Z"
   },
   {
    "duration": 10,
    "start_time": "2024-06-07T12:51:17.241Z"
   },
   {
    "duration": 9,
    "start_time": "2024-06-07T12:51:17.254Z"
   },
   {
    "duration": 12,
    "start_time": "2024-06-07T12:51:17.266Z"
   },
   {
    "duration": 52,
    "start_time": "2024-06-07T12:51:17.281Z"
   },
   {
    "duration": 11,
    "start_time": "2024-06-07T12:51:17.336Z"
   },
   {
    "duration": 11,
    "start_time": "2024-06-07T12:51:17.350Z"
   },
   {
    "duration": 4,
    "start_time": "2024-06-07T12:51:17.364Z"
   },
   {
    "duration": 10,
    "start_time": "2024-06-07T12:51:17.371Z"
   },
   {
    "duration": 15,
    "start_time": "2024-06-07T12:51:17.433Z"
   },
   {
    "duration": 17,
    "start_time": "2024-06-07T12:51:17.451Z"
   },
   {
    "duration": 3,
    "start_time": "2024-06-07T12:51:17.472Z"
   },
   {
    "duration": 7,
    "start_time": "2024-06-07T12:51:17.478Z"
   },
   {
    "duration": 47,
    "start_time": "2024-06-07T12:51:17.488Z"
   },
   {
    "duration": 5,
    "start_time": "2024-06-07T12:51:17.538Z"
   },
   {
    "duration": 12,
    "start_time": "2024-06-07T12:51:17.546Z"
   },
   {
    "duration": 6,
    "start_time": "2024-06-07T12:51:17.561Z"
   },
   {
    "duration": 6,
    "start_time": "2024-06-07T12:51:17.570Z"
   },
   {
    "duration": 93,
    "start_time": "2024-06-07T12:51:17.580Z"
   },
   {
    "duration": 63,
    "start_time": "2024-06-07T12:51:17.676Z"
   },
   {
    "duration": 10,
    "start_time": "2024-06-07T12:51:17.742Z"
   },
   {
    "duration": 185,
    "start_time": "2024-06-07T12:51:17.755Z"
   },
   {
    "duration": 190,
    "start_time": "2024-06-07T12:51:17.943Z"
   },
   {
    "duration": 292,
    "start_time": "2024-06-07T12:51:18.136Z"
   },
   {
    "duration": 1125,
    "start_time": "2024-06-07T12:51:18.434Z"
   },
   {
    "duration": 175,
    "start_time": "2024-06-07T12:51:19.562Z"
   },
   {
    "duration": 13,
    "start_time": "2024-06-07T12:51:19.739Z"
   },
   {
    "duration": 86,
    "start_time": "2024-06-07T12:51:19.754Z"
   },
   {
    "duration": 16,
    "start_time": "2024-06-07T12:51:19.846Z"
   },
   {
    "duration": 5,
    "start_time": "2024-06-07T12:51:19.865Z"
   },
   {
    "duration": 21,
    "start_time": "2024-06-07T12:51:19.934Z"
   },
   {
    "duration": 5,
    "start_time": "2024-06-07T12:51:19.958Z"
   },
   {
    "duration": 11,
    "start_time": "2024-06-07T12:51:19.967Z"
   },
   {
    "duration": 73,
    "start_time": "2024-06-07T12:51:19.982Z"
   },
   {
    "duration": 1054,
    "start_time": "2024-06-07T12:51:20.058Z"
   },
   {
    "duration": 12142,
    "start_time": "2024-06-07T12:51:21.115Z"
   },
   {
    "duration": 8,
    "start_time": "2024-06-07T12:51:33.264Z"
   },
   {
    "duration": 10,
    "start_time": "2024-06-07T12:51:33.274Z"
   },
   {
    "duration": 58,
    "start_time": "2024-06-07T12:51:33.287Z"
   },
   {
    "duration": 26,
    "start_time": "2024-06-07T12:51:33.349Z"
   }
  ],
  "kernelspec": {
   "display_name": "Python 3 (ipykernel)",
   "language": "python",
   "name": "python3"
  },
  "language_info": {
   "codemirror_mode": {
    "name": "ipython",
    "version": 3
   },
   "file_extension": ".py",
   "mimetype": "text/x-python",
   "name": "python",
   "nbconvert_exporter": "python",
   "pygments_lexer": "ipython3",
   "version": "3.9.19"
  },
  "toc": {
   "base_numbering": 1,
   "nav_menu": {},
   "number_sections": true,
   "sideBar": true,
   "skip_h1_title": true,
   "title_cell": "Table of Contents",
   "title_sidebar": "Contents",
   "toc_cell": false,
   "toc_position": {
    "height": "calc(100% - 180px)",
    "left": "10px",
    "top": "150px",
    "width": "191.969px"
   },
   "toc_section_display": true,
   "toc_window_display": true
  }
 },
 "nbformat": 4,
 "nbformat_minor": 2
}
