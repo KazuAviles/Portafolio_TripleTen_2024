{
 "cells": [
  {
   "cell_type": "markdown",
   "metadata": {},
   "source": [
    "## Descripción del Proyecto\n",
    "\n",
    "Trabajas en la compañía de extracción de petróleo OilyGiant. Tu tarea es encontrar los mejores lugares donde abrir 200 pozos nuevos de petróleo.\n",
    "\n",
    "Para completar esta tarea, tendrás que realizar los siguientes pasos:\n",
    "\n",
    "- Leer los archivos con los parámetros recogidos de pozos petrolíferos en la región seleccionada: calidad de crudo y volumen de reservas.\n",
    "- Crear un modelo para predecir el volumen de reservas en pozos nuevos.\n",
    "- Elegir los pozos petrolíferos que tienen los valores estimados más altos.\n",
    "- Elegir la región con el beneficio total más alto para los pozos petrolíferos seleccionados\n",
    "\n",
    "Tienes datos sobre muestras de crudo de tres regiones. Ya se conocen los parámetros de cada pozo petrolero de la región. Crea un modelo que ayude a elegir la región con el mayor margen de beneficio. Analiza los beneficios y riesgos potenciales utilizando la técnica bootstrapping."
   ]
  },
  {
   "cell_type": "markdown",
   "metadata": {},
   "source": [
    "### Condiciones:\n",
    "\n",
    "- Solo se debe usar la regresión lineal para el entrenamiento del modelo.\n",
    "- Al explorar la región, se lleva a cabo un estudio de 500 puntos con la selección de los mejores 200 puntos para el cálculo del beneficio.\n",
    "- El presupuesto para el desarrollo de 200 pozos petroleros es de 100 millones de dólares.\n",
    "- Un barril de materias primas genera 4.5 USD de ingresos. El ingreso de una unidad de producto es de 4500 dólares (el volumen de reservas está expresado en miles de barriles).\n",
    "- Después de la evaluación de riesgo, mantén solo las regiones con riesgo de pérdidas inferior al 2.5%. De las que se ajustan a los criterios, se debe seleccionar la región con el beneficio promedio más alto.\n",
    "\n",
    "Los datos son sintéticos: los detalles del contrato y las características del pozo no se publican."
   ]
  },
  {
   "cell_type": "markdown",
   "metadata": {},
   "source": [
    "### Descripción de los datos\n",
    "\n",
    "Los datos de exploración geológica de las tres regiones se almacenan en archivos:\n",
    "\n",
    "Características:\n",
    "\n",
    "- `geo_data_0.csv`: Descarga el conjunto de datos\n",
    "- `geo_data_1.csv`: Descarga el conjunto de datos\n",
    "- `geo_data_2.csv`: Descarga el conjunto de datos\n",
    "- `id`: identificador único de pozo de petróleo\n",
    "- `f0, f1, f2`: tres características de los puntos (su significado específico no es importante, pero las características en sí son significativas)\n",
    "- `product`: volumen de reservas en el pozo de petróleo (miles de barriles)."
   ]
  },
  {
   "cell_type": "markdown",
   "metadata": {},
   "source": [
    "### Inicialización e importación de librerias "
   ]
  },
  {
   "cell_type": "code",
   "execution_count": 1,
   "metadata": {},
   "outputs": [],
   "source": [
    "import matplotlib.pyplot as plt\n",
    "import pandas as pd\n",
    "import numpy as np\n",
    "\n",
    "from sklearn.model_selection import train_test_split # Separa los datos en entrenamiento, validación y uno de prueba\n",
    "from sklearn.linear_model import LinearRegression # Regresión Lineal \n",
    "from sklearn.metrics import mean_squared_error, r2_score # Calcular RMSE\n",
    "from scipy.stats import pearsonr, spearmanr # Correlación por Raking\n",
    "from sklearn.preprocessing import StandardScaler # clase sklearn dedicada para la estandarización de datos \n",
    "\n",
    "# from sklearn.ensemble import RandomForestClassifier # Ajuste de hiperparámetros # Bosque aleatorio\n",
    "# from sklearn.linear_model import LogisticRegression # Regresión Logistica\n",
    "# from sklearn.tree import DecisionTreeClassifier # Arbol de desiciones\n",
    "\n",
    "from sklearn.metrics import roc_auc_score # Calcular el AUC-ROC\n",
    "from sklearn.metrics import roc_curve # Calcular la curva ROC\n",
    "from sklearn.metrics import recall_score # Calcular Recall\n",
    "from sklearn.metrics import precision_score # precision_score\n",
    "from sklearn.metrics import accuracy_score \n",
    "from sklearn.utils import shuffle # Submuestreo\n",
    "from sklearn.preprocessing import StandardScaler, MinMaxScaler # estandarizar los datos \n",
    "\n",
    "from sklearn.metrics import f1_score # Calcular valor F1"
   ]
  },
  {
   "cell_type": "markdown",
   "metadata": {},
   "source": [
    "### Cargar datasets"
   ]
  },
  {
   "cell_type": "code",
   "execution_count": 2,
   "metadata": {},
   "outputs": [],
   "source": [
    "geo_data_0 = pd.read_csv('/datasets/geo_data_0.csv') \n",
    "geo_data_1 = pd.read_csv('/datasets/geo_data_1.csv') \n",
    "geo_data_2 = pd.read_csv('/datasets/geo_data_2.csv') "
   ]
  },
  {
   "cell_type": "code",
   "execution_count": 3,
   "metadata": {},
   "outputs": [
    {
     "name": "stdout",
     "output_type": "stream",
     "text": [
      "<class 'pandas.core.frame.DataFrame'>\n",
      "RangeIndex: 100000 entries, 0 to 99999\n",
      "Data columns (total 5 columns):\n",
      " #   Column   Non-Null Count   Dtype  \n",
      "---  ------   --------------   -----  \n",
      " 0   id       100000 non-null  object \n",
      " 1   f0       100000 non-null  float64\n",
      " 2   f1       100000 non-null  float64\n",
      " 3   f2       100000 non-null  float64\n",
      " 4   product  100000 non-null  float64\n",
      "dtypes: float64(4), object(1)\n",
      "memory usage: 3.8+ MB\n",
      "\n",
      "<class 'pandas.core.frame.DataFrame'>\n",
      "RangeIndex: 100000 entries, 0 to 99999\n",
      "Data columns (total 5 columns):\n",
      " #   Column   Non-Null Count   Dtype  \n",
      "---  ------   --------------   -----  \n",
      " 0   id       100000 non-null  object \n",
      " 1   f0       100000 non-null  float64\n",
      " 2   f1       100000 non-null  float64\n",
      " 3   f2       100000 non-null  float64\n",
      " 4   product  100000 non-null  float64\n",
      "dtypes: float64(4), object(1)\n",
      "memory usage: 3.8+ MB\n",
      "\n",
      "<class 'pandas.core.frame.DataFrame'>\n",
      "RangeIndex: 100000 entries, 0 to 99999\n",
      "Data columns (total 5 columns):\n",
      " #   Column   Non-Null Count   Dtype  \n",
      "---  ------   --------------   -----  \n",
      " 0   id       100000 non-null  object \n",
      " 1   f0       100000 non-null  float64\n",
      " 2   f1       100000 non-null  float64\n",
      " 3   f2       100000 non-null  float64\n",
      " 4   product  100000 non-null  float64\n",
      "dtypes: float64(4), object(1)\n",
      "memory usage: 3.8+ MB\n",
      "\n"
     ]
    }
   ],
   "source": [
    "geo_data_0.info()\n",
    "print()\n",
    "\n",
    "geo_data_1.info()\n",
    "print()\n",
    "\n",
    "geo_data_2.info()\n",
    "print()"
   ]
  },
  {
   "cell_type": "code",
   "execution_count": 4,
   "metadata": {},
   "outputs": [
    {
     "data": {
      "text/html": [
       "<div>\n",
       "<style scoped>\n",
       "    .dataframe tbody tr th:only-of-type {\n",
       "        vertical-align: middle;\n",
       "    }\n",
       "\n",
       "    .dataframe tbody tr th {\n",
       "        vertical-align: top;\n",
       "    }\n",
       "\n",
       "    .dataframe thead th {\n",
       "        text-align: right;\n",
       "    }\n",
       "</style>\n",
       "<table border=\"1\" class=\"dataframe\">\n",
       "  <thead>\n",
       "    <tr style=\"text-align: right;\">\n",
       "      <th></th>\n",
       "      <th>id</th>\n",
       "      <th>f0</th>\n",
       "      <th>f1</th>\n",
       "      <th>f2</th>\n",
       "      <th>product</th>\n",
       "    </tr>\n",
       "  </thead>\n",
       "  <tbody>\n",
       "    <tr>\n",
       "      <th>0</th>\n",
       "      <td>txEyH</td>\n",
       "      <td>0.705745</td>\n",
       "      <td>-0.497823</td>\n",
       "      <td>1.221170</td>\n",
       "      <td>105.280062</td>\n",
       "    </tr>\n",
       "    <tr>\n",
       "      <th>1</th>\n",
       "      <td>2acmU</td>\n",
       "      <td>1.334711</td>\n",
       "      <td>-0.340164</td>\n",
       "      <td>4.365080</td>\n",
       "      <td>73.037750</td>\n",
       "    </tr>\n",
       "    <tr>\n",
       "      <th>2</th>\n",
       "      <td>409Wp</td>\n",
       "      <td>1.022732</td>\n",
       "      <td>0.151990</td>\n",
       "      <td>1.419926</td>\n",
       "      <td>85.265647</td>\n",
       "    </tr>\n",
       "    <tr>\n",
       "      <th>3</th>\n",
       "      <td>iJLyR</td>\n",
       "      <td>-0.032172</td>\n",
       "      <td>0.139033</td>\n",
       "      <td>2.978566</td>\n",
       "      <td>168.620776</td>\n",
       "    </tr>\n",
       "    <tr>\n",
       "      <th>4</th>\n",
       "      <td>Xdl7t</td>\n",
       "      <td>1.988431</td>\n",
       "      <td>0.155413</td>\n",
       "      <td>4.751769</td>\n",
       "      <td>154.036647</td>\n",
       "    </tr>\n",
       "  </tbody>\n",
       "</table>\n",
       "</div>"
      ],
      "text/plain": [
       "      id        f0        f1        f2     product\n",
       "0  txEyH  0.705745 -0.497823  1.221170  105.280062\n",
       "1  2acmU  1.334711 -0.340164  4.365080   73.037750\n",
       "2  409Wp  1.022732  0.151990  1.419926   85.265647\n",
       "3  iJLyR -0.032172  0.139033  2.978566  168.620776\n",
       "4  Xdl7t  1.988431  0.155413  4.751769  154.036647"
      ]
     },
     "execution_count": 4,
     "metadata": {},
     "output_type": "execute_result"
    }
   ],
   "source": [
    "geo_data_0.head()"
   ]
  },
  {
   "cell_type": "code",
   "execution_count": 5,
   "metadata": {},
   "outputs": [
    {
     "data": {
      "text/html": [
       "<div>\n",
       "<style scoped>\n",
       "    .dataframe tbody tr th:only-of-type {\n",
       "        vertical-align: middle;\n",
       "    }\n",
       "\n",
       "    .dataframe tbody tr th {\n",
       "        vertical-align: top;\n",
       "    }\n",
       "\n",
       "    .dataframe thead th {\n",
       "        text-align: right;\n",
       "    }\n",
       "</style>\n",
       "<table border=\"1\" class=\"dataframe\">\n",
       "  <thead>\n",
       "    <tr style=\"text-align: right;\">\n",
       "      <th></th>\n",
       "      <th>id</th>\n",
       "      <th>f0</th>\n",
       "      <th>f1</th>\n",
       "      <th>f2</th>\n",
       "      <th>product</th>\n",
       "    </tr>\n",
       "  </thead>\n",
       "  <tbody>\n",
       "    <tr>\n",
       "      <th>0</th>\n",
       "      <td>kBEdx</td>\n",
       "      <td>-15.001348</td>\n",
       "      <td>-8.276000</td>\n",
       "      <td>-0.005876</td>\n",
       "      <td>3.179103</td>\n",
       "    </tr>\n",
       "    <tr>\n",
       "      <th>1</th>\n",
       "      <td>62mP7</td>\n",
       "      <td>14.272088</td>\n",
       "      <td>-3.475083</td>\n",
       "      <td>0.999183</td>\n",
       "      <td>26.953261</td>\n",
       "    </tr>\n",
       "    <tr>\n",
       "      <th>2</th>\n",
       "      <td>vyE1P</td>\n",
       "      <td>6.263187</td>\n",
       "      <td>-5.948386</td>\n",
       "      <td>5.001160</td>\n",
       "      <td>134.766305</td>\n",
       "    </tr>\n",
       "    <tr>\n",
       "      <th>3</th>\n",
       "      <td>KcrkZ</td>\n",
       "      <td>-13.081196</td>\n",
       "      <td>-11.506057</td>\n",
       "      <td>4.999415</td>\n",
       "      <td>137.945408</td>\n",
       "    </tr>\n",
       "    <tr>\n",
       "      <th>4</th>\n",
       "      <td>AHL4O</td>\n",
       "      <td>12.702195</td>\n",
       "      <td>-8.147433</td>\n",
       "      <td>5.004363</td>\n",
       "      <td>134.766305</td>\n",
       "    </tr>\n",
       "  </tbody>\n",
       "</table>\n",
       "</div>"
      ],
      "text/plain": [
       "      id         f0         f1        f2     product\n",
       "0  kBEdx -15.001348  -8.276000 -0.005876    3.179103\n",
       "1  62mP7  14.272088  -3.475083  0.999183   26.953261\n",
       "2  vyE1P   6.263187  -5.948386  5.001160  134.766305\n",
       "3  KcrkZ -13.081196 -11.506057  4.999415  137.945408\n",
       "4  AHL4O  12.702195  -8.147433  5.004363  134.766305"
      ]
     },
     "execution_count": 5,
     "metadata": {},
     "output_type": "execute_result"
    }
   ],
   "source": [
    "geo_data_1.head()"
   ]
  },
  {
   "cell_type": "code",
   "execution_count": 6,
   "metadata": {},
   "outputs": [
    {
     "data": {
      "text/html": [
       "<div>\n",
       "<style scoped>\n",
       "    .dataframe tbody tr th:only-of-type {\n",
       "        vertical-align: middle;\n",
       "    }\n",
       "\n",
       "    .dataframe tbody tr th {\n",
       "        vertical-align: top;\n",
       "    }\n",
       "\n",
       "    .dataframe thead th {\n",
       "        text-align: right;\n",
       "    }\n",
       "</style>\n",
       "<table border=\"1\" class=\"dataframe\">\n",
       "  <thead>\n",
       "    <tr style=\"text-align: right;\">\n",
       "      <th></th>\n",
       "      <th>id</th>\n",
       "      <th>f0</th>\n",
       "      <th>f1</th>\n",
       "      <th>f2</th>\n",
       "      <th>product</th>\n",
       "    </tr>\n",
       "  </thead>\n",
       "  <tbody>\n",
       "    <tr>\n",
       "      <th>0</th>\n",
       "      <td>fwXo0</td>\n",
       "      <td>-1.146987</td>\n",
       "      <td>0.963328</td>\n",
       "      <td>-0.828965</td>\n",
       "      <td>27.758673</td>\n",
       "    </tr>\n",
       "    <tr>\n",
       "      <th>1</th>\n",
       "      <td>WJtFt</td>\n",
       "      <td>0.262778</td>\n",
       "      <td>0.269839</td>\n",
       "      <td>-2.530187</td>\n",
       "      <td>56.069697</td>\n",
       "    </tr>\n",
       "    <tr>\n",
       "      <th>2</th>\n",
       "      <td>ovLUW</td>\n",
       "      <td>0.194587</td>\n",
       "      <td>0.289035</td>\n",
       "      <td>-5.586433</td>\n",
       "      <td>62.871910</td>\n",
       "    </tr>\n",
       "    <tr>\n",
       "      <th>3</th>\n",
       "      <td>q6cA6</td>\n",
       "      <td>2.236060</td>\n",
       "      <td>-0.553760</td>\n",
       "      <td>0.930038</td>\n",
       "      <td>114.572842</td>\n",
       "    </tr>\n",
       "    <tr>\n",
       "      <th>4</th>\n",
       "      <td>WPMUX</td>\n",
       "      <td>-0.515993</td>\n",
       "      <td>1.716266</td>\n",
       "      <td>5.899011</td>\n",
       "      <td>149.600746</td>\n",
       "    </tr>\n",
       "  </tbody>\n",
       "</table>\n",
       "</div>"
      ],
      "text/plain": [
       "      id        f0        f1        f2     product\n",
       "0  fwXo0 -1.146987  0.963328 -0.828965   27.758673\n",
       "1  WJtFt  0.262778  0.269839 -2.530187   56.069697\n",
       "2  ovLUW  0.194587  0.289035 -5.586433   62.871910\n",
       "3  q6cA6  2.236060 -0.553760  0.930038  114.572842\n",
       "4  WPMUX -0.515993  1.716266  5.899011  149.600746"
      ]
     },
     "execution_count": 6,
     "metadata": {},
     "output_type": "execute_result"
    }
   ],
   "source": [
    "geo_data_2.head()"
   ]
  },
  {
   "cell_type": "markdown",
   "metadata": {},
   "source": [
    "Conclusión\n",
    "- El \"id\" es el identificador único para cada pozo de petroleo, target que queremos predecir el de la columna \"product\",y los features son las columnas f0, f1 y f2 respectivamente. \n",
    "\n",
    "- Para el analisis crearemos nuevas columnas binarias que nos ayudaran para realizar el analisis."
   ]
  },
  {
   "cell_type": "markdown",
   "metadata": {},
   "source": [
    "### Preprocesamiento de datos\n",
    "\n",
    "Corrige el formato en los encabezados de la tabla de acuerdo con las reglas del buen estilo:\n",
    "* Todos los caracteres deben ser minúsculas.\n",
    "* Elimina los espacios.\n",
    "* Si el nombre tiene varias palabras, utiliza snake_case."
   ]
  },
  {
   "cell_type": "markdown",
   "metadata": {},
   "source": [
    "### Cantidad de datos "
   ]
  },
  {
   "cell_type": "code",
   "execution_count": 7,
   "metadata": {},
   "outputs": [
    {
     "data": {
      "text/plain": [
       "(100000, 5)"
      ]
     },
     "execution_count": 7,
     "metadata": {},
     "output_type": "execute_result"
    }
   ],
   "source": [
    "# Cantidad de datos\n",
    "geo_data_0.shape # 5 filas 10000 datos"
   ]
  },
  {
   "cell_type": "code",
   "execution_count": 8,
   "metadata": {},
   "outputs": [
    {
     "data": {
      "text/plain": [
       "(100000, 5)"
      ]
     },
     "execution_count": 8,
     "metadata": {},
     "output_type": "execute_result"
    }
   ],
   "source": [
    "# Cantidad de datos\n",
    "geo_data_1.shape # 5 filas 10000 datos"
   ]
  },
  {
   "cell_type": "code",
   "execution_count": 9,
   "metadata": {},
   "outputs": [
    {
     "data": {
      "text/plain": [
       "(100000, 5)"
      ]
     },
     "execution_count": 9,
     "metadata": {},
     "output_type": "execute_result"
    }
   ],
   "source": [
    "# Cantidad de datos\n",
    "geo_data_2.shape # 5 filas 10000 datos"
   ]
  },
  {
   "cell_type": "markdown",
   "metadata": {},
   "source": [
    "### Tipo de datos "
   ]
  },
  {
   "cell_type": "code",
   "execution_count": 10,
   "metadata": {},
   "outputs": [
    {
     "data": {
      "text/plain": [
       "id          object\n",
       "f0         float64\n",
       "f1         float64\n",
       "f2         float64\n",
       "product    float64\n",
       "dtype: object"
      ]
     },
     "execution_count": 10,
     "metadata": {},
     "output_type": "execute_result"
    }
   ],
   "source": [
    "# Identificamos tipos de datos\n",
    "geo_data_0.dtypes"
   ]
  },
  {
   "cell_type": "code",
   "execution_count": 11,
   "metadata": {},
   "outputs": [
    {
     "data": {
      "text/plain": [
       "id          object\n",
       "f0         float64\n",
       "f1         float64\n",
       "f2         float64\n",
       "product    float64\n",
       "dtype: object"
      ]
     },
     "execution_count": 11,
     "metadata": {},
     "output_type": "execute_result"
    }
   ],
   "source": [
    "# Identificamos tipos de datos\n",
    "geo_data_1.dtypes"
   ]
  },
  {
   "cell_type": "code",
   "execution_count": 12,
   "metadata": {},
   "outputs": [
    {
     "data": {
      "text/plain": [
       "id          object\n",
       "f0         float64\n",
       "f1         float64\n",
       "f2         float64\n",
       "product    float64\n",
       "dtype: object"
      ]
     },
     "execution_count": 12,
     "metadata": {},
     "output_type": "execute_result"
    }
   ],
   "source": [
    "# Identificamos tipos de datos\n",
    "geo_data_2.dtypes"
   ]
  },
  {
   "cell_type": "markdown",
   "metadata": {},
   "source": [
    "### Valores ausentes"
   ]
  },
  {
   "cell_type": "code",
   "execution_count": 13,
   "metadata": {},
   "outputs": [
    {
     "data": {
      "text/plain": [
       "id         0\n",
       "f0         0\n",
       "f1         0\n",
       "f2         0\n",
       "product    0\n",
       "dtype: int64"
      ]
     },
     "execution_count": 13,
     "metadata": {},
     "output_type": "execute_result"
    }
   ],
   "source": [
    "# Buscamos la suma de los valores ausentes\n",
    "geo_data_0.isna().sum()"
   ]
  },
  {
   "cell_type": "code",
   "execution_count": 14,
   "metadata": {},
   "outputs": [
    {
     "data": {
      "text/plain": [
       "id         0\n",
       "f0         0\n",
       "f1         0\n",
       "f2         0\n",
       "product    0\n",
       "dtype: int64"
      ]
     },
     "execution_count": 14,
     "metadata": {},
     "output_type": "execute_result"
    }
   ],
   "source": [
    "# Buscamos la suma de los valores ausentes\n",
    "geo_data_1.isna().sum()"
   ]
  },
  {
   "cell_type": "code",
   "execution_count": 15,
   "metadata": {},
   "outputs": [
    {
     "data": {
      "text/plain": [
       "id         0\n",
       "f0         0\n",
       "f1         0\n",
       "f2         0\n",
       "product    0\n",
       "dtype: int64"
      ]
     },
     "execution_count": 15,
     "metadata": {},
     "output_type": "execute_result"
    }
   ],
   "source": [
    "# Buscamos la suma de los valores ausentes\n",
    "geo_data_2.isna().sum()"
   ]
  },
  {
   "cell_type": "markdown",
   "metadata": {},
   "source": [
    "### Valores duplicados"
   ]
  },
  {
   "cell_type": "code",
   "execution_count": 16,
   "metadata": {},
   "outputs": [
    {
     "data": {
      "text/plain": [
       "0"
      ]
     },
     "execution_count": 16,
     "metadata": {},
     "output_type": "execute_result"
    }
   ],
   "source": [
    "# Contar duplicados explícitos\n",
    "geo_data_0.duplicated().sum()"
   ]
  },
  {
   "cell_type": "code",
   "execution_count": 17,
   "metadata": {},
   "outputs": [
    {
     "data": {
      "text/plain": [
       "0"
      ]
     },
     "execution_count": 17,
     "metadata": {},
     "output_type": "execute_result"
    }
   ],
   "source": [
    "# Contar duplicados explícitos\n",
    "geo_data_1.duplicated().sum()"
   ]
  },
  {
   "cell_type": "code",
   "execution_count": 18,
   "metadata": {
    "scrolled": true
   },
   "outputs": [
    {
     "data": {
      "text/plain": [
       "0"
      ]
     },
     "execution_count": 18,
     "metadata": {},
     "output_type": "execute_result"
    }
   ],
   "source": [
    "# Contar duplicados explícitos\n",
    "geo_data_2.duplicated().sum()"
   ]
  },
  {
   "cell_type": "markdown",
   "metadata": {},
   "source": [
    "## Descripción del Proyecto\n",
    "Entrena y prueba el modelo para cada región en geo_data_0.csv:\n",
    "\n",
    "Divide los datos en un conjunto de entrenamiento y un conjunto de validación en una proporción de 75:25\n",
    "\n",
    "Entrena el modelo y haz predicciones para el conjunto de validación.\n",
    "\n",
    "Guarda las predicciones y las respuestas correctas para el conjunto de validación.\n",
    "\n",
    "Muestra el volumen medio de reservas predicho y RMSE del modelo.\n",
    "\n",
    "Analiza los resultados.\n",
    "\n",
    "Coloca todos los pasos previos en funciones, realiza y ejecuta los pasos 2.1-2.5 para los archivos 'geo_data_1.csv' y 'geo_data_2.csv'."
   ]
  },
  {
   "cell_type": "markdown",
   "metadata": {},
   "source": [
    "### Entrena y prueba el modelo para cada región en geo_data_0.csv"
   ]
  },
  {
   "cell_type": "code",
   "execution_count": 19,
   "metadata": {},
   "outputs": [],
   "source": [
    "# Divide los datos en un conjunto de entrenamiento y un conjunto de validación en una proporción de 75:25\n",
    "#from sklearn.model_selection import train_test_split # Separa los datos en entrenamiento, validación y uno de prueba\n",
    "\n",
    "train, valid = train_test_split(geo_data_0, test_size=0.25, random_state=88) "
   ]
  },
  {
   "cell_type": "code",
   "execution_count": 20,
   "metadata": {},
   "outputs": [],
   "source": [
    "# Identificamos las caracteristicas\n",
    "target = 'product'\n",
    "entity_columns = ['id'] \n",
    "features = [f for f in geo_data_0.columns if f not in [target] + entity_columns] "
   ]
  },
  {
   "cell_type": "code",
   "execution_count": 21,
   "metadata": {},
   "outputs": [
    {
     "data": {
      "text/plain": [
       "LinearRegression()"
      ]
     },
     "execution_count": 21,
     "metadata": {},
     "output_type": "execute_result"
    }
   ],
   "source": [
    "model_0 = LinearRegression()\n",
    "model_0.fit(train[features], train[target])"
   ]
  },
  {
   "cell_type": "code",
   "execution_count": 22,
   "metadata": {},
   "outputs": [
    {
     "name": "stderr",
     "output_type": "stream",
     "text": [
      "/opt/conda/envs/python3/lib/python3.9/site-packages/pandas/core/indexing.py:1597: SettingWithCopyWarning: \n",
      "A value is trying to be set on a copy of a slice from a DataFrame.\n",
      "Try using .loc[row_indexer,col_indexer] = value instead\n",
      "\n",
      "See the caveats in the documentation: https://pandas.pydata.org/pandas-docs/stable/user_guide/indexing.html#returning-a-view-versus-a-copy\n",
      "  self.obj[key] = value\n",
      "/opt/conda/envs/python3/lib/python3.9/site-packages/pandas/core/indexing.py:1676: SettingWithCopyWarning: \n",
      "A value is trying to be set on a copy of a slice from a DataFrame.\n",
      "Try using .loc[row_indexer,col_indexer] = value instead\n",
      "\n",
      "See the caveats in the documentation: https://pandas.pydata.org/pandas-docs/stable/user_guide/indexing.html#returning-a-view-versus-a-copy\n",
      "  self._setitem_single_column(ilocs[0], value, pi)\n"
     ]
    }
   ],
   "source": [
    "# Guarda las predicciones y las respuestas correctas para el conjunto de validación.\n",
    "\n",
    "preds_0 = model_0.predict(valid[features])\n",
    "valid.loc[:,\"prediction\"] = preds_0"
   ]
  },
  {
   "cell_type": "code",
   "execution_count": 23,
   "metadata": {},
   "outputs": [
    {
     "name": "stdout",
     "output_type": "stream",
     "text": [
      "\n",
      "Mean target (valid): 92.3657 \n",
      "Mean prediction: 92.616\n",
      "RMSE: 37.3769\n",
      "R2: 0.2811\n",
      "Pearson correlation: 0.5302 \n",
      "Spearman correlation: 0.5244\n",
      "\n"
     ]
    }
   ],
   "source": [
    "# Muestra el volumen medio de reservas predicho y RMSE del modelo.\n",
    "# Mostrar el promedio de la predicción\n",
    "\n",
    "print(f\"\"\"\n",
    "Mean target (valid): {round(valid[target].mean(), 4)} \n",
    "Mean prediction: {round(preds_0.mean(), 4)}\n",
    "RMSE: {round(mean_squared_error(valid[target], preds_0)**0.5, 4)}\n",
    "R2: {round(r2_score(valid[target], preds_0), 4)}\n",
    "Pearson correlation: {round(pearsonr(valid[target], preds_0).statistic, 4)} \n",
    "Spearman correlation: {round(spearmanr(valid[target], preds_0).statistic, 4)}\n",
    "\"\"\")"
   ]
  },
  {
   "cell_type": "code",
   "execution_count": 24,
   "metadata": {},
   "outputs": [
    {
     "data": {
      "text/html": [
       "<div>\n",
       "<style scoped>\n",
       "    .dataframe tbody tr th:only-of-type {\n",
       "        vertical-align: middle;\n",
       "    }\n",
       "\n",
       "    .dataframe tbody tr th {\n",
       "        vertical-align: top;\n",
       "    }\n",
       "\n",
       "    .dataframe thead th {\n",
       "        text-align: right;\n",
       "    }\n",
       "</style>\n",
       "<table border=\"1\" class=\"dataframe\">\n",
       "  <thead>\n",
       "    <tr style=\"text-align: right;\">\n",
       "      <th></th>\n",
       "      <th>id</th>\n",
       "      <th>f0</th>\n",
       "      <th>f1</th>\n",
       "      <th>f2</th>\n",
       "      <th>product</th>\n",
       "      <th>prediction</th>\n",
       "    </tr>\n",
       "  </thead>\n",
       "  <tbody>\n",
       "    <tr>\n",
       "      <th>87676</th>\n",
       "      <td>Holbl</td>\n",
       "      <td>1.618767</td>\n",
       "      <td>-0.201431</td>\n",
       "      <td>5.252203</td>\n",
       "      <td>123.801417</td>\n",
       "      <td>121.234306</td>\n",
       "    </tr>\n",
       "    <tr>\n",
       "      <th>31492</th>\n",
       "      <td>vqga7</td>\n",
       "      <td>0.809676</td>\n",
       "      <td>0.685569</td>\n",
       "      <td>1.212376</td>\n",
       "      <td>30.132880</td>\n",
       "      <td>79.036922</td>\n",
       "    </tr>\n",
       "    <tr>\n",
       "      <th>35517</th>\n",
       "      <td>8xtqg</td>\n",
       "      <td>1.587763</td>\n",
       "      <td>-0.258385</td>\n",
       "      <td>4.148627</td>\n",
       "      <td>157.733201</td>\n",
       "      <td>114.655055</td>\n",
       "    </tr>\n",
       "    <tr>\n",
       "      <th>37967</th>\n",
       "      <td>IWPNS</td>\n",
       "      <td>1.600379</td>\n",
       "      <td>-0.323751</td>\n",
       "      <td>1.385491</td>\n",
       "      <td>140.020959</td>\n",
       "      <td>97.422219</td>\n",
       "    </tr>\n",
       "    <tr>\n",
       "      <th>72103</th>\n",
       "      <td>oxfza</td>\n",
       "      <td>0.310908</td>\n",
       "      <td>0.908978</td>\n",
       "      <td>2.991960</td>\n",
       "      <td>104.368564</td>\n",
       "      <td>85.743222</td>\n",
       "    </tr>\n",
       "  </tbody>\n",
       "</table>\n",
       "</div>"
      ],
      "text/plain": [
       "          id        f0        f1        f2     product  prediction\n",
       "87676  Holbl  1.618767 -0.201431  5.252203  123.801417  121.234306\n",
       "31492  vqga7  0.809676  0.685569  1.212376   30.132880   79.036922\n",
       "35517  8xtqg  1.587763 -0.258385  4.148627  157.733201  114.655055\n",
       "37967  IWPNS  1.600379 -0.323751  1.385491  140.020959   97.422219\n",
       "72103  oxfza  0.310908  0.908978  2.991960  104.368564   85.743222"
      ]
     },
     "execution_count": 24,
     "metadata": {},
     "output_type": "execute_result"
    }
   ],
   "source": [
    "# Verificamos la columna preds en valid\n",
    "valid.head()"
   ]
  },
  {
   "cell_type": "code",
   "execution_count": 25,
   "metadata": {},
   "outputs": [
    {
     "data": {
      "image/png": "[encoded data removed]",
      "text/plain": [
       "<Figure size 800x400 with 1 Axes>"
      ]
     },
     "metadata": {},
     "output_type": "display_data"
    }
   ],
   "source": [
    "# De las predicciones construimos un histograma para demostrar que esta equilibrado.\n",
    "\n",
    "plt.figure(figsize=(8, 4))\n",
    "valid[target].hist(ax=plt.gca(), label=\"target\", alpha=0.5)\n",
    "valid[\"prediction\"].hist(ax=plt.gca(), label=\"preds\", alpha=0.5)\n",
    "plt.legend()\n",
    "plt.show()"
   ]
  },
  {
   "cell_type": "markdown",
   "metadata": {},
   "source": [
    "- Analiza los resultados.\n",
    "\n",
    "  Utilizamos un grafico para expresar mejor que el modelo este bien calibrado, a que en promedio va a estar haciendo predicciones dentro del mismo rango y al menos las dos distribuciones estan centradas.\n",
    "  \n",
    "  Tenemos la mayor cantidad de observaciones en lo que llaman \"las colas\" y podemos quizas predecir que es ahi donde el modelo mas se equivoca, cuando las reservas son pocas, o las unidades son pocas o son muy grandes el modelo tiende a equivocarse.\n",
    "  \n",
    "  RMSE: 37.3769 este resultado significa que en promedio nos estamos equivocando como en 37.37 unidades, lo que nos hace desconfiar del modelo, pero vamos a predecir las 200 unidades mas altas para este caso.  \n",
    "  \n",
    "  Pearson correlation: 0.5302 Toma tal cual los valores\n",
    "  \n",
    "  Spearman correlation: 0.5244 En lugar de tomar tal cual los valores les asigna un ranking no con los valores originales"
   ]
  },
  {
   "cell_type": "markdown",
   "metadata": {},
   "source": [
    "### Coloca todos los pasos previos en funciones, realiza y ejecuta los pasos 2.1-2.5 para los archivos 'geo_data_1.csv' y 'geo_data_2.csv'.\n"
   ]
  },
  {
   "cell_type": "code",
   "execution_count": 26,
   "metadata": {},
   "outputs": [],
   "source": [
    "# Combinar df\n",
    "geo_data = pd.merge(geo_data_1, geo_data_2, on='id')\n",
    "\n",
    "# Agrupar el DataFrame combinado por una columna específica:\n",
    "geo_data_result = geo_data.groupby('id').sum()         # Puedes usar sum(), mean(), etc."
   ]
  },
  {
   "cell_type": "code",
   "execution_count": 27,
   "metadata": {},
   "outputs": [
    {
     "data": {
      "text/html": [
       "<div>\n",
       "<style scoped>\n",
       "    .dataframe tbody tr th:only-of-type {\n",
       "        vertical-align: middle;\n",
       "    }\n",
       "\n",
       "    .dataframe tbody tr th {\n",
       "        vertical-align: top;\n",
       "    }\n",
       "\n",
       "    .dataframe thead th {\n",
       "        text-align: right;\n",
       "    }\n",
       "</style>\n",
       "<table border=\"1\" class=\"dataframe\">\n",
       "  <thead>\n",
       "    <tr style=\"text-align: right;\">\n",
       "      <th></th>\n",
       "      <th>f0_x</th>\n",
       "      <th>f1_x</th>\n",
       "      <th>f2_x</th>\n",
       "      <th>product_x</th>\n",
       "      <th>f0_y</th>\n",
       "      <th>f1_y</th>\n",
       "      <th>f2_y</th>\n",
       "      <th>product_y</th>\n",
       "    </tr>\n",
       "    <tr>\n",
       "      <th>id</th>\n",
       "      <th></th>\n",
       "      <th></th>\n",
       "      <th></th>\n",
       "      <th></th>\n",
       "      <th></th>\n",
       "      <th></th>\n",
       "      <th></th>\n",
       "      <th></th>\n",
       "    </tr>\n",
       "  </thead>\n",
       "  <tbody>\n",
       "    <tr>\n",
       "      <th>D8TNs</th>\n",
       "      <td>-0.646266</td>\n",
       "      <td>3.667055</td>\n",
       "      <td>1.006161</td>\n",
       "      <td>30.132364</td>\n",
       "      <td>0.280382</td>\n",
       "      <td>0.061393</td>\n",
       "      <td>4.887870</td>\n",
       "      <td>114.943876</td>\n",
       "    </tr>\n",
       "    <tr>\n",
       "      <th>TAqwC</th>\n",
       "      <td>-13.045712</td>\n",
       "      <td>-13.056006</td>\n",
       "      <td>0.007640</td>\n",
       "      <td>3.179103</td>\n",
       "      <td>-0.176382</td>\n",
       "      <td>-0.503558</td>\n",
       "      <td>1.877303</td>\n",
       "      <td>38.618695</td>\n",
       "    </tr>\n",
       "    <tr>\n",
       "      <th>g2I86</th>\n",
       "      <td>17.818406</td>\n",
       "      <td>2.946716</td>\n",
       "      <td>0.991640</td>\n",
       "      <td>26.953261</td>\n",
       "      <td>-1.616730</td>\n",
       "      <td>1.110380</td>\n",
       "      <td>4.226968</td>\n",
       "      <td>107.940639</td>\n",
       "    </tr>\n",
       "    <tr>\n",
       "      <th>uMqiK</th>\n",
       "      <td>2.734183</td>\n",
       "      <td>-3.102346</td>\n",
       "      <td>-0.002654</td>\n",
       "      <td>0.000000</td>\n",
       "      <td>-1.772509</td>\n",
       "      <td>0.152085</td>\n",
       "      <td>-0.422541</td>\n",
       "      <td>119.682928</td>\n",
       "    </tr>\n",
       "  </tbody>\n",
       "</table>\n",
       "</div>"
      ],
      "text/plain": [
       "            f0_x       f1_x      f2_x  product_x      f0_y      f1_y  \\\n",
       "id                                                                     \n",
       "D8TNs  -0.646266   3.667055  1.006161  30.132364  0.280382  0.061393   \n",
       "TAqwC -13.045712 -13.056006  0.007640   3.179103 -0.176382 -0.503558   \n",
       "g2I86  17.818406   2.946716  0.991640  26.953261 -1.616730  1.110380   \n",
       "uMqiK   2.734183  -3.102346 -0.002654   0.000000 -1.772509  0.152085   \n",
       "\n",
       "           f2_y   product_y  \n",
       "id                           \n",
       "D8TNs  4.887870  114.943876  \n",
       "TAqwC  1.877303   38.618695  \n",
       "g2I86  4.226968  107.940639  \n",
       "uMqiK -0.422541  119.682928  "
      ]
     },
     "execution_count": 27,
     "metadata": {},
     "output_type": "execute_result"
    }
   ],
   "source": [
    "geo_data_result.head()"
   ]
  },
  {
   "cell_type": "code",
   "execution_count": 28,
   "metadata": {},
   "outputs": [],
   "source": [
    "# Función de ambos df\n",
    "\n",
    "def geo_data_result(\n",
    "    df, \n",
    "    geo_data,\n",
    "    target='product', \n",
    "    entity_columns=['id'],\n",
    "    print_geo=False\n",
    "):\n",
    "    features = [f for f in df.columns if f not in [target] + entity_columns]\n",
    "    train, valid = train_test_split(df.copy(), test_size=0.25, random_state=88)\n",
    "    \n",
    "    model = LinearRegression()\n",
    "    model.fit(train[features], train[target])\n",
    "    \n",
    "    preds_result = model.predict(valid[features])\n",
    "    valid.loc[:, \"prediction\"] = preds_result\n",
    "    \n",
    "    if print_geo:    \n",
    "        print(f\"\"\"\n",
    "        Mean target (valid): {round(valid[target].mean(), 4)} \n",
    "        Mean prediction: {round(preds_result.mean(), 4)}\n",
    "        RMSE: {round(mean_squared_error(valid[target], preds_result)**0.5, 4)}\n",
    "        R2: {round(r2_score(valid[target], preds_result), 4)}\n",
    "        Pearson correlation: {round(pearsonr(valid[target], preds_result)[0], 4)} \n",
    "        Spearman correlation: {round(spearmanr(valid[target], preds_result).correlation, 4)}\n",
    "        \"\"\")\n",
    "    return valid"
   ]
  },
  {
   "cell_type": "code",
   "execution_count": 29,
   "metadata": {},
   "outputs": [],
   "source": [
    "# Identificamos las caracteristicas región en geo_data_1.csv\n",
    "target = 'product'\n",
    "entity_columns = ['id'] \n",
    "features = [f for f in geo_data_1.columns if f not in [target] + entity_columns] \n",
    "\n",
    "train, valid = train_test_split(geo_data_1, test_size=0.25, random_state=88) "
   ]
  },
  {
   "cell_type": "code",
   "execution_count": 30,
   "metadata": {},
   "outputs": [
    {
     "name": "stdout",
     "output_type": "stream",
     "text": [
      "\n",
      "        Mean target (valid): 68.3398 \n",
      "        Mean prediction: 68.3143\n",
      "        RMSE: 0.902\n",
      "        R2: 0.9996\n",
      "        Pearson correlation: 0.9998 \n",
      "        Spearman correlation: 0.9956\n",
      "        \n"
     ]
    }
   ],
   "source": [
    "# Entrena y prueba el modelo para cada región en geo_data_1.csv\n",
    "\n",
    "for df in [valid]:\n",
    "    geo_data_result(df, geo_data_1, print_geo=True)"
   ]
  },
  {
   "cell_type": "code",
   "execution_count": 31,
   "metadata": {},
   "outputs": [],
   "source": [
    "# Identificamos las caracteristicas región en geo_data_2.csv\n",
    "target = 'product'\n",
    "entity_columns = ['id'] \n",
    "features = [f for f in geo_data_2.columns if f not in [target] + entity_columns] \n",
    "\n",
    "train, valid = train_test_split(geo_data_2, test_size=0.25, random_state=88) "
   ]
  },
  {
   "cell_type": "code",
   "execution_count": 32,
   "metadata": {
    "scrolled": true
   },
   "outputs": [
    {
     "name": "stdout",
     "output_type": "stream",
     "text": [
      "\n",
      "        Mean target (valid): 94.6305 \n",
      "        Mean prediction: 94.749\n",
      "        RMSE: 40.3149\n",
      "        R2: 0.1926\n",
      "        Pearson correlation: 0.439 \n",
      "        Spearman correlation: 0.4412\n",
      "        \n"
     ]
    }
   ],
   "source": [
    "# Entrena y prueba el modelo para cada región en geo_data_2.csv\n",
    "\n",
    "for df in [valid]:\n",
    "    geo_data_result(df, geo_data_2, print_geo=True)"
   ]
  },
  {
   "cell_type": "markdown",
   "metadata": {},
   "source": [
    "Conclusiones:\n",
    "- "
   ]
  },
  {
   "cell_type": "markdown",
   "metadata": {},
   "source": [
    "Hasta ahora la región con mejores predicciones es la región en geo_data_1.csv"
   ]
  },
  {
   "cell_type": "markdown",
   "metadata": {},
   "source": [
    "Estos resultados son métricas comunes para evaluar el rendimiento de un modelo de regresión:\n",
    "\n",
    "- Mean target (valid): Es el promedio del valor real de tu variable objetivo en el conjunto de validación.\n",
    "- Mean prediction: Es el promedio de las predicciones hechas por tu modelo.\n",
    "- RMSE (Root Mean Squared Error): Es la raíz cuadrada del error cuadrático medio. Mide la diferencia entre los valores predichos por el modelo y los valores reales. Un RMSE más bajo indica un mejor ajuste del modelo a los datos.\n",
    "- R2 (R-squared): Es el coeficiente de determinación. Mide la proporción de la variabilidad de la variable dependiente que es predecible a partir de las variables independientes. Un valor de R2 más cercano a 1 indica que el modelo explica una gran proporción de la variabilidad.\n",
    "- Pearson correlation: Mide la correlación lineal entre las predicciones y los valores reales. Un valor cercano a 1 indica una fuerte correlación positiva.\n",
    "- Spearman correlation: Mide la correlación de rango entre las predicciones y los valores reales. También un valor cercano a 1 indica una fuerte correlación positiva.\n",
    "- En este caso, los valores altos de R2 y las correlaciones indican que el modelo está realizando muy bien las predicciones, con una alta precisión en comparación con los valores reales."
   ]
  },
  {
   "cell_type": "code",
   "execution_count": 33,
   "metadata": {},
   "outputs": [
    {
     "data": {
      "text/html": [
       "<div>\n",
       "<style scoped>\n",
       "    .dataframe tbody tr th:only-of-type {\n",
       "        vertical-align: middle;\n",
       "    }\n",
       "\n",
       "    .dataframe tbody tr th {\n",
       "        vertical-align: top;\n",
       "    }\n",
       "\n",
       "    .dataframe thead th {\n",
       "        text-align: right;\n",
       "    }\n",
       "</style>\n",
       "<table border=\"1\" class=\"dataframe\">\n",
       "  <thead>\n",
       "    <tr style=\"text-align: right;\">\n",
       "      <th></th>\n",
       "      <th>id</th>\n",
       "      <th>f0</th>\n",
       "      <th>f1</th>\n",
       "      <th>f2</th>\n",
       "      <th>product</th>\n",
       "    </tr>\n",
       "  </thead>\n",
       "  <tbody>\n",
       "    <tr>\n",
       "      <th>87676</th>\n",
       "      <td>hSNQ1</td>\n",
       "      <td>3.757045</td>\n",
       "      <td>-0.763501</td>\n",
       "      <td>8.485584</td>\n",
       "      <td>168.989257</td>\n",
       "    </tr>\n",
       "    <tr>\n",
       "      <th>31492</th>\n",
       "      <td>WZRKo</td>\n",
       "      <td>-1.211181</td>\n",
       "      <td>1.288807</td>\n",
       "      <td>6.889363</td>\n",
       "      <td>89.151554</td>\n",
       "    </tr>\n",
       "    <tr>\n",
       "      <th>35517</th>\n",
       "      <td>aAKsw</td>\n",
       "      <td>-1.010040</td>\n",
       "      <td>-1.474991</td>\n",
       "      <td>6.117334</td>\n",
       "      <td>141.126068</td>\n",
       "    </tr>\n",
       "    <tr>\n",
       "      <th>37967</th>\n",
       "      <td>2Z156</td>\n",
       "      <td>1.943389</td>\n",
       "      <td>0.908113</td>\n",
       "      <td>0.296594</td>\n",
       "      <td>156.962126</td>\n",
       "    </tr>\n",
       "    <tr>\n",
       "      <th>72103</th>\n",
       "      <td>0PM2H</td>\n",
       "      <td>0.403979</td>\n",
       "      <td>0.942331</td>\n",
       "      <td>1.766959</td>\n",
       "      <td>106.932658</td>\n",
       "    </tr>\n",
       "  </tbody>\n",
       "</table>\n",
       "</div>"
      ],
      "text/plain": [
       "          id        f0        f1        f2     product\n",
       "87676  hSNQ1  3.757045 -0.763501  8.485584  168.989257\n",
       "31492  WZRKo -1.211181  1.288807  6.889363   89.151554\n",
       "35517  aAKsw -1.010040 -1.474991  6.117334  141.126068\n",
       "37967  2Z156  1.943389  0.908113  0.296594  156.962126\n",
       "72103  0PM2H  0.403979  0.942331  1.766959  106.932658"
      ]
     },
     "execution_count": 33,
     "metadata": {},
     "output_type": "execute_result"
    }
   ],
   "source": [
    "valid.head()"
   ]
  },
  {
   "cell_type": "markdown",
   "metadata": {},
   "source": [
    "## Prepárate para el cálculo de ganancias:\n",
    "\n",
    "- Almacena todos los valores necesarios para los cálculos en variables separadas.\n",
    "\n",
    "- Dada la inversión de 100 millones por 200 pozos petrolíferos, de media un pozo petrolífero debe producir al menos un valor de 500,000 dólares en unidades para evitar pérdidas (esto es equivalente a 111.1 unidades). Compara esta cantidad con la cantidad media de reservas en cada región.\n",
    "\n",
    "- Presenta conclusiones sobre cómo preparar el paso para calcular el beneficio."
   ]
  },
  {
   "cell_type": "code",
   "execution_count": 34,
   "metadata": {},
   "outputs": [],
   "source": [
    "# Almacena todos los valores necesarios para los cálculos en variables separadas.\n",
    "\n",
    "income_per_unit = 4500 # El ingreso de una unidad de producto es de 4500 dólares\n",
    "risk_threshold = 0.025 # Regiones con riesgo de pérdidas inferior al 2.5%\n",
    "cost_200_wells = 100000000  # Dada la inversión de 100 millones por 200 es 100.000.000/200 = 500.000\n",
    "cost_per_well = cost_200_wells / 200 # El presupuesto para el desarrollo de 200 pozos petroleros"
   ]
  },
  {
   "cell_type": "code",
   "execution_count": 35,
   "metadata": {},
   "outputs": [
    {
     "data": {
      "text/plain": [
       "111.11111111111111"
      ]
     },
     "execution_count": 35,
     "metadata": {},
     "output_type": "execute_result"
    }
   ],
   "source": [
    "# Esto es equivalente a 111.1 unidades\n",
    "cost_per_well / income_per_unit"
   ]
  },
  {
   "cell_type": "code",
   "execution_count": 36,
   "metadata": {},
   "outputs": [
    {
     "name": "stdout",
     "output_type": "stream",
     "text": [
      "Index(['id', 'f0', 'f1', 'f2', 'product'], dtype='object')\n"
     ]
    }
   ],
   "source": [
    "print(valid.columns)"
   ]
  },
  {
   "cell_type": "markdown",
   "metadata": {},
   "source": [
    "## Escribe una función para calcular la ganancia de un conjunto de pozos de petróleo seleccionados y modela las predicciones:\n",
    "\n",
    "- Elige los 200 pozos con los valores de predicción más altos de cada una de las 3 regiones (es decir, archivos 'csv').\n",
    "\n",
    "- Resume el volumen objetivo de reservas según dichas predicciones. Almacena las predicciones para los 200 pozos para cada una de las 3 regiones.\n",
    "\n",
    "- Calcula la ganancia potencial de los 200 pozos principales por región. Presenta tus conclusiones: propón una región para el desarrollo de pozos petrolíferos y justifica tu elección."
   ]
  },
  {
   "cell_type": "code",
   "execution_count": 37,
   "metadata": {},
   "outputs": [],
   "source": [
    "# Elige los 200 pozos con los valores de predicción más altos de cada una de las 3 regiones (es decir, archivos 'csv').\n",
    "\n",
    "def compute_gains(\n",
    "    df,\n",
    "    region_name,\n",
    "    prediction_col=\"prediction\",\n",
    "    product_col=\"product\",\n",
    "    income_per_unit=income_per_unit,\n",
    "    cost_200_wells=cost_200_wells,\n",
    "    print_result=False\n",
    "):\n",
    "    \n",
    "    df_ordered = df.sort_values(by=prediction_col, ascending=False).reset_index() #Ordenar el DataFrame según la columna de predicción”.\n",
    "    top_200_wells = df_ordered.head(200) # Elegimos los 200 pozos \n",
    "    \n",
    "    real_revenues = top_200_wells[product_col].sum()*income_per_unit # volumen objetivo\n",
    "    estimated_revenues = top_200_wells[prediction_col].sum()*income_per_unit # Calculamos las ganancias\n",
    "    \n",
    "    if print_result:\n",
    "        print(f\"\"\"\n",
    "        {region_name}\n",
    "        Mean predicted target: {round(top_200_wells[prediction_col].mean(), 4)} \n",
    "        Mean target: {round(top_200_wells[product_col].mean(), 4)}\n",
    "\n",
    "        Estimated revenues: {round(estimated_revenues, 4)} \n",
    "        Estimated profit: {round(estimated_revenues - cost_200_wells, 4)}\n",
    "        \n",
    "        Real revenues: {round(real_revenues, 4)}\n",
    "        Real profit: {round(real_revenues - cost_200_wells, 4)}\n",
    "        -----------------------------------------------------------------\n",
    "        \"\"\")\n",
    "    \n",
    "    return real_revenues, estimated_revenues"
   ]
  },
  {
   "cell_type": "code",
   "execution_count": 38,
   "metadata": {},
   "outputs": [
    {
     "name": "stderr",
     "output_type": "stream",
     "text": [
      "/tmp/ipykernel_49/72283520.py:9: SettingWithCopyWarning: \n",
      "A value is trying to be set on a copy of a slice from a DataFrame.\n",
      "Try using .loc[row_indexer,col_indexer] = value instead\n",
      "\n",
      "See the caveats in the documentation: https://pandas.pydata.org/pandas-docs/stable/user_guide/indexing.html#returning-a-view-versus-a-copy\n",
      "  valid_0[\"prediction\"] = preds_0\n"
     ]
    }
   ],
   "source": [
    "# Región 0\n",
    "\n",
    "train, valid_0 = train_test_split(geo_data_0, test_size=0.25, random_state=88) \n",
    "\n",
    "model_0 = LinearRegression()\n",
    "model_0.fit(train[features], train[target])\n",
    "\n",
    "preds_0 = model_0.predict(valid_0[features])\n",
    "valid_0[\"prediction\"] = preds_0"
   ]
  },
  {
   "cell_type": "code",
   "execution_count": 39,
   "metadata": {},
   "outputs": [
    {
     "name": "stdout",
     "output_type": "stream",
     "text": [
      "\n",
      "        region_0\n",
      "        Mean predicted target: 154.5402 \n",
      "        Mean target: 147.9285\n",
      "\n",
      "        Estimated revenues: 139086182.0648 \n",
      "        Estimated profit: 39086182.0648\n",
      "        \n",
      "        Real revenues: 133135684.391\n",
      "        Real profit: 33135684.391\n",
      "        -----------------------------------------------------------------\n",
      "        \n"
     ]
    }
   ],
   "source": [
    "# Almacena las predicciones para los 200 pozos para cada una de las 3 regiones.\n",
    "# Calcula la ganancia potencial de los 200 pozos principales por región. \n",
    "# Modelo para cada región en geo_data_0.csv\n",
    "\n",
    "for df in [valid_0]:\n",
    "    compute_gains(df, region_name=\"region_0\", print_result=True)"
   ]
  },
  {
   "cell_type": "code",
   "execution_count": 40,
   "metadata": {},
   "outputs": [
    {
     "name": "stderr",
     "output_type": "stream",
     "text": [
      "/tmp/ipykernel_49/1569518096.py:9: SettingWithCopyWarning: \n",
      "A value is trying to be set on a copy of a slice from a DataFrame.\n",
      "Try using .loc[row_indexer,col_indexer] = value instead\n",
      "\n",
      "See the caveats in the documentation: https://pandas.pydata.org/pandas-docs/stable/user_guide/indexing.html#returning-a-view-versus-a-copy\n",
      "  valid_1[\"prediction\"] = preds_1\n"
     ]
    }
   ],
   "source": [
    "# Región 1\n",
    "\n",
    "train, valid_1 = train_test_split(geo_data_1, test_size=0.25, random_state=88) \n",
    "\n",
    "model_1 = LinearRegression()\n",
    "model_1.fit(train[features], train[target])\n",
    "\n",
    "preds_1 = model_1.predict(valid_1[features])\n",
    "valid_1[\"prediction\"] = preds_1\n"
   ]
  },
  {
   "cell_type": "code",
   "execution_count": 41,
   "metadata": {},
   "outputs": [
    {
     "name": "stdout",
     "output_type": "stream",
     "text": [
      "\n",
      "        region_1\n",
      "        Mean predicted target: 138.6664 \n",
      "        Mean target: 137.9454\n",
      "\n",
      "        Estimated revenues: 124799754.3869 \n",
      "        Estimated profit: 24799754.3869\n",
      "        \n",
      "        Real revenues: 124150866.9668\n",
      "        Real profit: 24150866.9668\n",
      "        -----------------------------------------------------------------\n",
      "        \n"
     ]
    }
   ],
   "source": [
    "for df in [valid_1]:\n",
    "    compute_gains(df, region_name=\"region_1\", print_result=True)"
   ]
  },
  {
   "cell_type": "code",
   "execution_count": 51,
   "metadata": {},
   "outputs": [
    {
     "name": "stderr",
     "output_type": "stream",
     "text": [
      "/tmp/ipykernel_49/302304540.py:9: SettingWithCopyWarning: \n",
      "A value is trying to be set on a copy of a slice from a DataFrame.\n",
      "Try using .loc[row_indexer,col_indexer] = value instead\n",
      "\n",
      "See the caveats in the documentation: https://pandas.pydata.org/pandas-docs/stable/user_guide/indexing.html#returning-a-view-versus-a-copy\n",
      "  valid_2[\"prediction\"] = preds_2\n"
     ]
    }
   ],
   "source": [
    "# Región 2\n",
    "\n",
    "train, valid_2 = train_test_split(geo_data_2, test_size=0.25, random_state=88) \n",
    "\n",
    "model_2 = LinearRegression()\n",
    "model_2.fit(train[features], train[target])\n",
    "\n",
    "preds_2 = model_2.predict(valid_2[features])\n",
    "valid_2[\"prediction\"] = preds_2\n"
   ]
  },
  {
   "cell_type": "code",
   "execution_count": 52,
   "metadata": {},
   "outputs": [
    {
     "name": "stdout",
     "output_type": "stream",
     "text": [
      "\n",
      "        region_2\n",
      "        Mean predicted target: 148.7107 \n",
      "        Mean target: 139.2355\n",
      "\n",
      "        Estimated revenues: 133839590.3859 \n",
      "        Estimated profit: 33839590.3859\n",
      "        \n",
      "        Real revenues: 125311974.9758\n",
      "        Real profit: 25311974.9758\n",
      "        -----------------------------------------------------------------\n",
      "        \n"
     ]
    }
   ],
   "source": [
    "for df in [valid_2]:\n",
    "    compute_gains(df, region_name=\"region_2\", print_result=True)"
   ]
  },
  {
   "cell_type": "markdown",
   "metadata": {},
   "source": [
    "Conclusiones:\n",
    "- Presenta tus conclusiones: propón una región para el desarrollo de pozos petrolíferos y justifica tu elección."
   ]
  },
  {
   "cell_type": "markdown",
   "metadata": {},
   "source": [
    "### Región 0:\n",
    "        Mean predicted target: 154.5402 \n",
    "        Mean target: 147.9285\n",
    "\n",
    "        Estimated revenues: 139086182.0648 \n",
    "        Estimated profit: 39086182.0648\n",
    "        \n",
    "        Real revenues: 133135684.391\n",
    "        Real profit: 33135684.391\n",
    "-------------------------------------\n",
    "### Región 1:\n",
    "        Mean predicted target: 138.6664 \n",
    "        Mean target: 137.9454\n",
    "\n",
    "        Estimated revenues: 124799754.3869 \n",
    "        Estimated profit: 24799754.3869\n",
    "        \n",
    "        Real revenues: 124150866.9668\n",
    "        Real profit: 24150866.9668\n",
    "-------------------------------------\n",
    "### Región 2:\n",
    "        Mean predicted target: 148.7107 \n",
    "        Mean target: 139.2355\n",
    "\n",
    "        Estimated revenues: 133839590.3859 \n",
    "        Estimated profit: 33839590.3859\n",
    "        \n",
    "        Real revenues: 125311974.9758\n",
    "        Real profit: 25311974.9758\n",
    "            "
   ]
  },
  {
   "cell_type": "markdown",
   "metadata": {},
   "source": [
    "## Análisis:\n",
    "\n",
    "- En términos de ingresos estimados, de mayor a menor. \n",
    "- Región 0 = 139,086,182.0648\n",
    "- Región 2 = 133,839,590.3859 \n",
    "- Región 1 = 124,799,754.3869 \n",
    "\n",
    "- La Región 0 muestra un alto ingreso estimado, pero su beneficio real es negativo debido a los costos involucrados.\n",
    "- Cuando consideramos el beneficio real, la Región 0 tiene el mayor beneficio, seguida por la Región 0 y luego la Región 1."
   ]
  },
  {
   "cell_type": "markdown",
   "metadata": {},
   "source": [
    "## Calcula riesgos y ganancias para cada región:\n",
    "\n",
    "Utilizando las predicciones que almacenaste en el paso 4.2, emplea la técnica del bootstrapping con 1000 muestras para hallar la distribución de los beneficios.\n",
    "\n",
    "Encuentra el beneficio promedio, el intervalo de confianza del 95% y el riesgo de pérdidas. La pérdida es una ganancia negativa, calcúlala como una probabilidad y luego exprésala como un porcentaje.\n",
    "\n",
    "Presenta tus conclusiones: propón una región para el desarrollo de pozos petrolíferos y justifica tu elección. ¿Coincide tu elección con la elección anterior en el punto 4.3?"
   ]
  },
  {
   "cell_type": "code",
   "execution_count": 53,
   "metadata": {},
   "outputs": [],
   "source": [
    "# técnica bootstrapping."
   ]
  },
  {
   "cell_type": "code",
   "execution_count": 54,
   "metadata": {},
   "outputs": [
    {
     "name": "stdout",
     "output_type": "stream",
     "text": [
      "name1 100\n",
      "name2 200\n"
     ]
    }
   ],
   "source": [
    "# funsión zip toma 2 valores string asociados con un valir númerico \n",
    "\n",
    "for name, value in zip([\"name1\", \"name2\"], [100, 200]):\n",
    "    print(name, value)"
   ]
  },
  {
   "cell_type": "code",
   "execution_count": 55,
   "metadata": {},
   "outputs": [
    {
     "name": "stdout",
     "output_type": "stream",
     "text": [
      "CPU times: user 5.18 s, sys: 6.36 ms, total: 5.18 s\n",
      "Wall time: 5.2 s\n"
     ]
    }
   ],
   "source": [
    "%%time\n",
    "bootstrap_reps = 1000   # Muestra de 1000\n",
    "bootstrap_size = 500    # Instrucciones: Al explorar la región, se lleva a cabo un estudio de \n",
    "                        # 500 puntos con la selección de los mejores 200 puntos para el\n",
    "                        # cálculo del beneficio.\n",
    "results = {}\n",
    "\n",
    "for region_name, df in zip([\"region_0\", \"region_1\", \"region_2\"], [valid_0, valid_1, valid_2]):\n",
    "    region_gains = []\n",
    "    \n",
    "    for i in np.arange(1, bootstrap_reps):\n",
    "        \n",
    "        bootstrap_sample = df.sample(n=bootstrap_size, replace=True) # Muestra bootstrap con replace en True\n",
    "        real_revenues, esitmated_revenues = compute_gains(bootstrap_sample, region_name=\"region_0\")\n",
    "        \n",
    "        region_gains.append(real_revenues - cost_200_wells)\n",
    "    \n",
    "    results[region_name] = {\n",
    "        \"gains\": region_gains,\n",
    "        \"is_loss\": [g < 0 for g in region_gains]\n",
    "    }"
   ]
  },
  {
   "cell_type": "code",
   "execution_count": 56,
   "metadata": {},
   "outputs": [
    {
     "name": "stdout",
     "output_type": "stream",
     "text": [
      "\n",
      "    Region: region_0\n",
      "    Risk level: 0.0631\n",
      "    \n"
     ]
    }
   ],
   "source": [
    "for region in ['region_0']:\n",
    "    \n",
    "    print(f\"\"\"\n",
    "    Region: {region}\n",
    "    Risk level: {round(sum(results.get(region).get('is_loss')) / len(results.get(region).get('is_loss')), 4)}\n",
    "    \"\"\")"
   ]
  },
  {
   "cell_type": "code",
   "execution_count": 57,
   "metadata": {},
   "outputs": [
    {
     "name": "stdout",
     "output_type": "stream",
     "text": [
      "\n",
      "    Region: region_1\n",
      "    Risk level: 0.009\n",
      "    \n"
     ]
    }
   ],
   "source": [
    "for region in ['region_1']:\n",
    "    \n",
    "    print(f\"\"\"\n",
    "    Region: {region}\n",
    "    Risk level: {round(sum(results.get(region).get('is_loss')) / len(results.get(region).get('is_loss')), 4)}\n",
    "    \"\"\")"
   ]
  },
  {
   "cell_type": "code",
   "execution_count": 58,
   "metadata": {},
   "outputs": [
    {
     "name": "stdout",
     "output_type": "stream",
     "text": [
      "\n",
      "    Region: region_2\n",
      "    Risk level: 0.0921\n",
      "    \n"
     ]
    }
   ],
   "source": [
    "for region in ['region_2']:\n",
    "    \n",
    "    print(f\"\"\"\n",
    "    Region: {region}\n",
    "    Risk level: {round(sum(results.get(region).get('is_loss')) / len(results.get(region).get('is_loss')), 4)}\n",
    "    \"\"\")"
   ]
  },
  {
   "cell_type": "markdown",
   "metadata": {},
   "source": [
    "### Conclusiones \n",
    "-  La Región 1 es la mejor opción debido a su bajo nivel de riesgo.  \n",
    "\n",
    "- A diferencia del beneficio real, la Región 0 tiene el mayor beneficio, en la conclusión anterior.         "
   ]
  },
  {
   "cell_type": "code",
   "execution_count": 59,
   "metadata": {},
   "outputs": [
    {
     "data": {
      "image/png": "[encoded data removed]",
      "text/plain": [
       "<Figure size 800x600 with 1 Axes>"
      ]
     },
     "metadata": {},
     "output_type": "display_data"
    }
   ],
   "source": [
    "# Obtén los beneficios de la Región 1\n",
    "region_0_gains = results.get(\"region_1\").get(\"gains\")\n",
    "\n",
    "# Crea un histograma\n",
    "plt.figure(figsize=(8, 6))\n",
    "plt.hist(region_0_gains, bins=20, color='skyblue', edgecolor='black')\n",
    "plt.xlabel('Beneficios')\n",
    "plt.ylabel('Frecuencia')\n",
    "plt.title('Distribución de Beneficios en la Región 1')\n",
    "plt.grid(True)\n",
    "\n",
    "# Muestra el gráfico\n",
    "plt.show()\n"
   ]
  }
 ],
 "metadata": {
  "ExecuteTimeLog": [
   {
    "duration": 5242,
    "start_time": "2024-06-14T20:53:57.019Z"
   },
   {
    "duration": 514,
    "start_time": "2024-06-14T20:56:39.218Z"
   },
   {
    "duration": 367,
    "start_time": "2024-06-14T20:56:47.740Z"
   },
   {
    "duration": 19,
    "start_time": "2024-06-14T20:56:58.722Z"
   },
   {
    "duration": 47,
    "start_time": "2024-06-14T20:57:22.286Z"
   },
   {
    "duration": 457,
    "start_time": "2024-06-14T20:58:01.144Z"
   },
   {
    "duration": 60,
    "start_time": "2024-06-14T20:58:02.520Z"
   },
   {
    "duration": 8,
    "start_time": "2024-06-14T20:59:08.061Z"
   },
   {
    "duration": 9,
    "start_time": "2024-06-14T20:59:21.836Z"
   },
   {
    "duration": 5,
    "start_time": "2024-06-14T20:59:58.533Z"
   },
   {
    "duration": 5,
    "start_time": "2024-06-14T21:00:03.438Z"
   },
   {
    "duration": 15,
    "start_time": "2024-06-14T21:00:19.527Z"
   },
   {
    "duration": 4,
    "start_time": "2024-06-14T21:00:39.571Z"
   },
   {
    "duration": 14,
    "start_time": "2024-06-14T21:00:48.016Z"
   },
   {
    "duration": 15,
    "start_time": "2024-06-14T21:01:00.558Z"
   },
   {
    "duration": 14,
    "start_time": "2024-06-14T21:01:01.273Z"
   },
   {
    "duration": 6,
    "start_time": "2024-06-14T22:04:47.597Z"
   },
   {
    "duration": 6,
    "start_time": "2024-06-14T22:04:50.878Z"
   },
   {
    "duration": 6,
    "start_time": "2024-06-14T22:04:55.532Z"
   },
   {
    "duration": 6,
    "start_time": "2024-06-14T22:05:01.841Z"
   },
   {
    "duration": 5,
    "start_time": "2024-06-14T22:05:05.557Z"
   },
   {
    "duration": 3,
    "start_time": "2024-06-14T22:05:14.988Z"
   },
   {
    "duration": 6,
    "start_time": "2024-06-14T22:05:17.587Z"
   },
   {
    "duration": 5,
    "start_time": "2024-06-14T22:05:23.115Z"
   },
   {
    "duration": 5,
    "start_time": "2024-06-14T22:05:38.700Z"
   },
   {
    "duration": 5,
    "start_time": "2024-06-14T22:05:39.345Z"
   },
   {
    "duration": 6,
    "start_time": "2024-06-14T22:05:40.072Z"
   },
   {
    "duration": 462,
    "start_time": "2024-06-14T22:12:24.723Z"
   },
   {
    "duration": 23,
    "start_time": "2024-06-14T22:12:33.285Z"
   },
   {
    "duration": 26,
    "start_time": "2024-06-14T22:12:49.439Z"
   },
   {
    "duration": 1424,
    "start_time": "2024-06-14T22:12:57.226Z"
   },
   {
    "duration": 372,
    "start_time": "2024-06-14T22:12:58.654Z"
   },
   {
    "duration": 44,
    "start_time": "2024-06-14T22:12:59.030Z"
   },
   {
    "duration": 17,
    "start_time": "2024-06-14T22:12:59.077Z"
   },
   {
    "duration": 36,
    "start_time": "2024-06-14T22:12:59.099Z"
   },
   {
    "duration": 13,
    "start_time": "2024-06-14T22:12:59.138Z"
   },
   {
    "duration": 6,
    "start_time": "2024-06-14T22:12:59.154Z"
   },
   {
    "duration": 5,
    "start_time": "2024-06-14T22:12:59.164Z"
   },
   {
    "duration": 5,
    "start_time": "2024-06-14T22:12:59.173Z"
   },
   {
    "duration": 546,
    "start_time": "2024-06-14T22:12:59.181Z"
   },
   {
    "duration": 27,
    "start_time": "2024-06-14T22:13:32.164Z"
   },
   {
    "duration": 393,
    "start_time": "2024-06-14T22:14:31.078Z"
   },
   {
    "duration": 49,
    "start_time": "2024-06-14T22:14:31.972Z"
   },
   {
    "duration": 43,
    "start_time": "2024-06-14T22:14:37.174Z"
   },
   {
    "duration": 11,
    "start_time": "2024-06-14T22:14:54.498Z"
   },
   {
    "duration": 13,
    "start_time": "2024-06-14T22:14:55.304Z"
   },
   {
    "duration": 13,
    "start_time": "2024-06-14T22:14:55.944Z"
   },
   {
    "duration": 17,
    "start_time": "2024-06-14T22:15:03.107Z"
   },
   {
    "duration": 6,
    "start_time": "2024-06-14T22:15:11.417Z"
   },
   {
    "duration": 5,
    "start_time": "2024-06-14T22:15:24.133Z"
   },
   {
    "duration": 24,
    "start_time": "2024-06-14T22:15:27.903Z"
   },
   {
    "duration": 8,
    "start_time": "2024-06-14T22:15:31.545Z"
   },
   {
    "duration": 378,
    "start_time": "2024-06-14T22:15:42.320Z"
   },
   {
    "duration": 43,
    "start_time": "2024-06-14T22:15:43.282Z"
   },
   {
    "duration": 12,
    "start_time": "2024-06-14T22:15:43.939Z"
   },
   {
    "duration": 12,
    "start_time": "2024-06-14T22:15:44.386Z"
   },
   {
    "duration": 12,
    "start_time": "2024-06-14T22:15:44.824Z"
   },
   {
    "duration": 5,
    "start_time": "2024-06-14T22:15:46.840Z"
   },
   {
    "duration": 5,
    "start_time": "2024-06-14T22:15:47.305Z"
   },
   {
    "duration": 6,
    "start_time": "2024-06-14T22:15:47.697Z"
   },
   {
    "duration": 7,
    "start_time": "2024-06-14T22:15:48.089Z"
   },
   {
    "duration": 7,
    "start_time": "2024-06-14T22:16:21.315Z"
   },
   {
    "duration": 9,
    "start_time": "2024-06-14T22:16:22.057Z"
   },
   {
    "duration": 12,
    "start_time": "2024-06-14T22:17:10.490Z"
   },
   {
    "duration": 13,
    "start_time": "2024-06-14T22:17:25.877Z"
   },
   {
    "duration": 14,
    "start_time": "2024-06-14T22:17:26.574Z"
   },
   {
    "duration": 64,
    "start_time": "2024-06-14T22:17:58.310Z"
   },
   {
    "duration": 53,
    "start_time": "2024-06-14T22:18:10.627Z"
   },
   {
    "duration": 63,
    "start_time": "2024-06-14T22:18:11.276Z"
   },
   {
    "duration": 166,
    "start_time": "2024-06-14T22:18:30.295Z"
   },
   {
    "duration": 191,
    "start_time": "2024-06-14T22:18:34.846Z"
   },
   {
    "duration": 166,
    "start_time": "2024-06-14T22:18:42.740Z"
   },
   {
    "duration": 82,
    "start_time": "2024-06-14T22:18:48.031Z"
   },
   {
    "duration": 3,
    "start_time": "2024-06-14T22:19:58.970Z"
   },
   {
    "duration": 3,
    "start_time": "2024-06-14T22:24:46.352Z"
   },
   {
    "duration": 4,
    "start_time": "2024-06-14T22:25:45.739Z"
   },
   {
    "duration": 5,
    "start_time": "2024-06-14T22:26:13.673Z"
   },
   {
    "duration": 4,
    "start_time": "2024-06-14T22:26:22.482Z"
   },
   {
    "duration": 6,
    "start_time": "2024-06-14T22:26:49.510Z"
   },
   {
    "duration": 21,
    "start_time": "2024-06-14T22:29:47.795Z"
   },
   {
    "duration": 4,
    "start_time": "2024-06-14T22:30:35.522Z"
   },
   {
    "duration": 4,
    "start_time": "2024-06-14T22:32:33.902Z"
   },
   {
    "duration": 3,
    "start_time": "2024-06-14T22:33:00.222Z"
   },
   {
    "duration": 6,
    "start_time": "2024-06-14T22:34:20.028Z"
   },
   {
    "duration": 19,
    "start_time": "2024-06-14T22:34:48.387Z"
   },
   {
    "duration": 32,
    "start_time": "2024-06-14T22:35:30.017Z"
   },
   {
    "duration": 32,
    "start_time": "2024-06-14T22:36:18.000Z"
   },
   {
    "duration": 16,
    "start_time": "2024-06-14T22:37:40.182Z"
   },
   {
    "duration": 25,
    "start_time": "2024-06-14T22:37:47.234Z"
   },
   {
    "duration": 8,
    "start_time": "2024-06-14T22:38:46.962Z"
   },
   {
    "duration": 16,
    "start_time": "2024-06-14T22:38:49.711Z"
   },
   {
    "duration": 7,
    "start_time": "2024-06-14T22:38:50.390Z"
   },
   {
    "duration": 17,
    "start_time": "2024-06-14T22:39:47.589Z"
   },
   {
    "duration": 6,
    "start_time": "2024-06-14T22:41:37.082Z"
   },
   {
    "duration": 21,
    "start_time": "2024-06-14T22:41:48.664Z"
   },
   {
    "duration": 17,
    "start_time": "2024-06-14T22:41:55.222Z"
   },
   {
    "duration": 13,
    "start_time": "2024-06-14T22:45:56.262Z"
   },
   {
    "duration": 282,
    "start_time": "2024-06-14T22:52:24.567Z"
   },
   {
    "duration": 13,
    "start_time": "2024-06-14T22:52:55.147Z"
   },
   {
    "duration": 269,
    "start_time": "2024-06-14T22:54:23.730Z"
   },
   {
    "duration": 7,
    "start_time": "2024-06-14T23:08:30.333Z"
   },
   {
    "duration": 8,
    "start_time": "2024-06-14T23:09:24.404Z"
   },
   {
    "duration": 7,
    "start_time": "2024-06-14T23:09:40.834Z"
   },
   {
    "duration": 7,
    "start_time": "2024-06-14T23:19:48.213Z"
   },
   {
    "duration": 10,
    "start_time": "2024-06-14T23:20:27.410Z"
   },
   {
    "duration": 21,
    "start_time": "2024-06-14T23:20:29.046Z"
   },
   {
    "duration": 19,
    "start_time": "2024-06-14T23:20:39.489Z"
   },
   {
    "duration": 15,
    "start_time": "2024-06-14T23:20:39.919Z"
   },
   {
    "duration": 275,
    "start_time": "2024-06-14T23:20:41.841Z"
   },
   {
    "duration": 5,
    "start_time": "2024-06-14T23:29:20.502Z"
   },
   {
    "duration": 7,
    "start_time": "2024-06-14T23:30:05.178Z"
   },
   {
    "duration": 26,
    "start_time": "2024-06-14T23:30:14.516Z"
   },
   {
    "duration": 28,
    "start_time": "2024-06-14T23:30:28.600Z"
   },
   {
    "duration": 10,
    "start_time": "2024-06-14T23:31:10.745Z"
   },
   {
    "duration": 8,
    "start_time": "2024-06-14T23:31:15.179Z"
   },
   {
    "duration": 7,
    "start_time": "2024-06-14T23:31:33.328Z"
   },
   {
    "duration": 9,
    "start_time": "2024-06-14T23:31:35.253Z"
   },
   {
    "duration": 7,
    "start_time": "2024-06-14T23:31:38.196Z"
   },
   {
    "duration": 19,
    "start_time": "2024-06-14T23:31:38.671Z"
   },
   {
    "duration": 13,
    "start_time": "2024-06-14T23:31:39.704Z"
   },
   {
    "duration": 283,
    "start_time": "2024-06-14T23:31:40.398Z"
   },
   {
    "duration": 4,
    "start_time": "2024-06-14T23:32:24.061Z"
   },
   {
    "duration": 268,
    "start_time": "2024-06-14T23:33:09.473Z"
   },
   {
    "duration": 1409,
    "start_time": "2024-06-14T23:34:55.839Z"
   },
   {
    "duration": 381,
    "start_time": "2024-06-14T23:34:57.251Z"
   },
   {
    "duration": 45,
    "start_time": "2024-06-14T23:34:57.635Z"
   },
   {
    "duration": 16,
    "start_time": "2024-06-14T23:34:57.683Z"
   },
   {
    "duration": 40,
    "start_time": "2024-06-14T23:34:57.702Z"
   },
   {
    "duration": 13,
    "start_time": "2024-06-14T23:34:57.745Z"
   },
   {
    "duration": 5,
    "start_time": "2024-06-14T23:34:57.762Z"
   },
   {
    "duration": 6,
    "start_time": "2024-06-14T23:34:57.770Z"
   },
   {
    "duration": 54,
    "start_time": "2024-06-14T23:34:57.780Z"
   },
   {
    "duration": 7,
    "start_time": "2024-06-14T23:34:57.839Z"
   },
   {
    "duration": 7,
    "start_time": "2024-06-14T23:34:57.850Z"
   },
   {
    "duration": 9,
    "start_time": "2024-06-14T23:34:57.860Z"
   },
   {
    "duration": 12,
    "start_time": "2024-06-14T23:34:57.873Z"
   },
   {
    "duration": 55,
    "start_time": "2024-06-14T23:34:57.888Z"
   },
   {
    "duration": 13,
    "start_time": "2024-06-14T23:34:57.945Z"
   },
   {
    "duration": 98,
    "start_time": "2024-06-14T23:34:57.961Z"
   },
   {
    "duration": 68,
    "start_time": "2024-06-14T23:34:58.064Z"
   },
   {
    "duration": 58,
    "start_time": "2024-06-14T23:34:58.135Z"
   },
   {
    "duration": 41,
    "start_time": "2024-06-14T23:34:58.195Z"
   },
   {
    "duration": 6,
    "start_time": "2024-06-14T23:34:58.238Z"
   },
   {
    "duration": 19,
    "start_time": "2024-06-14T23:34:58.247Z"
   },
   {
    "duration": 8,
    "start_time": "2024-06-14T23:34:58.269Z"
   },
   {
    "duration": 77,
    "start_time": "2024-06-14T23:34:58.279Z"
   },
   {
    "duration": 13,
    "start_time": "2024-06-14T23:34:58.434Z"
   },
   {
    "duration": 1591,
    "start_time": "2024-06-14T23:34:58.449Z"
   },
   {
    "duration": 0,
    "start_time": "2024-06-14T23:35:00.042Z"
   },
   {
    "duration": 8,
    "start_time": "2024-06-14T23:35:14.305Z"
   },
   {
    "duration": 17,
    "start_time": "2024-06-14T23:35:15.049Z"
   },
   {
    "duration": 14,
    "start_time": "2024-06-14T23:35:15.465Z"
   },
   {
    "duration": 333,
    "start_time": "2024-06-14T23:35:16.108Z"
   },
   {
    "duration": 11,
    "start_time": "2024-06-14T23:38:21.963Z"
   },
   {
    "duration": 8,
    "start_time": "2024-06-14T23:38:32.717Z"
   },
   {
    "duration": 27,
    "start_time": "2024-06-14T23:38:37.854Z"
   },
   {
    "duration": 30,
    "start_time": "2024-06-14T23:39:02.335Z"
   },
   {
    "duration": 28,
    "start_time": "2024-06-14T23:39:11.803Z"
   },
   {
    "duration": 19,
    "start_time": "2024-06-14T23:39:14.698Z"
   },
   {
    "duration": 28,
    "start_time": "2024-06-14T23:39:15.758Z"
   },
   {
    "duration": 26,
    "start_time": "2024-06-14T23:39:44.374Z"
   },
   {
    "duration": 26,
    "start_time": "2024-06-14T23:39:53.255Z"
   },
   {
    "duration": 24,
    "start_time": "2024-06-14T23:39:59.960Z"
   },
   {
    "duration": 5,
    "start_time": "2024-06-14T23:40:00.631Z"
   },
   {
    "duration": 19,
    "start_time": "2024-06-14T23:40:01.314Z"
   },
   {
    "duration": 13,
    "start_time": "2024-06-14T23:40:01.965Z"
   },
   {
    "duration": 20,
    "start_time": "2024-06-14T23:40:08.643Z"
   },
   {
    "duration": 15,
    "start_time": "2024-06-14T23:40:10.129Z"
   },
   {
    "duration": 1511,
    "start_time": "2024-06-14T23:40:25.453Z"
   },
   {
    "duration": 440,
    "start_time": "2024-06-14T23:40:26.968Z"
   },
   {
    "duration": 60,
    "start_time": "2024-06-14T23:40:27.413Z"
   },
   {
    "duration": 18,
    "start_time": "2024-06-14T23:40:27.476Z"
   },
   {
    "duration": 37,
    "start_time": "2024-06-14T23:40:27.499Z"
   },
   {
    "duration": 17,
    "start_time": "2024-06-14T23:40:27.540Z"
   },
   {
    "duration": 8,
    "start_time": "2024-06-14T23:40:27.561Z"
   },
   {
    "duration": 8,
    "start_time": "2024-06-14T23:40:27.574Z"
   },
   {
    "duration": 50,
    "start_time": "2024-06-14T23:40:27.586Z"
   },
   {
    "duration": 9,
    "start_time": "2024-06-14T23:40:27.640Z"
   },
   {
    "duration": 9,
    "start_time": "2024-06-14T23:40:27.653Z"
   },
   {
    "duration": 10,
    "start_time": "2024-06-14T23:40:27.665Z"
   },
   {
    "duration": 68,
    "start_time": "2024-06-14T23:40:27.680Z"
   },
   {
    "duration": 19,
    "start_time": "2024-06-14T23:40:27.755Z"
   },
   {
    "duration": 14,
    "start_time": "2024-06-14T23:40:27.777Z"
   },
   {
    "duration": 82,
    "start_time": "2024-06-14T23:40:27.833Z"
   },
   {
    "duration": 79,
    "start_time": "2024-06-14T23:40:27.935Z"
   },
   {
    "duration": 108,
    "start_time": "2024-06-14T23:40:28.033Z"
   },
   {
    "duration": 26,
    "start_time": "2024-06-14T23:40:28.145Z"
   },
   {
    "duration": 6,
    "start_time": "2024-06-14T23:40:28.176Z"
   },
   {
    "duration": 58,
    "start_time": "2024-06-14T23:40:28.186Z"
   },
   {
    "duration": 17,
    "start_time": "2024-06-14T23:40:28.250Z"
   },
   {
    "duration": 86,
    "start_time": "2024-06-14T23:40:28.271Z"
   },
   {
    "duration": 18,
    "start_time": "2024-06-14T23:40:28.432Z"
   },
   {
    "duration": 518,
    "start_time": "2024-06-14T23:40:28.453Z"
   },
   {
    "duration": 4,
    "start_time": "2024-06-14T23:40:28.975Z"
   },
   {
    "duration": 11,
    "start_time": "2024-06-14T23:40:57.408Z"
   },
   {
    "duration": 12,
    "start_time": "2024-06-14T23:41:03.245Z"
   },
   {
    "duration": 22,
    "start_time": "2024-06-14T23:41:04.994Z"
   },
   {
    "duration": 1491,
    "start_time": "2024-06-14T23:41:11.875Z"
   },
   {
    "duration": 425,
    "start_time": "2024-06-14T23:41:13.370Z"
   },
   {
    "duration": 65,
    "start_time": "2024-06-14T23:41:13.800Z"
   },
   {
    "duration": 24,
    "start_time": "2024-06-14T23:41:13.869Z"
   },
   {
    "duration": 38,
    "start_time": "2024-06-14T23:41:13.900Z"
   },
   {
    "duration": 14,
    "start_time": "2024-06-14T23:41:13.942Z"
   },
   {
    "duration": 6,
    "start_time": "2024-06-14T23:41:13.959Z"
   },
   {
    "duration": 6,
    "start_time": "2024-06-14T23:41:13.970Z"
   },
   {
    "duration": 53,
    "start_time": "2024-06-14T23:41:13.980Z"
   },
   {
    "duration": 8,
    "start_time": "2024-06-14T23:41:14.037Z"
   },
   {
    "duration": 9,
    "start_time": "2024-06-14T23:41:14.049Z"
   },
   {
    "duration": 9,
    "start_time": "2024-06-14T23:41:14.061Z"
   },
   {
    "duration": 73,
    "start_time": "2024-06-14T23:41:14.074Z"
   },
   {
    "duration": 15,
    "start_time": "2024-06-14T23:41:14.155Z"
   },
   {
    "duration": 14,
    "start_time": "2024-06-14T23:41:14.174Z"
   },
   {
    "duration": 75,
    "start_time": "2024-06-14T23:41:14.232Z"
   },
   {
    "duration": 81,
    "start_time": "2024-06-14T23:41:14.311Z"
   },
   {
    "duration": 96,
    "start_time": "2024-06-14T23:41:14.395Z"
   },
   {
    "duration": 39,
    "start_time": "2024-06-14T23:41:14.494Z"
   },
   {
    "duration": 6,
    "start_time": "2024-06-14T23:41:14.536Z"
   },
   {
    "duration": 21,
    "start_time": "2024-06-14T23:41:14.545Z"
   },
   {
    "duration": 64,
    "start_time": "2024-06-14T23:41:14.569Z"
   },
   {
    "duration": 100,
    "start_time": "2024-06-14T23:41:14.637Z"
   },
   {
    "duration": 93,
    "start_time": "2024-06-14T23:41:14.740Z"
   },
   {
    "duration": 429,
    "start_time": "2024-06-14T23:41:14.836Z"
   },
   {
    "duration": 4,
    "start_time": "2024-06-14T23:41:15.268Z"
   },
   {
    "duration": 16,
    "start_time": "2024-06-14T23:42:18.334Z"
   },
   {
    "duration": 19,
    "start_time": "2024-06-14T23:42:19.833Z"
   },
   {
    "duration": 1482,
    "start_time": "2024-06-14T23:42:28.922Z"
   },
   {
    "duration": 410,
    "start_time": "2024-06-14T23:42:30.409Z"
   },
   {
    "duration": 54,
    "start_time": "2024-06-14T23:42:30.823Z"
   },
   {
    "duration": 17,
    "start_time": "2024-06-14T23:42:30.880Z"
   },
   {
    "duration": 37,
    "start_time": "2024-06-14T23:42:30.902Z"
   },
   {
    "duration": 13,
    "start_time": "2024-06-14T23:42:30.942Z"
   },
   {
    "duration": 6,
    "start_time": "2024-06-14T23:42:30.958Z"
   },
   {
    "duration": 7,
    "start_time": "2024-06-14T23:42:30.967Z"
   },
   {
    "duration": 56,
    "start_time": "2024-06-14T23:42:30.978Z"
   },
   {
    "duration": 7,
    "start_time": "2024-06-14T23:42:31.037Z"
   },
   {
    "duration": 8,
    "start_time": "2024-06-14T23:42:31.047Z"
   },
   {
    "duration": 7,
    "start_time": "2024-06-14T23:42:31.059Z"
   },
   {
    "duration": 13,
    "start_time": "2024-06-14T23:42:31.069Z"
   },
   {
    "duration": 13,
    "start_time": "2024-06-14T23:42:31.137Z"
   },
   {
    "duration": 13,
    "start_time": "2024-06-14T23:42:31.154Z"
   },
   {
    "duration": 99,
    "start_time": "2024-06-14T23:42:31.170Z"
   },
   {
    "duration": 95,
    "start_time": "2024-06-14T23:42:31.273Z"
   },
   {
    "duration": 104,
    "start_time": "2024-06-14T23:42:31.371Z"
   },
   {
    "duration": 22,
    "start_time": "2024-06-14T23:42:31.479Z"
   },
   {
    "duration": 5,
    "start_time": "2024-06-14T23:42:31.504Z"
   },
   {
    "duration": 46,
    "start_time": "2024-06-14T23:42:31.512Z"
   },
   {
    "duration": 27,
    "start_time": "2024-06-14T23:42:31.562Z"
   },
   {
    "duration": 67,
    "start_time": "2024-06-14T23:42:31.592Z"
   },
   {
    "duration": 26,
    "start_time": "2024-06-14T23:42:31.732Z"
   },
   {
    "duration": 467,
    "start_time": "2024-06-14T23:42:31.762Z"
   },
   {
    "duration": 11,
    "start_time": "2024-06-14T23:42:32.238Z"
   },
   {
    "duration": 582,
    "start_time": "2024-06-14T23:43:15.428Z"
   },
   {
    "duration": 339,
    "start_time": "2024-06-14T23:43:47.304Z"
   },
   {
    "duration": 67,
    "start_time": "2024-06-14T23:44:01.388Z"
   },
   {
    "duration": 81,
    "start_time": "2024-06-14T23:44:09.865Z"
   },
   {
    "duration": 172,
    "start_time": "2024-06-14T23:44:18.461Z"
   },
   {
    "duration": 868,
    "start_time": "2024-06-14T23:44:27.038Z"
   },
   {
    "duration": 179,
    "start_time": "2024-06-14T23:44:32.380Z"
   },
   {
    "duration": 187,
    "start_time": "2024-06-14T23:44:42.283Z"
   },
   {
    "duration": 28,
    "start_time": "2024-06-14T23:44:53.832Z"
   },
   {
    "duration": 84,
    "start_time": "2024-06-14T23:44:58.049Z"
   },
   {
    "duration": 32,
    "start_time": "2024-06-14T23:45:00.100Z"
   },
   {
    "duration": 17,
    "start_time": "2024-06-14T23:45:01.998Z"
   },
   {
    "duration": 81,
    "start_time": "2024-06-14T23:45:02.752Z"
   },
   {
    "duration": 23,
    "start_time": "2024-06-14T23:45:04.704Z"
   },
   {
    "duration": 58,
    "start_time": "2024-06-14T23:45:07.407Z"
   },
   {
    "duration": 13,
    "start_time": "2024-06-14T23:45:13.394Z"
   },
   {
    "duration": 1508,
    "start_time": "2024-06-14T23:45:20.679Z"
   },
   {
    "duration": 439,
    "start_time": "2024-06-14T23:45:22.192Z"
   },
   {
    "duration": 49,
    "start_time": "2024-06-14T23:45:22.633Z"
   },
   {
    "duration": 18,
    "start_time": "2024-06-14T23:45:22.685Z"
   },
   {
    "duration": 13,
    "start_time": "2024-06-14T23:45:22.736Z"
   },
   {
    "duration": 15,
    "start_time": "2024-06-14T23:45:22.754Z"
   },
   {
    "duration": 6,
    "start_time": "2024-06-14T23:45:22.772Z"
   },
   {
    "duration": 6,
    "start_time": "2024-06-14T23:45:22.782Z"
   },
   {
    "duration": 9,
    "start_time": "2024-06-14T23:45:22.834Z"
   },
   {
    "duration": 7,
    "start_time": "2024-06-14T23:45:22.847Z"
   },
   {
    "duration": 8,
    "start_time": "2024-06-14T23:45:22.858Z"
   },
   {
    "duration": 8,
    "start_time": "2024-06-14T23:45:22.870Z"
   },
   {
    "duration": 63,
    "start_time": "2024-06-14T23:45:22.881Z"
   },
   {
    "duration": 13,
    "start_time": "2024-06-14T23:45:22.950Z"
   },
   {
    "duration": 14,
    "start_time": "2024-06-14T23:45:22.967Z"
   },
   {
    "duration": 116,
    "start_time": "2024-06-14T23:45:22.984Z"
   },
   {
    "duration": 88,
    "start_time": "2024-06-14T23:45:23.104Z"
   },
   {
    "duration": 103,
    "start_time": "2024-06-14T23:45:23.196Z"
   },
   {
    "duration": 43,
    "start_time": "2024-06-14T23:45:23.303Z"
   },
   {
    "duration": 8,
    "start_time": "2024-06-14T23:45:23.354Z"
   },
   {
    "duration": 35,
    "start_time": "2024-06-14T23:45:23.369Z"
   },
   {
    "duration": 35,
    "start_time": "2024-06-14T23:45:23.411Z"
   },
   {
    "duration": 94,
    "start_time": "2024-06-14T23:45:23.450Z"
   },
   {
    "duration": 86,
    "start_time": "2024-06-14T23:45:23.548Z"
   },
   {
    "duration": 411,
    "start_time": "2024-06-14T23:45:23.638Z"
   },
   {
    "duration": 4,
    "start_time": "2024-06-14T23:45:24.053Z"
   },
   {
    "duration": 531,
    "start_time": "2024-06-14T23:46:00.322Z"
   },
   {
    "duration": 37,
    "start_time": "2024-06-14T23:46:15.803Z"
   },
   {
    "duration": 23,
    "start_time": "2024-06-14T23:46:16.847Z"
   },
   {
    "duration": 8,
    "start_time": "2024-06-14T23:46:30.067Z"
   },
   {
    "duration": 8,
    "start_time": "2024-06-14T23:46:34.727Z"
   },
   {
    "duration": 1339,
    "start_time": "2024-06-14T23:46:42.285Z"
   },
   {
    "duration": 376,
    "start_time": "2024-06-14T23:46:43.629Z"
   },
   {
    "duration": 52,
    "start_time": "2024-06-14T23:46:44.007Z"
   },
   {
    "duration": 17,
    "start_time": "2024-06-14T23:46:44.062Z"
   },
   {
    "duration": 17,
    "start_time": "2024-06-14T23:46:44.086Z"
   },
   {
    "duration": 35,
    "start_time": "2024-06-14T23:46:44.108Z"
   },
   {
    "duration": 7,
    "start_time": "2024-06-14T23:46:44.146Z"
   },
   {
    "duration": 6,
    "start_time": "2024-06-14T23:46:44.157Z"
   },
   {
    "duration": 6,
    "start_time": "2024-06-14T23:46:44.167Z"
   },
   {
    "duration": 57,
    "start_time": "2024-06-14T23:46:44.176Z"
   },
   {
    "duration": 7,
    "start_time": "2024-06-14T23:46:44.237Z"
   },
   {
    "duration": 8,
    "start_time": "2024-06-14T23:46:44.247Z"
   },
   {
    "duration": 15,
    "start_time": "2024-06-14T23:46:44.258Z"
   },
   {
    "duration": 58,
    "start_time": "2024-06-14T23:46:44.280Z"
   },
   {
    "duration": 14,
    "start_time": "2024-06-14T23:46:44.340Z"
   },
   {
    "duration": 86,
    "start_time": "2024-06-14T23:46:44.357Z"
   },
   {
    "duration": 56,
    "start_time": "2024-06-14T23:46:44.445Z"
   },
   {
    "duration": 77,
    "start_time": "2024-06-14T23:46:44.503Z"
   },
   {
    "duration": 20,
    "start_time": "2024-06-14T23:46:44.582Z"
   },
   {
    "duration": 28,
    "start_time": "2024-06-14T23:46:44.604Z"
   },
   {
    "duration": 19,
    "start_time": "2024-06-14T23:46:44.635Z"
   },
   {
    "duration": 11,
    "start_time": "2024-06-14T23:46:44.656Z"
   },
   {
    "duration": 76,
    "start_time": "2024-06-14T23:46:44.669Z"
   },
   {
    "duration": 87,
    "start_time": "2024-06-14T23:46:44.747Z"
   },
   {
    "duration": 372,
    "start_time": "2024-06-14T23:46:44.837Z"
   },
   {
    "duration": 3,
    "start_time": "2024-06-14T23:46:45.213Z"
   },
   {
    "duration": 17,
    "start_time": "2024-06-14T23:46:59.032Z"
   },
   {
    "duration": 9,
    "start_time": "2024-06-14T23:46:59.828Z"
   },
   {
    "duration": 18,
    "start_time": "2024-06-14T23:47:00.714Z"
   },
   {
    "duration": 13,
    "start_time": "2024-06-14T23:47:01.515Z"
   },
   {
    "duration": 271,
    "start_time": "2024-06-14T23:47:02.872Z"
   },
   {
    "duration": 22,
    "start_time": "2024-06-14T23:47:45.521Z"
   },
   {
    "duration": 4,
    "start_time": "2024-06-14T23:47:47.237Z"
   },
   {
    "duration": 16,
    "start_time": "2024-06-14T23:47:49.034Z"
   },
   {
    "duration": 15,
    "start_time": "2024-06-14T23:47:49.909Z"
   },
   {
    "duration": 19,
    "start_time": "2024-06-14T23:47:51.484Z"
   },
   {
    "duration": 14,
    "start_time": "2024-06-14T23:47:52.760Z"
   },
   {
    "duration": 7,
    "start_time": "2024-06-14T23:49:24.614Z"
   },
   {
    "duration": 4,
    "start_time": "2024-06-14T23:51:06.571Z"
   },
   {
    "duration": 4,
    "start_time": "2024-06-14T23:51:11.250Z"
   },
   {
    "duration": 5,
    "start_time": "2024-06-14T23:57:13.860Z"
   },
   {
    "duration": 6,
    "start_time": "2024-06-14T23:57:50.825Z"
   },
   {
    "duration": 4,
    "start_time": "2024-06-14T23:57:52.884Z"
   },
   {
    "duration": 42,
    "start_time": "2024-06-15T03:15:33.653Z"
   },
   {
    "duration": 33,
    "start_time": "2024-06-15T03:15:41.602Z"
   },
   {
    "duration": 9,
    "start_time": "2024-06-15T03:15:47.555Z"
   },
   {
    "duration": 20,
    "start_time": "2024-06-15T03:15:51.620Z"
   },
   {
    "duration": 12,
    "start_time": "2024-06-15T03:15:52.553Z"
   },
   {
    "duration": 1375,
    "start_time": "2024-06-15T03:16:01.651Z"
   },
   {
    "duration": 377,
    "start_time": "2024-06-15T03:16:03.029Z"
   },
   {
    "duration": 53,
    "start_time": "2024-06-15T03:16:03.410Z"
   },
   {
    "duration": 18,
    "start_time": "2024-06-15T03:16:03.470Z"
   },
   {
    "duration": 40,
    "start_time": "2024-06-15T03:16:03.492Z"
   },
   {
    "duration": 13,
    "start_time": "2024-06-15T03:16:03.535Z"
   },
   {
    "duration": 6,
    "start_time": "2024-06-15T03:16:03.552Z"
   },
   {
    "duration": 6,
    "start_time": "2024-06-15T03:16:03.561Z"
   },
   {
    "duration": 6,
    "start_time": "2024-06-15T03:16:03.571Z"
   },
   {
    "duration": 7,
    "start_time": "2024-06-15T03:16:03.634Z"
   },
   {
    "duration": 7,
    "start_time": "2024-06-15T03:16:03.644Z"
   },
   {
    "duration": 8,
    "start_time": "2024-06-15T03:16:03.654Z"
   },
   {
    "duration": 14,
    "start_time": "2024-06-15T03:16:03.665Z"
   },
   {
    "duration": 58,
    "start_time": "2024-06-15T03:16:03.681Z"
   },
   {
    "duration": 13,
    "start_time": "2024-06-15T03:16:03.742Z"
   },
   {
    "duration": 92,
    "start_time": "2024-06-15T03:16:03.758Z"
   },
   {
    "duration": 57,
    "start_time": "2024-06-15T03:16:03.854Z"
   },
   {
    "duration": 74,
    "start_time": "2024-06-15T03:16:03.914Z"
   },
   {
    "duration": 41,
    "start_time": "2024-06-15T03:16:03.991Z"
   },
   {
    "duration": 4,
    "start_time": "2024-06-15T03:16:04.035Z"
   },
   {
    "duration": 19,
    "start_time": "2024-06-15T03:16:04.042Z"
   },
   {
    "duration": 10,
    "start_time": "2024-06-15T03:16:04.064Z"
   },
   {
    "duration": 72,
    "start_time": "2024-06-15T03:16:04.078Z"
   },
   {
    "duration": 87,
    "start_time": "2024-06-15T03:16:04.153Z"
   },
   {
    "duration": 430,
    "start_time": "2024-06-15T03:16:04.243Z"
   },
   {
    "duration": 3,
    "start_time": "2024-06-15T03:16:04.677Z"
   },
   {
    "duration": 5,
    "start_time": "2024-06-15T03:16:04.684Z"
   },
   {
    "duration": 36,
    "start_time": "2024-06-15T03:16:04.697Z"
   },
   {
    "duration": 11,
    "start_time": "2024-06-15T03:17:33.031Z"
   },
   {
    "duration": 8,
    "start_time": "2024-06-15T03:17:38.188Z"
   },
   {
    "duration": 22,
    "start_time": "2024-06-15T03:17:40.680Z"
   },
   {
    "duration": 19,
    "start_time": "2024-06-15T03:17:41.529Z"
   },
   {
    "duration": 272,
    "start_time": "2024-06-15T03:17:42.937Z"
   },
   {
    "duration": 1373,
    "start_time": "2024-06-15T03:17:51.862Z"
   },
   {
    "duration": 398,
    "start_time": "2024-06-15T03:17:53.238Z"
   },
   {
    "duration": 46,
    "start_time": "2024-06-15T03:17:53.639Z"
   },
   {
    "duration": 17,
    "start_time": "2024-06-15T03:17:53.688Z"
   },
   {
    "duration": 12,
    "start_time": "2024-06-15T03:17:53.732Z"
   },
   {
    "duration": 12,
    "start_time": "2024-06-15T03:17:53.747Z"
   },
   {
    "duration": 6,
    "start_time": "2024-06-15T03:17:53.763Z"
   },
   {
    "duration": 5,
    "start_time": "2024-06-15T03:17:53.772Z"
   },
   {
    "duration": 53,
    "start_time": "2024-06-15T03:17:53.780Z"
   },
   {
    "duration": 7,
    "start_time": "2024-06-15T03:17:53.836Z"
   },
   {
    "duration": 8,
    "start_time": "2024-06-15T03:17:53.846Z"
   },
   {
    "duration": 7,
    "start_time": "2024-06-15T03:17:53.858Z"
   },
   {
    "duration": 13,
    "start_time": "2024-06-15T03:17:53.869Z"
   },
   {
    "duration": 12,
    "start_time": "2024-06-15T03:17:53.936Z"
   },
   {
    "duration": 13,
    "start_time": "2024-06-15T03:17:53.951Z"
   },
   {
    "duration": 92,
    "start_time": "2024-06-15T03:17:53.966Z"
   },
   {
    "duration": 54,
    "start_time": "2024-06-15T03:17:54.061Z"
   },
   {
    "duration": 60,
    "start_time": "2024-06-15T03:17:54.133Z"
   },
   {
    "duration": 40,
    "start_time": "2024-06-15T03:17:54.196Z"
   },
   {
    "duration": 5,
    "start_time": "2024-06-15T03:17:54.238Z"
   },
   {
    "duration": 19,
    "start_time": "2024-06-15T03:17:54.246Z"
   },
   {
    "duration": 1461,
    "start_time": "2024-06-15T03:17:54.268Z"
   },
   {
    "duration": 0,
    "start_time": "2024-06-15T03:17:55.734Z"
   },
   {
    "duration": 0,
    "start_time": "2024-06-15T03:17:55.736Z"
   },
   {
    "duration": 0,
    "start_time": "2024-06-15T03:17:55.738Z"
   },
   {
    "duration": 0,
    "start_time": "2024-06-15T03:17:55.739Z"
   },
   {
    "duration": 0,
    "start_time": "2024-06-15T03:17:55.742Z"
   },
   {
    "duration": 0,
    "start_time": "2024-06-15T03:17:55.744Z"
   },
   {
    "duration": 22,
    "start_time": "2024-06-15T03:18:11.240Z"
   },
   {
    "duration": 4,
    "start_time": "2024-06-15T03:18:12.455Z"
   },
   {
    "duration": 17,
    "start_time": "2024-06-15T03:18:13.370Z"
   },
   {
    "duration": 15,
    "start_time": "2024-06-15T03:18:24.485Z"
   },
   {
    "duration": 9,
    "start_time": "2024-06-15T03:18:29.288Z"
   },
   {
    "duration": 8,
    "start_time": "2024-06-15T03:18:32.519Z"
   },
   {
    "duration": 22,
    "start_time": "2024-06-15T03:18:36.122Z"
   },
   {
    "duration": 14,
    "start_time": "2024-06-15T03:18:37.194Z"
   },
   {
    "duration": 304,
    "start_time": "2024-06-15T03:18:38.030Z"
   },
   {
    "duration": 26,
    "start_time": "2024-06-15T03:19:16.202Z"
   },
   {
    "duration": 4,
    "start_time": "2024-06-15T03:19:17.117Z"
   },
   {
    "duration": 16,
    "start_time": "2024-06-15T03:19:18.617Z"
   },
   {
    "duration": 14,
    "start_time": "2024-06-15T03:19:19.454Z"
   },
   {
    "duration": 1386,
    "start_time": "2024-06-15T03:19:27.330Z"
   },
   {
    "duration": 374,
    "start_time": "2024-06-15T03:19:28.719Z"
   },
   {
    "duration": 57,
    "start_time": "2024-06-15T03:19:29.096Z"
   },
   {
    "duration": 16,
    "start_time": "2024-06-15T03:19:29.157Z"
   },
   {
    "duration": 13,
    "start_time": "2024-06-15T03:19:29.177Z"
   },
   {
    "duration": 40,
    "start_time": "2024-06-15T03:19:29.194Z"
   },
   {
    "duration": 5,
    "start_time": "2024-06-15T03:19:29.238Z"
   },
   {
    "duration": 6,
    "start_time": "2024-06-15T03:19:29.248Z"
   },
   {
    "duration": 7,
    "start_time": "2024-06-15T03:19:29.257Z"
   },
   {
    "duration": 6,
    "start_time": "2024-06-15T03:19:29.267Z"
   },
   {
    "duration": 59,
    "start_time": "2024-06-15T03:19:29.277Z"
   },
   {
    "duration": 10,
    "start_time": "2024-06-15T03:19:29.340Z"
   },
   {
    "duration": 14,
    "start_time": "2024-06-15T03:19:29.353Z"
   },
   {
    "duration": 14,
    "start_time": "2024-06-15T03:19:29.374Z"
   },
   {
    "duration": 12,
    "start_time": "2024-06-15T03:19:29.434Z"
   },
   {
    "duration": 83,
    "start_time": "2024-06-15T03:19:29.449Z"
   },
   {
    "duration": 54,
    "start_time": "2024-06-15T03:19:29.535Z"
   },
   {
    "duration": 83,
    "start_time": "2024-06-15T03:19:29.593Z"
   },
   {
    "duration": 20,
    "start_time": "2024-06-15T03:19:29.678Z"
   },
   {
    "duration": 4,
    "start_time": "2024-06-15T03:19:29.701Z"
   },
   {
    "duration": 18,
    "start_time": "2024-06-15T03:19:29.733Z"
   },
   {
    "duration": 16,
    "start_time": "2024-06-15T03:19:29.754Z"
   },
   {
    "duration": 81,
    "start_time": "2024-06-15T03:19:29.774Z"
   },
   {
    "duration": 15,
    "start_time": "2024-06-15T03:19:29.933Z"
   },
   {
    "duration": 434,
    "start_time": "2024-06-15T03:19:29.950Z"
   },
   {
    "duration": 3,
    "start_time": "2024-06-15T03:19:30.387Z"
   },
   {
    "duration": 4,
    "start_time": "2024-06-15T03:19:30.393Z"
   },
   {
    "duration": 34,
    "start_time": "2024-06-15T03:19:30.400Z"
   },
   {
    "duration": 585,
    "start_time": "2024-06-15T03:21:19.709Z"
   },
   {
    "duration": 55,
    "start_time": "2024-06-15T03:26:21.079Z"
   },
   {
    "duration": 7,
    "start_time": "2024-06-15T03:26:27.191Z"
   },
   {
    "duration": 8,
    "start_time": "2024-06-15T03:26:27.991Z"
   },
   {
    "duration": 11,
    "start_time": "2024-06-15T03:26:29.364Z"
   },
   {
    "duration": 27,
    "start_time": "2024-06-15T03:26:53.896Z"
   },
   {
    "duration": 28,
    "start_time": "2024-06-15T03:27:04.269Z"
   },
   {
    "duration": 9,
    "start_time": "2024-06-15T03:27:09.974Z"
   },
   {
    "duration": 17,
    "start_time": "2024-06-15T03:27:14.569Z"
   },
   {
    "duration": 9,
    "start_time": "2024-06-15T03:27:14.870Z"
   },
   {
    "duration": 18,
    "start_time": "2024-06-15T03:27:15.616Z"
   },
   {
    "duration": 15,
    "start_time": "2024-06-15T03:27:17.397Z"
   },
   {
    "duration": 221,
    "start_time": "2024-06-15T03:27:18.652Z"
   },
   {
    "duration": 11,
    "start_time": "2024-06-15T03:27:39.702Z"
   },
   {
    "duration": 10,
    "start_time": "2024-06-15T03:27:55.705Z"
   },
   {
    "duration": 7,
    "start_time": "2024-06-15T03:28:01.181Z"
   },
   {
    "duration": 1403,
    "start_time": "2024-06-15T03:28:07.097Z"
   },
   {
    "duration": 368,
    "start_time": "2024-06-15T03:28:08.503Z"
   },
   {
    "duration": 44,
    "start_time": "2024-06-15T03:28:08.874Z"
   },
   {
    "duration": 17,
    "start_time": "2024-06-15T03:28:08.933Z"
   },
   {
    "duration": 12,
    "start_time": "2024-06-15T03:28:08.956Z"
   },
   {
    "duration": 12,
    "start_time": "2024-06-15T03:28:08.972Z"
   },
   {
    "duration": 46,
    "start_time": "2024-06-15T03:28:08.987Z"
   },
   {
    "duration": 6,
    "start_time": "2024-06-15T03:28:09.036Z"
   },
   {
    "duration": 6,
    "start_time": "2024-06-15T03:28:09.045Z"
   },
   {
    "duration": 7,
    "start_time": "2024-06-15T03:28:09.054Z"
   },
   {
    "duration": 6,
    "start_time": "2024-06-15T03:28:09.065Z"
   },
   {
    "duration": 58,
    "start_time": "2024-06-15T03:28:09.075Z"
   },
   {
    "duration": 13,
    "start_time": "2024-06-15T03:28:09.136Z"
   },
   {
    "duration": 12,
    "start_time": "2024-06-15T03:28:09.155Z"
   },
   {
    "duration": 15,
    "start_time": "2024-06-15T03:28:09.169Z"
   },
   {
    "duration": 99,
    "start_time": "2024-06-15T03:28:09.187Z"
   },
   {
    "duration": 79,
    "start_time": "2024-06-15T03:28:09.289Z"
   },
   {
    "duration": 73,
    "start_time": "2024-06-15T03:28:09.370Z"
   },
   {
    "duration": 20,
    "start_time": "2024-06-15T03:28:09.446Z"
   },
   {
    "duration": 7,
    "start_time": "2024-06-15T03:28:09.468Z"
   },
   {
    "duration": 17,
    "start_time": "2024-06-15T03:28:09.478Z"
   },
   {
    "duration": 44,
    "start_time": "2024-06-15T03:28:09.498Z"
   },
   {
    "duration": 90,
    "start_time": "2024-06-15T03:28:09.547Z"
   },
   {
    "duration": 14,
    "start_time": "2024-06-15T03:28:09.639Z"
   },
   {
    "duration": 443,
    "start_time": "2024-06-15T03:28:09.656Z"
   },
   {
    "duration": 3,
    "start_time": "2024-06-15T03:28:10.103Z"
   },
   {
    "duration": 23,
    "start_time": "2024-06-15T03:28:10.110Z"
   },
   {
    "duration": 5,
    "start_time": "2024-06-15T03:28:10.136Z"
   },
   {
    "duration": 9,
    "start_time": "2024-06-15T03:29:19.667Z"
   },
   {
    "duration": 471,
    "start_time": "2024-06-15T03:29:26.604Z"
   },
   {
    "duration": 25,
    "start_time": "2024-06-15T03:29:37.936Z"
   },
   {
    "duration": 25,
    "start_time": "2024-06-15T03:29:46.897Z"
   },
   {
    "duration": 16,
    "start_time": "2024-06-15T03:29:50.198Z"
   },
   {
    "duration": 24,
    "start_time": "2024-06-15T03:29:50.962Z"
   },
   {
    "duration": 4,
    "start_time": "2024-06-15T03:29:56.154Z"
   },
   {
    "duration": 19,
    "start_time": "2024-06-15T03:29:57.090Z"
   },
   {
    "duration": 26,
    "start_time": "2024-06-15T03:29:57.801Z"
   },
   {
    "duration": 23,
    "start_time": "2024-06-15T03:30:02.794Z"
   },
   {
    "duration": 4,
    "start_time": "2024-06-15T03:30:03.719Z"
   },
   {
    "duration": 17,
    "start_time": "2024-06-15T03:30:04.470Z"
   },
   {
    "duration": 11,
    "start_time": "2024-06-15T03:30:05.178Z"
   },
   {
    "duration": 32,
    "start_time": "2024-06-15T03:30:09.783Z"
   },
   {
    "duration": 25,
    "start_time": "2024-06-15T03:30:27.508Z"
   },
   {
    "duration": 5,
    "start_time": "2024-06-15T03:30:28.248Z"
   },
   {
    "duration": 17,
    "start_time": "2024-06-15T03:30:29.226Z"
   },
   {
    "duration": 18,
    "start_time": "2024-06-15T03:30:29.918Z"
   },
   {
    "duration": 23,
    "start_time": "2024-06-15T03:30:30.729Z"
   },
   {
    "duration": 13,
    "start_time": "2024-06-15T03:30:31.987Z"
   },
   {
    "duration": 305,
    "start_time": "2024-06-15T03:30:32.893Z"
   },
   {
    "duration": 1399,
    "start_time": "2024-06-15T03:30:56.478Z"
   },
   {
    "duration": 406,
    "start_time": "2024-06-15T03:30:57.881Z"
   },
   {
    "duration": 55,
    "start_time": "2024-06-15T03:30:58.290Z"
   },
   {
    "duration": 20,
    "start_time": "2024-06-15T03:30:58.348Z"
   },
   {
    "duration": 14,
    "start_time": "2024-06-15T03:30:58.373Z"
   },
   {
    "duration": 47,
    "start_time": "2024-06-15T03:30:58.391Z"
   },
   {
    "duration": 6,
    "start_time": "2024-06-15T03:30:58.441Z"
   },
   {
    "duration": 5,
    "start_time": "2024-06-15T03:30:58.450Z"
   },
   {
    "duration": 6,
    "start_time": "2024-06-15T03:30:58.458Z"
   },
   {
    "duration": 7,
    "start_time": "2024-06-15T03:30:58.467Z"
   },
   {
    "duration": 58,
    "start_time": "2024-06-15T03:30:58.477Z"
   },
   {
    "duration": 8,
    "start_time": "2024-06-15T03:30:58.538Z"
   },
   {
    "duration": 13,
    "start_time": "2024-06-15T03:30:58.549Z"
   },
   {
    "duration": 12,
    "start_time": "2024-06-15T03:30:58.567Z"
   },
   {
    "duration": 56,
    "start_time": "2024-06-15T03:30:58.582Z"
   },
   {
    "duration": 61,
    "start_time": "2024-06-15T03:30:58.641Z"
   },
   {
    "duration": 77,
    "start_time": "2024-06-15T03:30:58.705Z"
   },
   {
    "duration": 74,
    "start_time": "2024-06-15T03:30:58.785Z"
   },
   {
    "duration": 19,
    "start_time": "2024-06-15T03:30:58.862Z"
   },
   {
    "duration": 4,
    "start_time": "2024-06-15T03:30:58.884Z"
   },
   {
    "duration": 48,
    "start_time": "2024-06-15T03:30:58.892Z"
   },
   {
    "duration": 18,
    "start_time": "2024-06-15T03:30:58.943Z"
   },
   {
    "duration": 19,
    "start_time": "2024-06-15T03:30:59.032Z"
   },
   {
    "duration": 86,
    "start_time": "2024-06-15T03:30:59.054Z"
   },
   {
    "duration": 432,
    "start_time": "2024-06-15T03:30:59.143Z"
   },
   {
    "duration": 3,
    "start_time": "2024-06-15T03:30:59.578Z"
   },
   {
    "duration": 4,
    "start_time": "2024-06-15T03:30:59.584Z"
   },
   {
    "duration": 6,
    "start_time": "2024-06-15T03:30:59.592Z"
   },
   {
    "duration": 580,
    "start_time": "2024-06-15T03:32:05.609Z"
   },
   {
    "duration": 38,
    "start_time": "2024-06-15T03:32:16.013Z"
   },
   {
    "duration": 256,
    "start_time": "2024-06-15T03:32:25.227Z"
   },
   {
    "duration": 54,
    "start_time": "2024-06-15T03:32:29.240Z"
   },
   {
    "duration": 39,
    "start_time": "2024-06-15T03:32:31.760Z"
   },
   {
    "duration": 23,
    "start_time": "2024-06-15T03:32:32.739Z"
   },
   {
    "duration": 34,
    "start_time": "2024-06-15T03:32:33.617Z"
   },
   {
    "duration": 27,
    "start_time": "2024-06-15T03:32:39.412Z"
   },
   {
    "duration": 1474,
    "start_time": "2024-06-15T03:32:49.839Z"
   },
   {
    "duration": 400,
    "start_time": "2024-06-15T03:32:51.317Z"
   },
   {
    "duration": 51,
    "start_time": "2024-06-15T03:32:51.720Z"
   },
   {
    "duration": 19,
    "start_time": "2024-06-15T03:32:51.776Z"
   },
   {
    "duration": 44,
    "start_time": "2024-06-15T03:32:51.801Z"
   },
   {
    "duration": 13,
    "start_time": "2024-06-15T03:32:51.848Z"
   },
   {
    "duration": 6,
    "start_time": "2024-06-15T03:32:51.863Z"
   },
   {
    "duration": 6,
    "start_time": "2024-06-15T03:32:51.872Z"
   },
   {
    "duration": 6,
    "start_time": "2024-06-15T03:32:51.880Z"
   },
   {
    "duration": 48,
    "start_time": "2024-06-15T03:32:51.889Z"
   },
   {
    "duration": 9,
    "start_time": "2024-06-15T03:32:51.940Z"
   },
   {
    "duration": 6,
    "start_time": "2024-06-15T03:32:51.953Z"
   },
   {
    "duration": 13,
    "start_time": "2024-06-15T03:32:51.962Z"
   },
   {
    "duration": 56,
    "start_time": "2024-06-15T03:32:51.981Z"
   },
   {
    "duration": 16,
    "start_time": "2024-06-15T03:32:52.040Z"
   },
   {
    "duration": 110,
    "start_time": "2024-06-15T03:32:52.059Z"
   },
   {
    "duration": 94,
    "start_time": "2024-06-15T03:32:52.173Z"
   },
   {
    "duration": 87,
    "start_time": "2024-06-15T03:32:52.270Z"
   },
   {
    "duration": 21,
    "start_time": "2024-06-15T03:32:52.360Z"
   },
   {
    "duration": 5,
    "start_time": "2024-06-15T03:32:52.384Z"
   },
   {
    "duration": 53,
    "start_time": "2024-06-15T03:32:52.392Z"
   },
   {
    "duration": 707,
    "start_time": "2024-06-15T03:32:52.449Z"
   },
   {
    "duration": 0,
    "start_time": "2024-06-15T03:32:53.159Z"
   },
   {
    "duration": 0,
    "start_time": "2024-06-15T03:32:53.161Z"
   },
   {
    "duration": 0,
    "start_time": "2024-06-15T03:32:53.162Z"
   },
   {
    "duration": 0,
    "start_time": "2024-06-15T03:32:53.164Z"
   },
   {
    "duration": 0,
    "start_time": "2024-06-15T03:32:53.166Z"
   },
   {
    "duration": 0,
    "start_time": "2024-06-15T03:32:53.168Z"
   },
   {
    "duration": 81,
    "start_time": "2024-06-15T03:33:50.362Z"
   },
   {
    "duration": 79,
    "start_time": "2024-06-15T03:34:05.256Z"
   },
   {
    "duration": 86,
    "start_time": "2024-06-15T03:37:45.052Z"
   },
   {
    "duration": 45,
    "start_time": "2024-06-15T03:37:58.211Z"
   },
   {
    "duration": 30,
    "start_time": "2024-06-15T03:38:22.021Z"
   },
   {
    "duration": 33,
    "start_time": "2024-06-15T03:38:33.671Z"
   },
   {
    "duration": 29,
    "start_time": "2024-06-15T03:38:34.648Z"
   },
   {
    "duration": 270,
    "start_time": "2024-06-15T03:39:09.676Z"
   },
   {
    "duration": 1566,
    "start_time": "2024-06-15T03:39:20.137Z"
   },
   {
    "duration": 407,
    "start_time": "2024-06-15T03:39:21.707Z"
   },
   {
    "duration": 53,
    "start_time": "2024-06-15T03:39:22.117Z"
   },
   {
    "duration": 20,
    "start_time": "2024-06-15T03:39:22.173Z"
   },
   {
    "duration": 38,
    "start_time": "2024-06-15T03:39:22.198Z"
   },
   {
    "duration": 14,
    "start_time": "2024-06-15T03:39:22.239Z"
   },
   {
    "duration": 5,
    "start_time": "2024-06-15T03:39:22.257Z"
   },
   {
    "duration": 6,
    "start_time": "2024-06-15T03:39:22.265Z"
   },
   {
    "duration": 6,
    "start_time": "2024-06-15T03:39:22.274Z"
   },
   {
    "duration": 11,
    "start_time": "2024-06-15T03:39:22.333Z"
   },
   {
    "duration": 8,
    "start_time": "2024-06-15T03:39:22.347Z"
   },
   {
    "duration": 7,
    "start_time": "2024-06-15T03:39:22.358Z"
   },
   {
    "duration": 17,
    "start_time": "2024-06-15T03:39:22.367Z"
   },
   {
    "duration": 51,
    "start_time": "2024-06-15T03:39:22.392Z"
   },
   {
    "duration": 16,
    "start_time": "2024-06-15T03:39:22.447Z"
   },
   {
    "duration": 85,
    "start_time": "2024-06-15T03:39:22.469Z"
   },
   {
    "duration": 86,
    "start_time": "2024-06-15T03:39:22.557Z"
   },
   {
    "duration": 88,
    "start_time": "2024-06-15T03:39:22.646Z"
   },
   {
    "duration": 23,
    "start_time": "2024-06-15T03:39:22.738Z"
   },
   {
    "duration": 6,
    "start_time": "2024-06-15T03:39:22.763Z"
   },
   {
    "duration": 21,
    "start_time": "2024-06-15T03:39:22.772Z"
   },
   {
    "duration": 53,
    "start_time": "2024-06-15T03:39:22.796Z"
   },
   {
    "duration": 110,
    "start_time": "2024-06-15T03:39:22.852Z"
   },
   {
    "duration": 21,
    "start_time": "2024-06-15T03:39:23.037Z"
   },
   {
    "duration": 457,
    "start_time": "2024-06-15T03:39:23.060Z"
   },
   {
    "duration": 4,
    "start_time": "2024-06-15T03:39:23.520Z"
   },
   {
    "duration": 6,
    "start_time": "2024-06-15T03:39:23.534Z"
   },
   {
    "duration": 7,
    "start_time": "2024-06-15T03:39:23.543Z"
   },
   {
    "duration": 24,
    "start_time": "2024-06-15T03:40:40.554Z"
   },
   {
    "duration": 4,
    "start_time": "2024-06-15T03:40:41.394Z"
   },
   {
    "duration": 27,
    "start_time": "2024-06-15T03:40:42.542Z"
   },
   {
    "duration": 15,
    "start_time": "2024-06-15T03:40:43.309Z"
   },
   {
    "duration": 23,
    "start_time": "2024-06-15T03:40:50.938Z"
   },
   {
    "duration": 21,
    "start_time": "2024-06-15T03:40:52.142Z"
   },
   {
    "duration": 322,
    "start_time": "2024-06-15T03:40:53.030Z"
   },
   {
    "duration": 1087,
    "start_time": "2024-06-15T03:55:12.215Z"
   },
   {
    "duration": 3,
    "start_time": "2024-06-15T03:58:15.978Z"
   },
   {
    "duration": 5,
    "start_time": "2024-06-16T13:08:40.184Z"
   },
   {
    "duration": 5338,
    "start_time": "2024-06-16T13:08:46.850Z"
   },
   {
    "duration": 503,
    "start_time": "2024-06-16T13:08:52.192Z"
   },
   {
    "duration": 50,
    "start_time": "2024-06-16T13:08:52.697Z"
   },
   {
    "duration": 17,
    "start_time": "2024-06-16T13:08:52.750Z"
   },
   {
    "duration": 12,
    "start_time": "2024-06-16T13:08:52.773Z"
   },
   {
    "duration": 41,
    "start_time": "2024-06-16T13:08:52.788Z"
   },
   {
    "duration": 6,
    "start_time": "2024-06-16T13:08:52.832Z"
   },
   {
    "duration": 6,
    "start_time": "2024-06-16T13:08:52.841Z"
   },
   {
    "duration": 6,
    "start_time": "2024-06-16T13:08:52.851Z"
   },
   {
    "duration": 63,
    "start_time": "2024-06-16T13:08:52.860Z"
   },
   {
    "duration": 7,
    "start_time": "2024-06-16T13:08:52.925Z"
   },
   {
    "duration": 7,
    "start_time": "2024-06-16T13:08:52.936Z"
   },
   {
    "duration": 14,
    "start_time": "2024-06-16T13:08:52.946Z"
   },
   {
    "duration": 61,
    "start_time": "2024-06-16T13:08:52.967Z"
   },
   {
    "duration": 16,
    "start_time": "2024-06-16T13:08:53.031Z"
   },
   {
    "duration": 94,
    "start_time": "2024-06-16T13:08:53.050Z"
   },
   {
    "duration": 55,
    "start_time": "2024-06-16T13:08:53.150Z"
   },
   {
    "duration": 86,
    "start_time": "2024-06-16T13:08:53.208Z"
   },
   {
    "duration": 43,
    "start_time": "2024-06-16T13:08:53.297Z"
   },
   {
    "duration": 4,
    "start_time": "2024-06-16T13:08:53.343Z"
   },
   {
    "duration": 18,
    "start_time": "2024-06-16T13:08:53.350Z"
   },
   {
    "duration": 55,
    "start_time": "2024-06-16T13:08:53.371Z"
   },
   {
    "duration": 97,
    "start_time": "2024-06-16T13:08:53.432Z"
   },
   {
    "duration": 88,
    "start_time": "2024-06-16T13:08:53.537Z"
   },
   {
    "duration": 313,
    "start_time": "2024-06-16T13:08:53.628Z"
   },
   {
    "duration": 3,
    "start_time": "2024-06-16T13:08:53.945Z"
   },
   {
    "duration": 4,
    "start_time": "2024-06-16T13:08:53.952Z"
   },
   {
    "duration": 6,
    "start_time": "2024-06-16T13:08:53.959Z"
   },
   {
    "duration": 376,
    "start_time": "2024-06-16T13:09:32.342Z"
   },
   {
    "duration": 8,
    "start_time": "2024-06-16T13:29:18.321Z"
   },
   {
    "duration": 7,
    "start_time": "2024-06-16T13:29:36.359Z"
   },
   {
    "duration": 7,
    "start_time": "2024-06-16T13:29:51.888Z"
   },
   {
    "duration": 8,
    "start_time": "2024-06-16T13:30:11.667Z"
   },
   {
    "duration": 6,
    "start_time": "2024-06-16T13:32:29.321Z"
   },
   {
    "duration": 5,
    "start_time": "2024-06-16T13:32:36.799Z"
   },
   {
    "duration": 6,
    "start_time": "2024-06-16T13:33:07.161Z"
   },
   {
    "duration": 6,
    "start_time": "2024-06-16T13:35:21.708Z"
   },
   {
    "duration": 6,
    "start_time": "2024-06-16T13:35:23.098Z"
   },
   {
    "duration": 4,
    "start_time": "2024-06-16T13:36:48.678Z"
   },
   {
    "duration": 6,
    "start_time": "2024-06-16T13:36:49.254Z"
   },
   {
    "duration": 489,
    "start_time": "2024-06-16T13:38:11.879Z"
   },
   {
    "duration": 5,
    "start_time": "2024-06-16T13:38:44.558Z"
   },
   {
    "duration": 31,
    "start_time": "2024-06-16T13:38:45.555Z"
   },
   {
    "duration": 25,
    "start_time": "2024-06-16T13:38:53.841Z"
   },
   {
    "duration": 3,
    "start_time": "2024-06-16T13:39:01.371Z"
   },
   {
    "duration": 7,
    "start_time": "2024-06-16T13:39:02.173Z"
   },
   {
    "duration": 25,
    "start_time": "2024-06-16T13:39:02.867Z"
   },
   {
    "duration": 25,
    "start_time": "2024-06-16T13:40:17.056Z"
   },
   {
    "duration": 4,
    "start_time": "2024-06-16T13:40:23.433Z"
   },
   {
    "duration": 6,
    "start_time": "2024-06-16T13:40:24.346Z"
   },
   {
    "duration": 26,
    "start_time": "2024-06-16T13:40:25.256Z"
   },
   {
    "duration": 26,
    "start_time": "2024-06-16T13:40:30.563Z"
   },
   {
    "duration": 3,
    "start_time": "2024-06-16T13:41:10.609Z"
   },
   {
    "duration": 7,
    "start_time": "2024-06-16T13:41:11.176Z"
   },
   {
    "duration": 23,
    "start_time": "2024-06-16T13:41:11.934Z"
   },
   {
    "duration": 5,
    "start_time": "2024-06-16T13:41:27.360Z"
   },
   {
    "duration": 25,
    "start_time": "2024-06-16T13:41:28.488Z"
   },
   {
    "duration": 25,
    "start_time": "2024-06-16T13:41:30.405Z"
   },
   {
    "duration": 7,
    "start_time": "2024-06-16T13:42:55.881Z"
   },
   {
    "duration": 3,
    "start_time": "2024-06-16T13:42:57.111Z"
   },
   {
    "duration": 95,
    "start_time": "2024-06-16T13:51:18.979Z"
   },
   {
    "duration": 14,
    "start_time": "2024-06-16T13:51:30.428Z"
   },
   {
    "duration": 123,
    "start_time": "2024-06-16T13:52:18.113Z"
   },
   {
    "duration": 16,
    "start_time": "2024-06-16T13:52:19.750Z"
   },
   {
    "duration": 8,
    "start_time": "2024-06-16T13:53:33.138Z"
   },
   {
    "duration": 6,
    "start_time": "2024-06-16T13:53:37.269Z"
   },
   {
    "duration": 5,
    "start_time": "2024-06-16T13:53:55.226Z"
   },
   {
    "duration": 34,
    "start_time": "2024-06-16T13:53:58.432Z"
   },
   {
    "duration": 6,
    "start_time": "2024-06-16T13:54:48.184Z"
   },
   {
    "duration": 23,
    "start_time": "2024-06-16T13:58:13.847Z"
   },
   {
    "duration": 6,
    "start_time": "2024-06-16T13:58:21.261Z"
   },
   {
    "duration": 25,
    "start_time": "2024-06-16T13:58:21.889Z"
   },
   {
    "duration": 5,
    "start_time": "2024-06-16T13:58:53.020Z"
   },
   {
    "duration": 27,
    "start_time": "2024-06-16T13:58:53.879Z"
   },
   {
    "duration": 5,
    "start_time": "2024-06-16T13:59:05.907Z"
   },
   {
    "duration": 24,
    "start_time": "2024-06-16T13:59:08.328Z"
   },
   {
    "duration": 5,
    "start_time": "2024-06-16T13:59:59.334Z"
   },
   {
    "duration": 25,
    "start_time": "2024-06-16T13:59:59.955Z"
   },
   {
    "duration": 6,
    "start_time": "2024-06-16T14:00:55.094Z"
   },
   {
    "duration": 24,
    "start_time": "2024-06-16T14:00:55.830Z"
   },
   {
    "duration": 6,
    "start_time": "2024-06-16T14:01:10.616Z"
   },
   {
    "duration": 26,
    "start_time": "2024-06-16T14:01:13.667Z"
   },
   {
    "duration": 31,
    "start_time": "2024-06-16T14:01:37.869Z"
   },
   {
    "duration": 1431,
    "start_time": "2024-06-16T14:01:45.925Z"
   },
   {
    "duration": 380,
    "start_time": "2024-06-16T14:01:47.359Z"
   },
   {
    "duration": 49,
    "start_time": "2024-06-16T14:01:47.742Z"
   },
   {
    "duration": 37,
    "start_time": "2024-06-16T14:01:47.794Z"
   },
   {
    "duration": 14,
    "start_time": "2024-06-16T14:01:47.836Z"
   },
   {
    "duration": 14,
    "start_time": "2024-06-16T14:01:47.854Z"
   },
   {
    "duration": 7,
    "start_time": "2024-06-16T14:01:47.872Z"
   },
   {
    "duration": 43,
    "start_time": "2024-06-16T14:01:47.883Z"
   },
   {
    "duration": 6,
    "start_time": "2024-06-16T14:01:47.929Z"
   },
   {
    "duration": 8,
    "start_time": "2024-06-16T14:01:47.940Z"
   },
   {
    "duration": 9,
    "start_time": "2024-06-16T14:01:47.951Z"
   },
   {
    "duration": 61,
    "start_time": "2024-06-16T14:01:47.963Z"
   },
   {
    "duration": 13,
    "start_time": "2024-06-16T14:01:48.027Z"
   },
   {
    "duration": 18,
    "start_time": "2024-06-16T14:01:48.047Z"
   },
   {
    "duration": 15,
    "start_time": "2024-06-16T14:01:48.068Z"
   },
   {
    "duration": 58,
    "start_time": "2024-06-16T14:01:48.124Z"
   },
   {
    "duration": 75,
    "start_time": "2024-06-16T14:01:48.185Z"
   },
   {
    "duration": 78,
    "start_time": "2024-06-16T14:01:48.264Z"
   },
   {
    "duration": 20,
    "start_time": "2024-06-16T14:01:48.345Z"
   },
   {
    "duration": 5,
    "start_time": "2024-06-16T14:01:48.368Z"
   },
   {
    "duration": 57,
    "start_time": "2024-06-16T14:01:48.377Z"
   },
   {
    "duration": 11,
    "start_time": "2024-06-16T14:01:48.437Z"
   },
   {
    "duration": 85,
    "start_time": "2024-06-16T14:01:48.451Z"
   },
   {
    "duration": 87,
    "start_time": "2024-06-16T14:01:48.546Z"
   },
   {
    "duration": 403,
    "start_time": "2024-06-16T14:01:48.639Z"
   },
   {
    "duration": 4,
    "start_time": "2024-06-16T14:01:49.046Z"
   },
   {
    "duration": 178,
    "start_time": "2024-06-16T14:01:49.054Z"
   },
   {
    "duration": 17,
    "start_time": "2024-06-16T14:01:49.235Z"
   },
   {
    "duration": 8,
    "start_time": "2024-06-16T14:01:49.255Z"
   },
   {
    "duration": 491,
    "start_time": "2024-06-16T14:01:49.266Z"
   },
   {
    "duration": 0,
    "start_time": "2024-06-16T14:01:49.761Z"
   },
   {
    "duration": 0,
    "start_time": "2024-06-16T14:01:49.764Z"
   },
   {
    "duration": 0,
    "start_time": "2024-06-16T14:01:49.767Z"
   },
   {
    "duration": 0,
    "start_time": "2024-06-16T14:01:49.770Z"
   },
   {
    "duration": 0,
    "start_time": "2024-06-16T14:01:49.773Z"
   },
   {
    "duration": 6,
    "start_time": "2024-06-16T14:02:21.978Z"
   },
   {
    "duration": 26,
    "start_time": "2024-06-16T14:02:22.776Z"
   },
   {
    "duration": 6,
    "start_time": "2024-06-16T14:03:34.854Z"
   },
   {
    "duration": 93,
    "start_time": "2024-06-16T14:03:39.730Z"
   },
   {
    "duration": 7,
    "start_time": "2024-06-16T14:04:38.738Z"
   },
   {
    "duration": 44,
    "start_time": "2024-06-16T14:04:40.721Z"
   },
   {
    "duration": 5,
    "start_time": "2024-06-16T14:05:44.061Z"
   },
   {
    "duration": 28,
    "start_time": "2024-06-16T14:05:45.187Z"
   },
   {
    "duration": 6,
    "start_time": "2024-06-16T14:06:11.004Z"
   },
   {
    "duration": 29,
    "start_time": "2024-06-16T14:06:12.559Z"
   },
   {
    "duration": 30,
    "start_time": "2024-06-16T14:06:46.570Z"
   },
   {
    "duration": 33,
    "start_time": "2024-06-16T14:08:08.378Z"
   },
   {
    "duration": 7,
    "start_time": "2024-06-16T14:08:14.647Z"
   },
   {
    "duration": 1531,
    "start_time": "2024-06-16T14:08:21.546Z"
   },
   {
    "duration": 438,
    "start_time": "2024-06-16T14:08:23.082Z"
   },
   {
    "duration": 50,
    "start_time": "2024-06-16T14:08:23.524Z"
   },
   {
    "duration": 50,
    "start_time": "2024-06-16T14:08:23.578Z"
   },
   {
    "duration": 16,
    "start_time": "2024-06-16T14:08:23.635Z"
   },
   {
    "duration": 16,
    "start_time": "2024-06-16T14:08:23.655Z"
   },
   {
    "duration": 50,
    "start_time": "2024-06-16T14:08:23.676Z"
   },
   {
    "duration": 7,
    "start_time": "2024-06-16T14:08:23.729Z"
   },
   {
    "duration": 6,
    "start_time": "2024-06-16T14:08:23.740Z"
   },
   {
    "duration": 8,
    "start_time": "2024-06-16T14:08:23.751Z"
   },
   {
    "duration": 10,
    "start_time": "2024-06-16T14:08:23.763Z"
   },
   {
    "duration": 52,
    "start_time": "2024-06-16T14:08:23.776Z"
   },
   {
    "duration": 15,
    "start_time": "2024-06-16T14:08:23.831Z"
   },
   {
    "duration": 14,
    "start_time": "2024-06-16T14:08:23.852Z"
   },
   {
    "duration": 66,
    "start_time": "2024-06-16T14:08:23.869Z"
   },
   {
    "duration": 98,
    "start_time": "2024-06-16T14:08:23.938Z"
   },
   {
    "duration": 90,
    "start_time": "2024-06-16T14:08:24.039Z"
   },
   {
    "duration": 92,
    "start_time": "2024-06-16T14:08:24.132Z"
   },
   {
    "duration": 25,
    "start_time": "2024-06-16T14:08:24.228Z"
   },
   {
    "duration": 5,
    "start_time": "2024-06-16T14:08:24.257Z"
   },
   {
    "duration": 58,
    "start_time": "2024-06-16T14:08:24.266Z"
   },
   {
    "duration": 12,
    "start_time": "2024-06-16T14:08:24.328Z"
   },
   {
    "duration": 97,
    "start_time": "2024-06-16T14:08:24.342Z"
   },
   {
    "duration": 83,
    "start_time": "2024-06-16T14:08:24.443Z"
   },
   {
    "duration": 424,
    "start_time": "2024-06-16T14:08:24.530Z"
   },
   {
    "duration": 4,
    "start_time": "2024-06-16T14:08:24.958Z"
   },
   {
    "duration": 186,
    "start_time": "2024-06-16T14:08:24.967Z"
   },
   {
    "duration": 17,
    "start_time": "2024-06-16T14:08:25.155Z"
   },
   {
    "duration": 6,
    "start_time": "2024-06-16T14:08:25.177Z"
   },
   {
    "duration": 475,
    "start_time": "2024-06-16T14:08:25.187Z"
   },
   {
    "duration": 0,
    "start_time": "2024-06-16T14:08:25.665Z"
   },
   {
    "duration": 0,
    "start_time": "2024-06-16T14:08:25.668Z"
   },
   {
    "duration": 0,
    "start_time": "2024-06-16T14:08:25.671Z"
   },
   {
    "duration": 7,
    "start_time": "2024-06-16T14:15:10.258Z"
   },
   {
    "duration": 32,
    "start_time": "2024-06-16T14:15:11.603Z"
   },
   {
    "duration": 1506,
    "start_time": "2024-06-16T14:15:18.688Z"
   },
   {
    "duration": 427,
    "start_time": "2024-06-16T14:15:20.198Z"
   },
   {
    "duration": 47,
    "start_time": "2024-06-16T14:15:20.628Z"
   },
   {
    "duration": 18,
    "start_time": "2024-06-16T14:15:20.679Z"
   },
   {
    "duration": 17,
    "start_time": "2024-06-16T14:15:20.727Z"
   },
   {
    "duration": 13,
    "start_time": "2024-06-16T14:15:20.748Z"
   },
   {
    "duration": 8,
    "start_time": "2024-06-16T14:15:20.766Z"
   },
   {
    "duration": 49,
    "start_time": "2024-06-16T14:15:20.777Z"
   },
   {
    "duration": 8,
    "start_time": "2024-06-16T14:15:20.830Z"
   },
   {
    "duration": 8,
    "start_time": "2024-06-16T14:15:20.841Z"
   },
   {
    "duration": 10,
    "start_time": "2024-06-16T14:15:20.852Z"
   },
   {
    "duration": 59,
    "start_time": "2024-06-16T14:15:20.866Z"
   },
   {
    "duration": 16,
    "start_time": "2024-06-16T14:15:20.930Z"
   },
   {
    "duration": 18,
    "start_time": "2024-06-16T14:15:20.954Z"
   },
   {
    "duration": 59,
    "start_time": "2024-06-16T14:15:20.976Z"
   },
   {
    "duration": 112,
    "start_time": "2024-06-16T14:15:21.039Z"
   },
   {
    "duration": 80,
    "start_time": "2024-06-16T14:15:21.154Z"
   },
   {
    "duration": 71,
    "start_time": "2024-06-16T14:15:21.237Z"
   },
   {
    "duration": 21,
    "start_time": "2024-06-16T14:15:21.323Z"
   },
   {
    "duration": 6,
    "start_time": "2024-06-16T14:15:21.348Z"
   },
   {
    "duration": 20,
    "start_time": "2024-06-16T14:15:21.357Z"
   },
   {
    "duration": 56,
    "start_time": "2024-06-16T14:15:21.380Z"
   },
   {
    "duration": 97,
    "start_time": "2024-06-16T14:15:21.440Z"
   },
   {
    "duration": 92,
    "start_time": "2024-06-16T14:15:21.540Z"
   },
   {
    "duration": 495,
    "start_time": "2024-06-16T14:15:21.636Z"
   },
   {
    "duration": 3,
    "start_time": "2024-06-16T14:15:22.135Z"
   },
   {
    "duration": 173,
    "start_time": "2024-06-16T14:15:22.143Z"
   },
   {
    "duration": 17,
    "start_time": "2024-06-16T14:15:22.320Z"
   },
   {
    "duration": 7,
    "start_time": "2024-06-16T14:15:22.341Z"
   },
   {
    "duration": 471,
    "start_time": "2024-06-16T14:15:22.352Z"
   },
   {
    "duration": 0,
    "start_time": "2024-06-16T14:15:22.826Z"
   },
   {
    "duration": 0,
    "start_time": "2024-06-16T14:15:22.829Z"
   },
   {
    "duration": 0,
    "start_time": "2024-06-16T14:15:22.831Z"
   },
   {
    "duration": 8,
    "start_time": "2024-06-16T14:17:39.957Z"
   },
   {
    "duration": 9,
    "start_time": "2024-06-16T14:17:57.207Z"
   },
   {
    "duration": 1546,
    "start_time": "2024-06-16T14:18:10.416Z"
   },
   {
    "duration": 431,
    "start_time": "2024-06-16T14:18:11.967Z"
   },
   {
    "duration": 63,
    "start_time": "2024-06-16T14:18:12.401Z"
   },
   {
    "duration": 22,
    "start_time": "2024-06-16T14:18:12.471Z"
   },
   {
    "duration": 33,
    "start_time": "2024-06-16T14:18:12.500Z"
   },
   {
    "duration": 14,
    "start_time": "2024-06-16T14:18:12.538Z"
   },
   {
    "duration": 7,
    "start_time": "2024-06-16T14:18:12.556Z"
   },
   {
    "duration": 7,
    "start_time": "2024-06-16T14:18:12.566Z"
   },
   {
    "duration": 7,
    "start_time": "2024-06-16T14:18:12.624Z"
   },
   {
    "duration": 9,
    "start_time": "2024-06-16T14:18:12.634Z"
   },
   {
    "duration": 8,
    "start_time": "2024-06-16T14:18:12.646Z"
   },
   {
    "duration": 8,
    "start_time": "2024-06-16T14:18:12.657Z"
   },
   {
    "duration": 63,
    "start_time": "2024-06-16T14:18:12.670Z"
   },
   {
    "duration": 15,
    "start_time": "2024-06-16T14:18:12.739Z"
   },
   {
    "duration": 17,
    "start_time": "2024-06-16T14:18:12.756Z"
   },
   {
    "duration": 117,
    "start_time": "2024-06-16T14:18:12.776Z"
   },
   {
    "duration": 81,
    "start_time": "2024-06-16T14:18:12.896Z"
   },
   {
    "duration": 97,
    "start_time": "2024-06-16T14:18:12.980Z"
   },
   {
    "duration": 42,
    "start_time": "2024-06-16T14:18:13.081Z"
   },
   {
    "duration": 5,
    "start_time": "2024-06-16T14:18:13.127Z"
   },
   {
    "duration": 24,
    "start_time": "2024-06-16T14:18:13.139Z"
   },
   {
    "duration": 55,
    "start_time": "2024-06-16T14:18:13.167Z"
   },
   {
    "duration": 98,
    "start_time": "2024-06-16T14:18:13.226Z"
   },
   {
    "duration": 18,
    "start_time": "2024-06-16T14:18:13.327Z"
   },
   {
    "duration": 407,
    "start_time": "2024-06-16T14:18:13.424Z"
   },
   {
    "duration": 4,
    "start_time": "2024-06-16T14:18:13.834Z"
   },
   {
    "duration": 173,
    "start_time": "2024-06-16T14:18:13.842Z"
   },
   {
    "duration": 17,
    "start_time": "2024-06-16T14:18:14.018Z"
   },
   {
    "duration": 7,
    "start_time": "2024-06-16T14:18:14.038Z"
   },
   {
    "duration": 9,
    "start_time": "2024-06-16T14:18:14.048Z"
   },
   {
    "duration": 8,
    "start_time": "2024-06-16T14:18:14.060Z"
   },
   {
    "duration": 52,
    "start_time": "2024-06-16T14:18:14.071Z"
   },
   {
    "duration": 403,
    "start_time": "2024-06-16T14:18:14.127Z"
   },
   {
    "duration": 9,
    "start_time": "2024-06-16T14:18:24.074Z"
   },
   {
    "duration": 8,
    "start_time": "2024-06-16T14:23:08.302Z"
   },
   {
    "duration": 7,
    "start_time": "2024-06-16T14:23:35.664Z"
   },
   {
    "duration": 7,
    "start_time": "2024-06-16T14:23:36.433Z"
   },
   {
    "duration": 438,
    "start_time": "2024-06-16T14:33:19.369Z"
   },
   {
    "duration": 7,
    "start_time": "2024-06-16T14:33:43.121Z"
   },
   {
    "duration": 36,
    "start_time": "2024-06-16T14:33:47.451Z"
   },
   {
    "duration": 30,
    "start_time": "2024-06-16T14:34:11.999Z"
   },
   {
    "duration": 6,
    "start_time": "2024-06-16T14:34:26.417Z"
   },
   {
    "duration": 7,
    "start_time": "2024-06-16T14:34:28.335Z"
   },
   {
    "duration": 7,
    "start_time": "2024-06-16T14:35:51.159Z"
   },
   {
    "duration": 7,
    "start_time": "2024-06-16T14:35:54.748Z"
   },
   {
    "duration": 7,
    "start_time": "2024-06-16T14:38:02.175Z"
   },
   {
    "duration": 7,
    "start_time": "2024-06-16T14:38:12.070Z"
   },
   {
    "duration": 7,
    "start_time": "2024-06-16T14:38:47.835Z"
   },
   {
    "duration": 7,
    "start_time": "2024-06-16T14:39:20.753Z"
   },
   {
    "duration": 1376,
    "start_time": "2024-06-16T14:39:35.929Z"
   },
   {
    "duration": 384,
    "start_time": "2024-06-16T14:39:37.309Z"
   },
   {
    "duration": 54,
    "start_time": "2024-06-16T14:39:37.696Z"
   },
   {
    "duration": 18,
    "start_time": "2024-06-16T14:39:37.754Z"
   },
   {
    "duration": 12,
    "start_time": "2024-06-16T14:39:37.776Z"
   },
   {
    "duration": 42,
    "start_time": "2024-06-16T14:39:37.791Z"
   },
   {
    "duration": 5,
    "start_time": "2024-06-16T14:39:37.836Z"
   },
   {
    "duration": 6,
    "start_time": "2024-06-16T14:39:37.844Z"
   },
   {
    "duration": 6,
    "start_time": "2024-06-16T14:39:37.853Z"
   },
   {
    "duration": 7,
    "start_time": "2024-06-16T14:39:37.862Z"
   },
   {
    "duration": 57,
    "start_time": "2024-06-16T14:39:37.872Z"
   },
   {
    "duration": 7,
    "start_time": "2024-06-16T14:39:37.932Z"
   },
   {
    "duration": 16,
    "start_time": "2024-06-16T14:39:37.942Z"
   },
   {
    "duration": 58,
    "start_time": "2024-06-16T14:39:37.965Z"
   },
   {
    "duration": 16,
    "start_time": "2024-06-16T14:39:38.025Z"
   },
   {
    "duration": 84,
    "start_time": "2024-06-16T14:39:38.044Z"
   },
   {
    "duration": 54,
    "start_time": "2024-06-16T14:39:38.131Z"
   },
   {
    "duration": 78,
    "start_time": "2024-06-16T14:39:38.188Z"
   },
   {
    "duration": 20,
    "start_time": "2024-06-16T14:39:38.269Z"
   },
   {
    "duration": 4,
    "start_time": "2024-06-16T14:39:38.292Z"
   },
   {
    "duration": 18,
    "start_time": "2024-06-16T14:39:38.324Z"
   },
   {
    "duration": 12,
    "start_time": "2024-06-16T14:39:38.345Z"
   },
   {
    "duration": 74,
    "start_time": "2024-06-16T14:39:38.360Z"
   },
   {
    "duration": 88,
    "start_time": "2024-06-16T14:39:38.437Z"
   },
   {
    "duration": 413,
    "start_time": "2024-06-16T14:39:38.528Z"
   },
   {
    "duration": 4,
    "start_time": "2024-06-16T14:39:38.944Z"
   },
   {
    "duration": 148,
    "start_time": "2024-06-16T14:39:38.954Z"
   },
   {
    "duration": 26,
    "start_time": "2024-06-16T14:39:39.105Z"
   },
   {
    "duration": 7,
    "start_time": "2024-06-16T14:39:39.135Z"
   },
   {
    "duration": 5,
    "start_time": "2024-06-16T14:39:39.146Z"
   },
   {
    "duration": 7,
    "start_time": "2024-06-16T14:39:39.155Z"
   },
   {
    "duration": 441,
    "start_time": "2024-06-16T14:39:39.165Z"
   },
   {
    "duration": 8,
    "start_time": "2024-06-16T14:41:43.614Z"
   },
   {
    "duration": 9,
    "start_time": "2024-06-16T14:43:40.129Z"
   },
   {
    "duration": 406,
    "start_time": "2024-06-16T14:43:41.005Z"
   },
   {
    "duration": 32,
    "start_time": "2024-06-16T14:43:41.825Z"
   },
   {
    "duration": 43,
    "start_time": "2024-06-16T14:43:56.218Z"
   },
   {
    "duration": 29,
    "start_time": "2024-06-16T14:43:58.056Z"
   },
   {
    "duration": 8,
    "start_time": "2024-06-16T14:44:23.033Z"
   },
   {
    "duration": 8,
    "start_time": "2024-06-16T14:44:34.203Z"
   },
   {
    "duration": 8,
    "start_time": "2024-06-16T14:45:09.718Z"
   },
   {
    "duration": 6,
    "start_time": "2024-06-16T14:45:15.630Z"
   },
   {
    "duration": 24,
    "start_time": "2024-06-16T14:49:10.549Z"
   },
   {
    "duration": 3,
    "start_time": "2024-06-16T14:49:42.140Z"
   },
   {
    "duration": 29,
    "start_time": "2024-06-16T14:50:20.927Z"
   },
   {
    "duration": 5,
    "start_time": "2024-06-16T14:50:36.520Z"
   },
   {
    "duration": 29,
    "start_time": "2024-06-16T14:51:05.604Z"
   },
   {
    "duration": 5,
    "start_time": "2024-06-16T14:51:35.126Z"
   },
   {
    "duration": 5,
    "start_time": "2024-06-16T14:51:39.141Z"
   },
   {
    "duration": 29,
    "start_time": "2024-06-16T14:51:41.460Z"
   },
   {
    "duration": 12,
    "start_time": "2024-06-16T14:52:18.087Z"
   },
   {
    "duration": 29,
    "start_time": "2024-06-16T14:52:27.141Z"
   },
   {
    "duration": 6,
    "start_time": "2024-06-16T14:56:46.208Z"
   },
   {
    "duration": 5360,
    "start_time": "2024-06-17T00:47:32.110Z"
   },
   {
    "duration": 528,
    "start_time": "2024-06-17T00:47:37.473Z"
   },
   {
    "duration": 52,
    "start_time": "2024-06-17T00:47:38.004Z"
   },
   {
    "duration": 18,
    "start_time": "2024-06-17T00:47:38.060Z"
   },
   {
    "duration": 13,
    "start_time": "2024-06-17T00:47:38.084Z"
   },
   {
    "duration": 12,
    "start_time": "2024-06-17T00:47:38.124Z"
   },
   {
    "duration": 5,
    "start_time": "2024-06-17T00:47:38.139Z"
   },
   {
    "duration": 5,
    "start_time": "2024-06-17T00:47:38.147Z"
   },
   {
    "duration": 6,
    "start_time": "2024-06-17T00:47:38.155Z"
   },
   {
    "duration": 59,
    "start_time": "2024-06-17T00:47:38.164Z"
   },
   {
    "duration": 7,
    "start_time": "2024-06-17T00:47:38.226Z"
   },
   {
    "duration": 7,
    "start_time": "2024-06-17T00:47:38.237Z"
   },
   {
    "duration": 14,
    "start_time": "2024-06-17T00:47:38.248Z"
   },
   {
    "duration": 55,
    "start_time": "2024-06-17T00:47:38.270Z"
   },
   {
    "duration": 13,
    "start_time": "2024-06-17T00:47:38.328Z"
   },
   {
    "duration": 88,
    "start_time": "2024-06-17T00:47:38.344Z"
   },
   {
    "duration": 54,
    "start_time": "2024-06-17T00:47:38.435Z"
   },
   {
    "duration": 73,
    "start_time": "2024-06-17T00:47:38.491Z"
   },
   {
    "duration": 19,
    "start_time": "2024-06-17T00:47:38.567Z"
   },
   {
    "duration": 4,
    "start_time": "2024-06-17T00:47:38.589Z"
   },
   {
    "duration": 19,
    "start_time": "2024-06-17T00:47:38.623Z"
   },
   {
    "duration": 14,
    "start_time": "2024-06-17T00:47:38.645Z"
   },
   {
    "duration": 75,
    "start_time": "2024-06-17T00:47:38.662Z"
   },
   {
    "duration": 91,
    "start_time": "2024-06-17T00:47:38.742Z"
   },
   {
    "duration": 353,
    "start_time": "2024-06-17T00:47:38.836Z"
   },
   {
    "duration": 3,
    "start_time": "2024-06-17T00:47:39.192Z"
   },
   {
    "duration": 144,
    "start_time": "2024-06-17T00:47:39.198Z"
   },
   {
    "duration": 16,
    "start_time": "2024-06-17T00:47:39.344Z"
   },
   {
    "duration": 7,
    "start_time": "2024-06-17T00:47:39.363Z"
   },
   {
    "duration": 5,
    "start_time": "2024-06-17T00:47:39.373Z"
   },
   {
    "duration": 40,
    "start_time": "2024-06-17T00:47:39.382Z"
   },
   {
    "duration": 405,
    "start_time": "2024-06-17T00:47:39.426Z"
   },
   {
    "duration": 7,
    "start_time": "2024-06-17T00:50:15.295Z"
   },
   {
    "duration": 11,
    "start_time": "2024-06-17T00:50:33.817Z"
   },
   {
    "duration": 11,
    "start_time": "2024-06-17T00:50:46.031Z"
   },
   {
    "duration": 8,
    "start_time": "2024-06-17T00:50:52.026Z"
   },
   {
    "duration": 9,
    "start_time": "2024-06-17T00:53:40.836Z"
   },
   {
    "duration": 666,
    "start_time": "2024-06-17T00:53:48.062Z"
   },
   {
    "duration": 7,
    "start_time": "2024-06-17T00:53:56.002Z"
   },
   {
    "duration": 27,
    "start_time": "2024-06-17T00:54:03.453Z"
   },
   {
    "duration": 4,
    "start_time": "2024-06-17T00:54:04.491Z"
   },
   {
    "duration": 16,
    "start_time": "2024-06-17T00:54:05.642Z"
   },
   {
    "duration": 14,
    "start_time": "2024-06-17T00:54:06.450Z"
   },
   {
    "duration": 18,
    "start_time": "2024-06-17T00:54:07.184Z"
   },
   {
    "duration": 6,
    "start_time": "2024-06-17T01:15:05.134Z"
   },
   {
    "duration": 3,
    "start_time": "2024-06-17T01:18:18.889Z"
   },
   {
    "duration": 3,
    "start_time": "2024-06-17T01:18:22.078Z"
   },
   {
    "duration": 4,
    "start_time": "2024-06-17T01:18:22.552Z"
   },
   {
    "duration": 4,
    "start_time": "2024-06-17T01:18:23.013Z"
   },
   {
    "duration": 8,
    "start_time": "2024-06-17T01:22:43.424Z"
   },
   {
    "duration": 6,
    "start_time": "2024-06-17T01:22:46.951Z"
   },
   {
    "duration": 7,
    "start_time": "2024-06-17T01:23:24.508Z"
   },
   {
    "duration": 13,
    "start_time": "2024-06-17T01:23:39.161Z"
   },
   {
    "duration": 24,
    "start_time": "2024-06-17T01:29:43.909Z"
   },
   {
    "duration": 24,
    "start_time": "2024-06-17T01:30:12.481Z"
   },
   {
    "duration": 28,
    "start_time": "2024-06-17T01:34:36.835Z"
   },
   {
    "duration": 9,
    "start_time": "2024-06-17T01:34:40.122Z"
   },
   {
    "duration": 27,
    "start_time": "2024-06-17T01:34:41.715Z"
   },
   {
    "duration": 6,
    "start_time": "2024-06-17T01:35:32.936Z"
   },
   {
    "duration": 24,
    "start_time": "2024-06-17T01:35:33.738Z"
   },
   {
    "duration": 27,
    "start_time": "2024-06-17T01:37:12.689Z"
   },
   {
    "duration": 24,
    "start_time": "2024-06-17T01:37:24.013Z"
   },
   {
    "duration": 13,
    "start_time": "2024-06-17T01:37:53.101Z"
   },
   {
    "duration": 6,
    "start_time": "2024-06-17T01:44:28.006Z"
   },
   {
    "duration": 23,
    "start_time": "2024-06-17T01:44:28.632Z"
   },
   {
    "duration": 24,
    "start_time": "2024-06-17T01:45:41.328Z"
   },
   {
    "duration": 9,
    "start_time": "2024-06-17T01:45:43.997Z"
   },
   {
    "duration": 23,
    "start_time": "2024-06-17T01:45:44.485Z"
   },
   {
    "duration": 6,
    "start_time": "2024-06-17T01:46:18.343Z"
   },
   {
    "duration": 23,
    "start_time": "2024-06-17T01:46:19.281Z"
   },
   {
    "duration": 154,
    "start_time": "2024-06-17T01:46:32.570Z"
   },
   {
    "duration": 24,
    "start_time": "2024-06-17T01:47:15.048Z"
   },
   {
    "duration": 7,
    "start_time": "2024-06-17T01:48:02.028Z"
   },
   {
    "duration": 22,
    "start_time": "2024-06-17T01:48:02.852Z"
   },
   {
    "duration": 7,
    "start_time": "2024-06-17T01:48:28.749Z"
   },
   {
    "duration": 26,
    "start_time": "2024-06-17T01:48:29.942Z"
   },
   {
    "duration": 27,
    "start_time": "2024-06-17T01:48:47.776Z"
   },
   {
    "duration": 25,
    "start_time": "2024-06-17T01:49:16.269Z"
   },
   {
    "duration": 22,
    "start_time": "2024-06-17T01:50:14.760Z"
   },
   {
    "duration": 23,
    "start_time": "2024-06-17T01:50:15.678Z"
   },
   {
    "duration": 23,
    "start_time": "2024-06-17T01:50:59.314Z"
   },
   {
    "duration": 25,
    "start_time": "2024-06-17T01:51:00.093Z"
   },
   {
    "duration": 14,
    "start_time": "2024-06-17T01:51:43.453Z"
   },
   {
    "duration": 45,
    "start_time": "2024-06-17T01:53:53.965Z"
   },
   {
    "duration": 48,
    "start_time": "2024-06-17T01:54:01.714Z"
   },
   {
    "duration": 39,
    "start_time": "2024-06-17T01:54:14.756Z"
   },
   {
    "duration": 894,
    "start_time": "2024-06-17T01:54:24.174Z"
   },
   {
    "duration": 102,
    "start_time": "2024-06-17T01:54:32.127Z"
   },
   {
    "duration": 34,
    "start_time": "2024-06-17T01:54:48.881Z"
   },
   {
    "duration": 35,
    "start_time": "2024-06-17T01:55:09.566Z"
   },
   {
    "duration": 14,
    "start_time": "2024-06-17T01:55:17.952Z"
   },
   {
    "duration": 7,
    "start_time": "2024-06-17T01:56:37.947Z"
   },
   {
    "duration": 2,
    "start_time": "2024-06-17T01:56:39.002Z"
   },
   {
    "duration": 13,
    "start_time": "2024-06-17T01:56:39.552Z"
   },
   {
    "duration": 13,
    "start_time": "2024-06-17T01:56:40.687Z"
   },
   {
    "duration": 6,
    "start_time": "2024-06-17T01:56:42.041Z"
   },
   {
    "duration": 27,
    "start_time": "2024-06-17T01:57:31.383Z"
   },
   {
    "duration": 14,
    "start_time": "2024-06-17T01:57:47.242Z"
   },
   {
    "duration": 4,
    "start_time": "2024-06-17T02:07:45.909Z"
   },
   {
    "duration": 23,
    "start_time": "2024-06-17T02:09:22.201Z"
   },
   {
    "duration": 24,
    "start_time": "2024-06-17T02:09:23.594Z"
   },
   {
    "duration": 24,
    "start_time": "2024-06-17T02:10:52.053Z"
   },
   {
    "duration": 14,
    "start_time": "2024-06-17T02:12:46.237Z"
   },
   {
    "duration": 15,
    "start_time": "2024-06-17T02:13:09.861Z"
   },
   {
    "duration": 3,
    "start_time": "2024-06-17T02:26:17.642Z"
   },
   {
    "duration": 6,
    "start_time": "2024-06-17T02:44:15.783Z"
   },
   {
    "duration": 24,
    "start_time": "2024-06-17T02:44:44.248Z"
   },
   {
    "duration": 14,
    "start_time": "2024-06-17T02:44:48.278Z"
   },
   {
    "duration": 27,
    "start_time": "2024-06-17T02:44:56.338Z"
   },
   {
    "duration": 14,
    "start_time": "2024-06-17T02:45:31.006Z"
   },
   {
    "duration": 26,
    "start_time": "2024-06-17T02:48:24.097Z"
   },
   {
    "duration": 6,
    "start_time": "2024-06-17T02:48:34.273Z"
   },
   {
    "duration": 6,
    "start_time": "2024-06-17T02:48:41.370Z"
   },
   {
    "duration": 29,
    "start_time": "2024-06-17T02:48:45.178Z"
   },
   {
    "duration": 9,
    "start_time": "2024-06-17T02:48:49.936Z"
   },
   {
    "duration": 16,
    "start_time": "2024-06-17T02:48:59.756Z"
   },
   {
    "duration": 32,
    "start_time": "2024-06-17T02:49:21.997Z"
   },
   {
    "duration": 4,
    "start_time": "2024-06-17T02:50:35.521Z"
   },
   {
    "duration": 7,
    "start_time": "2024-06-17T02:50:36.321Z"
   },
   {
    "duration": 1947,
    "start_time": "2024-06-17T02:50:37.257Z"
   },
   {
    "duration": 101,
    "start_time": "2024-06-17T02:53:58.179Z"
   },
   {
    "duration": 6,
    "start_time": "2024-06-17T02:56:10.134Z"
   },
   {
    "duration": 5,
    "start_time": "2024-06-17T02:56:11.004Z"
   },
   {
    "duration": 35,
    "start_time": "2024-06-17T02:56:11.510Z"
   },
   {
    "duration": 4,
    "start_time": "2024-06-17T02:56:45.806Z"
   },
   {
    "duration": 3,
    "start_time": "2024-06-17T02:56:46.494Z"
   },
   {
    "duration": 38,
    "start_time": "2024-06-17T02:56:47.069Z"
   },
   {
    "duration": 37,
    "start_time": "2024-06-17T02:56:51.663Z"
   },
   {
    "duration": 24,
    "start_time": "2024-06-17T02:57:50.260Z"
   },
   {
    "duration": 39,
    "start_time": "2024-06-17T02:57:50.777Z"
   },
   {
    "duration": 46,
    "start_time": "2024-06-17T02:57:51.853Z"
   },
   {
    "duration": 14,
    "start_time": "2024-06-17T02:57:52.712Z"
   },
   {
    "duration": 16,
    "start_time": "2024-06-17T02:57:57.425Z"
   },
   {
    "duration": 14,
    "start_time": "2024-06-17T03:04:15.471Z"
   },
   {
    "duration": 62,
    "start_time": "2024-06-17T03:04:34.802Z"
   },
   {
    "duration": 10,
    "start_time": "2024-06-17T03:06:09.131Z"
   },
   {
    "duration": 36,
    "start_time": "2024-06-17T03:06:10.163Z"
   },
   {
    "duration": 38,
    "start_time": "2024-06-17T03:06:11.043Z"
   },
   {
    "duration": 7,
    "start_time": "2024-06-17T03:07:29.458Z"
   },
   {
    "duration": 4,
    "start_time": "2024-06-17T03:07:30.252Z"
   },
   {
    "duration": 10,
    "start_time": "2024-06-17T03:07:30.678Z"
   },
   {
    "duration": 42,
    "start_time": "2024-06-17T03:07:31.340Z"
   },
   {
    "duration": 38,
    "start_time": "2024-06-17T03:07:32.074Z"
   },
   {
    "duration": 7,
    "start_time": "2024-06-17T03:08:25.062Z"
   },
   {
    "duration": 4,
    "start_time": "2024-06-17T03:08:25.861Z"
   },
   {
    "duration": 14,
    "start_time": "2024-06-17T03:08:26.388Z"
   },
   {
    "duration": 8,
    "start_time": "2024-06-17T03:08:27.673Z"
   },
   {
    "duration": 35,
    "start_time": "2024-06-17T03:08:28.364Z"
   },
   {
    "duration": 13,
    "start_time": "2024-06-17T03:08:29.348Z"
   },
   {
    "duration": 14,
    "start_time": "2024-06-17T03:09:19.538Z"
   },
   {
    "duration": 38,
    "start_time": "2024-06-17T03:09:20.247Z"
   },
   {
    "duration": 37,
    "start_time": "2024-06-17T03:09:27.956Z"
   },
   {
    "duration": 15,
    "start_time": "2024-06-17T03:09:45.187Z"
   },
   {
    "duration": 34,
    "start_time": "2024-06-17T03:09:45.650Z"
   },
   {
    "duration": 23,
    "start_time": "2024-06-17T03:10:22.239Z"
   },
   {
    "duration": 44,
    "start_time": "2024-06-17T03:10:23.381Z"
   },
   {
    "duration": 7,
    "start_time": "2024-06-17T03:10:34.193Z"
   },
   {
    "duration": 34,
    "start_time": "2024-06-17T03:10:34.712Z"
   },
   {
    "duration": 19,
    "start_time": "2024-06-17T03:10:38.822Z"
   },
   {
    "duration": 8,
    "start_time": "2024-06-17T03:10:59.792Z"
   },
   {
    "duration": 3,
    "start_time": "2024-06-17T03:11:00.975Z"
   },
   {
    "duration": 13,
    "start_time": "2024-06-17T03:11:01.490Z"
   },
   {
    "duration": 8,
    "start_time": "2024-06-17T03:11:06.591Z"
   },
   {
    "duration": 38,
    "start_time": "2024-06-17T03:11:12.222Z"
   },
   {
    "duration": 7,
    "start_time": "2024-06-17T03:11:26.794Z"
   },
   {
    "duration": 36,
    "start_time": "2024-06-17T03:11:27.582Z"
   },
   {
    "duration": 3,
    "start_time": "2024-06-17T03:11:58.736Z"
   },
   {
    "duration": 7,
    "start_time": "2024-06-17T03:11:59.190Z"
   },
   {
    "duration": 42,
    "start_time": "2024-06-17T03:12:00.303Z"
   },
   {
    "duration": 24,
    "start_time": "2024-06-17T03:12:57.256Z"
   },
   {
    "duration": 35,
    "start_time": "2024-06-17T03:13:42.588Z"
   },
   {
    "duration": 5,
    "start_time": "2024-06-17T03:14:38.460Z"
   },
   {
    "duration": 11,
    "start_time": "2024-06-17T03:15:24.480Z"
   },
   {
    "duration": 63,
    "start_time": "2024-06-17T03:15:25.268Z"
   },
   {
    "duration": 97,
    "start_time": "2024-06-17T03:15:46.363Z"
   },
   {
    "duration": 367,
    "start_time": "2024-06-17T03:17:15.873Z"
   },
   {
    "duration": 41,
    "start_time": "2024-06-17T03:17:16.373Z"
   },
   {
    "duration": 36,
    "start_time": "2024-06-17T03:17:17.887Z"
   },
   {
    "duration": 19,
    "start_time": "2024-06-17T03:17:29.239Z"
   },
   {
    "duration": 38,
    "start_time": "2024-06-17T03:17:30.117Z"
   },
   {
    "duration": 7,
    "start_time": "2024-06-17T03:18:27.576Z"
   },
   {
    "duration": 37,
    "start_time": "2024-06-17T03:18:28.420Z"
   },
   {
    "duration": 9,
    "start_time": "2024-06-17T03:18:40.990Z"
   },
   {
    "duration": 14,
    "start_time": "2024-06-17T03:18:44.852Z"
   },
   {
    "duration": 18,
    "start_time": "2024-06-17T03:18:50.623Z"
   },
   {
    "duration": 9,
    "start_time": "2024-06-17T03:18:58.711Z"
   },
   {
    "duration": 14,
    "start_time": "2024-06-17T03:18:59.582Z"
   },
   {
    "duration": 17,
    "start_time": "2024-06-17T03:19:01.237Z"
   },
   {
    "duration": 16,
    "start_time": "2024-06-17T03:21:31.714Z"
   },
   {
    "duration": 35,
    "start_time": "2024-06-17T03:21:32.794Z"
   },
   {
    "duration": 16,
    "start_time": "2024-06-17T03:21:37.615Z"
   },
   {
    "duration": 14,
    "start_time": "2024-06-17T03:21:42.697Z"
   },
   {
    "duration": 155,
    "start_time": "2024-06-17T03:22:12.791Z"
   },
   {
    "duration": 7,
    "start_time": "2024-06-17T03:22:24.454Z"
   },
   {
    "duration": 36,
    "start_time": "2024-06-17T03:22:26.640Z"
   },
   {
    "duration": 49,
    "start_time": "2024-06-17T03:22:39.647Z"
   },
   {
    "duration": 16,
    "start_time": "2024-06-17T03:22:49.466Z"
   },
   {
    "duration": 15,
    "start_time": "2024-06-17T03:23:58.477Z"
   },
   {
    "duration": 16,
    "start_time": "2024-06-17T03:23:59.418Z"
   },
   {
    "duration": 12,
    "start_time": "2024-06-17T03:24:12.464Z"
   },
   {
    "duration": 42,
    "start_time": "2024-06-17T03:25:05.321Z"
   },
   {
    "duration": 3,
    "start_time": "2024-06-17T03:25:06.259Z"
   },
   {
    "duration": 62,
    "start_time": "2024-06-17T03:25:06.760Z"
   },
   {
    "duration": 29,
    "start_time": "2024-06-17T03:26:18.351Z"
   },
   {
    "duration": 12,
    "start_time": "2024-06-17T03:26:31.047Z"
   },
   {
    "duration": 24,
    "start_time": "2024-06-17T03:27:43.927Z"
   },
   {
    "duration": 24,
    "start_time": "2024-06-17T03:28:56.789Z"
   },
   {
    "duration": 16,
    "start_time": "2024-06-17T03:29:34.750Z"
   },
   {
    "duration": 19,
    "start_time": "2024-06-17T03:29:35.911Z"
   },
   {
    "duration": 35,
    "start_time": "2024-06-17T03:29:44.548Z"
   },
   {
    "duration": 9,
    "start_time": "2024-06-17T03:30:22.096Z"
   },
   {
    "duration": 40,
    "start_time": "2024-06-17T03:30:23.201Z"
   },
   {
    "duration": 17,
    "start_time": "2024-06-17T03:30:49.748Z"
   },
   {
    "duration": 38,
    "start_time": "2024-06-17T03:30:50.840Z"
   },
   {
    "duration": 7,
    "start_time": "2024-06-17T03:31:11.551Z"
   },
   {
    "duration": 35,
    "start_time": "2024-06-17T03:31:12.435Z"
   },
   {
    "duration": 7,
    "start_time": "2024-06-17T03:31:32.687Z"
   },
   {
    "duration": 34,
    "start_time": "2024-06-17T03:31:33.362Z"
   },
   {
    "duration": 15,
    "start_time": "2024-06-17T03:31:35.068Z"
   },
   {
    "duration": 7,
    "start_time": "2024-06-17T03:32:08.403Z"
   },
   {
    "duration": 35,
    "start_time": "2024-06-17T03:32:09.146Z"
   },
   {
    "duration": 12,
    "start_time": "2024-06-17T03:32:37.544Z"
   },
   {
    "duration": 33,
    "start_time": "2024-06-17T03:32:38.184Z"
   },
   {
    "duration": 13,
    "start_time": "2024-06-17T03:32:42.784Z"
   },
   {
    "duration": 12,
    "start_time": "2024-06-17T03:33:59.487Z"
   },
   {
    "duration": 38,
    "start_time": "2024-06-17T03:34:00.732Z"
   },
   {
    "duration": 38,
    "start_time": "2024-06-17T03:34:06.821Z"
   },
   {
    "duration": 1355,
    "start_time": "2024-06-17T03:34:31.556Z"
   },
   {
    "duration": 414,
    "start_time": "2024-06-17T03:34:32.916Z"
   },
   {
    "duration": 49,
    "start_time": "2024-06-17T03:34:33.339Z"
   },
   {
    "duration": 16,
    "start_time": "2024-06-17T03:34:33.391Z"
   },
   {
    "duration": 15,
    "start_time": "2024-06-17T03:34:33.423Z"
   },
   {
    "duration": 14,
    "start_time": "2024-06-17T03:34:33.443Z"
   },
   {
    "duration": 5,
    "start_time": "2024-06-17T03:34:33.461Z"
   },
   {
    "duration": 5,
    "start_time": "2024-06-17T03:34:33.470Z"
   },
   {
    "duration": 38,
    "start_time": "2024-06-17T03:34:33.485Z"
   },
   {
    "duration": 12,
    "start_time": "2024-06-17T03:34:33.525Z"
   },
   {
    "duration": 11,
    "start_time": "2024-06-17T03:34:33.542Z"
   },
   {
    "duration": 7,
    "start_time": "2024-06-17T03:34:33.555Z"
   },
   {
    "duration": 14,
    "start_time": "2024-06-17T03:34:33.566Z"
   },
   {
    "duration": 43,
    "start_time": "2024-06-17T03:34:33.588Z"
   },
   {
    "duration": 23,
    "start_time": "2024-06-17T03:34:33.634Z"
   },
   {
    "duration": 72,
    "start_time": "2024-06-17T03:34:33.660Z"
   },
   {
    "duration": 57,
    "start_time": "2024-06-17T03:34:33.735Z"
   },
   {
    "duration": 72,
    "start_time": "2024-06-17T03:34:33.799Z"
   },
   {
    "duration": 23,
    "start_time": "2024-06-17T03:34:33.875Z"
   },
   {
    "duration": 26,
    "start_time": "2024-06-17T03:34:33.901Z"
   },
   {
    "duration": 21,
    "start_time": "2024-06-17T03:34:33.929Z"
   },
   {
    "duration": 14,
    "start_time": "2024-06-17T03:34:33.953Z"
   },
   {
    "duration": 79,
    "start_time": "2024-06-17T03:34:33.970Z"
   },
   {
    "duration": 81,
    "start_time": "2024-06-17T03:34:34.052Z"
   },
   {
    "duration": 392,
    "start_time": "2024-06-17T03:34:34.138Z"
   },
   {
    "duration": 130,
    "start_time": "2024-06-17T03:34:34.532Z"
   },
   {
    "duration": 16,
    "start_time": "2024-06-17T03:34:34.666Z"
   },
   {
    "duration": 8,
    "start_time": "2024-06-17T03:34:34.685Z"
   },
   {
    "duration": 59,
    "start_time": "2024-06-17T03:34:34.696Z"
   },
   {
    "duration": 528,
    "start_time": "2024-06-17T03:34:34.765Z"
   },
   {
    "duration": 0,
    "start_time": "2024-06-17T03:34:35.296Z"
   },
   {
    "duration": 0,
    "start_time": "2024-06-17T03:34:35.298Z"
   },
   {
    "duration": 0,
    "start_time": "2024-06-17T03:34:35.301Z"
   },
   {
    "duration": 0,
    "start_time": "2024-06-17T03:34:35.303Z"
   },
   {
    "duration": 0,
    "start_time": "2024-06-17T03:34:35.322Z"
   },
   {
    "duration": 0,
    "start_time": "2024-06-17T03:34:35.323Z"
   },
   {
    "duration": 0,
    "start_time": "2024-06-17T03:34:35.324Z"
   },
   {
    "duration": 0,
    "start_time": "2024-06-17T03:34:35.325Z"
   },
   {
    "duration": 0,
    "start_time": "2024-06-17T03:34:35.328Z"
   },
   {
    "duration": 0,
    "start_time": "2024-06-17T03:34:35.329Z"
   },
   {
    "duration": 0,
    "start_time": "2024-06-17T03:34:35.331Z"
   },
   {
    "duration": 0,
    "start_time": "2024-06-17T03:34:35.332Z"
   },
   {
    "duration": 0,
    "start_time": "2024-06-17T03:34:35.334Z"
   },
   {
    "duration": 121,
    "start_time": "2024-06-17T03:36:51.131Z"
   },
   {
    "duration": 28,
    "start_time": "2024-06-17T03:36:56.332Z"
   },
   {
    "duration": 142,
    "start_time": "2024-06-17T03:37:35.609Z"
   },
   {
    "duration": 176,
    "start_time": "2024-06-17T03:38:01.358Z"
   },
   {
    "duration": 38,
    "start_time": "2024-06-17T03:39:34.104Z"
   },
   {
    "duration": 33,
    "start_time": "2024-06-17T03:39:43.197Z"
   },
   {
    "duration": 9,
    "start_time": "2024-06-17T03:40:06.589Z"
   },
   {
    "duration": 50,
    "start_time": "2024-06-17T03:40:07.881Z"
   },
   {
    "duration": 8,
    "start_time": "2024-06-17T03:40:44.098Z"
   },
   {
    "duration": 23,
    "start_time": "2024-06-17T03:40:44.993Z"
   },
   {
    "duration": 14,
    "start_time": "2024-06-17T03:41:02.240Z"
   },
   {
    "duration": 6,
    "start_time": "2024-06-17T03:41:07.152Z"
   },
   {
    "duration": 26,
    "start_time": "2024-06-17T03:41:10.884Z"
   },
   {
    "duration": 23,
    "start_time": "2024-06-17T03:41:35.556Z"
   },
   {
    "duration": 33,
    "start_time": "2024-06-17T03:42:04.844Z"
   },
   {
    "duration": 1350,
    "start_time": "2024-06-17T03:42:12.367Z"
   },
   {
    "duration": 392,
    "start_time": "2024-06-17T03:42:13.723Z"
   },
   {
    "duration": 52,
    "start_time": "2024-06-17T03:42:14.118Z"
   },
   {
    "duration": 16,
    "start_time": "2024-06-17T03:42:14.173Z"
   },
   {
    "duration": 32,
    "start_time": "2024-06-17T03:42:14.194Z"
   },
   {
    "duration": 14,
    "start_time": "2024-06-17T03:42:14.229Z"
   },
   {
    "duration": 10,
    "start_time": "2024-06-17T03:42:14.245Z"
   },
   {
    "duration": 6,
    "start_time": "2024-06-17T03:42:14.257Z"
   },
   {
    "duration": 6,
    "start_time": "2024-06-17T03:42:14.266Z"
   },
   {
    "duration": 50,
    "start_time": "2024-06-17T03:42:14.276Z"
   },
   {
    "duration": 6,
    "start_time": "2024-06-17T03:42:14.329Z"
   },
   {
    "duration": 8,
    "start_time": "2024-06-17T03:42:14.338Z"
   },
   {
    "duration": 17,
    "start_time": "2024-06-17T03:42:14.348Z"
   },
   {
    "duration": 50,
    "start_time": "2024-06-17T03:42:14.379Z"
   },
   {
    "duration": 13,
    "start_time": "2024-06-17T03:42:14.435Z"
   },
   {
    "duration": 74,
    "start_time": "2024-06-17T03:42:14.452Z"
   },
   {
    "duration": 55,
    "start_time": "2024-06-17T03:42:14.528Z"
   },
   {
    "duration": 77,
    "start_time": "2024-06-17T03:42:14.586Z"
   },
   {
    "duration": 21,
    "start_time": "2024-06-17T03:42:14.666Z"
   },
   {
    "duration": 4,
    "start_time": "2024-06-17T03:42:14.690Z"
   },
   {
    "duration": 43,
    "start_time": "2024-06-17T03:42:14.697Z"
   },
   {
    "duration": 15,
    "start_time": "2024-06-17T03:42:14.742Z"
   },
   {
    "duration": 73,
    "start_time": "2024-06-17T03:42:14.760Z"
   },
   {
    "duration": 21,
    "start_time": "2024-06-17T03:42:14.836Z"
   },
   {
    "duration": 423,
    "start_time": "2024-06-17T03:42:14.863Z"
   },
   {
    "duration": 145,
    "start_time": "2024-06-17T03:42:15.289Z"
   },
   {
    "duration": 18,
    "start_time": "2024-06-17T03:42:15.436Z"
   },
   {
    "duration": 8,
    "start_time": "2024-06-17T03:42:15.457Z"
   },
   {
    "duration": 56,
    "start_time": "2024-06-17T03:42:15.470Z"
   },
   {
    "duration": 98,
    "start_time": "2024-06-17T03:42:15.528Z"
   },
   {
    "duration": 99,
    "start_time": "2024-06-17T03:42:15.629Z"
   },
   {
    "duration": 6,
    "start_time": "2024-06-17T03:42:15.733Z"
   },
   {
    "duration": 0,
    "start_time": "2024-06-17T03:42:15.745Z"
   },
   {
    "duration": 0,
    "start_time": "2024-06-17T03:42:15.748Z"
   },
   {
    "duration": 0,
    "start_time": "2024-06-17T03:42:15.751Z"
   },
   {
    "duration": 0,
    "start_time": "2024-06-17T03:42:15.758Z"
   },
   {
    "duration": 0,
    "start_time": "2024-06-17T03:42:15.760Z"
   },
   {
    "duration": 0,
    "start_time": "2024-06-17T03:42:15.767Z"
   },
   {
    "duration": 0,
    "start_time": "2024-06-17T03:42:15.769Z"
   },
   {
    "duration": 0,
    "start_time": "2024-06-17T03:42:15.771Z"
   },
   {
    "duration": 0,
    "start_time": "2024-06-17T03:42:15.823Z"
   },
   {
    "duration": 0,
    "start_time": "2024-06-17T03:42:15.826Z"
   },
   {
    "duration": 0,
    "start_time": "2024-06-17T03:42:15.828Z"
   },
   {
    "duration": 0,
    "start_time": "2024-06-17T03:42:15.830Z"
   },
   {
    "duration": 269,
    "start_time": "2024-06-17T03:42:26.622Z"
   },
   {
    "duration": 248,
    "start_time": "2024-06-17T03:42:59.564Z"
   },
   {
    "duration": 24,
    "start_time": "2024-06-17T03:44:03.921Z"
   },
   {
    "duration": 214,
    "start_time": "2024-06-17T03:44:09.932Z"
   },
   {
    "duration": 95,
    "start_time": "2024-06-17T03:44:22.356Z"
   },
   {
    "duration": 9,
    "start_time": "2024-06-17T03:44:35.554Z"
   },
   {
    "duration": 11,
    "start_time": "2024-06-17T03:44:38.709Z"
   },
   {
    "duration": 25,
    "start_time": "2024-06-17T03:44:41.268Z"
   },
   {
    "duration": 27,
    "start_time": "2024-06-17T03:46:45.921Z"
   },
   {
    "duration": 7,
    "start_time": "2024-06-17T03:47:38.757Z"
   },
   {
    "duration": 28,
    "start_time": "2024-06-17T03:47:57.415Z"
   },
   {
    "duration": 40,
    "start_time": "2024-06-17T03:49:02.932Z"
   },
   {
    "duration": 23,
    "start_time": "2024-06-17T03:49:03.961Z"
   },
   {
    "duration": 2,
    "start_time": "2024-06-17T03:49:04.715Z"
   },
   {
    "duration": 23,
    "start_time": "2024-06-17T03:49:05.159Z"
   },
   {
    "duration": 10,
    "start_time": "2024-06-17T03:49:12.956Z"
   },
   {
    "duration": 23,
    "start_time": "2024-06-17T03:49:14.586Z"
   },
   {
    "duration": 272,
    "start_time": "2024-06-17T03:49:15.754Z"
   },
   {
    "duration": 30,
    "start_time": "2024-06-17T03:49:22.576Z"
   },
   {
    "duration": 36,
    "start_time": "2024-06-17T03:49:41.658Z"
   },
   {
    "duration": 23,
    "start_time": "2024-06-17T03:49:49.343Z"
   },
   {
    "duration": 23,
    "start_time": "2024-06-17T03:50:28.756Z"
   },
   {
    "duration": 7,
    "start_time": "2024-06-17T03:50:52.597Z"
   },
   {
    "duration": 26,
    "start_time": "2024-06-17T03:50:53.126Z"
   },
   {
    "duration": 26,
    "start_time": "2024-06-17T03:50:54.609Z"
   },
   {
    "duration": 23,
    "start_time": "2024-06-17T03:50:56.084Z"
   },
   {
    "duration": 1361,
    "start_time": "2024-06-17T03:51:07.024Z"
   },
   {
    "duration": 382,
    "start_time": "2024-06-17T03:51:08.390Z"
   },
   {
    "duration": 54,
    "start_time": "2024-06-17T03:51:08.774Z"
   },
   {
    "duration": 16,
    "start_time": "2024-06-17T03:51:08.831Z"
   },
   {
    "duration": 13,
    "start_time": "2024-06-17T03:51:08.851Z"
   },
   {
    "duration": 15,
    "start_time": "2024-06-17T03:51:08.867Z"
   },
   {
    "duration": 36,
    "start_time": "2024-06-17T03:51:08.886Z"
   },
   {
    "duration": 4,
    "start_time": "2024-06-17T03:51:08.924Z"
   },
   {
    "duration": 5,
    "start_time": "2024-06-17T03:51:08.931Z"
   },
   {
    "duration": 6,
    "start_time": "2024-06-17T03:51:08.939Z"
   },
   {
    "duration": 7,
    "start_time": "2024-06-17T03:51:08.952Z"
   },
   {
    "duration": 8,
    "start_time": "2024-06-17T03:51:08.962Z"
   },
   {
    "duration": 60,
    "start_time": "2024-06-17T03:51:08.972Z"
   },
   {
    "duration": 19,
    "start_time": "2024-06-17T03:51:09.042Z"
   },
   {
    "duration": 22,
    "start_time": "2024-06-17T03:51:09.067Z"
   },
   {
    "duration": 82,
    "start_time": "2024-06-17T03:51:09.092Z"
   },
   {
    "duration": 85,
    "start_time": "2024-06-17T03:51:09.177Z"
   },
   {
    "duration": 64,
    "start_time": "2024-06-17T03:51:09.268Z"
   },
   {
    "duration": 23,
    "start_time": "2024-06-17T03:51:09.334Z"
   },
   {
    "duration": 4,
    "start_time": "2024-06-17T03:51:09.360Z"
   },
   {
    "duration": 19,
    "start_time": "2024-06-17T03:51:09.367Z"
   },
   {
    "duration": 43,
    "start_time": "2024-06-17T03:51:09.389Z"
   },
   {
    "duration": 103,
    "start_time": "2024-06-17T03:51:09.436Z"
   },
   {
    "duration": 82,
    "start_time": "2024-06-17T03:51:09.547Z"
   },
   {
    "duration": 374,
    "start_time": "2024-06-17T03:51:09.635Z"
   },
   {
    "duration": 145,
    "start_time": "2024-06-17T03:51:10.011Z"
   },
   {
    "duration": 15,
    "start_time": "2024-06-17T03:51:10.159Z"
   },
   {
    "duration": 9,
    "start_time": "2024-06-17T03:51:10.178Z"
   },
   {
    "duration": 445,
    "start_time": "2024-06-17T03:51:10.191Z"
   },
   {
    "duration": 0,
    "start_time": "2024-06-17T03:51:10.639Z"
   },
   {
    "duration": 0,
    "start_time": "2024-06-17T03:51:10.640Z"
   },
   {
    "duration": 0,
    "start_time": "2024-06-17T03:51:10.642Z"
   },
   {
    "duration": 0,
    "start_time": "2024-06-17T03:51:10.644Z"
   },
   {
    "duration": 0,
    "start_time": "2024-06-17T03:51:10.645Z"
   },
   {
    "duration": 0,
    "start_time": "2024-06-17T03:51:10.647Z"
   },
   {
    "duration": 0,
    "start_time": "2024-06-17T03:51:10.648Z"
   },
   {
    "duration": 0,
    "start_time": "2024-06-17T03:51:10.649Z"
   },
   {
    "duration": 0,
    "start_time": "2024-06-17T03:51:10.651Z"
   },
   {
    "duration": 0,
    "start_time": "2024-06-17T03:51:10.652Z"
   },
   {
    "duration": 0,
    "start_time": "2024-06-17T03:51:10.654Z"
   },
   {
    "duration": 0,
    "start_time": "2024-06-17T03:51:10.656Z"
   },
   {
    "duration": 0,
    "start_time": "2024-06-17T03:51:10.657Z"
   },
   {
    "duration": 0,
    "start_time": "2024-06-17T03:51:10.659Z"
   },
   {
    "duration": 0,
    "start_time": "2024-06-17T03:51:10.660Z"
   },
   {
    "duration": 0,
    "start_time": "2024-06-17T03:51:10.662Z"
   },
   {
    "duration": 0,
    "start_time": "2024-06-17T03:51:10.663Z"
   },
   {
    "duration": 84,
    "start_time": "2024-06-17T03:51:36.064Z"
   },
   {
    "duration": 5,
    "start_time": "2024-06-17T03:51:39.549Z"
   },
   {
    "duration": 20,
    "start_time": "2024-06-17T03:51:40.489Z"
   },
   {
    "duration": 38,
    "start_time": "2024-06-17T03:51:48.866Z"
   },
   {
    "duration": 6,
    "start_time": "2024-06-17T03:51:56.187Z"
   },
   {
    "duration": 28,
    "start_time": "2024-06-17T03:51:57.136Z"
   },
   {
    "duration": 284,
    "start_time": "2024-06-17T03:51:58.149Z"
   },
   {
    "duration": 7,
    "start_time": "2024-06-17T03:52:04.744Z"
   },
   {
    "duration": 383,
    "start_time": "2024-06-17T03:52:06.489Z"
   },
   {
    "duration": 44,
    "start_time": "2024-06-17T03:52:07.168Z"
   },
   {
    "duration": 28,
    "start_time": "2024-06-17T03:52:07.816Z"
   },
   {
    "duration": 13,
    "start_time": "2024-06-17T03:52:08.432Z"
   },
   {
    "duration": 13,
    "start_time": "2024-06-17T03:52:08.866Z"
   },
   {
    "duration": 6,
    "start_time": "2024-06-17T03:52:10.838Z"
   },
   {
    "duration": 5,
    "start_time": "2024-06-17T03:52:11.509Z"
   },
   {
    "duration": 5,
    "start_time": "2024-06-17T03:52:11.958Z"
   },
   {
    "duration": 9,
    "start_time": "2024-06-17T03:52:12.948Z"
   },
   {
    "duration": 7,
    "start_time": "2024-06-17T03:52:13.510Z"
   },
   {
    "duration": 7,
    "start_time": "2024-06-17T03:52:13.996Z"
   },
   {
    "duration": 13,
    "start_time": "2024-06-17T03:52:14.994Z"
   },
   {
    "duration": 13,
    "start_time": "2024-06-17T03:52:15.448Z"
   },
   {
    "duration": 12,
    "start_time": "2024-06-17T03:52:15.917Z"
   },
   {
    "duration": 61,
    "start_time": "2024-06-17T03:52:16.961Z"
   },
   {
    "duration": 53,
    "start_time": "2024-06-17T03:52:17.465Z"
   },
   {
    "duration": 56,
    "start_time": "2024-06-17T03:52:17.952Z"
   },
   {
    "duration": 25,
    "start_time": "2024-06-17T03:52:19.742Z"
   },
   {
    "duration": 5,
    "start_time": "2024-06-17T03:52:20.334Z"
   },
   {
    "duration": 16,
    "start_time": "2024-06-17T03:52:20.958Z"
   },
   {
    "duration": 18,
    "start_time": "2024-06-17T03:52:21.464Z"
   },
   {
    "duration": 18,
    "start_time": "2024-06-17T03:52:22.312Z"
   },
   {
    "duration": 12,
    "start_time": "2024-06-17T03:52:23.045Z"
   },
   {
    "duration": 319,
    "start_time": "2024-06-17T03:52:23.656Z"
   },
   {
    "duration": 144,
    "start_time": "2024-06-17T03:52:25.504Z"
   },
   {
    "duration": 20,
    "start_time": "2024-06-17T03:52:26.475Z"
   },
   {
    "duration": 9,
    "start_time": "2024-06-17T03:52:27.532Z"
   },
   {
    "duration": 27,
    "start_time": "2024-06-17T03:52:29.307Z"
   },
   {
    "duration": 25,
    "start_time": "2024-06-17T03:52:32.593Z"
   },
   {
    "duration": 24,
    "start_time": "2024-06-17T03:52:41.588Z"
   },
   {
    "duration": 26,
    "start_time": "2024-06-17T03:52:43.144Z"
   },
   {
    "duration": 29,
    "start_time": "2024-06-17T03:52:48.007Z"
   },
   {
    "duration": 40,
    "start_time": "2024-06-17T03:52:55.217Z"
   },
   {
    "duration": 25,
    "start_time": "2024-06-17T03:52:57.469Z"
   },
   {
    "duration": 42,
    "start_time": "2024-06-17T03:53:09.756Z"
   },
   {
    "duration": 28,
    "start_time": "2024-06-17T03:53:10.908Z"
   },
   {
    "duration": 7,
    "start_time": "2024-06-17T03:53:18.588Z"
   },
   {
    "duration": 5,
    "start_time": "2024-06-17T03:53:28.655Z"
   },
   {
    "duration": 6,
    "start_time": "2024-06-17T03:53:29.584Z"
   },
   {
    "duration": 375,
    "start_time": "2024-06-17T03:53:30.471Z"
   },
   {
    "duration": 7,
    "start_time": "2024-06-17T03:53:40.097Z"
   },
   {
    "duration": 122,
    "start_time": "2024-06-17T03:53:41.409Z"
   },
   {
    "duration": 14,
    "start_time": "2024-06-17T03:53:47.056Z"
   },
   {
    "duration": 3,
    "start_time": "2024-06-17T03:53:48.571Z"
   },
   {
    "duration": 25,
    "start_time": "2024-06-17T03:53:49.441Z"
   },
   {
    "duration": 6,
    "start_time": "2024-06-17T03:54:01.867Z"
   },
   {
    "duration": 1807,
    "start_time": "2024-06-17T03:54:02.692Z"
   },
   {
    "duration": 18,
    "start_time": "2024-06-17T03:54:16.206Z"
   },
   {
    "duration": 27,
    "start_time": "2024-06-17T03:54:31.600Z"
   },
   {
    "duration": 187,
    "start_time": "2024-06-17T03:54:54.161Z"
   },
   {
    "duration": 5417,
    "start_time": "2024-06-18T02:27:26.662Z"
   },
   {
    "duration": 572,
    "start_time": "2024-06-18T02:27:32.083Z"
   },
   {
    "duration": 64,
    "start_time": "2024-06-18T02:27:32.659Z"
   },
   {
    "duration": 25,
    "start_time": "2024-06-18T02:27:32.727Z"
   },
   {
    "duration": 34,
    "start_time": "2024-06-18T02:27:32.758Z"
   },
   {
    "duration": 15,
    "start_time": "2024-06-18T02:27:32.796Z"
   },
   {
    "duration": 8,
    "start_time": "2024-06-18T02:27:32.814Z"
   },
   {
    "duration": 6,
    "start_time": "2024-06-18T02:27:32.825Z"
   },
   {
    "duration": 6,
    "start_time": "2024-06-18T02:27:32.834Z"
   },
   {
    "duration": 9,
    "start_time": "2024-06-18T02:27:32.892Z"
   },
   {
    "duration": 7,
    "start_time": "2024-06-18T02:27:32.904Z"
   },
   {
    "duration": 7,
    "start_time": "2024-06-18T02:27:32.915Z"
   },
   {
    "duration": 18,
    "start_time": "2024-06-18T02:27:32.926Z"
   },
   {
    "duration": 18,
    "start_time": "2024-06-18T02:27:32.997Z"
   },
   {
    "duration": 17,
    "start_time": "2024-06-18T02:27:33.018Z"
   },
   {
    "duration": 123,
    "start_time": "2024-06-18T02:27:33.039Z"
   },
   {
    "duration": 87,
    "start_time": "2024-06-18T02:27:33.165Z"
   },
   {
    "duration": 78,
    "start_time": "2024-06-18T02:27:33.259Z"
   },
   {
    "duration": 21,
    "start_time": "2024-06-18T02:27:33.341Z"
   },
   {
    "duration": 4,
    "start_time": "2024-06-18T02:27:33.365Z"
   },
   {
    "duration": 22,
    "start_time": "2024-06-18T02:27:33.391Z"
   },
   {
    "duration": 14,
    "start_time": "2024-06-18T02:27:33.415Z"
   },
   {
    "duration": 91,
    "start_time": "2024-06-18T02:27:33.436Z"
   },
   {
    "duration": 28,
    "start_time": "2024-06-18T02:27:33.597Z"
   },
   {
    "duration": 369,
    "start_time": "2024-06-18T02:27:33.630Z"
   },
   {
    "duration": 145,
    "start_time": "2024-06-18T02:27:34.003Z"
   },
   {
    "duration": 17,
    "start_time": "2024-06-18T02:27:34.152Z"
   },
   {
    "duration": 21,
    "start_time": "2024-06-18T02:27:34.173Z"
   },
   {
    "duration": 94,
    "start_time": "2024-06-18T02:27:34.198Z"
   },
   {
    "duration": 113,
    "start_time": "2024-06-18T02:27:34.297Z"
   },
   {
    "duration": 8,
    "start_time": "2024-06-18T02:27:34.416Z"
   },
   {
    "duration": 9,
    "start_time": "2024-06-18T02:27:34.492Z"
   },
   {
    "duration": 479,
    "start_time": "2024-06-18T02:27:34.505Z"
   },
   {
    "duration": 7,
    "start_time": "2024-06-18T02:27:34.991Z"
   },
   {
    "duration": 15,
    "start_time": "2024-06-18T02:27:35.003Z"
   },
   {
    "duration": 3,
    "start_time": "2024-06-18T02:27:35.021Z"
   },
   {
    "duration": 4,
    "start_time": "2024-06-18T02:27:35.028Z"
   },
   {
    "duration": 7,
    "start_time": "2024-06-18T02:27:35.036Z"
   },
   {
    "duration": 45,
    "start_time": "2024-06-18T02:27:35.046Z"
   },
   {
    "duration": 1937,
    "start_time": "2024-06-18T02:27:35.097Z"
   },
   {
    "duration": 9,
    "start_time": "2024-06-18T02:27:37.044Z"
   },
   {
    "duration": 237,
    "start_time": "2024-06-18T02:27:37.057Z"
   },
   {
    "duration": 1420,
    "start_time": "2024-06-18T02:29:03.502Z"
   },
   {
    "duration": 365,
    "start_time": "2024-06-18T02:29:04.925Z"
   },
   {
    "duration": 51,
    "start_time": "2024-06-18T02:29:05.293Z"
   },
   {
    "duration": 17,
    "start_time": "2024-06-18T02:29:05.347Z"
   },
   {
    "duration": 13,
    "start_time": "2024-06-18T02:29:05.393Z"
   },
   {
    "duration": 13,
    "start_time": "2024-06-18T02:29:05.411Z"
   },
   {
    "duration": 6,
    "start_time": "2024-06-18T02:29:05.428Z"
   },
   {
    "duration": 54,
    "start_time": "2024-06-18T02:29:05.437Z"
   },
   {
    "duration": 6,
    "start_time": "2024-06-18T02:29:05.494Z"
   },
   {
    "duration": 8,
    "start_time": "2024-06-18T02:29:05.504Z"
   },
   {
    "duration": 7,
    "start_time": "2024-06-18T02:29:05.516Z"
   },
   {
    "duration": 7,
    "start_time": "2024-06-18T02:29:05.527Z"
   },
   {
    "duration": 62,
    "start_time": "2024-06-18T02:29:05.537Z"
   },
   {
    "duration": 12,
    "start_time": "2024-06-18T02:29:05.607Z"
   },
   {
    "duration": 14,
    "start_time": "2024-06-18T02:29:05.622Z"
   },
   {
    "duration": 96,
    "start_time": "2024-06-18T02:29:05.640Z"
   },
   {
    "duration": 77,
    "start_time": "2024-06-18T02:29:05.739Z"
   },
   {
    "duration": 73,
    "start_time": "2024-06-18T02:29:05.818Z"
   },
   {
    "duration": 20,
    "start_time": "2024-06-18T02:29:05.893Z"
   },
   {
    "duration": 5,
    "start_time": "2024-06-18T02:29:05.915Z"
   },
   {
    "duration": 17,
    "start_time": "2024-06-18T02:29:05.925Z"
   },
   {
    "duration": 47,
    "start_time": "2024-06-18T02:29:05.945Z"
   },
   {
    "duration": 19,
    "start_time": "2024-06-18T02:29:05.995Z"
   },
   {
    "duration": 14,
    "start_time": "2024-06-18T02:29:06.091Z"
   },
   {
    "duration": 421,
    "start_time": "2024-06-18T02:29:06.109Z"
   },
   {
    "duration": 147,
    "start_time": "2024-06-18T02:29:06.533Z"
   },
   {
    "duration": 19,
    "start_time": "2024-06-18T02:29:06.683Z"
   },
   {
    "duration": 7,
    "start_time": "2024-06-18T02:29:06.705Z"
   },
   {
    "duration": 77,
    "start_time": "2024-06-18T02:29:06.716Z"
   },
   {
    "duration": 101,
    "start_time": "2024-06-18T02:29:06.796Z"
   },
   {
    "duration": 5,
    "start_time": "2024-06-18T02:29:06.900Z"
   },
   {
    "duration": 81,
    "start_time": "2024-06-18T02:29:06.909Z"
   },
   {
    "duration": 395,
    "start_time": "2024-06-18T02:29:06.993Z"
   },
   {
    "duration": 7,
    "start_time": "2024-06-18T02:29:07.392Z"
   },
   {
    "duration": 15,
    "start_time": "2024-06-18T02:29:07.402Z"
   },
   {
    "duration": 3,
    "start_time": "2024-06-18T02:29:07.419Z"
   },
   {
    "duration": 3,
    "start_time": "2024-06-18T02:29:07.426Z"
   },
   {
    "duration": 5,
    "start_time": "2024-06-18T02:29:07.433Z"
   },
   {
    "duration": 53,
    "start_time": "2024-06-18T02:29:07.441Z"
   },
   {
    "duration": 1793,
    "start_time": "2024-06-18T02:29:07.497Z"
   },
   {
    "duration": 8,
    "start_time": "2024-06-18T02:29:09.298Z"
   },
   {
    "duration": 219,
    "start_time": "2024-06-18T02:29:09.310Z"
   },
   {
    "duration": 204,
    "start_time": "2024-06-18T02:30:01.290Z"
   },
   {
    "duration": 215,
    "start_time": "2024-06-18T02:30:24.522Z"
   },
   {
    "duration": 197,
    "start_time": "2024-06-18T02:30:35.835Z"
   },
   {
    "duration": 202,
    "start_time": "2024-06-18T02:30:58.276Z"
   },
   {
    "duration": 21,
    "start_time": "2024-06-18T02:31:18.020Z"
   },
   {
    "duration": 4,
    "start_time": "2024-06-18T02:31:19.376Z"
   },
   {
    "duration": 20,
    "start_time": "2024-06-18T02:31:20.669Z"
   },
   {
    "duration": 13,
    "start_time": "2024-06-18T02:31:21.713Z"
   },
   {
    "duration": 17,
    "start_time": "2024-06-18T02:32:34.804Z"
   },
   {
    "duration": 8,
    "start_time": "2024-06-18T02:32:52.927Z"
   },
   {
    "duration": 35,
    "start_time": "2024-06-18T02:32:57.847Z"
   },
   {
    "duration": 421,
    "start_time": "2024-06-18T02:34:22.593Z"
   },
   {
    "duration": 25,
    "start_time": "2024-06-18T02:34:24.251Z"
   },
   {
    "duration": 9,
    "start_time": "2024-06-18T02:36:05.387Z"
   },
   {
    "duration": 25,
    "start_time": "2024-06-18T02:36:06.017Z"
   },
   {
    "duration": 102,
    "start_time": "2024-06-18T02:36:06.775Z"
   },
   {
    "duration": 8,
    "start_time": "2024-06-18T02:36:54.215Z"
   },
   {
    "duration": 22,
    "start_time": "2024-06-18T02:36:54.419Z"
   },
   {
    "duration": 18,
    "start_time": "2024-06-18T02:37:12.724Z"
   },
   {
    "duration": 51,
    "start_time": "2024-06-18T02:37:22.841Z"
   },
   {
    "duration": 7,
    "start_time": "2024-06-18T02:38:00.979Z"
   },
   {
    "duration": 26,
    "start_time": "2024-06-18T02:38:01.631Z"
   },
   {
    "duration": 25,
    "start_time": "2024-06-18T02:38:19.494Z"
   },
   {
    "duration": 7,
    "start_time": "2024-06-18T02:40:19.898Z"
   },
   {
    "duration": 210,
    "start_time": "2024-06-18T02:40:20.998Z"
   },
   {
    "duration": 7,
    "start_time": "2024-06-18T02:40:31.476Z"
   },
   {
    "duration": 23,
    "start_time": "2024-06-18T02:40:31.822Z"
   },
   {
    "duration": 25,
    "start_time": "2024-06-18T02:40:32.174Z"
   },
   {
    "duration": 7,
    "start_time": "2024-06-18T02:40:38.448Z"
   },
   {
    "duration": 23,
    "start_time": "2024-06-18T02:40:39.725Z"
   },
   {
    "duration": 7,
    "start_time": "2024-06-18T02:41:57.162Z"
   },
   {
    "duration": 25,
    "start_time": "2024-06-18T02:41:58.324Z"
   },
   {
    "duration": 24,
    "start_time": "2024-06-18T02:42:00.721Z"
   },
   {
    "duration": 3,
    "start_time": "2024-06-18T02:43:50.966Z"
   },
   {
    "duration": 35,
    "start_time": "2024-06-18T02:43:52.285Z"
   },
   {
    "duration": 32,
    "start_time": "2024-06-18T02:44:12.996Z"
   },
   {
    "duration": 24,
    "start_time": "2024-06-18T02:44:18.206Z"
   },
   {
    "duration": 32,
    "start_time": "2024-06-18T02:44:30.097Z"
   },
   {
    "duration": 11,
    "start_time": "2024-06-18T02:46:32.805Z"
   },
   {
    "duration": 40,
    "start_time": "2024-06-18T02:46:34.428Z"
   },
   {
    "duration": 57,
    "start_time": "2024-06-18T02:46:39.023Z"
   },
   {
    "duration": 8,
    "start_time": "2024-06-18T02:47:00.490Z"
   },
   {
    "duration": 89,
    "start_time": "2024-06-18T02:47:02.500Z"
   },
   {
    "duration": 10,
    "start_time": "2024-06-18T02:50:01.433Z"
   },
   {
    "duration": 7,
    "start_time": "2024-06-18T02:50:11.871Z"
   },
   {
    "duration": 11,
    "start_time": "2024-06-18T02:50:24.244Z"
   },
   {
    "duration": 237,
    "start_time": "2024-06-18T02:51:07.784Z"
   },
   {
    "duration": 13,
    "start_time": "2024-06-18T02:51:14.172Z"
   },
   {
    "duration": 6,
    "start_time": "2024-06-18T02:52:47.412Z"
   },
   {
    "duration": 15,
    "start_time": "2024-06-18T02:52:55.476Z"
   },
   {
    "duration": 34,
    "start_time": "2024-06-18T02:54:16.524Z"
   },
   {
    "duration": 9,
    "start_time": "2024-06-18T02:54:42.270Z"
   },
   {
    "duration": 138,
    "start_time": "2024-06-18T02:54:56.863Z"
   },
   {
    "duration": 12,
    "start_time": "2024-06-18T02:55:07.263Z"
   },
   {
    "duration": 55,
    "start_time": "2024-06-18T02:55:25.967Z"
   },
   {
    "duration": 1109,
    "start_time": "2024-06-18T02:56:04.283Z"
   },
   {
    "duration": 17,
    "start_time": "2024-06-18T02:56:22.450Z"
   },
   {
    "duration": 15,
    "start_time": "2024-06-18T02:56:35.504Z"
   },
   {
    "duration": 14,
    "start_time": "2024-06-18T02:56:46.277Z"
   },
   {
    "duration": 118,
    "start_time": "2024-06-18T02:56:48.376Z"
   },
   {
    "duration": 16,
    "start_time": "2024-06-18T02:56:59.268Z"
   },
   {
    "duration": 300,
    "start_time": "2024-06-18T02:57:00.548Z"
   },
   {
    "duration": 7,
    "start_time": "2024-06-18T02:57:12.290Z"
   },
   {
    "duration": 8,
    "start_time": "2024-06-18T02:57:47.172Z"
   },
   {
    "duration": 58,
    "start_time": "2024-06-18T02:57:52.411Z"
   },
   {
    "duration": 36,
    "start_time": "2024-06-18T02:58:14.926Z"
   },
   {
    "duration": 45,
    "start_time": "2024-06-18T02:58:30.377Z"
   },
   {
    "duration": 8,
    "start_time": "2024-06-18T02:58:52.906Z"
   },
   {
    "duration": 106,
    "start_time": "2024-06-18T03:00:00.203Z"
   },
   {
    "duration": 116,
    "start_time": "2024-06-18T03:00:29.092Z"
   },
   {
    "duration": 237,
    "start_time": "2024-06-18T03:01:24.303Z"
   },
   {
    "duration": 54,
    "start_time": "2024-06-18T03:01:36.654Z"
   },
   {
    "duration": 34,
    "start_time": "2024-06-18T03:02:19.483Z"
   },
   {
    "duration": 8,
    "start_time": "2024-06-18T03:02:29.005Z"
   },
   {
    "duration": 44,
    "start_time": "2024-06-18T03:02:39.306Z"
   },
   {
    "duration": 113,
    "start_time": "2024-06-18T03:03:21.000Z"
   },
   {
    "duration": 9,
    "start_time": "2024-06-18T03:04:11.367Z"
   },
   {
    "duration": 76,
    "start_time": "2024-06-18T03:04:12.921Z"
   },
   {
    "duration": 128,
    "start_time": "2024-06-18T03:04:45.283Z"
   },
   {
    "duration": 8,
    "start_time": "2024-06-18T03:06:40.464Z"
   },
   {
    "duration": 91,
    "start_time": "2024-06-18T03:06:41.906Z"
   },
   {
    "duration": 9,
    "start_time": "2024-06-18T03:06:50.979Z"
   },
   {
    "duration": 108,
    "start_time": "2024-06-18T03:06:52.183Z"
   },
   {
    "duration": 18,
    "start_time": "2024-06-18T03:07:08.357Z"
   },
   {
    "duration": 14,
    "start_time": "2024-06-18T03:07:09.350Z"
   },
   {
    "duration": 112,
    "start_time": "2024-06-18T03:07:10.584Z"
   },
   {
    "duration": 15,
    "start_time": "2024-06-18T03:07:12.332Z"
   },
   {
    "duration": 332,
    "start_time": "2024-06-18T03:07:13.128Z"
   },
   {
    "duration": 125,
    "start_time": "2024-06-18T03:07:16.181Z"
   },
   {
    "duration": 19,
    "start_time": "2024-06-18T03:07:16.935Z"
   },
   {
    "duration": 7,
    "start_time": "2024-06-18T03:07:18.081Z"
   },
   {
    "duration": 118,
    "start_time": "2024-06-18T03:07:19.682Z"
   },
   {
    "duration": 9,
    "start_time": "2024-06-18T03:07:41.516Z"
   },
   {
    "duration": 87,
    "start_time": "2024-06-18T03:07:44.525Z"
   },
   {
    "duration": 40,
    "start_time": "2024-06-18T03:07:48.969Z"
   },
   {
    "duration": 87,
    "start_time": "2024-06-18T03:08:01.343Z"
   },
   {
    "duration": 153,
    "start_time": "2024-06-18T03:08:29.668Z"
   },
   {
    "duration": 45,
    "start_time": "2024-06-18T03:08:56.872Z"
   },
   {
    "duration": 139,
    "start_time": "2024-06-18T03:08:57.864Z"
   },
   {
    "duration": 36,
    "start_time": "2024-06-18T03:09:06.854Z"
   },
   {
    "duration": 57,
    "start_time": "2024-06-18T03:09:19.750Z"
   },
   {
    "duration": 837,
    "start_time": "2024-06-18T03:10:42.476Z"
   },
   {
    "duration": 16,
    "start_time": "2024-06-18T03:10:58.374Z"
   },
   {
    "duration": 8,
    "start_time": "2024-06-18T03:11:28.585Z"
   },
   {
    "duration": 6,
    "start_time": "2024-06-18T03:11:35.975Z"
   },
   {
    "duration": 128,
    "start_time": "2024-06-18T03:11:46.165Z"
   },
   {
    "duration": 124,
    "start_time": "2024-06-18T03:13:07.368Z"
   },
   {
    "duration": 16,
    "start_time": "2024-06-18T03:13:22.759Z"
   },
   {
    "duration": 147,
    "start_time": "2024-06-18T03:13:25.445Z"
   },
   {
    "duration": 19,
    "start_time": "2024-06-18T03:13:26.575Z"
   },
   {
    "duration": 284,
    "start_time": "2024-06-18T03:13:27.509Z"
   },
   {
    "duration": 113,
    "start_time": "2024-06-18T03:13:29.512Z"
   },
   {
    "duration": 16,
    "start_time": "2024-06-18T03:13:30.043Z"
   },
   {
    "duration": 9,
    "start_time": "2024-06-18T03:13:30.620Z"
   },
   {
    "duration": 54,
    "start_time": "2024-06-18T03:13:33.384Z"
   },
   {
    "duration": 17,
    "start_time": "2024-06-18T03:15:16.669Z"
   },
   {
    "duration": 33,
    "start_time": "2024-06-18T03:15:17.875Z"
   },
   {
    "duration": 127,
    "start_time": "2024-06-18T03:15:25.365Z"
   },
   {
    "duration": 12,
    "start_time": "2024-06-18T03:15:31.988Z"
   },
   {
    "duration": 11,
    "start_time": "2024-06-18T03:15:40.631Z"
   },
   {
    "duration": 70,
    "start_time": "2024-06-18T03:15:41.621Z"
   },
   {
    "duration": 77,
    "start_time": "2024-06-18T03:23:06.845Z"
   },
   {
    "duration": 26,
    "start_time": "2024-06-18T03:23:31.457Z"
   },
   {
    "duration": 26,
    "start_time": "2024-06-18T03:23:43.659Z"
   },
   {
    "duration": 40,
    "start_time": "2024-06-18T03:23:56.136Z"
   },
   {
    "duration": 12,
    "start_time": "2024-06-18T03:24:02.485Z"
   },
   {
    "duration": 128,
    "start_time": "2024-06-18T03:24:03.185Z"
   },
   {
    "duration": 28,
    "start_time": "2024-06-18T03:24:45.139Z"
   },
   {
    "duration": 138,
    "start_time": "2024-06-18T03:25:15.557Z"
   },
   {
    "duration": 9,
    "start_time": "2024-06-18T03:26:50.688Z"
   },
   {
    "duration": 251,
    "start_time": "2024-06-18T03:26:51.365Z"
   },
   {
    "duration": 7,
    "start_time": "2024-06-18T03:27:13.711Z"
   },
   {
    "duration": 52,
    "start_time": "2024-06-18T03:27:14.611Z"
   },
   {
    "duration": 8,
    "start_time": "2024-06-18T03:27:36.788Z"
   },
   {
    "duration": 64,
    "start_time": "2024-06-18T03:27:37.525Z"
   },
   {
    "duration": 7,
    "start_time": "2024-06-18T03:29:19.640Z"
   },
   {
    "duration": 326,
    "start_time": "2024-06-18T03:29:20.978Z"
   },
   {
    "duration": 35,
    "start_time": "2024-06-18T03:29:26.953Z"
   },
   {
    "duration": 8,
    "start_time": "2024-06-18T03:29:32.658Z"
   },
   {
    "duration": 152,
    "start_time": "2024-06-18T03:29:37.144Z"
   },
   {
    "duration": 158,
    "start_time": "2024-06-18T03:30:20.152Z"
   },
   {
    "duration": 131,
    "start_time": "2024-06-18T03:30:27.369Z"
   },
   {
    "duration": 55,
    "start_time": "2024-06-18T03:33:32.078Z"
   },
   {
    "duration": 65,
    "start_time": "2024-06-18T03:33:32.452Z"
   },
   {
    "duration": 29,
    "start_time": "2024-06-18T03:33:47.593Z"
   },
   {
    "duration": 120,
    "start_time": "2024-06-18T03:34:09.728Z"
   },
   {
    "duration": 8,
    "start_time": "2024-06-18T03:34:21.226Z"
   },
   {
    "duration": 21,
    "start_time": "2024-06-18T03:34:22.130Z"
   },
   {
    "duration": 24,
    "start_time": "2024-06-18T03:34:50.934Z"
   },
   {
    "duration": 26,
    "start_time": "2024-06-18T03:34:52.098Z"
   },
   {
    "duration": 231,
    "start_time": "2024-06-18T03:35:52.486Z"
   },
   {
    "duration": 23,
    "start_time": "2024-06-18T03:35:59.064Z"
   },
   {
    "duration": 9,
    "start_time": "2024-06-18T03:36:53.376Z"
   },
   {
    "duration": 19,
    "start_time": "2024-06-18T03:36:56.688Z"
   },
   {
    "duration": 9,
    "start_time": "2024-06-18T03:37:10.127Z"
   },
   {
    "duration": 9,
    "start_time": "2024-06-18T03:37:54.962Z"
   },
   {
    "duration": 18,
    "start_time": "2024-06-18T03:37:56.662Z"
   },
   {
    "duration": 20,
    "start_time": "2024-06-18T03:38:05.055Z"
   },
   {
    "duration": 5025,
    "start_time": "2024-06-18T16:26:30.607Z"
   },
   {
    "duration": 546,
    "start_time": "2024-06-18T16:26:35.635Z"
   },
   {
    "duration": 57,
    "start_time": "2024-06-18T16:26:36.184Z"
   },
   {
    "duration": 16,
    "start_time": "2024-06-18T16:26:36.244Z"
   },
   {
    "duration": 35,
    "start_time": "2024-06-18T16:26:36.266Z"
   },
   {
    "duration": 16,
    "start_time": "2024-06-18T16:26:36.305Z"
   },
   {
    "duration": 6,
    "start_time": "2024-06-18T16:26:36.324Z"
   },
   {
    "duration": 6,
    "start_time": "2024-06-18T16:26:36.333Z"
   },
   {
    "duration": 7,
    "start_time": "2024-06-18T16:26:36.342Z"
   },
   {
    "duration": 54,
    "start_time": "2024-06-18T16:26:36.353Z"
   },
   {
    "duration": 8,
    "start_time": "2024-06-18T16:26:36.411Z"
   },
   {
    "duration": 7,
    "start_time": "2024-06-18T16:26:36.423Z"
   },
   {
    "duration": 13,
    "start_time": "2024-06-18T16:26:36.433Z"
   },
   {
    "duration": 59,
    "start_time": "2024-06-18T16:26:36.455Z"
   },
   {
    "duration": 13,
    "start_time": "2024-06-18T16:26:36.517Z"
   },
   {
    "duration": 91,
    "start_time": "2024-06-18T16:26:36.532Z"
   },
   {
    "duration": 56,
    "start_time": "2024-06-18T16:26:36.625Z"
   },
   {
    "duration": 82,
    "start_time": "2024-06-18T16:26:36.684Z"
   },
   {
    "duration": 35,
    "start_time": "2024-06-18T16:26:36.770Z"
   },
   {
    "duration": 6,
    "start_time": "2024-06-18T16:26:36.809Z"
   },
   {
    "duration": 21,
    "start_time": "2024-06-18T16:26:36.817Z"
   },
   {
    "duration": 68,
    "start_time": "2024-06-18T16:26:36.841Z"
   },
   {
    "duration": 98,
    "start_time": "2024-06-18T16:26:36.918Z"
   },
   {
    "duration": 89,
    "start_time": "2024-06-18T16:26:37.023Z"
   },
   {
    "duration": 301,
    "start_time": "2024-06-18T16:26:37.118Z"
   },
   {
    "duration": 131,
    "start_time": "2024-06-18T16:26:37.422Z"
   },
   {
    "duration": 15,
    "start_time": "2024-06-18T16:26:37.556Z"
   },
   {
    "duration": 8,
    "start_time": "2024-06-18T16:26:37.574Z"
   },
   {
    "duration": 511,
    "start_time": "2024-06-18T16:26:37.584Z"
   },
   {
    "duration": 0,
    "start_time": "2024-06-18T16:26:38.102Z"
   },
   {
    "duration": 0,
    "start_time": "2024-06-18T16:26:38.104Z"
   },
   {
    "duration": 0,
    "start_time": "2024-06-18T16:26:38.106Z"
   },
   {
    "duration": 0,
    "start_time": "2024-06-18T16:26:38.109Z"
   },
   {
    "duration": 0,
    "start_time": "2024-06-18T16:26:38.112Z"
   },
   {
    "duration": 0,
    "start_time": "2024-06-18T16:26:38.114Z"
   },
   {
    "duration": 0,
    "start_time": "2024-06-18T16:26:38.117Z"
   },
   {
    "duration": 0,
    "start_time": "2024-06-18T16:26:38.120Z"
   },
   {
    "duration": 0,
    "start_time": "2024-06-18T16:26:38.122Z"
   },
   {
    "duration": 0,
    "start_time": "2024-06-18T16:26:38.125Z"
   },
   {
    "duration": 0,
    "start_time": "2024-06-18T16:26:38.126Z"
   },
   {
    "duration": 0,
    "start_time": "2024-06-18T16:26:38.128Z"
   },
   {
    "duration": 0,
    "start_time": "2024-06-18T16:26:38.131Z"
   },
   {
    "duration": 132,
    "start_time": "2024-06-18T16:26:48.136Z"
   },
   {
    "duration": 15,
    "start_time": "2024-06-18T16:26:48.783Z"
   },
   {
    "duration": 7,
    "start_time": "2024-06-18T16:26:49.848Z"
   },
   {
    "duration": 24,
    "start_time": "2024-06-18T16:26:51.646Z"
   },
   {
    "duration": 24,
    "start_time": "2024-06-18T16:26:53.628Z"
   },
   {
    "duration": 27,
    "start_time": "2024-06-18T16:27:14.572Z"
   },
   {
    "duration": 32,
    "start_time": "2024-06-18T16:27:21.687Z"
   },
   {
    "duration": 7,
    "start_time": "2024-06-18T16:27:34.467Z"
   },
   {
    "duration": 26,
    "start_time": "2024-06-18T16:27:35.406Z"
   },
   {
    "duration": 25,
    "start_time": "2024-06-18T16:27:36.305Z"
   },
   {
    "duration": 27,
    "start_time": "2024-06-18T16:30:46.705Z"
   },
   {
    "duration": 24,
    "start_time": "2024-06-18T16:30:49.446Z"
   },
   {
    "duration": 7,
    "start_time": "2024-06-18T16:38:44.065Z"
   },
   {
    "duration": 24,
    "start_time": "2024-06-18T16:38:45.178Z"
   },
   {
    "duration": 24,
    "start_time": "2024-06-18T16:39:14.493Z"
   },
   {
    "duration": 23,
    "start_time": "2024-06-18T16:39:32.377Z"
   },
   {
    "duration": 7,
    "start_time": "2024-06-18T16:39:38.462Z"
   },
   {
    "duration": 33,
    "start_time": "2024-06-18T16:40:57.971Z"
   },
   {
    "duration": 25,
    "start_time": "2024-06-18T16:41:04.334Z"
   },
   {
    "duration": 37,
    "start_time": "2024-06-18T16:41:12.178Z"
   },
   {
    "duration": 7,
    "start_time": "2024-06-18T16:41:25.500Z"
   },
   {
    "duration": 9,
    "start_time": "2024-06-18T16:42:41.094Z"
   },
   {
    "duration": 258,
    "start_time": "2024-06-18T16:42:43.105Z"
   },
   {
    "duration": 24,
    "start_time": "2024-06-18T16:42:48.474Z"
   },
   {
    "duration": 86,
    "start_time": "2024-06-18T16:42:53.456Z"
   },
   {
    "duration": 8,
    "start_time": "2024-06-18T16:43:23.133Z"
   },
   {
    "duration": 94,
    "start_time": "2024-06-18T16:43:24.726Z"
   },
   {
    "duration": 111,
    "start_time": "2024-06-18T16:43:25.819Z"
   },
   {
    "duration": 9,
    "start_time": "2024-06-18T16:43:42.021Z"
   },
   {
    "duration": 23,
    "start_time": "2024-06-18T16:43:43.511Z"
   },
   {
    "duration": 26,
    "start_time": "2024-06-18T16:43:44.064Z"
   },
   {
    "duration": 31,
    "start_time": "2024-06-18T16:43:49.356Z"
   },
   {
    "duration": 34,
    "start_time": "2024-06-18T16:46:06.015Z"
   },
   {
    "duration": 11,
    "start_time": "2024-06-18T16:46:30.687Z"
   },
   {
    "duration": 306,
    "start_time": "2024-06-18T20:41:13.063Z"
   },
   {
    "duration": 5061,
    "start_time": "2024-06-18T20:41:28.426Z"
   },
   {
    "duration": 541,
    "start_time": "2024-06-18T20:41:33.490Z"
   },
   {
    "duration": 46,
    "start_time": "2024-06-18T20:41:34.034Z"
   },
   {
    "duration": 15,
    "start_time": "2024-06-18T20:41:34.083Z"
   },
   {
    "duration": 32,
    "start_time": "2024-06-18T20:41:34.103Z"
   },
   {
    "duration": 13,
    "start_time": "2024-06-18T20:41:34.139Z"
   },
   {
    "duration": 5,
    "start_time": "2024-06-18T20:41:34.155Z"
   },
   {
    "duration": 6,
    "start_time": "2024-06-18T20:41:34.164Z"
   },
   {
    "duration": 57,
    "start_time": "2024-06-18T20:41:34.173Z"
   },
   {
    "duration": 7,
    "start_time": "2024-06-18T20:41:34.234Z"
   },
   {
    "duration": 7,
    "start_time": "2024-06-18T20:41:34.244Z"
   },
   {
    "duration": 8,
    "start_time": "2024-06-18T20:41:34.254Z"
   },
   {
    "duration": 14,
    "start_time": "2024-06-18T20:41:34.265Z"
   },
   {
    "duration": 13,
    "start_time": "2024-06-18T20:41:34.335Z"
   },
   {
    "duration": 14,
    "start_time": "2024-06-18T20:41:34.351Z"
   },
   {
    "duration": 101,
    "start_time": "2024-06-18T20:41:34.369Z"
   },
   {
    "duration": 64,
    "start_time": "2024-06-18T20:41:34.474Z"
   },
   {
    "duration": 58,
    "start_time": "2024-06-18T20:41:34.542Z"
   },
   {
    "duration": 39,
    "start_time": "2024-06-18T20:41:34.604Z"
   },
   {
    "duration": 4,
    "start_time": "2024-06-18T20:41:34.646Z"
   },
   {
    "duration": 22,
    "start_time": "2024-06-18T20:41:34.653Z"
   },
   {
    "duration": 53,
    "start_time": "2024-06-18T20:41:34.678Z"
   },
   {
    "duration": 21,
    "start_time": "2024-06-18T20:41:34.734Z"
   },
   {
    "duration": 17,
    "start_time": "2024-06-18T20:41:34.837Z"
   },
   {
    "duration": 297,
    "start_time": "2024-06-18T20:41:34.932Z"
   },
   {
    "duration": 128,
    "start_time": "2024-06-18T20:41:35.232Z"
   },
   {
    "duration": 15,
    "start_time": "2024-06-18T20:41:35.363Z"
   },
   {
    "duration": 7,
    "start_time": "2024-06-18T20:41:35.382Z"
   },
   {
    "duration": 53,
    "start_time": "2024-06-18T20:41:35.393Z"
   },
   {
    "duration": 99,
    "start_time": "2024-06-18T20:41:35.448Z"
   },
   {
    "duration": 4,
    "start_time": "2024-06-18T20:41:35.550Z"
   },
   {
    "duration": 9,
    "start_time": "2024-06-18T20:41:35.641Z"
   },
   {
    "duration": 452,
    "start_time": "2024-06-18T20:41:35.657Z"
   },
   {
    "duration": 7,
    "start_time": "2024-06-18T20:41:36.112Z"
   },
   {
    "duration": 14,
    "start_time": "2024-06-18T20:41:36.131Z"
   },
   {
    "duration": 3,
    "start_time": "2024-06-18T20:41:36.148Z"
   },
   {
    "duration": 4,
    "start_time": "2024-06-18T20:41:36.154Z"
   },
   {
    "duration": 4,
    "start_time": "2024-06-18T20:41:36.161Z"
   },
   {
    "duration": 5,
    "start_time": "2024-06-18T20:41:36.168Z"
   },
   {
    "duration": 1832,
    "start_time": "2024-06-18T20:41:36.176Z"
   },
   {
    "duration": 16,
    "start_time": "2024-06-18T20:41:38.016Z"
   },
   {
    "duration": 209,
    "start_time": "2024-06-18T20:41:38.035Z"
   },
   {
    "duration": 21,
    "start_time": "2024-06-18T21:02:00.879Z"
   },
   {
    "duration": 8,
    "start_time": "2024-06-18T21:02:49.132Z"
   },
   {
    "duration": 633,
    "start_time": "2024-06-18T21:03:02.972Z"
   },
   {
    "duration": 174,
    "start_time": "2024-06-18T21:03:14.956Z"
   },
   {
    "duration": 30,
    "start_time": "2024-06-18T21:03:42.832Z"
   },
   {
    "duration": 5,
    "start_time": "2024-06-18T21:04:22.379Z"
   },
   {
    "duration": 5,
    "start_time": "2024-06-18T21:04:28.549Z"
   },
   {
    "duration": 14,
    "start_time": "2024-06-18T21:04:39.684Z"
   },
   {
    "duration": 5,
    "start_time": "2024-06-18T21:04:42.775Z"
   },
   {
    "duration": 4,
    "start_time": "2024-06-18T21:05:46.293Z"
   },
   {
    "duration": 70,
    "start_time": "2024-06-18T21:05:47.168Z"
   },
   {
    "duration": 33,
    "start_time": "2024-06-18T21:05:48.846Z"
   },
   {
    "duration": 15,
    "start_time": "2024-06-18T21:06:22.523Z"
   },
   {
    "duration": 9,
    "start_time": "2024-06-18T21:07:42.738Z"
   },
   {
    "duration": 37,
    "start_time": "2024-06-18T21:07:44.529Z"
   },
   {
    "duration": 33,
    "start_time": "2024-06-18T21:07:46.281Z"
   },
   {
    "duration": 25,
    "start_time": "2024-06-18T21:10:28.430Z"
   },
   {
    "duration": 7,
    "start_time": "2024-06-18T21:10:29.291Z"
   },
   {
    "duration": 39,
    "start_time": "2024-06-18T21:10:31.019Z"
   },
   {
    "duration": 30,
    "start_time": "2024-06-18T21:10:48.257Z"
   },
   {
    "duration": 23,
    "start_time": "2024-06-18T21:11:12.113Z"
   },
   {
    "duration": 38,
    "start_time": "2024-06-18T21:11:13.270Z"
   },
   {
    "duration": 24,
    "start_time": "2024-06-18T21:12:33.825Z"
   },
   {
    "duration": 24,
    "start_time": "2024-06-18T21:12:35.214Z"
   },
   {
    "duration": 21,
    "start_time": "2024-06-18T21:12:36.562Z"
   },
   {
    "duration": 29,
    "start_time": "2024-06-18T21:12:37.617Z"
   },
   {
    "duration": 9,
    "start_time": "2024-06-18T21:13:12.488Z"
   },
   {
    "duration": 21,
    "start_time": "2024-06-18T21:13:13.551Z"
   },
   {
    "duration": 30,
    "start_time": "2024-06-18T21:13:14.928Z"
   },
   {
    "duration": 24,
    "start_time": "2024-06-18T21:13:15.791Z"
   },
   {
    "duration": 39,
    "start_time": "2024-06-18T21:13:16.758Z"
   },
   {
    "duration": 8,
    "start_time": "2024-06-18T21:21:34.747Z"
   },
   {
    "duration": 54,
    "start_time": "2024-06-18T21:21:35.882Z"
   },
   {
    "duration": 1413,
    "start_time": "2024-06-18T21:21:49.000Z"
   },
   {
    "duration": 409,
    "start_time": "2024-06-18T21:21:50.417Z"
   },
   {
    "duration": 46,
    "start_time": "2024-06-18T21:21:50.830Z"
   },
   {
    "duration": 17,
    "start_time": "2024-06-18T21:21:50.881Z"
   },
   {
    "duration": 40,
    "start_time": "2024-06-18T21:21:50.901Z"
   },
   {
    "duration": 15,
    "start_time": "2024-06-18T21:21:50.943Z"
   },
   {
    "duration": 7,
    "start_time": "2024-06-18T21:21:50.962Z"
   },
   {
    "duration": 5,
    "start_time": "2024-06-18T21:21:50.973Z"
   },
   {
    "duration": 51,
    "start_time": "2024-06-18T21:21:50.982Z"
   },
   {
    "duration": 8,
    "start_time": "2024-06-18T21:21:51.039Z"
   },
   {
    "duration": 7,
    "start_time": "2024-06-18T21:21:51.050Z"
   },
   {
    "duration": 8,
    "start_time": "2024-06-18T21:21:51.060Z"
   },
   {
    "duration": 59,
    "start_time": "2024-06-18T21:21:51.071Z"
   },
   {
    "duration": 14,
    "start_time": "2024-06-18T21:21:51.133Z"
   },
   {
    "duration": 14,
    "start_time": "2024-06-18T21:21:51.151Z"
   },
   {
    "duration": 98,
    "start_time": "2024-06-18T21:21:51.171Z"
   },
   {
    "duration": 65,
    "start_time": "2024-06-18T21:21:51.272Z"
   },
   {
    "duration": 60,
    "start_time": "2024-06-18T21:21:51.342Z"
   },
   {
    "duration": 41,
    "start_time": "2024-06-18T21:21:51.405Z"
   },
   {
    "duration": 5,
    "start_time": "2024-06-18T21:21:51.449Z"
   },
   {
    "duration": 555,
    "start_time": "2024-06-18T21:21:51.458Z"
   },
   {
    "duration": 0,
    "start_time": "2024-06-18T21:21:52.017Z"
   },
   {
    "duration": 0,
    "start_time": "2024-06-18T21:21:52.019Z"
   },
   {
    "duration": 0,
    "start_time": "2024-06-18T21:21:52.020Z"
   },
   {
    "duration": 0,
    "start_time": "2024-06-18T21:21:52.023Z"
   },
   {
    "duration": 0,
    "start_time": "2024-06-18T21:21:52.032Z"
   },
   {
    "duration": 0,
    "start_time": "2024-06-18T21:21:52.034Z"
   },
   {
    "duration": 0,
    "start_time": "2024-06-18T21:21:52.036Z"
   },
   {
    "duration": 0,
    "start_time": "2024-06-18T21:21:52.037Z"
   },
   {
    "duration": 0,
    "start_time": "2024-06-18T21:21:52.042Z"
   },
   {
    "duration": 0,
    "start_time": "2024-06-18T21:21:52.045Z"
   },
   {
    "duration": 0,
    "start_time": "2024-06-18T21:21:52.047Z"
   },
   {
    "duration": 0,
    "start_time": "2024-06-18T21:21:52.048Z"
   },
   {
    "duration": 0,
    "start_time": "2024-06-18T21:21:52.050Z"
   },
   {
    "duration": 0,
    "start_time": "2024-06-18T21:21:52.051Z"
   },
   {
    "duration": 0,
    "start_time": "2024-06-18T21:21:52.053Z"
   },
   {
    "duration": 0,
    "start_time": "2024-06-18T21:21:52.059Z"
   },
   {
    "duration": 0,
    "start_time": "2024-06-18T21:21:52.061Z"
   },
   {
    "duration": 0,
    "start_time": "2024-06-18T21:21:52.062Z"
   },
   {
    "duration": 0,
    "start_time": "2024-06-18T21:21:52.063Z"
   },
   {
    "duration": 0,
    "start_time": "2024-06-18T21:21:52.065Z"
   },
   {
    "duration": 0,
    "start_time": "2024-06-18T21:21:52.066Z"
   },
   {
    "duration": 0,
    "start_time": "2024-06-18T21:21:52.072Z"
   },
   {
    "duration": 35,
    "start_time": "2024-06-18T21:41:48.256Z"
   },
   {
    "duration": 29,
    "start_time": "2024-06-18T21:41:52.757Z"
   },
   {
    "duration": 1405,
    "start_time": "2024-06-18T21:42:02.525Z"
   },
   {
    "duration": 385,
    "start_time": "2024-06-18T21:42:03.933Z"
   },
   {
    "duration": 49,
    "start_time": "2024-06-18T21:42:04.321Z"
   },
   {
    "duration": 18,
    "start_time": "2024-06-18T21:42:04.373Z"
   },
   {
    "duration": 34,
    "start_time": "2024-06-18T21:42:04.396Z"
   },
   {
    "duration": 13,
    "start_time": "2024-06-18T21:42:04.433Z"
   },
   {
    "duration": 6,
    "start_time": "2024-06-18T21:42:04.449Z"
   },
   {
    "duration": 6,
    "start_time": "2024-06-18T21:42:04.458Z"
   },
   {
    "duration": 9,
    "start_time": "2024-06-18T21:42:04.467Z"
   },
   {
    "duration": 53,
    "start_time": "2024-06-18T21:42:04.479Z"
   },
   {
    "duration": 8,
    "start_time": "2024-06-18T21:42:04.535Z"
   },
   {
    "duration": 8,
    "start_time": "2024-06-18T21:42:04.546Z"
   },
   {
    "duration": 13,
    "start_time": "2024-06-18T21:42:04.557Z"
   },
   {
    "duration": 56,
    "start_time": "2024-06-18T21:42:04.578Z"
   },
   {
    "duration": 12,
    "start_time": "2024-06-18T21:42:04.637Z"
   },
   {
    "duration": 80,
    "start_time": "2024-06-18T21:42:04.651Z"
   },
   {
    "duration": 54,
    "start_time": "2024-06-18T21:42:04.734Z"
   },
   {
    "duration": 78,
    "start_time": "2024-06-18T21:42:04.790Z"
   },
   {
    "duration": 21,
    "start_time": "2024-06-18T21:42:04.872Z"
   },
   {
    "duration": 5,
    "start_time": "2024-06-18T21:42:04.895Z"
   },
   {
    "duration": 500,
    "start_time": "2024-06-18T21:42:04.902Z"
   },
   {
    "duration": 0,
    "start_time": "2024-06-18T21:42:05.405Z"
   },
   {
    "duration": 0,
    "start_time": "2024-06-18T21:42:05.407Z"
   },
   {
    "duration": 0,
    "start_time": "2024-06-18T21:42:05.409Z"
   },
   {
    "duration": 0,
    "start_time": "2024-06-18T21:42:05.411Z"
   },
   {
    "duration": 0,
    "start_time": "2024-06-18T21:42:05.413Z"
   },
   {
    "duration": 0,
    "start_time": "2024-06-18T21:42:05.431Z"
   },
   {
    "duration": 0,
    "start_time": "2024-06-18T21:42:05.434Z"
   },
   {
    "duration": 0,
    "start_time": "2024-06-18T21:42:05.435Z"
   },
   {
    "duration": 0,
    "start_time": "2024-06-18T21:42:05.437Z"
   },
   {
    "duration": 0,
    "start_time": "2024-06-18T21:42:05.439Z"
   },
   {
    "duration": 0,
    "start_time": "2024-06-18T21:42:05.441Z"
   },
   {
    "duration": 0,
    "start_time": "2024-06-18T21:42:05.443Z"
   },
   {
    "duration": 0,
    "start_time": "2024-06-18T21:42:05.445Z"
   },
   {
    "duration": 0,
    "start_time": "2024-06-18T21:42:05.447Z"
   },
   {
    "duration": 0,
    "start_time": "2024-06-18T21:42:05.450Z"
   },
   {
    "duration": 0,
    "start_time": "2024-06-18T21:42:05.452Z"
   },
   {
    "duration": 0,
    "start_time": "2024-06-18T21:42:05.455Z"
   },
   {
    "duration": 0,
    "start_time": "2024-06-18T21:42:05.457Z"
   },
   {
    "duration": 0,
    "start_time": "2024-06-18T21:42:05.459Z"
   },
   {
    "duration": 0,
    "start_time": "2024-06-18T21:42:05.461Z"
   },
   {
    "duration": 0,
    "start_time": "2024-06-18T21:42:05.463Z"
   },
   {
    "duration": 0,
    "start_time": "2024-06-18T21:42:05.465Z"
   },
   {
    "duration": 7,
    "start_time": "2024-06-18T21:42:15.027Z"
   },
   {
    "duration": 372,
    "start_time": "2024-06-18T21:42:20.269Z"
   },
   {
    "duration": 43,
    "start_time": "2024-06-18T21:42:21.336Z"
   },
   {
    "duration": 12,
    "start_time": "2024-06-18T21:42:22.179Z"
   },
   {
    "duration": 15,
    "start_time": "2024-06-18T21:42:22.890Z"
   },
   {
    "duration": 12,
    "start_time": "2024-06-18T21:42:23.738Z"
   },
   {
    "duration": 6,
    "start_time": "2024-06-18T21:42:26.032Z"
   },
   {
    "duration": 5,
    "start_time": "2024-06-18T21:42:26.751Z"
   },
   {
    "duration": 5,
    "start_time": "2024-06-18T21:42:27.322Z"
   },
   {
    "duration": 8,
    "start_time": "2024-06-18T21:42:28.553Z"
   },
   {
    "duration": 7,
    "start_time": "2024-06-18T21:42:29.350Z"
   },
   {
    "duration": 6,
    "start_time": "2024-06-18T21:42:29.915Z"
   },
   {
    "duration": 16,
    "start_time": "2024-06-18T21:42:31.181Z"
   },
   {
    "duration": 18,
    "start_time": "2024-06-18T21:42:31.884Z"
   },
   {
    "duration": 12,
    "start_time": "2024-06-18T21:42:32.365Z"
   },
   {
    "duration": 59,
    "start_time": "2024-06-18T21:42:33.651Z"
   },
   {
    "duration": 55,
    "start_time": "2024-06-18T21:42:34.384Z"
   },
   {
    "duration": 57,
    "start_time": "2024-06-18T21:42:34.911Z"
   },
   {
    "duration": 20,
    "start_time": "2024-06-18T21:42:36.792Z"
   },
   {
    "duration": 5,
    "start_time": "2024-06-18T21:42:37.483Z"
   },
   {
    "duration": 24,
    "start_time": "2024-06-18T21:42:38.304Z"
   },
   {
    "duration": 34,
    "start_time": "2024-06-18T21:42:40.920Z"
   },
   {
    "duration": 19,
    "start_time": "2024-06-18T21:42:57.981Z"
   },
   {
    "duration": 4,
    "start_time": "2024-06-18T21:42:58.326Z"
   },
   {
    "duration": 23,
    "start_time": "2024-06-18T21:42:58.879Z"
   },
   {
    "duration": 29,
    "start_time": "2024-06-18T21:42:59.735Z"
   },
   {
    "duration": 20,
    "start_time": "2024-06-18T21:43:18.145Z"
   },
   {
    "duration": 5,
    "start_time": "2024-06-18T21:43:19.003Z"
   },
   {
    "duration": 24,
    "start_time": "2024-06-18T21:43:20.096Z"
   },
   {
    "duration": 24,
    "start_time": "2024-06-18T21:44:12.634Z"
   },
   {
    "duration": 4,
    "start_time": "2024-06-18T21:44:28.653Z"
   },
   {
    "duration": 17,
    "start_time": "2024-06-18T21:44:29.338Z"
   },
   {
    "duration": 12,
    "start_time": "2024-06-18T21:44:29.883Z"
   },
   {
    "duration": 421,
    "start_time": "2024-06-18T21:44:41.839Z"
   },
   {
    "duration": 11,
    "start_time": "2024-06-18T21:45:16.708Z"
   },
   {
    "duration": 18,
    "start_time": "2024-06-18T21:45:17.857Z"
   },
   {
    "duration": 12,
    "start_time": "2024-06-18T21:45:23.365Z"
   },
   {
    "duration": 305,
    "start_time": "2024-06-18T21:45:24.230Z"
   },
   {
    "duration": 133,
    "start_time": "2024-06-18T21:45:31.657Z"
   },
   {
    "duration": 15,
    "start_time": "2024-06-18T21:45:32.563Z"
   },
   {
    "duration": 7,
    "start_time": "2024-06-18T21:45:33.409Z"
   },
   {
    "duration": 21,
    "start_time": "2024-06-18T21:45:34.797Z"
   },
   {
    "duration": 43,
    "start_time": "2024-06-18T21:45:35.628Z"
   },
   {
    "duration": 21,
    "start_time": "2024-06-18T21:45:36.647Z"
   },
   {
    "duration": 26,
    "start_time": "2024-06-18T21:45:38.102Z"
   },
   {
    "duration": 33,
    "start_time": "2024-06-18T21:53:28.975Z"
   },
   {
    "duration": 28,
    "start_time": "2024-06-18T21:53:31.441Z"
   },
   {
    "duration": 4,
    "start_time": "2024-06-18T21:53:42.659Z"
   },
   {
    "duration": 4,
    "start_time": "2024-06-18T21:53:43.755Z"
   },
   {
    "duration": 1053,
    "start_time": "2024-06-18T21:53:44.816Z"
   },
   {
    "duration": 293,
    "start_time": "2024-06-18T21:54:16.288Z"
   },
   {
    "duration": 1341,
    "start_time": "2024-06-18T21:54:23.678Z"
   },
   {
    "duration": 377,
    "start_time": "2024-06-18T21:54:25.022Z"
   },
   {
    "duration": 50,
    "start_time": "2024-06-18T21:54:25.402Z"
   },
   {
    "duration": 21,
    "start_time": "2024-06-18T21:54:25.455Z"
   },
   {
    "duration": 12,
    "start_time": "2024-06-18T21:54:25.482Z"
   },
   {
    "duration": 40,
    "start_time": "2024-06-18T21:54:25.498Z"
   },
   {
    "duration": 6,
    "start_time": "2024-06-18T21:54:25.542Z"
   },
   {
    "duration": 5,
    "start_time": "2024-06-18T21:54:25.552Z"
   },
   {
    "duration": 6,
    "start_time": "2024-06-18T21:54:25.560Z"
   },
   {
    "duration": 7,
    "start_time": "2024-06-18T21:54:25.570Z"
   },
   {
    "duration": 7,
    "start_time": "2024-06-18T21:54:25.632Z"
   },
   {
    "duration": 7,
    "start_time": "2024-06-18T21:54:25.642Z"
   },
   {
    "duration": 14,
    "start_time": "2024-06-18T21:54:25.652Z"
   },
   {
    "duration": 55,
    "start_time": "2024-06-18T21:54:25.677Z"
   },
   {
    "duration": 17,
    "start_time": "2024-06-18T21:54:25.735Z"
   },
   {
    "duration": 85,
    "start_time": "2024-06-18T21:54:25.755Z"
   },
   {
    "duration": 60,
    "start_time": "2024-06-18T21:54:25.847Z"
   },
   {
    "duration": 77,
    "start_time": "2024-06-18T21:54:25.909Z"
   },
   {
    "duration": 19,
    "start_time": "2024-06-18T21:54:25.989Z"
   },
   {
    "duration": 5,
    "start_time": "2024-06-18T21:54:26.029Z"
   },
   {
    "duration": 18,
    "start_time": "2024-06-18T21:54:26.037Z"
   },
   {
    "duration": 17,
    "start_time": "2024-06-18T21:54:26.058Z"
   },
   {
    "duration": 97,
    "start_time": "2024-06-18T21:54:26.136Z"
   },
   {
    "duration": 90,
    "start_time": "2024-06-18T21:54:26.241Z"
   },
   {
    "duration": 358,
    "start_time": "2024-06-18T21:54:26.334Z"
   },
   {
    "duration": 135,
    "start_time": "2024-06-18T21:54:26.695Z"
   },
   {
    "duration": 15,
    "start_time": "2024-06-18T21:54:26.833Z"
   },
   {
    "duration": 7,
    "start_time": "2024-06-18T21:54:26.854Z"
   },
   {
    "duration": 24,
    "start_time": "2024-06-18T21:54:26.864Z"
   },
   {
    "duration": 56,
    "start_time": "2024-06-18T21:54:26.891Z"
   },
   {
    "duration": 87,
    "start_time": "2024-06-18T21:54:26.955Z"
   },
   {
    "duration": 103,
    "start_time": "2024-06-18T21:54:27.048Z"
   },
   {
    "duration": 5,
    "start_time": "2024-06-18T21:54:27.154Z"
   },
   {
    "duration": 73,
    "start_time": "2024-06-18T21:54:27.162Z"
   },
   {
    "duration": 1556,
    "start_time": "2024-06-18T21:54:27.238Z"
   },
   {
    "duration": 0,
    "start_time": "2024-06-18T21:54:28.798Z"
   },
   {
    "duration": 0,
    "start_time": "2024-06-18T21:54:28.803Z"
   },
   {
    "duration": 0,
    "start_time": "2024-06-18T21:54:28.805Z"
   },
   {
    "duration": 0,
    "start_time": "2024-06-18T21:54:28.808Z"
   },
   {
    "duration": 0,
    "start_time": "2024-06-18T21:54:28.810Z"
   },
   {
    "duration": 0,
    "start_time": "2024-06-18T21:54:28.831Z"
   },
   {
    "duration": 0,
    "start_time": "2024-06-18T21:54:28.833Z"
   },
   {
    "duration": 0,
    "start_time": "2024-06-18T21:54:28.836Z"
   },
   {
    "duration": 0,
    "start_time": "2024-06-18T21:54:28.838Z"
   },
   {
    "duration": 0,
    "start_time": "2024-06-18T21:54:28.840Z"
   },
   {
    "duration": 1142,
    "start_time": "2024-06-18T21:59:34.598Z"
   },
   {
    "duration": 409,
    "start_time": "2024-06-18T22:00:56.234Z"
   },
   {
    "duration": 283,
    "start_time": "2024-06-18T22:01:08.180Z"
   },
   {
    "duration": 352,
    "start_time": "2024-06-18T22:06:39.485Z"
   },
   {
    "duration": 291,
    "start_time": "2024-06-18T22:07:36.202Z"
   },
   {
    "duration": 317,
    "start_time": "2024-06-18T22:08:07.161Z"
   },
   {
    "duration": 235,
    "start_time": "2024-06-18T22:09:15.816Z"
   },
   {
    "duration": 228,
    "start_time": "2024-06-18T22:09:24.644Z"
   },
   {
    "duration": 281,
    "start_time": "2024-06-18T22:10:35.049Z"
   },
   {
    "duration": 287,
    "start_time": "2024-06-18T22:10:49.726Z"
   },
   {
    "duration": 335,
    "start_time": "2024-06-18T22:11:07.382Z"
   },
   {
    "duration": 287,
    "start_time": "2024-06-18T22:11:56.813Z"
   },
   {
    "duration": 4,
    "start_time": "2024-06-18T22:13:56.217Z"
   },
   {
    "duration": 407,
    "start_time": "2024-06-18T22:14:12.203Z"
   },
   {
    "duration": 359,
    "start_time": "2024-06-18T22:15:22.754Z"
   },
   {
    "duration": 579,
    "start_time": "2024-06-18T22:15:31.727Z"
   },
   {
    "duration": 391,
    "start_time": "2024-06-18T22:15:37.708Z"
   },
   {
    "duration": 1404,
    "start_time": "2024-06-18T22:18:02.207Z"
   },
   {
    "duration": 386,
    "start_time": "2024-06-18T22:18:03.616Z"
   },
   {
    "duration": 51,
    "start_time": "2024-06-18T22:18:04.005Z"
   },
   {
    "duration": 17,
    "start_time": "2024-06-18T22:18:04.059Z"
   },
   {
    "duration": 12,
    "start_time": "2024-06-18T22:18:04.080Z"
   },
   {
    "duration": 41,
    "start_time": "2024-06-18T22:18:04.095Z"
   },
   {
    "duration": 6,
    "start_time": "2024-06-18T22:18:04.139Z"
   },
   {
    "duration": 6,
    "start_time": "2024-06-18T22:18:04.151Z"
   },
   {
    "duration": 6,
    "start_time": "2024-06-18T22:18:04.159Z"
   },
   {
    "duration": 7,
    "start_time": "2024-06-18T22:18:04.168Z"
   },
   {
    "duration": 54,
    "start_time": "2024-06-18T22:18:04.178Z"
   },
   {
    "duration": 9,
    "start_time": "2024-06-18T22:18:04.235Z"
   },
   {
    "duration": 12,
    "start_time": "2024-06-18T22:18:04.247Z"
   },
   {
    "duration": 15,
    "start_time": "2024-06-18T22:18:04.267Z"
   },
   {
    "duration": 52,
    "start_time": "2024-06-18T22:18:04.285Z"
   },
   {
    "duration": 59,
    "start_time": "2024-06-18T22:18:04.340Z"
   },
   {
    "duration": 79,
    "start_time": "2024-06-18T22:18:04.402Z"
   },
   {
    "duration": 74,
    "start_time": "2024-06-18T22:18:04.484Z"
   },
   {
    "duration": 19,
    "start_time": "2024-06-18T22:18:04.561Z"
   },
   {
    "duration": 5,
    "start_time": "2024-06-18T22:18:04.583Z"
   },
   {
    "duration": 47,
    "start_time": "2024-06-18T22:18:04.590Z"
   },
   {
    "duration": 17,
    "start_time": "2024-06-18T22:18:04.640Z"
   },
   {
    "duration": 83,
    "start_time": "2024-06-18T22:18:04.660Z"
   },
   {
    "duration": 86,
    "start_time": "2024-06-18T22:18:04.746Z"
   },
   {
    "duration": 412,
    "start_time": "2024-06-18T22:18:04.835Z"
   },
   {
    "duration": 136,
    "start_time": "2024-06-18T22:18:05.250Z"
   },
   {
    "duration": 15,
    "start_time": "2024-06-18T22:18:05.389Z"
   },
   {
    "duration": 23,
    "start_time": "2024-06-18T22:18:05.407Z"
   },
   {
    "duration": 22,
    "start_time": "2024-06-18T22:18:05.433Z"
   },
   {
    "duration": 72,
    "start_time": "2024-06-18T22:18:05.458Z"
   },
   {
    "duration": 98,
    "start_time": "2024-06-18T22:18:05.533Z"
   },
   {
    "duration": 28,
    "start_time": "2024-06-18T22:18:05.635Z"
   },
   {
    "duration": 5,
    "start_time": "2024-06-18T22:18:05.666Z"
   },
   {
    "duration": 5,
    "start_time": "2024-06-18T22:18:05.731Z"
   },
   {
    "duration": 4,
    "start_time": "2024-06-18T22:18:05.739Z"
   },
   {
    "duration": 7,
    "start_time": "2024-06-18T22:24:12.796Z"
   },
   {
    "duration": 452,
    "start_time": "2024-06-18T22:24:12.807Z"
   },
   {
    "duration": 0,
    "start_time": "2024-06-18T22:24:13.263Z"
   },
   {
    "duration": 0,
    "start_time": "2024-06-18T22:24:13.264Z"
   },
   {
    "duration": 0,
    "start_time": "2024-06-18T22:24:13.267Z"
   },
   {
    "duration": 0,
    "start_time": "2024-06-18T22:24:13.271Z"
   },
   {
    "duration": 0,
    "start_time": "2024-06-18T22:24:13.274Z"
   },
   {
    "duration": 0,
    "start_time": "2024-06-18T22:24:13.276Z"
   },
   {
    "duration": 0,
    "start_time": "2024-06-18T22:24:13.278Z"
   },
   {
    "duration": 0,
    "start_time": "2024-06-18T22:24:13.281Z"
   },
   {
    "duration": 0,
    "start_time": "2024-06-18T22:24:13.283Z"
   },
   {
    "duration": 0,
    "start_time": "2024-06-18T22:24:13.285Z"
   },
   {
    "duration": 0,
    "start_time": "2024-06-18T22:24:13.288Z"
   },
   {
    "duration": 0,
    "start_time": "2024-06-18T22:24:13.334Z"
   },
   {
    "duration": 8,
    "start_time": "2024-06-18T22:31:55.895Z"
   },
   {
    "duration": 5,
    "start_time": "2024-06-18T22:31:57.841Z"
   },
   {
    "duration": 5,
    "start_time": "2024-06-18T22:31:58.708Z"
   },
   {
    "duration": 375659,
    "start_time": "2024-06-18T22:38:10.858Z"
   },
   {
    "duration": 375071,
    "start_time": "2024-06-18T22:56:48.951Z"
   },
   {
    "duration": 4,
    "start_time": "2024-06-18T23:03:14.456Z"
   },
   {
    "duration": 1532,
    "start_time": "2024-06-18T23:05:01.727Z"
   },
   {
    "duration": 407,
    "start_time": "2024-06-18T23:05:03.263Z"
   },
   {
    "duration": 46,
    "start_time": "2024-06-18T23:05:03.673Z"
   },
   {
    "duration": 18,
    "start_time": "2024-06-18T23:05:03.734Z"
   },
   {
    "duration": 14,
    "start_time": "2024-06-18T23:05:03.756Z"
   },
   {
    "duration": 16,
    "start_time": "2024-06-18T23:05:03.774Z"
   },
   {
    "duration": 43,
    "start_time": "2024-06-18T23:05:03.793Z"
   },
   {
    "duration": 6,
    "start_time": "2024-06-18T23:05:03.839Z"
   },
   {
    "duration": 6,
    "start_time": "2024-06-18T23:05:03.848Z"
   },
   {
    "duration": 9,
    "start_time": "2024-06-18T23:05:03.859Z"
   },
   {
    "duration": 7,
    "start_time": "2024-06-18T23:05:03.873Z"
   },
   {
    "duration": 50,
    "start_time": "2024-06-18T23:05:03.883Z"
   },
   {
    "duration": 13,
    "start_time": "2024-06-18T23:05:03.936Z"
   },
   {
    "duration": 14,
    "start_time": "2024-06-18T23:05:03.952Z"
   },
   {
    "duration": 13,
    "start_time": "2024-06-18T23:05:03.968Z"
   },
   {
    "duration": 101,
    "start_time": "2024-06-18T23:05:03.984Z"
   },
   {
    "duration": 77,
    "start_time": "2024-06-18T23:05:04.088Z"
   },
   {
    "duration": 77,
    "start_time": "2024-06-18T23:05:04.167Z"
   },
   {
    "duration": 20,
    "start_time": "2024-06-18T23:05:04.247Z"
   },
   {
    "duration": 5,
    "start_time": "2024-06-18T23:05:04.270Z"
   },
   {
    "duration": 21,
    "start_time": "2024-06-18T23:05:04.278Z"
   },
   {
    "duration": 25,
    "start_time": "2024-06-18T23:05:04.332Z"
   },
   {
    "duration": 96,
    "start_time": "2024-06-18T23:05:04.360Z"
   },
   {
    "duration": 78,
    "start_time": "2024-06-18T23:05:04.460Z"
   },
   {
    "duration": 434,
    "start_time": "2024-06-18T23:05:04.545Z"
   },
   {
    "duration": 138,
    "start_time": "2024-06-18T23:05:04.982Z"
   },
   {
    "duration": 23,
    "start_time": "2024-06-18T23:05:05.123Z"
   },
   {
    "duration": 7,
    "start_time": "2024-06-18T23:05:05.154Z"
   },
   {
    "duration": 25,
    "start_time": "2024-06-18T23:05:05.165Z"
   },
   {
    "duration": 54,
    "start_time": "2024-06-18T23:05:05.194Z"
   },
   {
    "duration": 89,
    "start_time": "2024-06-18T23:05:05.254Z"
   },
   {
    "duration": 99,
    "start_time": "2024-06-18T23:05:05.346Z"
   },
   {
    "duration": 10,
    "start_time": "2024-06-18T23:05:05.451Z"
   },
   {
    "duration": 70,
    "start_time": "2024-06-18T23:05:05.464Z"
   },
   {
    "duration": 6,
    "start_time": "2024-06-18T23:05:05.540Z"
   },
   {
    "duration": 1422,
    "start_time": "2024-06-18T23:05:56.202Z"
   },
   {
    "duration": 430,
    "start_time": "2024-06-18T23:05:57.627Z"
   },
   {
    "duration": 57,
    "start_time": "2024-06-18T23:05:58.060Z"
   },
   {
    "duration": 18,
    "start_time": "2024-06-18T23:05:58.132Z"
   },
   {
    "duration": 12,
    "start_time": "2024-06-18T23:05:58.156Z"
   },
   {
    "duration": 13,
    "start_time": "2024-06-18T23:05:58.171Z"
   },
   {
    "duration": 44,
    "start_time": "2024-06-18T23:05:58.187Z"
   },
   {
    "duration": 7,
    "start_time": "2024-06-18T23:05:58.234Z"
   },
   {
    "duration": 7,
    "start_time": "2024-06-18T23:05:58.244Z"
   },
   {
    "duration": 8,
    "start_time": "2024-06-18T23:05:58.254Z"
   },
   {
    "duration": 11,
    "start_time": "2024-06-18T23:05:58.266Z"
   },
   {
    "duration": 54,
    "start_time": "2024-06-18T23:05:58.280Z"
   },
   {
    "duration": 13,
    "start_time": "2024-06-18T23:05:58.337Z"
   },
   {
    "duration": 13,
    "start_time": "2024-06-18T23:05:58.359Z"
   },
   {
    "duration": 16,
    "start_time": "2024-06-18T23:05:58.375Z"
   },
   {
    "duration": 66,
    "start_time": "2024-06-18T23:05:58.431Z"
   },
   {
    "duration": 79,
    "start_time": "2024-06-18T23:05:58.500Z"
   },
   {
    "duration": 75,
    "start_time": "2024-06-18T23:05:58.583Z"
   },
   {
    "duration": 21,
    "start_time": "2024-06-18T23:05:58.661Z"
   },
   {
    "duration": 5,
    "start_time": "2024-06-18T23:05:58.685Z"
   },
   {
    "duration": 44,
    "start_time": "2024-06-18T23:05:58.694Z"
   },
   {
    "duration": 21,
    "start_time": "2024-06-18T23:05:58.742Z"
   },
   {
    "duration": 102,
    "start_time": "2024-06-18T23:05:58.830Z"
   },
   {
    "duration": 91,
    "start_time": "2024-06-18T23:05:58.941Z"
   },
   {
    "duration": 379,
    "start_time": "2024-06-18T23:05:59.036Z"
   },
   {
    "duration": 140,
    "start_time": "2024-06-18T23:05:59.419Z"
   },
   {
    "duration": 15,
    "start_time": "2024-06-18T23:05:59.562Z"
   },
   {
    "duration": 8,
    "start_time": "2024-06-18T23:05:59.580Z"
   },
   {
    "duration": 48,
    "start_time": "2024-06-18T23:05:59.591Z"
   },
   {
    "duration": 25,
    "start_time": "2024-06-18T23:05:59.642Z"
   },
   {
    "duration": 71,
    "start_time": "2024-06-18T23:05:59.669Z"
   },
   {
    "duration": 110,
    "start_time": "2024-06-18T23:05:59.746Z"
   },
   {
    "duration": 72,
    "start_time": "2024-06-18T23:05:59.863Z"
   },
   {
    "duration": 5,
    "start_time": "2024-06-18T23:05:59.938Z"
   },
   {
    "duration": 6,
    "start_time": "2024-06-18T23:05:59.947Z"
   },
   {
    "duration": 1528,
    "start_time": "2024-06-18T23:07:21.458Z"
   },
   {
    "duration": 446,
    "start_time": "2024-06-18T23:07:22.991Z"
   },
   {
    "duration": 45,
    "start_time": "2024-06-18T23:07:23.440Z"
   },
   {
    "duration": 17,
    "start_time": "2024-06-18T23:07:23.488Z"
   },
   {
    "duration": 13,
    "start_time": "2024-06-18T23:07:23.532Z"
   },
   {
    "duration": 12,
    "start_time": "2024-06-18T23:07:23.548Z"
   },
   {
    "duration": 5,
    "start_time": "2024-06-18T23:07:23.563Z"
   },
   {
    "duration": 6,
    "start_time": "2024-06-18T23:07:23.572Z"
   },
   {
    "duration": 52,
    "start_time": "2024-06-18T23:07:23.582Z"
   },
   {
    "duration": 8,
    "start_time": "2024-06-18T23:07:23.637Z"
   },
   {
    "duration": 11,
    "start_time": "2024-06-18T23:07:23.647Z"
   },
   {
    "duration": 8,
    "start_time": "2024-06-18T23:07:23.661Z"
   },
   {
    "duration": 15,
    "start_time": "2024-06-18T23:07:23.673Z"
   },
   {
    "duration": 15,
    "start_time": "2024-06-18T23:07:23.733Z"
   },
   {
    "duration": 16,
    "start_time": "2024-06-18T23:07:23.751Z"
   },
   {
    "duration": 96,
    "start_time": "2024-06-18T23:07:23.770Z"
   },
   {
    "duration": 70,
    "start_time": "2024-06-18T23:07:23.869Z"
   },
   {
    "duration": 60,
    "start_time": "2024-06-18T23:07:23.942Z"
   },
   {
    "duration": 37,
    "start_time": "2024-06-18T23:07:24.006Z"
   },
   {
    "duration": 5,
    "start_time": "2024-06-18T23:07:24.046Z"
   },
   {
    "duration": 19,
    "start_time": "2024-06-18T23:07:24.054Z"
   },
   {
    "duration": 55,
    "start_time": "2024-06-18T23:07:24.077Z"
   },
   {
    "duration": 104,
    "start_time": "2024-06-18T23:07:24.135Z"
   },
   {
    "duration": 92,
    "start_time": "2024-06-18T23:07:24.244Z"
   },
   {
    "duration": 394,
    "start_time": "2024-06-18T23:07:24.340Z"
   },
   {
    "duration": 147,
    "start_time": "2024-06-18T23:07:24.739Z"
   },
   {
    "duration": 17,
    "start_time": "2024-06-18T23:07:24.888Z"
   },
   {
    "duration": 24,
    "start_time": "2024-06-18T23:07:24.908Z"
   },
   {
    "duration": 25,
    "start_time": "2024-06-18T23:07:24.935Z"
   },
   {
    "duration": 68,
    "start_time": "2024-06-18T23:07:24.963Z"
   },
   {
    "duration": 29,
    "start_time": "2024-06-18T23:07:25.034Z"
   },
   {
    "duration": 36,
    "start_time": "2024-06-18T23:07:25.132Z"
   },
   {
    "duration": 59,
    "start_time": "2024-06-18T23:07:25.174Z"
   },
   {
    "duration": 6,
    "start_time": "2024-06-18T23:07:25.236Z"
   },
   {
    "duration": 5,
    "start_time": "2024-06-18T23:07:25.245Z"
   },
   {
    "duration": 1667,
    "start_time": "2024-06-18T23:09:31.037Z"
   },
   {
    "duration": 572,
    "start_time": "2024-06-18T23:09:32.708Z"
   },
   {
    "duration": 67,
    "start_time": "2024-06-18T23:09:33.283Z"
   },
   {
    "duration": 23,
    "start_time": "2024-06-18T23:09:33.353Z"
   },
   {
    "duration": 15,
    "start_time": "2024-06-18T23:09:33.382Z"
   },
   {
    "duration": 38,
    "start_time": "2024-06-18T23:09:33.401Z"
   },
   {
    "duration": 7,
    "start_time": "2024-06-18T23:09:33.445Z"
   },
   {
    "duration": 7,
    "start_time": "2024-06-18T23:09:33.455Z"
   },
   {
    "duration": 5,
    "start_time": "2024-06-18T23:09:33.466Z"
   },
   {
    "duration": 7,
    "start_time": "2024-06-18T23:09:33.474Z"
   },
   {
    "duration": 47,
    "start_time": "2024-06-18T23:09:33.484Z"
   },
   {
    "duration": 7,
    "start_time": "2024-06-18T23:09:33.535Z"
   },
   {
    "duration": 17,
    "start_time": "2024-06-18T23:09:33.545Z"
   },
   {
    "duration": 60,
    "start_time": "2024-06-18T23:09:33.572Z"
   },
   {
    "duration": 16,
    "start_time": "2024-06-18T23:09:33.636Z"
   },
   {
    "duration": 91,
    "start_time": "2024-06-18T23:09:33.655Z"
   },
   {
    "duration": 81,
    "start_time": "2024-06-18T23:09:33.750Z"
   },
   {
    "duration": 78,
    "start_time": "2024-06-18T23:09:33.834Z"
   },
   {
    "duration": 43,
    "start_time": "2024-06-18T23:09:33.915Z"
   },
   {
    "duration": 7,
    "start_time": "2024-06-18T23:09:33.961Z"
   },
   {
    "duration": 23,
    "start_time": "2024-06-18T23:09:33.977Z"
   },
   {
    "duration": 52,
    "start_time": "2024-06-18T23:09:34.003Z"
   },
   {
    "duration": 89,
    "start_time": "2024-06-18T23:09:34.058Z"
   },
   {
    "duration": 75,
    "start_time": "2024-06-18T23:09:34.156Z"
   },
   {
    "duration": 451,
    "start_time": "2024-06-18T23:09:34.235Z"
   },
   {
    "duration": 139,
    "start_time": "2024-06-18T23:09:34.691Z"
   },
   {
    "duration": 15,
    "start_time": "2024-06-18T23:09:34.833Z"
   },
   {
    "duration": 9,
    "start_time": "2024-06-18T23:09:34.851Z"
   },
   {
    "duration": 25,
    "start_time": "2024-06-18T23:09:34.864Z"
   },
   {
    "duration": 61,
    "start_time": "2024-06-18T23:09:34.891Z"
   },
   {
    "duration": 79,
    "start_time": "2024-06-18T23:09:34.957Z"
   },
   {
    "duration": 94,
    "start_time": "2024-06-18T23:09:35.039Z"
   },
   {
    "duration": 8,
    "start_time": "2024-06-18T23:09:35.139Z"
   },
   {
    "duration": 8,
    "start_time": "2024-06-18T23:09:35.150Z"
   },
   {
    "duration": 71,
    "start_time": "2024-06-18T23:09:35.162Z"
   },
   {
    "duration": 5030,
    "start_time": "2024-06-19T01:43:54.747Z"
   },
   {
    "duration": 522,
    "start_time": "2024-06-19T01:43:59.781Z"
   },
   {
    "duration": 51,
    "start_time": "2024-06-19T01:44:00.306Z"
   },
   {
    "duration": 17,
    "start_time": "2024-06-19T01:44:00.360Z"
   },
   {
    "duration": 13,
    "start_time": "2024-06-19T01:44:00.382Z"
   },
   {
    "duration": 14,
    "start_time": "2024-06-19T01:44:00.424Z"
   },
   {
    "duration": 5,
    "start_time": "2024-06-19T01:44:00.441Z"
   },
   {
    "duration": 6,
    "start_time": "2024-06-19T01:44:00.450Z"
   },
   {
    "duration": 6,
    "start_time": "2024-06-19T01:44:00.459Z"
   },
   {
    "duration": 55,
    "start_time": "2024-06-19T01:44:00.468Z"
   },
   {
    "duration": 9,
    "start_time": "2024-06-19T01:44:00.526Z"
   },
   {
    "duration": 8,
    "start_time": "2024-06-19T01:44:00.538Z"
   },
   {
    "duration": 13,
    "start_time": "2024-06-19T01:44:00.549Z"
   },
   {
    "duration": 59,
    "start_time": "2024-06-19T01:44:00.570Z"
   },
   {
    "duration": 15,
    "start_time": "2024-06-19T01:44:00.631Z"
   },
   {
    "duration": 84,
    "start_time": "2024-06-19T01:44:00.649Z"
   },
   {
    "duration": 59,
    "start_time": "2024-06-19T01:44:00.736Z"
   },
   {
    "duration": 86,
    "start_time": "2024-06-19T01:44:00.797Z"
   },
   {
    "duration": 47,
    "start_time": "2024-06-19T01:44:00.886Z"
   },
   {
    "duration": 5,
    "start_time": "2024-06-19T01:44:00.936Z"
   },
   {
    "duration": 19,
    "start_time": "2024-06-19T01:44:00.944Z"
   },
   {
    "duration": 12,
    "start_time": "2024-06-19T01:44:00.965Z"
   },
   {
    "duration": 22,
    "start_time": "2024-06-19T01:44:01.024Z"
   },
   {
    "duration": 15,
    "start_time": "2024-06-19T01:44:01.124Z"
   },
   {
    "duration": 376,
    "start_time": "2024-06-19T01:44:01.142Z"
   },
   {
    "duration": 132,
    "start_time": "2024-06-19T01:44:01.524Z"
   },
   {
    "duration": 15,
    "start_time": "2024-06-19T01:44:01.659Z"
   },
   {
    "duration": 9,
    "start_time": "2024-06-19T01:44:01.677Z"
   },
   {
    "duration": 47,
    "start_time": "2024-06-19T01:44:01.689Z"
   },
   {
    "duration": 26,
    "start_time": "2024-06-19T01:44:01.738Z"
   },
   {
    "duration": 76,
    "start_time": "2024-06-19T01:44:01.767Z"
   },
   {
    "duration": 105,
    "start_time": "2024-06-19T01:44:01.845Z"
   },
   {
    "duration": 66,
    "start_time": "2024-06-19T01:44:01.958Z"
   },
   {
    "duration": 4,
    "start_time": "2024-06-19T01:44:02.027Z"
   },
   {
    "duration": 5,
    "start_time": "2024-06-19T01:44:02.034Z"
   },
   {
    "duration": 1337,
    "start_time": "2024-06-19T01:45:11.066Z"
   },
   {
    "duration": 379,
    "start_time": "2024-06-19T01:45:12.406Z"
   },
   {
    "duration": 51,
    "start_time": "2024-06-19T01:45:12.788Z"
   },
   {
    "duration": 16,
    "start_time": "2024-06-19T01:45:12.842Z"
   },
   {
    "duration": 12,
    "start_time": "2024-06-19T01:45:12.863Z"
   },
   {
    "duration": 47,
    "start_time": "2024-06-19T01:45:12.878Z"
   },
   {
    "duration": 6,
    "start_time": "2024-06-19T01:45:12.928Z"
   },
   {
    "duration": 5,
    "start_time": "2024-06-19T01:45:12.937Z"
   },
   {
    "duration": 6,
    "start_time": "2024-06-19T01:45:12.945Z"
   },
   {
    "duration": 7,
    "start_time": "2024-06-19T01:45:12.954Z"
   },
   {
    "duration": 60,
    "start_time": "2024-06-19T01:45:12.964Z"
   },
   {
    "duration": 7,
    "start_time": "2024-06-19T01:45:13.027Z"
   },
   {
    "duration": 13,
    "start_time": "2024-06-19T01:45:13.037Z"
   },
   {
    "duration": 12,
    "start_time": "2024-06-19T01:45:13.058Z"
   },
   {
    "duration": 56,
    "start_time": "2024-06-19T01:45:13.073Z"
   },
   {
    "duration": 58,
    "start_time": "2024-06-19T01:45:13.131Z"
   },
   {
    "duration": 85,
    "start_time": "2024-06-19T01:45:13.192Z"
   },
   {
    "duration": 71,
    "start_time": "2024-06-19T01:45:13.282Z"
   },
   {
    "duration": 20,
    "start_time": "2024-06-19T01:45:13.356Z"
   },
   {
    "duration": 4,
    "start_time": "2024-06-19T01:45:13.379Z"
   },
   {
    "duration": 47,
    "start_time": "2024-06-19T01:45:13.387Z"
   },
   {
    "duration": 16,
    "start_time": "2024-06-19T01:45:13.436Z"
   },
   {
    "duration": 81,
    "start_time": "2024-06-19T01:45:13.455Z"
   },
   {
    "duration": 88,
    "start_time": "2024-06-19T01:45:13.541Z"
   },
   {
    "duration": 423,
    "start_time": "2024-06-19T01:45:13.632Z"
   },
   {
    "duration": 134,
    "start_time": "2024-06-19T01:45:14.058Z"
   },
   {
    "duration": 15,
    "start_time": "2024-06-19T01:45:14.195Z"
   },
   {
    "duration": 11,
    "start_time": "2024-06-19T01:45:14.224Z"
   },
   {
    "duration": 23,
    "start_time": "2024-06-19T01:45:14.238Z"
   },
   {
    "duration": 66,
    "start_time": "2024-06-19T01:45:14.264Z"
   },
   {
    "duration": 99,
    "start_time": "2024-06-19T01:45:14.332Z"
   },
   {
    "duration": 26,
    "start_time": "2024-06-19T01:45:14.434Z"
   },
   {
    "duration": 4,
    "start_time": "2024-06-19T01:45:14.523Z"
   },
   {
    "duration": 7,
    "start_time": "2024-06-19T01:45:14.530Z"
   },
   {
    "duration": 5,
    "start_time": "2024-06-19T01:45:14.539Z"
   },
   {
    "duration": 1422,
    "start_time": "2024-06-19T01:54:20.755Z"
   },
   {
    "duration": 371,
    "start_time": "2024-06-19T01:54:22.180Z"
   },
   {
    "duration": 54,
    "start_time": "2024-06-19T01:54:22.553Z"
   },
   {
    "duration": 18,
    "start_time": "2024-06-19T01:54:22.624Z"
   },
   {
    "duration": 13,
    "start_time": "2024-06-19T01:54:22.647Z"
   },
   {
    "duration": 16,
    "start_time": "2024-06-19T01:54:22.664Z"
   },
   {
    "duration": 42,
    "start_time": "2024-06-19T01:54:22.683Z"
   },
   {
    "duration": 6,
    "start_time": "2024-06-19T01:54:22.729Z"
   },
   {
    "duration": 6,
    "start_time": "2024-06-19T01:54:22.738Z"
   },
   {
    "duration": 9,
    "start_time": "2024-06-19T01:54:22.752Z"
   },
   {
    "duration": 7,
    "start_time": "2024-06-19T01:54:22.764Z"
   },
   {
    "duration": 51,
    "start_time": "2024-06-19T01:54:22.774Z"
   },
   {
    "duration": 13,
    "start_time": "2024-06-19T01:54:22.829Z"
   },
   {
    "duration": 13,
    "start_time": "2024-06-19T01:54:22.845Z"
   },
   {
    "duration": 62,
    "start_time": "2024-06-19T01:54:22.860Z"
   },
   {
    "duration": 60,
    "start_time": "2024-06-19T01:54:22.925Z"
   },
   {
    "duration": 77,
    "start_time": "2024-06-19T01:54:22.988Z"
   },
   {
    "duration": 70,
    "start_time": "2024-06-19T01:54:23.068Z"
   },
   {
    "duration": 19,
    "start_time": "2024-06-19T01:54:23.141Z"
   },
   {
    "duration": 5,
    "start_time": "2024-06-19T01:54:23.162Z"
   },
   {
    "duration": 18,
    "start_time": "2024-06-19T01:54:23.170Z"
   },
   {
    "duration": 13,
    "start_time": "2024-06-19T01:54:23.223Z"
   },
   {
    "duration": 99,
    "start_time": "2024-06-19T01:54:23.240Z"
   },
   {
    "duration": 87,
    "start_time": "2024-06-19T01:54:23.343Z"
   },
   {
    "duration": 425,
    "start_time": "2024-06-19T01:54:23.433Z"
   },
   {
    "duration": 126,
    "start_time": "2024-06-19T01:54:23.861Z"
   },
   {
    "duration": 16,
    "start_time": "2024-06-19T01:54:23.989Z"
   },
   {
    "duration": 7,
    "start_time": "2024-06-19T01:54:24.029Z"
   },
   {
    "duration": 22,
    "start_time": "2024-06-19T01:54:24.039Z"
   },
   {
    "duration": 61,
    "start_time": "2024-06-19T01:54:24.064Z"
   },
   {
    "duration": 100,
    "start_time": "2024-06-19T01:54:24.128Z"
   },
   {
    "duration": 27,
    "start_time": "2024-06-19T01:54:24.231Z"
   },
   {
    "duration": 61,
    "start_time": "2024-06-19T01:54:24.263Z"
   },
   {
    "duration": 5,
    "start_time": "2024-06-19T01:54:24.327Z"
   },
   {
    "duration": 4,
    "start_time": "2024-06-19T01:54:24.335Z"
   },
   {
    "duration": 1417,
    "start_time": "2024-06-19T01:55:34.914Z"
   },
   {
    "duration": 372,
    "start_time": "2024-06-19T01:55:36.336Z"
   },
   {
    "duration": 45,
    "start_time": "2024-06-19T01:55:36.711Z"
   },
   {
    "duration": 17,
    "start_time": "2024-06-19T01:55:36.759Z"
   },
   {
    "duration": 11,
    "start_time": "2024-06-19T01:55:36.782Z"
   },
   {
    "duration": 38,
    "start_time": "2024-06-19T01:55:36.796Z"
   },
   {
    "duration": 6,
    "start_time": "2024-06-19T01:55:36.837Z"
   },
   {
    "duration": 6,
    "start_time": "2024-06-19T01:55:36.846Z"
   },
   {
    "duration": 6,
    "start_time": "2024-06-19T01:55:36.855Z"
   },
   {
    "duration": 58,
    "start_time": "2024-06-19T01:55:36.864Z"
   },
   {
    "duration": 7,
    "start_time": "2024-06-19T01:55:36.925Z"
   },
   {
    "duration": 7,
    "start_time": "2024-06-19T01:55:36.936Z"
   },
   {
    "duration": 13,
    "start_time": "2024-06-19T01:55:36.946Z"
   },
   {
    "duration": 59,
    "start_time": "2024-06-19T01:55:36.967Z"
   },
   {
    "duration": 13,
    "start_time": "2024-06-19T01:55:37.029Z"
   },
   {
    "duration": 84,
    "start_time": "2024-06-19T01:55:37.045Z"
   },
   {
    "duration": 61,
    "start_time": "2024-06-19T01:55:37.131Z"
   },
   {
    "duration": 86,
    "start_time": "2024-06-19T01:55:37.196Z"
   },
   {
    "duration": 21,
    "start_time": "2024-06-19T01:55:37.285Z"
   },
   {
    "duration": 5,
    "start_time": "2024-06-19T01:55:37.323Z"
   },
   {
    "duration": 22,
    "start_time": "2024-06-19T01:55:37.332Z"
   },
   {
    "duration": 65,
    "start_time": "2024-06-19T01:55:37.358Z"
   },
   {
    "duration": 101,
    "start_time": "2024-06-19T01:55:37.426Z"
   },
   {
    "duration": 91,
    "start_time": "2024-06-19T01:55:37.534Z"
   },
   {
    "duration": 369,
    "start_time": "2024-06-19T01:55:37.628Z"
   },
   {
    "duration": 131,
    "start_time": "2024-06-19T01:55:38.000Z"
   },
   {
    "duration": 15,
    "start_time": "2024-06-19T01:55:38.133Z"
   },
   {
    "duration": 7,
    "start_time": "2024-06-19T01:55:38.151Z"
   },
   {
    "duration": 22,
    "start_time": "2024-06-19T01:55:38.162Z"
   },
   {
    "duration": 57,
    "start_time": "2024-06-19T01:55:38.187Z"
   },
   {
    "duration": 90,
    "start_time": "2024-06-19T01:55:38.247Z"
   },
   {
    "duration": 99,
    "start_time": "2024-06-19T01:55:38.340Z"
   },
   {
    "duration": 84,
    "start_time": "2024-06-19T01:55:38.442Z"
   },
   {
    "duration": 5,
    "start_time": "2024-06-19T01:55:38.535Z"
   },
   {
    "duration": 6,
    "start_time": "2024-06-19T01:55:38.622Z"
   },
   {
    "duration": 4,
    "start_time": "2024-06-19T01:55:38.631Z"
   },
   {
    "duration": 1390,
    "start_time": "2024-06-19T01:57:04.312Z"
   },
   {
    "duration": 397,
    "start_time": "2024-06-19T01:57:05.706Z"
   },
   {
    "duration": 48,
    "start_time": "2024-06-19T01:57:06.105Z"
   },
   {
    "duration": 16,
    "start_time": "2024-06-19T01:57:06.156Z"
   },
   {
    "duration": 11,
    "start_time": "2024-06-19T01:57:06.178Z"
   },
   {
    "duration": 41,
    "start_time": "2024-06-19T01:57:06.192Z"
   },
   {
    "duration": 6,
    "start_time": "2024-06-19T01:57:06.236Z"
   },
   {
    "duration": 7,
    "start_time": "2024-06-19T01:57:06.246Z"
   },
   {
    "duration": 6,
    "start_time": "2024-06-19T01:57:06.257Z"
   },
   {
    "duration": 8,
    "start_time": "2024-06-19T01:57:06.266Z"
   },
   {
    "duration": 7,
    "start_time": "2024-06-19T01:57:06.324Z"
   },
   {
    "duration": 7,
    "start_time": "2024-06-19T01:57:06.334Z"
   },
   {
    "duration": 13,
    "start_time": "2024-06-19T01:57:06.344Z"
   },
   {
    "duration": 60,
    "start_time": "2024-06-19T01:57:06.366Z"
   },
   {
    "duration": 13,
    "start_time": "2024-06-19T01:57:06.428Z"
   },
   {
    "duration": 88,
    "start_time": "2024-06-19T01:57:06.444Z"
   },
   {
    "duration": 59,
    "start_time": "2024-06-19T01:57:06.535Z"
   },
   {
    "duration": 90,
    "start_time": "2024-06-19T01:57:06.597Z"
   },
   {
    "duration": 45,
    "start_time": "2024-06-19T01:57:06.690Z"
   },
   {
    "duration": 8,
    "start_time": "2024-06-19T01:57:06.738Z"
   },
   {
    "duration": 20,
    "start_time": "2024-06-19T01:57:06.749Z"
   },
   {
    "duration": 53,
    "start_time": "2024-06-19T01:57:06.773Z"
   },
   {
    "duration": 102,
    "start_time": "2024-06-19T01:57:06.832Z"
   },
   {
    "duration": 89,
    "start_time": "2024-06-19T01:57:06.937Z"
   },
   {
    "duration": 382,
    "start_time": "2024-06-19T01:57:07.029Z"
   },
   {
    "duration": 135,
    "start_time": "2024-06-19T01:57:07.415Z"
   },
   {
    "duration": 14,
    "start_time": "2024-06-19T01:57:07.553Z"
   },
   {
    "duration": 7,
    "start_time": "2024-06-19T01:57:07.571Z"
   },
   {
    "duration": 50,
    "start_time": "2024-06-19T01:57:07.581Z"
   },
   {
    "duration": 26,
    "start_time": "2024-06-19T01:57:07.635Z"
   },
   {
    "duration": 83,
    "start_time": "2024-06-19T01:57:07.665Z"
   },
   {
    "duration": 24,
    "start_time": "2024-06-19T01:57:07.824Z"
   },
   {
    "duration": 84,
    "start_time": "2024-06-19T01:57:07.851Z"
   },
   {
    "duration": 81,
    "start_time": "2024-06-19T01:57:07.942Z"
   },
   {
    "duration": 6,
    "start_time": "2024-06-19T01:57:08.025Z"
   },
   {
    "duration": 5,
    "start_time": "2024-06-19T01:57:08.034Z"
   },
   {
    "duration": 1436,
    "start_time": "2024-06-19T01:59:40.085Z"
   },
   {
    "duration": 402,
    "start_time": "2024-06-19T01:59:41.525Z"
   },
   {
    "duration": 44,
    "start_time": "2024-06-19T01:59:41.930Z"
   },
   {
    "duration": 15,
    "start_time": "2024-06-19T01:59:41.977Z"
   },
   {
    "duration": 34,
    "start_time": "2024-06-19T01:59:41.998Z"
   },
   {
    "duration": 12,
    "start_time": "2024-06-19T01:59:42.035Z"
   },
   {
    "duration": 7,
    "start_time": "2024-06-19T01:59:42.049Z"
   },
   {
    "duration": 6,
    "start_time": "2024-06-19T01:59:42.061Z"
   },
   {
    "duration": 52,
    "start_time": "2024-06-19T01:59:42.071Z"
   },
   {
    "duration": 9,
    "start_time": "2024-06-19T01:59:42.126Z"
   },
   {
    "duration": 8,
    "start_time": "2024-06-19T01:59:42.137Z"
   },
   {
    "duration": 8,
    "start_time": "2024-06-19T01:59:42.148Z"
   },
   {
    "duration": 13,
    "start_time": "2024-06-19T01:59:42.159Z"
   },
   {
    "duration": 12,
    "start_time": "2024-06-19T01:59:42.225Z"
   },
   {
    "duration": 13,
    "start_time": "2024-06-19T01:59:42.240Z"
   },
   {
    "duration": 91,
    "start_time": "2024-06-19T01:59:42.256Z"
   },
   {
    "duration": 72,
    "start_time": "2024-06-19T01:59:42.350Z"
   },
   {
    "duration": 60,
    "start_time": "2024-06-19T01:59:42.425Z"
   },
   {
    "duration": 45,
    "start_time": "2024-06-19T01:59:42.488Z"
   },
   {
    "duration": 4,
    "start_time": "2024-06-19T01:59:42.536Z"
   },
   {
    "duration": 19,
    "start_time": "2024-06-19T01:59:42.543Z"
   },
   {
    "duration": 60,
    "start_time": "2024-06-19T01:59:42.565Z"
   },
   {
    "duration": 95,
    "start_time": "2024-06-19T01:59:42.630Z"
   },
   {
    "duration": 97,
    "start_time": "2024-06-19T01:59:42.728Z"
   },
   {
    "duration": 371,
    "start_time": "2024-06-19T01:59:42.828Z"
   },
   {
    "duration": 132,
    "start_time": "2024-06-19T01:59:43.202Z"
   },
   {
    "duration": 15,
    "start_time": "2024-06-19T01:59:43.336Z"
   },
   {
    "duration": 8,
    "start_time": "2024-06-19T01:59:43.355Z"
   },
   {
    "duration": 24,
    "start_time": "2024-06-19T01:59:43.365Z"
   },
   {
    "duration": 54,
    "start_time": "2024-06-19T01:59:43.391Z"
   },
   {
    "duration": 90,
    "start_time": "2024-06-19T01:59:43.447Z"
   },
   {
    "duration": 100,
    "start_time": "2024-06-19T01:59:43.545Z"
   },
   {
    "duration": 81,
    "start_time": "2024-06-19T01:59:43.652Z"
   },
   {
    "duration": 83,
    "start_time": "2024-06-19T01:59:43.739Z"
   },
   {
    "duration": 5,
    "start_time": "2024-06-19T01:59:43.825Z"
   },
   {
    "duration": 5,
    "start_time": "2024-06-19T01:59:43.833Z"
   },
   {
    "duration": 1454,
    "start_time": "2024-06-19T02:00:09.460Z"
   },
   {
    "duration": 402,
    "start_time": "2024-06-19T02:00:10.917Z"
   },
   {
    "duration": 46,
    "start_time": "2024-06-19T02:00:11.322Z"
   },
   {
    "duration": 17,
    "start_time": "2024-06-19T02:00:11.371Z"
   },
   {
    "duration": 12,
    "start_time": "2024-06-19T02:00:11.422Z"
   },
   {
    "duration": 14,
    "start_time": "2024-06-19T02:00:11.437Z"
   },
   {
    "duration": 6,
    "start_time": "2024-06-19T02:00:11.454Z"
   },
   {
    "duration": 7,
    "start_time": "2024-06-19T02:00:11.465Z"
   },
   {
    "duration": 50,
    "start_time": "2024-06-19T02:00:11.474Z"
   },
   {
    "duration": 7,
    "start_time": "2024-06-19T02:00:11.526Z"
   },
   {
    "duration": 8,
    "start_time": "2024-06-19T02:00:11.536Z"
   },
   {
    "duration": 7,
    "start_time": "2024-06-19T02:00:11.549Z"
   },
   {
    "duration": 12,
    "start_time": "2024-06-19T02:00:11.559Z"
   },
   {
    "duration": 53,
    "start_time": "2024-06-19T02:00:11.579Z"
   },
   {
    "duration": 13,
    "start_time": "2024-06-19T02:00:11.635Z"
   },
   {
    "duration": 92,
    "start_time": "2024-06-19T02:00:11.651Z"
   },
   {
    "duration": 57,
    "start_time": "2024-06-19T02:00:11.746Z"
   },
   {
    "duration": 59,
    "start_time": "2024-06-19T02:00:11.822Z"
   },
   {
    "duration": 40,
    "start_time": "2024-06-19T02:00:11.884Z"
   },
   {
    "duration": 4,
    "start_time": "2024-06-19T02:00:11.927Z"
   },
   {
    "duration": 18,
    "start_time": "2024-06-19T02:00:11.934Z"
   },
   {
    "duration": 71,
    "start_time": "2024-06-19T02:00:11.955Z"
   },
   {
    "duration": 93,
    "start_time": "2024-06-19T02:00:12.032Z"
   },
   {
    "duration": 96,
    "start_time": "2024-06-19T02:00:12.128Z"
   },
   {
    "duration": 362,
    "start_time": "2024-06-19T02:00:12.227Z"
   },
   {
    "duration": 135,
    "start_time": "2024-06-19T02:00:12.592Z"
   },
   {
    "duration": 15,
    "start_time": "2024-06-19T02:00:12.730Z"
   },
   {
    "duration": 8,
    "start_time": "2024-06-19T02:00:12.749Z"
   },
   {
    "duration": 23,
    "start_time": "2024-06-19T02:00:12.760Z"
   },
   {
    "duration": 61,
    "start_time": "2024-06-19T02:00:12.786Z"
   },
   {
    "duration": 84,
    "start_time": "2024-06-19T02:00:12.850Z"
   },
   {
    "duration": 108,
    "start_time": "2024-06-19T02:00:12.937Z"
   },
   {
    "duration": 93,
    "start_time": "2024-06-19T02:00:13.050Z"
   },
   {
    "duration": 5,
    "start_time": "2024-06-19T02:00:13.147Z"
   },
   {
    "duration": 68,
    "start_time": "2024-06-19T02:00:13.156Z"
   },
   {
    "duration": 8,
    "start_time": "2024-06-19T02:00:13.227Z"
   },
   {
    "duration": 1437,
    "start_time": "2024-06-19T02:02:43.351Z"
   },
   {
    "duration": 374,
    "start_time": "2024-06-19T02:02:44.792Z"
   },
   {
    "duration": 54,
    "start_time": "2024-06-19T02:02:45.169Z"
   },
   {
    "duration": 16,
    "start_time": "2024-06-19T02:02:45.225Z"
   },
   {
    "duration": 15,
    "start_time": "2024-06-19T02:02:45.246Z"
   },
   {
    "duration": 17,
    "start_time": "2024-06-19T02:02:45.269Z"
   },
   {
    "duration": 37,
    "start_time": "2024-06-19T02:02:45.289Z"
   },
   {
    "duration": 6,
    "start_time": "2024-06-19T02:02:45.329Z"
   },
   {
    "duration": 6,
    "start_time": "2024-06-19T02:02:45.338Z"
   },
   {
    "duration": 8,
    "start_time": "2024-06-19T02:02:45.346Z"
   },
   {
    "duration": 7,
    "start_time": "2024-06-19T02:02:45.357Z"
   },
   {
    "duration": 7,
    "start_time": "2024-06-19T02:02:45.367Z"
   },
   {
    "duration": 13,
    "start_time": "2024-06-19T02:02:45.425Z"
   },
   {
    "duration": 15,
    "start_time": "2024-06-19T02:02:45.444Z"
   },
   {
    "duration": 14,
    "start_time": "2024-06-19T02:02:45.461Z"
   },
   {
    "duration": 58,
    "start_time": "2024-06-19T02:02:45.523Z"
   },
   {
    "duration": 76,
    "start_time": "2024-06-19T02:02:45.584Z"
   },
   {
    "duration": 89,
    "start_time": "2024-06-19T02:02:45.662Z"
   },
   {
    "duration": 29,
    "start_time": "2024-06-19T02:02:45.758Z"
   },
   {
    "duration": 11,
    "start_time": "2024-06-19T02:02:45.792Z"
   },
   {
    "duration": 34,
    "start_time": "2024-06-19T02:02:45.809Z"
   },
   {
    "duration": 21,
    "start_time": "2024-06-19T02:02:45.846Z"
   },
   {
    "duration": 155,
    "start_time": "2024-06-19T02:02:45.870Z"
   },
   {
    "duration": 98,
    "start_time": "2024-06-19T02:02:46.029Z"
   },
   {
    "duration": 406,
    "start_time": "2024-06-19T02:02:46.130Z"
   },
   {
    "duration": 177,
    "start_time": "2024-06-19T02:02:46.540Z"
   },
   {
    "duration": 26,
    "start_time": "2024-06-19T02:02:46.720Z"
   },
   {
    "duration": 17,
    "start_time": "2024-06-19T02:02:46.749Z"
   },
   {
    "duration": 27,
    "start_time": "2024-06-19T02:02:46.768Z"
   },
   {
    "duration": 57,
    "start_time": "2024-06-19T02:02:46.798Z"
   },
   {
    "duration": 100,
    "start_time": "2024-06-19T02:02:46.857Z"
   },
   {
    "duration": 105,
    "start_time": "2024-06-19T02:02:46.960Z"
   },
   {
    "duration": 67,
    "start_time": "2024-06-19T02:02:47.069Z"
   },
   {
    "duration": 5,
    "start_time": "2024-06-19T02:02:47.139Z"
   },
   {
    "duration": 79,
    "start_time": "2024-06-19T02:02:47.147Z"
   },
   {
    "duration": 6,
    "start_time": "2024-06-19T02:02:47.229Z"
   },
   {
    "duration": 1403,
    "start_time": "2024-06-19T02:06:05.158Z"
   },
   {
    "duration": 389,
    "start_time": "2024-06-19T02:06:06.564Z"
   },
   {
    "duration": 49,
    "start_time": "2024-06-19T02:06:06.956Z"
   },
   {
    "duration": 28,
    "start_time": "2024-06-19T02:06:07.008Z"
   },
   {
    "duration": 13,
    "start_time": "2024-06-19T02:06:07.043Z"
   },
   {
    "duration": 13,
    "start_time": "2024-06-19T02:06:07.059Z"
   },
   {
    "duration": 48,
    "start_time": "2024-06-19T02:06:07.075Z"
   },
   {
    "duration": 6,
    "start_time": "2024-06-19T02:06:07.126Z"
   },
   {
    "duration": 8,
    "start_time": "2024-06-19T02:06:07.135Z"
   },
   {
    "duration": 7,
    "start_time": "2024-06-19T02:06:07.146Z"
   },
   {
    "duration": 7,
    "start_time": "2024-06-19T02:06:07.156Z"
   },
   {
    "duration": 56,
    "start_time": "2024-06-19T02:06:07.167Z"
   },
   {
    "duration": 13,
    "start_time": "2024-06-19T02:06:07.226Z"
   },
   {
    "duration": 13,
    "start_time": "2024-06-19T02:06:07.248Z"
   },
   {
    "duration": 14,
    "start_time": "2024-06-19T02:06:07.266Z"
   },
   {
    "duration": 104,
    "start_time": "2024-06-19T02:06:07.283Z"
   },
   {
    "duration": 73,
    "start_time": "2024-06-19T02:06:07.390Z"
   },
   {
    "duration": 76,
    "start_time": "2024-06-19T02:06:07.467Z"
   },
   {
    "duration": 19,
    "start_time": "2024-06-19T02:06:07.546Z"
   },
   {
    "duration": 5,
    "start_time": "2024-06-19T02:06:07.568Z"
   },
   {
    "duration": 48,
    "start_time": "2024-06-19T02:06:07.576Z"
   },
   {
    "duration": 15,
    "start_time": "2024-06-19T02:06:07.627Z"
   },
   {
    "duration": 91,
    "start_time": "2024-06-19T02:06:07.644Z"
   },
   {
    "duration": 88,
    "start_time": "2024-06-19T02:06:07.737Z"
   },
   {
    "duration": 421,
    "start_time": "2024-06-19T02:06:07.829Z"
   },
   {
    "duration": 135,
    "start_time": "2024-06-19T02:06:08.253Z"
   },
   {
    "duration": 15,
    "start_time": "2024-06-19T02:06:08.390Z"
   },
   {
    "duration": 7,
    "start_time": "2024-06-19T02:06:08.423Z"
   },
   {
    "duration": 24,
    "start_time": "2024-06-19T02:06:08.433Z"
   },
   {
    "duration": 64,
    "start_time": "2024-06-19T02:06:08.460Z"
   },
   {
    "duration": 23,
    "start_time": "2024-06-19T02:06:08.528Z"
   },
   {
    "duration": 25,
    "start_time": "2024-06-19T02:06:08.624Z"
   },
   {
    "duration": 83,
    "start_time": "2024-06-19T02:06:08.655Z"
   },
   {
    "duration": 80,
    "start_time": "2024-06-19T02:06:08.743Z"
   },
   {
    "duration": 6,
    "start_time": "2024-06-19T02:06:08.826Z"
   },
   {
    "duration": 4,
    "start_time": "2024-06-19T02:06:08.835Z"
   },
   {
    "duration": 0,
    "start_time": "2024-06-19T02:24:26.822Z"
   },
   {
    "duration": 0,
    "start_time": "2024-06-19T02:24:26.824Z"
   },
   {
    "duration": 0,
    "start_time": "2024-06-19T02:24:26.826Z"
   },
   {
    "duration": 519,
    "start_time": "2024-06-19T02:24:49.424Z"
   },
   {
    "duration": 81,
    "start_time": "2024-06-19T02:26:03.365Z"
   },
   {
    "duration": 72,
    "start_time": "2024-06-19T02:26:38.163Z"
   },
   {
    "duration": 60,
    "start_time": "2024-06-19T02:26:39.615Z"
   },
   {
    "duration": 32,
    "start_time": "2024-06-19T02:26:40.635Z"
   },
   {
    "duration": 42,
    "start_time": "2024-06-19T02:26:49.223Z"
   },
   {
    "duration": 88,
    "start_time": "2024-06-19T02:26:50.362Z"
   },
   {
    "duration": 2903,
    "start_time": "2024-06-19T02:27:02.247Z"
   },
   {
    "duration": 878,
    "start_time": "2024-06-19T02:27:05.161Z"
   },
   {
    "duration": 102,
    "start_time": "2024-06-19T02:27:06.046Z"
   },
   {
    "duration": 72,
    "start_time": "2024-06-19T02:27:06.156Z"
   },
   {
    "duration": 13,
    "start_time": "2024-06-19T02:27:06.235Z"
   },
   {
    "duration": 72,
    "start_time": "2024-06-19T02:27:06.254Z"
   },
   {
    "duration": 6,
    "start_time": "2024-06-19T02:27:06.328Z"
   },
   {
    "duration": 6,
    "start_time": "2024-06-19T02:27:06.344Z"
   },
   {
    "duration": 68,
    "start_time": "2024-06-19T02:27:06.355Z"
   },
   {
    "duration": 9,
    "start_time": "2024-06-19T02:27:06.429Z"
   },
   {
    "duration": 8,
    "start_time": "2024-06-19T02:27:06.443Z"
   },
   {
    "duration": 71,
    "start_time": "2024-06-19T02:27:06.454Z"
   },
   {
    "duration": 14,
    "start_time": "2024-06-19T02:27:06.532Z"
   },
   {
    "duration": 26,
    "start_time": "2024-06-19T02:27:06.548Z"
   },
   {
    "duration": 17,
    "start_time": "2024-06-19T02:27:06.626Z"
   },
   {
    "duration": 126,
    "start_time": "2024-06-19T02:27:06.647Z"
   },
   {
    "duration": 120,
    "start_time": "2024-06-19T02:27:06.824Z"
   },
   {
    "duration": 117,
    "start_time": "2024-06-19T02:27:06.947Z"
   },
   {
    "duration": 73,
    "start_time": "2024-06-19T02:27:07.068Z"
   },
   {
    "duration": 7,
    "start_time": "2024-06-19T02:27:07.148Z"
   },
   {
    "duration": 80,
    "start_time": "2024-06-19T02:27:07.158Z"
   },
   {
    "duration": 26,
    "start_time": "2024-06-19T02:27:07.247Z"
   },
   {
    "duration": 98,
    "start_time": "2024-06-19T02:27:07.328Z"
   },
   {
    "duration": 100,
    "start_time": "2024-06-19T02:27:07.430Z"
   },
   {
    "duration": 917,
    "start_time": "2024-06-19T02:27:07.533Z"
   },
   {
    "duration": 304,
    "start_time": "2024-06-19T02:27:08.454Z"
   },
   {
    "duration": 73,
    "start_time": "2024-06-19T02:27:08.764Z"
   },
   {
    "duration": 11,
    "start_time": "2024-06-19T02:27:08.855Z"
   },
   {
    "duration": 75,
    "start_time": "2024-06-19T02:27:08.872Z"
   },
   {
    "duration": 112,
    "start_time": "2024-06-19T02:27:08.958Z"
   },
   {
    "duration": 93,
    "start_time": "2024-06-19T02:27:09.152Z"
   },
   {
    "duration": 185,
    "start_time": "2024-06-19T02:27:09.249Z"
   },
   {
    "duration": 28,
    "start_time": "2024-06-19T02:27:09.437Z"
   },
   {
    "duration": 15,
    "start_time": "2024-06-19T02:27:09.467Z"
   },
   {
    "duration": 37,
    "start_time": "2024-06-19T02:27:09.486Z"
   },
   {
    "duration": 12,
    "start_time": "2024-06-19T02:27:09.525Z"
   },
   {
    "duration": 14285,
    "start_time": "2024-06-25T23:04:37.974Z"
   },
   {
    "duration": 980,
    "start_time": "2024-06-25T23:04:52.263Z"
   },
   {
    "duration": 116,
    "start_time": "2024-06-25T23:04:53.245Z"
   },
   {
    "duration": 77,
    "start_time": "2024-06-25T23:04:53.366Z"
   },
   {
    "duration": 19,
    "start_time": "2024-06-25T23:04:53.447Z"
   },
   {
    "duration": 69,
    "start_time": "2024-06-25T23:04:53.469Z"
   },
   {
    "duration": 6,
    "start_time": "2024-06-25T23:04:53.541Z"
   },
   {
    "duration": 6,
    "start_time": "2024-06-25T23:04:53.550Z"
   },
   {
    "duration": 76,
    "start_time": "2024-06-25T23:04:53.559Z"
   },
   {
    "duration": 7,
    "start_time": "2024-06-25T23:04:53.641Z"
   },
   {
    "duration": 8,
    "start_time": "2024-06-25T23:04:53.652Z"
   },
   {
    "duration": 73,
    "start_time": "2024-06-25T23:04:53.663Z"
   },
   {
    "duration": 14,
    "start_time": "2024-06-25T23:04:53.739Z"
   },
   {
    "duration": 77,
    "start_time": "2024-06-25T23:04:53.756Z"
   },
   {
    "duration": 17,
    "start_time": "2024-06-25T23:04:53.836Z"
   },
   {
    "duration": 118,
    "start_time": "2024-06-25T23:04:53.856Z"
   },
   {
    "duration": 167,
    "start_time": "2024-06-25T23:04:53.978Z"
   },
   {
    "duration": 185,
    "start_time": "2024-06-25T23:04:54.148Z"
   },
   {
    "duration": 19,
    "start_time": "2024-06-25T23:04:54.336Z"
   },
   {
    "duration": 5,
    "start_time": "2024-06-25T23:04:54.358Z"
   },
   {
    "duration": 82,
    "start_time": "2024-06-25T23:04:54.366Z"
   },
   {
    "duration": 84,
    "start_time": "2024-06-25T23:04:54.450Z"
   },
   {
    "duration": 108,
    "start_time": "2024-06-25T23:04:54.536Z"
   },
   {
    "duration": 93,
    "start_time": "2024-06-25T23:04:54.648Z"
   },
   {
    "duration": 606,
    "start_time": "2024-06-25T23:04:54.743Z"
   },
   {
    "duration": 283,
    "start_time": "2024-06-25T23:04:55.351Z"
   },
   {
    "duration": 17,
    "start_time": "2024-06-25T23:04:55.637Z"
   },
   {
    "duration": 7,
    "start_time": "2024-06-25T23:04:55.663Z"
   },
   {
    "duration": 25,
    "start_time": "2024-06-25T23:04:55.734Z"
   },
   {
    "duration": 171,
    "start_time": "2024-06-25T23:04:55.762Z"
   },
   {
    "duration": 104,
    "start_time": "2024-06-25T23:04:55.935Z"
   },
   {
    "duration": 90,
    "start_time": "2024-06-25T23:04:56.042Z"
   },
   {
    "duration": 98,
    "start_time": "2024-06-25T23:04:56.135Z"
   },
   {
    "duration": 5,
    "start_time": "2024-06-25T23:04:56.236Z"
   },
   {
    "duration": 6,
    "start_time": "2024-06-25T23:04:56.244Z"
   },
   {
    "duration": 5,
    "start_time": "2024-06-25T23:04:56.253Z"
   },
   {
    "duration": 563149,
    "start_time": "2024-06-25T23:04:56.261Z"
   },
   {
    "duration": 7,
    "start_time": "2024-06-25T23:14:19.413Z"
   },
   {
    "duration": 1767,
    "start_time": "2024-06-25T23:14:19.435Z"
   },
   {
    "duration": 1,
    "start_time": "2024-06-25T23:14:21.205Z"
   },
   {
    "duration": 1,
    "start_time": "2024-06-25T23:14:21.207Z"
   },
   {
    "duration": 0,
    "start_time": "2024-06-25T23:14:21.211Z"
   },
   {
    "duration": 0,
    "start_time": "2024-06-25T23:14:21.233Z"
   },
   {
    "duration": 0,
    "start_time": "2024-06-25T23:14:21.235Z"
   },
   {
    "duration": 0,
    "start_time": "2024-06-25T23:14:21.237Z"
   },
   {
    "duration": 0,
    "start_time": "2024-06-25T23:14:21.240Z"
   },
   {
    "duration": 0,
    "start_time": "2024-06-25T23:14:21.243Z"
   },
   {
    "duration": 7,
    "start_time": "2024-06-25T23:42:15.376Z"
   },
   {
    "duration": 5,
    "start_time": "2024-06-25T23:42:15.878Z"
   },
   {
    "duration": 3,
    "start_time": "2024-06-25T23:42:16.201Z"
   },
   {
    "duration": 4,
    "start_time": "2024-06-25T23:42:16.281Z"
   },
   {
    "duration": 36,
    "start_time": "2024-06-25T23:42:16.365Z"
   },
   {
    "duration": 4,
    "start_time": "2024-06-25T23:42:16.449Z"
   },
   {
    "duration": 28,
    "start_time": "2024-06-25T23:42:16.532Z"
   },
   {
    "duration": 25,
    "start_time": "2024-06-25T23:42:16.624Z"
   },
   {
    "duration": 5219,
    "start_time": "2024-06-26T00:00:48.981Z"
   },
   {
    "duration": 558,
    "start_time": "2024-06-26T00:00:54.204Z"
   },
   {
    "duration": 46,
    "start_time": "2024-06-26T00:00:54.766Z"
   },
   {
    "duration": 28,
    "start_time": "2024-06-26T00:00:54.815Z"
   },
   {
    "duration": 16,
    "start_time": "2024-06-26T00:00:54.852Z"
   },
   {
    "duration": 14,
    "start_time": "2024-06-26T00:00:54.870Z"
   },
   {
    "duration": 5,
    "start_time": "2024-06-26T00:00:54.887Z"
   },
   {
    "duration": 42,
    "start_time": "2024-06-26T00:00:54.896Z"
   },
   {
    "duration": 7,
    "start_time": "2024-06-26T00:00:54.940Z"
   },
   {
    "duration": 10,
    "start_time": "2024-06-26T00:00:54.949Z"
   },
   {
    "duration": 7,
    "start_time": "2024-06-26T00:00:54.961Z"
   },
   {
    "duration": 7,
    "start_time": "2024-06-26T00:00:54.970Z"
   },
   {
    "duration": 14,
    "start_time": "2024-06-26T00:00:54.980Z"
   },
   {
    "duration": 55,
    "start_time": "2024-06-26T00:00:55.001Z"
   },
   {
    "duration": 16,
    "start_time": "2024-06-26T00:00:55.060Z"
   },
   {
    "duration": 93,
    "start_time": "2024-06-26T00:00:55.079Z"
   },
   {
    "duration": 81,
    "start_time": "2024-06-26T00:00:55.175Z"
   },
   {
    "duration": 60,
    "start_time": "2024-06-26T00:00:55.259Z"
   },
   {
    "duration": 24,
    "start_time": "2024-06-26T00:00:55.322Z"
   },
   {
    "duration": 14,
    "start_time": "2024-06-26T00:00:55.347Z"
   },
   {
    "duration": 22,
    "start_time": "2024-06-26T00:00:55.367Z"
   },
   {
    "duration": 44,
    "start_time": "2024-06-26T00:00:55.394Z"
   },
   {
    "duration": 45,
    "start_time": "2024-06-26T00:00:55.440Z"
   },
   {
    "duration": 18,
    "start_time": "2024-06-26T00:00:55.538Z"
   },
   {
    "duration": 354,
    "start_time": "2024-06-26T00:00:55.558Z"
   },
   {
    "duration": 157,
    "start_time": "2024-06-26T00:00:55.916Z"
   },
   {
    "duration": 15,
    "start_time": "2024-06-26T00:00:56.075Z"
   },
   {
    "duration": 9,
    "start_time": "2024-06-26T00:00:56.093Z"
   },
   {
    "duration": 47,
    "start_time": "2024-06-26T00:00:56.105Z"
   },
   {
    "duration": 25,
    "start_time": "2024-06-26T00:00:56.156Z"
   },
   {
    "duration": 67,
    "start_time": "2024-06-26T00:00:56.184Z"
   },
   {
    "duration": 97,
    "start_time": "2024-06-26T00:00:56.254Z"
   },
   {
    "duration": 79,
    "start_time": "2024-06-26T00:00:56.354Z"
   },
   {
    "duration": 5,
    "start_time": "2024-06-26T00:00:56.440Z"
   },
   {
    "duration": 14,
    "start_time": "2024-06-26T00:00:56.450Z"
   },
   {
    "duration": 6,
    "start_time": "2024-06-26T00:00:56.466Z"
   },
   {
    "duration": 9,
    "start_time": "2024-06-26T00:00:56.475Z"
   },
   {
    "duration": 506,
    "start_time": "2024-06-26T00:00:56.487Z"
   },
   {
    "duration": 0,
    "start_time": "2024-06-26T00:00:56.997Z"
   },
   {
    "duration": 0,
    "start_time": "2024-06-26T00:00:56.999Z"
   },
   {
    "duration": 0,
    "start_time": "2024-06-26T00:00:57.001Z"
   },
   {
    "duration": 0,
    "start_time": "2024-06-26T00:00:57.004Z"
   },
   {
    "duration": 0,
    "start_time": "2024-06-26T00:00:57.006Z"
   },
   {
    "duration": 0,
    "start_time": "2024-06-26T00:00:57.008Z"
   },
   {
    "duration": 0,
    "start_time": "2024-06-26T00:00:57.011Z"
   },
   {
    "duration": 0,
    "start_time": "2024-06-26T00:00:57.033Z"
   },
   {
    "duration": 53,
    "start_time": "2024-06-26T00:02:05.623Z"
   },
   {
    "duration": 39,
    "start_time": "2024-06-26T00:02:57.736Z"
   },
   {
    "duration": 4,
    "start_time": "2024-06-26T00:04:03.157Z"
   },
   {
    "duration": 44,
    "start_time": "2024-06-26T00:04:04.161Z"
   },
   {
    "duration": 56,
    "start_time": "2024-06-26T00:07:28.428Z"
   },
   {
    "duration": 49,
    "start_time": "2024-06-26T00:07:29.227Z"
   },
   {
    "duration": 9,
    "start_time": "2024-06-26T00:08:27.049Z"
   },
   {
    "duration": 41,
    "start_time": "2024-06-26T00:08:28.313Z"
   },
   {
    "duration": 50,
    "start_time": "2024-06-26T00:08:28.919Z"
   },
   {
    "duration": 34,
    "start_time": "2024-06-26T00:09:22.642Z"
   },
   {
    "duration": 8,
    "start_time": "2024-06-26T00:09:23.212Z"
   },
   {
    "duration": 38,
    "start_time": "2024-06-26T00:09:24.562Z"
   },
   {
    "duration": 6,
    "start_time": "2024-06-26T00:11:37.085Z"
   },
   {
    "duration": 113,
    "start_time": "2024-06-26T00:11:38.429Z"
   },
   {
    "duration": 22,
    "start_time": "2024-06-26T00:12:15.884Z"
   },
   {
    "duration": 47,
    "start_time": "2024-06-26T00:12:18.613Z"
   },
   {
    "duration": 3,
    "start_time": "2024-06-26T00:12:35.220Z"
   },
   {
    "duration": 41,
    "start_time": "2024-06-26T00:12:36.586Z"
   },
   {
    "duration": 38,
    "start_time": "2024-06-26T00:19:16.736Z"
   },
   {
    "duration": 4,
    "start_time": "2024-06-26T00:19:24.655Z"
   },
   {
    "duration": 5,
    "start_time": "2024-06-26T00:19:25.661Z"
   },
   {
    "duration": 4,
    "start_time": "2024-06-26T00:19:27.281Z"
   },
   {
    "duration": 6,
    "start_time": "2024-06-26T00:19:30.125Z"
   },
   {
    "duration": 7,
    "start_time": "2024-06-26T00:19:30.891Z"
   },
   {
    "duration": 41,
    "start_time": "2024-06-26T00:19:31.631Z"
   },
   {
    "duration": 1349,
    "start_time": "2024-06-26T00:19:51.969Z"
   },
   {
    "duration": 433,
    "start_time": "2024-06-26T00:19:53.322Z"
   },
   {
    "duration": 45,
    "start_time": "2024-06-26T00:19:53.758Z"
   },
   {
    "duration": 16,
    "start_time": "2024-06-26T00:19:53.807Z"
   },
   {
    "duration": 26,
    "start_time": "2024-06-26T00:19:53.843Z"
   },
   {
    "duration": 16,
    "start_time": "2024-06-26T00:19:53.871Z"
   },
   {
    "duration": 5,
    "start_time": "2024-06-26T00:19:53.891Z"
   },
   {
    "duration": 6,
    "start_time": "2024-06-26T00:19:53.899Z"
   },
   {
    "duration": 35,
    "start_time": "2024-06-26T00:19:53.908Z"
   },
   {
    "duration": 20,
    "start_time": "2024-06-26T00:19:53.947Z"
   },
   {
    "duration": 8,
    "start_time": "2024-06-26T00:19:53.970Z"
   },
   {
    "duration": 6,
    "start_time": "2024-06-26T00:19:53.981Z"
   },
   {
    "duration": 48,
    "start_time": "2024-06-26T00:19:53.991Z"
   },
   {
    "duration": 14,
    "start_time": "2024-06-26T00:19:54.046Z"
   },
   {
    "duration": 12,
    "start_time": "2024-06-26T00:19:54.063Z"
   },
   {
    "duration": 87,
    "start_time": "2024-06-26T00:19:54.078Z"
   },
   {
    "duration": 57,
    "start_time": "2024-06-26T00:19:54.168Z"
   },
   {
    "duration": 61,
    "start_time": "2024-06-26T00:19:54.238Z"
   },
   {
    "duration": 37,
    "start_time": "2024-06-26T00:19:54.302Z"
   },
   {
    "duration": 5,
    "start_time": "2024-06-26T00:19:54.342Z"
   },
   {
    "duration": 18,
    "start_time": "2024-06-26T00:19:54.353Z"
   },
   {
    "duration": 11,
    "start_time": "2024-06-26T00:19:54.374Z"
   },
   {
    "duration": 64,
    "start_time": "2024-06-26T00:19:54.387Z"
   },
   {
    "duration": 86,
    "start_time": "2024-06-26T00:19:54.454Z"
   },
   {
    "duration": 395,
    "start_time": "2024-06-26T00:19:54.542Z"
   },
   {
    "duration": 126,
    "start_time": "2024-06-26T00:19:54.939Z"
   },
   {
    "duration": 14,
    "start_time": "2024-06-26T00:19:55.068Z"
   },
   {
    "duration": 7,
    "start_time": "2024-06-26T00:19:55.086Z"
   },
   {
    "duration": 50,
    "start_time": "2024-06-26T00:19:55.097Z"
   },
   {
    "duration": 26,
    "start_time": "2024-06-26T00:19:55.149Z"
   },
   {
    "duration": 89,
    "start_time": "2024-06-26T00:19:55.178Z"
   },
   {
    "duration": 92,
    "start_time": "2024-06-26T00:19:55.270Z"
   },
   {
    "duration": 79,
    "start_time": "2024-06-26T00:19:55.365Z"
   },
   {
    "duration": 6,
    "start_time": "2024-06-26T00:19:55.447Z"
   },
   {
    "duration": 7,
    "start_time": "2024-06-26T00:19:55.457Z"
   },
   {
    "duration": 11,
    "start_time": "2024-06-26T00:19:55.466Z"
   },
   {
    "duration": 55,
    "start_time": "2024-06-26T00:19:55.479Z"
   },
   {
    "duration": 3,
    "start_time": "2024-06-26T00:19:55.540Z"
   },
   {
    "duration": 0,
    "start_time": "2024-06-26T00:19:55.548Z"
   },
   {
    "duration": 0,
    "start_time": "2024-06-26T00:19:55.549Z"
   },
   {
    "duration": 0,
    "start_time": "2024-06-26T00:19:55.553Z"
   },
   {
    "duration": 0,
    "start_time": "2024-06-26T00:19:55.555Z"
   },
   {
    "duration": 0,
    "start_time": "2024-06-26T00:19:55.556Z"
   },
   {
    "duration": 0,
    "start_time": "2024-06-26T00:19:55.558Z"
   },
   {
    "duration": 0,
    "start_time": "2024-06-26T00:19:55.560Z"
   },
   {
    "duration": 0,
    "start_time": "2024-06-26T00:19:55.561Z"
   },
   {
    "duration": 0,
    "start_time": "2024-06-26T00:19:55.563Z"
   },
   {
    "duration": 3,
    "start_time": "2024-06-26T00:21:29.091Z"
   },
   {
    "duration": 233,
    "start_time": "2024-06-26T00:21:29.949Z"
   },
   {
    "duration": 9,
    "start_time": "2024-06-26T00:23:25.421Z"
   },
   {
    "duration": 21,
    "start_time": "2024-06-26T00:23:26.161Z"
   },
   {
    "duration": 21,
    "start_time": "2024-06-26T00:23:26.935Z"
   },
   {
    "duration": 11,
    "start_time": "2024-06-26T00:23:36.458Z"
   },
   {
    "duration": 7,
    "start_time": "2024-06-26T00:23:43.068Z"
   },
   {
    "duration": 21,
    "start_time": "2024-06-26T00:23:44.257Z"
   },
   {
    "duration": 14,
    "start_time": "2024-06-26T00:23:44.911Z"
   },
   {
    "duration": 351,
    "start_time": "2024-06-26T00:24:53.604Z"
   },
   {
    "duration": 35,
    "start_time": "2024-06-26T00:25:01.961Z"
   },
   {
    "duration": 41,
    "start_time": "2024-06-26T00:25:18.210Z"
   },
   {
    "duration": 33,
    "start_time": "2024-06-26T00:25:37.689Z"
   },
   {
    "duration": 13,
    "start_time": "2024-06-26T00:25:39.066Z"
   },
   {
    "duration": 15,
    "start_time": "2024-06-26T00:25:47.727Z"
   },
   {
    "duration": 7,
    "start_time": "2024-06-26T00:26:47.252Z"
   },
   {
    "duration": 32,
    "start_time": "2024-06-26T00:27:08.791Z"
   },
   {
    "duration": 14,
    "start_time": "2024-06-26T00:27:09.980Z"
   },
   {
    "duration": 32,
    "start_time": "2024-06-26T00:28:24.361Z"
   },
   {
    "duration": 6,
    "start_time": "2024-06-26T00:28:25.870Z"
   },
   {
    "duration": 43,
    "start_time": "2024-06-26T00:29:12.062Z"
   },
   {
    "duration": 14,
    "start_time": "2024-06-26T00:29:12.953Z"
   },
   {
    "duration": 54,
    "start_time": "2024-06-26T00:30:22.627Z"
   },
   {
    "duration": 33,
    "start_time": "2024-06-26T00:30:31.556Z"
   },
   {
    "duration": 50,
    "start_time": "2024-06-26T00:31:21.541Z"
   },
   {
    "duration": 38,
    "start_time": "2024-06-26T00:31:22.276Z"
   },
   {
    "duration": 42,
    "start_time": "2024-06-26T00:31:50.690Z"
   },
   {
    "duration": 36,
    "start_time": "2024-06-26T00:31:51.843Z"
   },
   {
    "duration": 36,
    "start_time": "2024-06-26T00:32:16.609Z"
   },
   {
    "duration": 15,
    "start_time": "2024-06-26T00:32:17.751Z"
   },
   {
    "duration": 40,
    "start_time": "2024-06-26T00:32:38.355Z"
   },
   {
    "duration": 14,
    "start_time": "2024-06-26T00:32:39.534Z"
   },
   {
    "duration": 5,
    "start_time": "2024-06-26T00:47:26.274Z"
   },
   {
    "duration": 1897,
    "start_time": "2024-06-26T00:47:27.918Z"
   },
   {
    "duration": 8,
    "start_time": "2024-06-26T00:47:47.970Z"
   },
   {
    "duration": 5730,
    "start_time": "2024-06-26T00:48:59.168Z"
   },
   {
    "duration": 8,
    "start_time": "2024-06-26T00:49:12.910Z"
   },
   {
    "duration": 9,
    "start_time": "2024-06-26T00:49:29.900Z"
   },
   {
    "duration": 9,
    "start_time": "2024-06-26T00:49:30.880Z"
   },
   {
    "duration": 208,
    "start_time": "2024-06-26T00:49:38.201Z"
   },
   {
    "duration": 238,
    "start_time": "2024-06-26T01:07:37.380Z"
   },
   {
    "duration": 26,
    "start_time": "2024-06-26T01:07:53.699Z"
   },
   {
    "duration": 225,
    "start_time": "2024-06-26T01:08:03.210Z"
   },
   {
    "duration": 304,
    "start_time": "2024-06-26T01:09:00.386Z"
   },
   {
    "duration": 274,
    "start_time": "2024-06-26T01:11:19.806Z"
   },
   {
    "duration": 5162,
    "start_time": "2024-06-26T22:55:00.107Z"
   },
   {
    "duration": 493,
    "start_time": "2024-06-26T22:55:05.272Z"
   },
   {
    "duration": 50,
    "start_time": "2024-06-26T22:55:05.768Z"
   },
   {
    "duration": 16,
    "start_time": "2024-06-26T22:55:05.822Z"
   },
   {
    "duration": 12,
    "start_time": "2024-06-26T22:55:05.841Z"
   },
   {
    "duration": 47,
    "start_time": "2024-06-26T22:55:05.857Z"
   },
   {
    "duration": 6,
    "start_time": "2024-06-26T22:55:05.908Z"
   },
   {
    "duration": 5,
    "start_time": "2024-06-26T22:55:05.917Z"
   },
   {
    "duration": 7,
    "start_time": "2024-06-26T22:55:05.925Z"
   },
   {
    "duration": 15,
    "start_time": "2024-06-26T22:55:05.949Z"
   },
   {
    "duration": 42,
    "start_time": "2024-06-26T22:55:05.967Z"
   },
   {
    "duration": 7,
    "start_time": "2024-06-26T22:55:06.014Z"
   },
   {
    "duration": 13,
    "start_time": "2024-06-26T22:55:06.025Z"
   },
   {
    "duration": 12,
    "start_time": "2024-06-26T22:55:06.041Z"
   },
   {
    "duration": 61,
    "start_time": "2024-06-26T22:55:06.057Z"
   },
   {
    "duration": 86,
    "start_time": "2024-06-26T22:55:06.121Z"
   },
   {
    "duration": 57,
    "start_time": "2024-06-26T22:55:06.212Z"
   },
   {
    "duration": 89,
    "start_time": "2024-06-26T22:55:06.273Z"
   },
   {
    "duration": 41,
    "start_time": "2024-06-26T22:55:06.365Z"
   },
   {
    "duration": 5,
    "start_time": "2024-06-26T22:55:06.409Z"
   },
   {
    "duration": 18,
    "start_time": "2024-06-26T22:55:06.417Z"
   },
   {
    "duration": 65,
    "start_time": "2024-06-26T22:55:06.438Z"
   },
   {
    "duration": 22,
    "start_time": "2024-06-26T22:55:06.506Z"
   },
   {
    "duration": 22,
    "start_time": "2024-06-26T22:55:06.603Z"
   },
   {
    "duration": 381,
    "start_time": "2024-06-26T22:55:06.628Z"
   },
   {
    "duration": 141,
    "start_time": "2024-06-26T22:55:07.013Z"
   },
   {
    "duration": 17,
    "start_time": "2024-06-26T22:55:07.158Z"
   },
   {
    "duration": 20,
    "start_time": "2024-06-26T22:55:07.184Z"
   },
   {
    "duration": 24,
    "start_time": "2024-06-26T22:55:07.207Z"
   },
   {
    "duration": 72,
    "start_time": "2024-06-26T22:55:07.233Z"
   },
   {
    "duration": 96,
    "start_time": "2024-06-26T22:55:07.310Z"
   },
   {
    "duration": 93,
    "start_time": "2024-06-26T22:55:07.410Z"
   },
   {
    "duration": 13,
    "start_time": "2024-06-26T22:55:07.505Z"
   },
   {
    "duration": 79,
    "start_time": "2024-06-26T22:55:07.521Z"
   },
   {
    "duration": 5,
    "start_time": "2024-06-26T22:55:07.604Z"
   },
   {
    "duration": 5,
    "start_time": "2024-06-26T22:55:07.612Z"
   },
   {
    "duration": 9,
    "start_time": "2024-06-26T22:55:07.619Z"
   },
   {
    "duration": 76,
    "start_time": "2024-06-26T22:55:07.631Z"
   },
   {
    "duration": 18,
    "start_time": "2024-06-26T22:55:07.710Z"
   },
   {
    "duration": 514,
    "start_time": "2024-06-26T22:55:07.801Z"
   },
   {
    "duration": 0,
    "start_time": "2024-06-26T22:55:08.318Z"
   },
   {
    "duration": 0,
    "start_time": "2024-06-26T22:55:08.320Z"
   },
   {
    "duration": 0,
    "start_time": "2024-06-26T22:55:08.322Z"
   },
   {
    "duration": 0,
    "start_time": "2024-06-26T22:55:08.325Z"
   },
   {
    "duration": 0,
    "start_time": "2024-06-26T22:55:08.327Z"
   },
   {
    "duration": 0,
    "start_time": "2024-06-26T22:55:08.329Z"
   },
   {
    "duration": 0,
    "start_time": "2024-06-26T22:55:08.331Z"
   },
   {
    "duration": 0,
    "start_time": "2024-06-26T22:55:08.333Z"
   },
   {
    "duration": 0,
    "start_time": "2024-06-26T22:55:08.336Z"
   },
   {
    "duration": 0,
    "start_time": "2024-06-26T22:55:08.337Z"
   },
   {
    "duration": 5141,
    "start_time": "2024-06-27T02:52:31.531Z"
   },
   {
    "duration": 504,
    "start_time": "2024-06-27T02:52:36.676Z"
   },
   {
    "duration": 55,
    "start_time": "2024-06-27T02:52:37.183Z"
   },
   {
    "duration": 18,
    "start_time": "2024-06-27T02:52:37.242Z"
   },
   {
    "duration": 15,
    "start_time": "2024-06-27T02:52:37.265Z"
   },
   {
    "duration": 47,
    "start_time": "2024-06-27T02:52:37.286Z"
   },
   {
    "duration": 6,
    "start_time": "2024-06-27T02:52:37.336Z"
   },
   {
    "duration": 5,
    "start_time": "2024-06-27T02:52:37.346Z"
   },
   {
    "duration": 5,
    "start_time": "2024-06-27T02:52:37.354Z"
   },
   {
    "duration": 7,
    "start_time": "2024-06-27T02:52:37.363Z"
   },
   {
    "duration": 59,
    "start_time": "2024-06-27T02:52:37.374Z"
   },
   {
    "duration": 7,
    "start_time": "2024-06-27T02:52:37.435Z"
   },
   {
    "duration": 12,
    "start_time": "2024-06-27T02:52:37.446Z"
   },
   {
    "duration": 12,
    "start_time": "2024-06-27T02:52:37.466Z"
   },
   {
    "duration": 53,
    "start_time": "2024-06-27T02:52:37.481Z"
   },
   {
    "duration": 59,
    "start_time": "2024-06-27T02:52:37.537Z"
   },
   {
    "duration": 79,
    "start_time": "2024-06-27T02:52:37.599Z"
   },
   {
    "duration": 74,
    "start_time": "2024-06-27T02:52:37.681Z"
   },
   {
    "duration": 20,
    "start_time": "2024-06-27T02:52:37.758Z"
   },
   {
    "duration": 4,
    "start_time": "2024-06-27T02:52:37.781Z"
   },
   {
    "duration": 51,
    "start_time": "2024-06-27T02:52:37.789Z"
   },
   {
    "duration": 15,
    "start_time": "2024-06-27T02:52:37.843Z"
   },
   {
    "duration": 77,
    "start_time": "2024-06-27T02:52:37.861Z"
   },
   {
    "duration": 16,
    "start_time": "2024-06-27T02:52:37.941Z"
   },
   {
    "duration": 310,
    "start_time": "2024-06-27T02:52:38.034Z"
   },
   {
    "duration": 143,
    "start_time": "2024-06-27T02:52:38.347Z"
   },
   {
    "duration": 16,
    "start_time": "2024-06-27T02:52:38.493Z"
   },
   {
    "duration": 8,
    "start_time": "2024-06-27T02:52:38.533Z"
   },
   {
    "duration": 24,
    "start_time": "2024-06-27T02:52:38.544Z"
   },
   {
    "duration": 66,
    "start_time": "2024-06-27T02:52:38.571Z"
   },
   {
    "duration": 99,
    "start_time": "2024-06-27T02:52:38.639Z"
   },
   {
    "duration": 26,
    "start_time": "2024-06-27T02:52:38.741Z"
   },
   {
    "duration": 72,
    "start_time": "2024-06-27T02:52:38.770Z"
   },
   {
    "duration": 4,
    "start_time": "2024-06-27T02:52:38.845Z"
   },
   {
    "duration": 81,
    "start_time": "2024-06-27T02:52:38.852Z"
   },
   {
    "duration": 4,
    "start_time": "2024-06-27T02:52:38.936Z"
   },
   {
    "duration": 8,
    "start_time": "2024-06-27T02:52:38.944Z"
   },
   {
    "duration": 80,
    "start_time": "2024-06-27T02:52:38.955Z"
   },
   {
    "duration": 16,
    "start_time": "2024-06-27T02:52:39.037Z"
   },
   {
    "duration": 105,
    "start_time": "2024-06-27T02:52:39.056Z"
   },
   {
    "duration": 72,
    "start_time": "2024-06-27T02:52:39.172Z"
   },
   {
    "duration": 110,
    "start_time": "2024-06-27T02:52:39.247Z"
   },
   {
    "duration": 75,
    "start_time": "2024-06-27T02:52:39.359Z"
   },
   {
    "duration": 9,
    "start_time": "2024-06-27T02:52:39.437Z"
   },
   {
    "duration": 10,
    "start_time": "2024-06-27T02:52:39.452Z"
   },
   {
    "duration": 5313,
    "start_time": "2024-06-27T02:52:39.534Z"
   },
   {
    "duration": 9,
    "start_time": "2024-06-27T02:52:44.851Z"
   },
   {
    "duration": 8,
    "start_time": "2024-06-27T02:52:44.864Z"
   },
   {
    "duration": 9,
    "start_time": "2024-06-27T02:52:44.876Z"
   },
   {
    "duration": 326,
    "start_time": "2024-06-27T02:52:44.889Z"
   },
   {
    "duration": 38,
    "start_time": "2024-06-27T02:53:05.574Z"
   },
   {
    "duration": 823,
    "start_time": "2024-06-27T02:53:22.350Z"
   },
   {
    "duration": 40,
    "start_time": "2024-06-27T02:54:11.431Z"
   },
   {
    "duration": 35,
    "start_time": "2024-06-27T02:54:36.523Z"
   },
   {
    "duration": 48,
    "start_time": "2024-06-27T02:54:56.341Z"
   },
   {
    "duration": 15,
    "start_time": "2024-06-27T02:54:59.649Z"
   },
   {
    "duration": 35,
    "start_time": "2024-06-27T02:55:02.727Z"
   },
   {
    "duration": 14,
    "start_time": "2024-06-27T02:55:04.597Z"
   },
   {
    "duration": 13,
    "start_time": "2024-06-27T02:56:31.308Z"
   },
   {
    "duration": 33,
    "start_time": "2024-06-27T02:56:32.082Z"
   },
   {
    "duration": 13,
    "start_time": "2024-06-27T02:56:33.016Z"
   },
   {
    "duration": 4,
    "start_time": "2024-06-27T02:56:36.153Z"
   },
   {
    "duration": 4,
    "start_time": "2024-06-27T02:56:36.605Z"
   },
   {
    "duration": 5435,
    "start_time": "2024-06-27T02:56:36.939Z"
   },
   {
    "duration": 9,
    "start_time": "2024-06-27T02:56:42.377Z"
   },
   {
    "duration": 9,
    "start_time": "2024-06-27T02:56:42.389Z"
   },
   {
    "duration": 10,
    "start_time": "2024-06-27T02:56:42.433Z"
   },
   {
    "duration": 284,
    "start_time": "2024-06-27T02:56:42.446Z"
   },
   {
    "duration": 34,
    "start_time": "2024-06-27T02:57:38.682Z"
   },
   {
    "duration": 37,
    "start_time": "2024-06-27T02:57:45.788Z"
   },
   {
    "duration": 15,
    "start_time": "2024-06-27T02:57:52.442Z"
   },
   {
    "duration": 48,
    "start_time": "2024-06-27T02:58:04.892Z"
   },
   {
    "duration": 43,
    "start_time": "2024-06-27T02:58:10.312Z"
   },
   {
    "duration": 1508,
    "start_time": "2024-06-27T15:28:00.234Z"
   },
   {
    "duration": 6902,
    "start_time": "2024-06-27T15:28:05.146Z"
   },
   {
    "duration": 2982,
    "start_time": "2024-06-27T15:28:12.056Z"
   },
   {
    "duration": 291,
    "start_time": "2024-06-27T15:28:15.045Z"
   },
   {
    "duration": 94,
    "start_time": "2024-06-27T15:28:15.341Z"
   },
   {
    "duration": 28,
    "start_time": "2024-06-27T15:28:15.441Z"
   },
   {
    "duration": 13,
    "start_time": "2024-06-27T15:28:15.533Z"
   },
   {
    "duration": 6,
    "start_time": "2024-06-27T15:28:15.550Z"
   },
   {
    "duration": 86,
    "start_time": "2024-06-27T15:28:15.560Z"
   },
   {
    "duration": 100,
    "start_time": "2024-06-27T15:28:15.657Z"
   },
   {
    "duration": 24,
    "start_time": "2024-06-27T15:28:15.832Z"
   },
   {
    "duration": 80,
    "start_time": "2024-06-27T15:28:15.860Z"
   },
   {
    "duration": 15,
    "start_time": "2024-06-27T15:28:15.943Z"
   },
   {
    "duration": 99,
    "start_time": "2024-06-27T15:28:15.961Z"
   },
   {
    "duration": 95,
    "start_time": "2024-06-27T15:28:16.137Z"
   },
   {
    "duration": 94,
    "start_time": "2024-06-27T15:28:16.240Z"
   },
   {
    "duration": 424,
    "start_time": "2024-06-27T15:28:16.338Z"
   },
   {
    "duration": 378,
    "start_time": "2024-06-27T15:28:16.764Z"
   },
   {
    "duration": 305,
    "start_time": "2024-06-27T15:28:17.153Z"
   },
   {
    "duration": 111,
    "start_time": "2024-06-27T15:28:17.541Z"
   },
   {
    "duration": 15,
    "start_time": "2024-06-27T15:28:17.736Z"
   },
   {
    "duration": 181,
    "start_time": "2024-06-27T15:28:17.755Z"
   },
   {
    "duration": 180,
    "start_time": "2024-06-27T15:28:17.964Z"
   },
   {
    "duration": 213,
    "start_time": "2024-06-27T15:28:18.146Z"
   },
   {
    "duration": 208,
    "start_time": "2024-06-27T15:28:18.447Z"
   },
   {
    "duration": 2592,
    "start_time": "2024-06-27T15:28:18.665Z"
   },
   {
    "duration": 786,
    "start_time": "2024-06-27T15:28:21.262Z"
   },
   {
    "duration": 90,
    "start_time": "2024-06-27T15:28:22.053Z"
   },
   {
    "duration": 88,
    "start_time": "2024-06-27T15:28:22.148Z"
   },
   {
    "duration": 206,
    "start_time": "2024-06-27T15:28:22.239Z"
   },
   {
    "duration": 103,
    "start_time": "2024-06-27T15:28:22.448Z"
   },
   {
    "duration": 206,
    "start_time": "2024-06-27T15:28:22.634Z"
   },
   {
    "duration": 299,
    "start_time": "2024-06-27T15:28:22.844Z"
   },
   {
    "duration": 95,
    "start_time": "2024-06-27T15:28:23.149Z"
   },
   {
    "duration": 84,
    "start_time": "2024-06-27T15:28:23.253Z"
   },
   {
    "duration": 94,
    "start_time": "2024-06-27T15:28:23.346Z"
   },
   {
    "duration": 95,
    "start_time": "2024-06-27T15:28:23.448Z"
   },
   {
    "duration": 91,
    "start_time": "2024-06-27T15:28:23.546Z"
   },
   {
    "duration": 410,
    "start_time": "2024-06-27T15:28:23.644Z"
   },
   {
    "duration": 187,
    "start_time": "2024-06-27T15:28:24.146Z"
   },
   {
    "duration": 204,
    "start_time": "2024-06-27T15:28:24.341Z"
   },
   {
    "duration": 102,
    "start_time": "2024-06-27T15:28:24.634Z"
   },
   {
    "duration": 298,
    "start_time": "2024-06-27T15:28:24.744Z"
   },
   {
    "duration": 21,
    "start_time": "2024-06-27T15:28:25.132Z"
   },
   {
    "duration": 76,
    "start_time": "2024-06-27T15:28:25.158Z"
   },
   {
    "duration": 12,
    "start_time": "2024-06-27T15:28:25.242Z"
   },
   {
    "duration": 21796,
    "start_time": "2024-06-27T15:28:25.338Z"
   },
   {
    "duration": 514,
    "start_time": "2024-06-27T15:28:47.140Z"
   },
   {
    "duration": 0,
    "start_time": "2024-06-27T15:28:47.737Z"
   },
   {
    "duration": 0,
    "start_time": "2024-06-27T15:28:47.743Z"
   },
   {
    "duration": 0,
    "start_time": "2024-06-27T15:28:47.748Z"
   },
   {
    "duration": 0,
    "start_time": "2024-06-27T15:28:47.750Z"
   },
   {
    "duration": 8,
    "start_time": "2024-06-27T15:53:16.659Z"
   },
   {
    "duration": 10,
    "start_time": "2024-06-27T15:53:16.985Z"
   },
   {
    "duration": 9,
    "start_time": "2024-06-27T15:53:17.493Z"
   },
   {
    "duration": 27,
    "start_time": "2024-06-27T15:53:30.703Z"
   },
   {
    "duration": 265,
    "start_time": "2024-06-27T15:55:07.306Z"
   },
   {
    "duration": 5518,
    "start_time": "2024-06-27T15:56:07.245Z"
   },
   {
    "duration": 17,
    "start_time": "2024-06-27T15:57:32.531Z"
   },
   {
    "duration": 16,
    "start_time": "2024-06-27T15:57:38.985Z"
   },
   {
    "duration": 35,
    "start_time": "2024-06-27T15:58:23.280Z"
   },
   {
    "duration": 17,
    "start_time": "2024-06-27T15:58:24.958Z"
   },
   {
    "duration": 3,
    "start_time": "2024-06-27T15:58:29.414Z"
   },
   {
    "duration": 4,
    "start_time": "2024-06-27T15:58:29.724Z"
   },
   {
    "duration": 5296,
    "start_time": "2024-06-27T15:58:30.316Z"
   },
   {
    "duration": 18,
    "start_time": "2024-06-27T15:58:35.615Z"
   },
   {
    "duration": 8,
    "start_time": "2024-06-27T15:58:35.636Z"
   },
   {
    "duration": 8,
    "start_time": "2024-06-27T15:58:35.648Z"
   },
   {
    "duration": 36,
    "start_time": "2024-06-27T15:58:47.099Z"
   },
   {
    "duration": 15,
    "start_time": "2024-06-27T15:58:47.675Z"
   },
   {
    "duration": 3,
    "start_time": "2024-06-27T15:58:48.095Z"
   },
   {
    "duration": 5,
    "start_time": "2024-06-27T15:58:48.398Z"
   },
   {
    "duration": 5316,
    "start_time": "2024-06-27T15:58:48.576Z"
   },
   {
    "duration": 8,
    "start_time": "2024-06-27T15:58:53.897Z"
   },
   {
    "duration": 24,
    "start_time": "2024-06-27T15:58:53.909Z"
   },
   {
    "duration": 10,
    "start_time": "2024-06-27T15:58:53.938Z"
   },
   {
    "duration": 341,
    "start_time": "2024-06-28T00:36:40.631Z"
   },
   {
    "duration": 5563,
    "start_time": "2024-06-28T00:36:47.701Z"
   },
   {
    "duration": 954,
    "start_time": "2024-06-28T00:36:53.268Z"
   },
   {
    "duration": 52,
    "start_time": "2024-06-28T00:36:54.231Z"
   },
   {
    "duration": 55,
    "start_time": "2024-06-28T00:36:54.287Z"
   },
   {
    "duration": 14,
    "start_time": "2024-06-28T00:36:54.344Z"
   },
   {
    "duration": 13,
    "start_time": "2024-06-28T00:36:54.361Z"
   },
   {
    "duration": 59,
    "start_time": "2024-06-28T00:36:54.377Z"
   },
   {
    "duration": 5,
    "start_time": "2024-06-28T00:36:54.439Z"
   },
   {
    "duration": 5,
    "start_time": "2024-06-28T00:36:54.448Z"
   },
   {
    "duration": 7,
    "start_time": "2024-06-28T00:36:54.460Z"
   },
   {
    "duration": 63,
    "start_time": "2024-06-28T00:36:54.469Z"
   },
   {
    "duration": 13,
    "start_time": "2024-06-28T00:36:54.538Z"
   },
   {
    "duration": 25,
    "start_time": "2024-06-28T00:36:54.555Z"
   },
   {
    "duration": 15,
    "start_time": "2024-06-28T00:36:54.630Z"
   },
   {
    "duration": 16,
    "start_time": "2024-06-28T00:36:54.649Z"
   },
   {
    "duration": 99,
    "start_time": "2024-06-28T00:36:54.669Z"
   },
   {
    "duration": 71,
    "start_time": "2024-06-28T00:36:54.771Z"
   },
   {
    "duration": 62,
    "start_time": "2024-06-28T00:36:54.845Z"
   },
   {
    "duration": 39,
    "start_time": "2024-06-28T00:36:54.910Z"
   },
   {
    "duration": 5,
    "start_time": "2024-06-28T00:36:54.952Z"
   },
   {
    "duration": 20,
    "start_time": "2024-06-28T00:36:54.960Z"
   },
   {
    "duration": 56,
    "start_time": "2024-06-28T00:36:54.983Z"
   },
   {
    "duration": 99,
    "start_time": "2024-06-28T00:36:55.041Z"
   },
   {
    "duration": 30,
    "start_time": "2024-06-28T00:36:55.145Z"
   },
   {
    "duration": 470,
    "start_time": "2024-06-28T00:36:55.178Z"
   },
   {
    "duration": 176,
    "start_time": "2024-06-28T00:36:55.652Z"
   },
   {
    "duration": 21,
    "start_time": "2024-06-28T00:36:55.834Z"
   },
   {
    "duration": 14,
    "start_time": "2024-06-28T00:36:55.874Z"
   },
   {
    "duration": 49,
    "start_time": "2024-06-28T00:36:55.892Z"
   },
   {
    "duration": 33,
    "start_time": "2024-06-28T00:36:55.948Z"
   },
   {
    "duration": 31,
    "start_time": "2024-06-28T00:36:56.032Z"
   },
   {
    "duration": 39,
    "start_time": "2024-06-28T00:36:56.131Z"
   },
   {
    "duration": 40,
    "start_time": "2024-06-28T00:36:56.230Z"
   },
   {
    "duration": 6,
    "start_time": "2024-06-28T00:36:56.334Z"
   },
   {
    "duration": 6,
    "start_time": "2024-06-28T00:36:56.345Z"
   },
   {
    "duration": 5,
    "start_time": "2024-06-28T00:36:56.355Z"
   },
   {
    "duration": 9,
    "start_time": "2024-06-28T00:36:56.364Z"
   },
   {
    "duration": 89,
    "start_time": "2024-06-28T00:36:56.377Z"
   },
   {
    "duration": 63,
    "start_time": "2024-06-28T00:36:56.473Z"
   },
   {
    "duration": 103,
    "start_time": "2024-06-28T00:36:56.539Z"
   },
   {
    "duration": 86,
    "start_time": "2024-06-28T00:36:56.644Z"
   },
   {
    "duration": 117,
    "start_time": "2024-06-28T00:36:56.733Z"
   },
   {
    "duration": 86,
    "start_time": "2024-06-28T00:36:56.853Z"
   },
   {
    "duration": 3,
    "start_time": "2024-06-28T00:36:56.943Z"
   },
   {
    "duration": 7,
    "start_time": "2024-06-28T00:36:56.949Z"
   },
   {
    "duration": 5690,
    "start_time": "2024-06-28T00:36:56.959Z"
   },
   {
    "duration": 9,
    "start_time": "2024-06-28T00:37:02.652Z"
   },
   {
    "duration": 11,
    "start_time": "2024-06-28T00:37:02.665Z"
   },
   {
    "duration": 11,
    "start_time": "2024-06-28T00:37:02.679Z"
   },
   {
    "duration": 310,
    "start_time": "2024-06-28T00:37:02.732Z"
   },
   {
    "duration": 315,
    "start_time": "2024-07-01T20:19:49.173Z"
   },
   {
    "duration": 5100,
    "start_time": "2024-07-01T20:19:57.255Z"
   },
   {
    "duration": 533,
    "start_time": "2024-07-01T20:20:02.370Z"
   },
   {
    "duration": 55,
    "start_time": "2024-07-01T20:20:02.906Z"
   },
   {
    "duration": 17,
    "start_time": "2024-07-01T20:20:02.968Z"
   },
   {
    "duration": 13,
    "start_time": "2024-07-01T20:20:02.988Z"
   },
   {
    "duration": 41,
    "start_time": "2024-07-01T20:20:03.004Z"
   },
   {
    "duration": 7,
    "start_time": "2024-07-01T20:20:03.047Z"
   },
   {
    "duration": 9,
    "start_time": "2024-07-01T20:20:03.056Z"
   },
   {
    "duration": 7,
    "start_time": "2024-07-01T20:20:03.068Z"
   },
   {
    "duration": 9,
    "start_time": "2024-07-01T20:20:03.081Z"
   },
   {
    "duration": 8,
    "start_time": "2024-07-01T20:20:03.093Z"
   },
   {
    "duration": 33,
    "start_time": "2024-07-01T20:20:03.105Z"
   },
   {
    "duration": 16,
    "start_time": "2024-07-01T20:20:03.141Z"
   },
   {
    "duration": 17,
    "start_time": "2024-07-01T20:20:03.162Z"
   },
   {
    "duration": 13,
    "start_time": "2024-07-01T20:20:03.183Z"
   },
   {
    "duration": 92,
    "start_time": "2024-07-01T20:20:03.199Z"
   },
   {
    "duration": 80,
    "start_time": "2024-07-01T20:20:03.294Z"
   },
   {
    "duration": 68,
    "start_time": "2024-07-01T20:20:03.377Z"
   },
   {
    "duration": 23,
    "start_time": "2024-07-01T20:20:03.448Z"
   },
   {
    "duration": 5,
    "start_time": "2024-07-01T20:20:03.474Z"
   },
   {
    "duration": 17,
    "start_time": "2024-07-01T20:20:03.482Z"
   },
   {
    "duration": 45,
    "start_time": "2024-07-01T20:20:03.502Z"
   },
   {
    "duration": 28,
    "start_time": "2024-07-01T20:20:03.549Z"
   },
   {
    "duration": 75,
    "start_time": "2024-07-01T20:20:03.579Z"
   },
   {
    "duration": 394,
    "start_time": "2024-07-01T20:20:03.657Z"
   },
   {
    "duration": 119,
    "start_time": "2024-07-01T20:20:04.062Z"
   },
   {
    "duration": 14,
    "start_time": "2024-07-01T20:20:04.184Z"
   },
   {
    "duration": 7,
    "start_time": "2024-07-01T20:20:04.208Z"
   },
   {
    "duration": 24,
    "start_time": "2024-07-01T20:20:04.233Z"
   },
   {
    "duration": 30,
    "start_time": "2024-07-01T20:20:04.261Z"
   },
   {
    "duration": 65,
    "start_time": "2024-07-01T20:20:04.293Z"
   },
   {
    "duration": 88,
    "start_time": "2024-07-01T20:20:04.360Z"
   },
   {
    "duration": 22,
    "start_time": "2024-07-01T20:20:04.450Z"
   },
   {
    "duration": 64,
    "start_time": "2024-07-01T20:20:04.475Z"
   },
   {
    "duration": 5,
    "start_time": "2024-07-01T20:20:04.544Z"
   },
   {
    "duration": 4,
    "start_time": "2024-07-01T20:20:04.551Z"
   },
   {
    "duration": 9,
    "start_time": "2024-07-01T20:20:04.557Z"
   },
   {
    "duration": 91,
    "start_time": "2024-07-01T20:20:04.568Z"
   },
   {
    "duration": 75,
    "start_time": "2024-07-01T20:20:04.664Z"
   },
   {
    "duration": 102,
    "start_time": "2024-07-01T20:20:04.744Z"
   },
   {
    "duration": 27,
    "start_time": "2024-07-01T20:20:04.849Z"
   },
   {
    "duration": 95,
    "start_time": "2024-07-01T20:20:04.883Z"
   },
   {
    "duration": 77,
    "start_time": "2024-07-01T20:20:04.982Z"
   },
   {
    "duration": 4,
    "start_time": "2024-07-01T20:20:05.066Z"
   },
   {
    "duration": 61,
    "start_time": "2024-07-01T20:20:05.073Z"
   },
   {
    "duration": 5172,
    "start_time": "2024-07-01T20:20:05.137Z"
   },
   {
    "duration": 8,
    "start_time": "2024-07-01T20:20:10.312Z"
   },
   {
    "duration": 19,
    "start_time": "2024-07-01T20:20:10.337Z"
   },
   {
    "duration": 9,
    "start_time": "2024-07-01T20:20:10.363Z"
   },
   {
    "duration": 281,
    "start_time": "2024-07-01T20:20:10.375Z"
   },
   {
    "duration": 50,
    "start_time": "2024-07-01T20:20:15.605Z"
   },
   {
    "duration": 13,
    "start_time": "2024-07-01T20:20:20.025Z"
   },
   {
    "duration": 4,
    "start_time": "2024-07-01T20:20:42.284Z"
   },
   {
    "duration": 4,
    "start_time": "2024-07-01T20:20:44.062Z"
   },
   {
    "duration": 5205,
    "start_time": "2024-07-01T20:20:45.224Z"
   },
   {
    "duration": 16,
    "start_time": "2024-07-01T20:20:50.438Z"
   },
   {
    "duration": 10,
    "start_time": "2024-07-01T20:20:50.459Z"
   },
   {
    "duration": 9,
    "start_time": "2024-07-01T20:20:50.472Z"
   },
   {
    "duration": 269,
    "start_time": "2024-07-01T20:20:52.712Z"
   },
   {
    "duration": 8,
    "start_time": "2024-07-01T20:28:11.556Z"
   }
  ],
  "kernelspec": {
   "display_name": "Python 3 (ipykernel)",
   "language": "python",
   "name": "python3"
  },
  "language_info": {
   "codemirror_mode": {
    "name": "ipython",
    "version": 3
   },
   "file_extension": ".py",
   "mimetype": "text/x-python",
   "name": "python",
   "nbconvert_exporter": "python",
   "pygments_lexer": "ipython3",
   "version": "3.9.19"
  },
  "toc": {
   "base_numbering": 1,
   "nav_menu": {},
   "number_sections": true,
   "sideBar": true,
   "skip_h1_title": true,
   "title_cell": "Table of Contents",
   "title_sidebar": "Contents",
   "toc_cell": false,
   "toc_position": {
    "height": "calc(100% - 180px)",
    "left": "10px",
    "top": "150px",
    "width": "452.306px"
   },
   "toc_section_display": true,
   "toc_window_display": false
  },
  "widgets": {
   "application/vnd.jupyter.widget-state+json": {
    "state": {},
    "version_major": 2,
    "version_minor": 0
   }
  }
 },
 "nbformat": 4,
 "nbformat_minor": 2
}
