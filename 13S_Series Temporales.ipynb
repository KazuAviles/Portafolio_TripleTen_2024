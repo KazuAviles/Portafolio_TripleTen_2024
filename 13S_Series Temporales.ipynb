{
 "cells": [
  {
   "cell_type": "markdown",
   "metadata": {},
   "source": [
    "# Descripción del proyecto\n",
    "\n",
    "La compañía Sweet Lift Taxi ha recopilado datos históricos sobre pedidos de taxis en los aeropuertos. Para atraer a más conductores durante las horas pico, necesitamos predecir la cantidad de pedidos de taxis para la próxima hora. Construye un modelo para dicha predicción.\n",
    "\n",
    "La métrica RECM en el conjunto de prueba no debe ser superior a 48.\n",
    "\n",
    "- Instrucciones del proyecto.\n",
    "\n",
    "1. Descarga los datos y haz el remuestreo por una hora.\n",
    "2. Analiza los datos\n",
    "3. Entrena diferentes modelos con diferentes hiperparámetros. La muestra de prueba debe ser el 10% del conjunto de datos inicial.\n",
    "4. Prueba los datos usando la muestra de prueba y proporciona una conclusión.\n",
    "\n",
    "- Descripción de los datos\n",
    "\n",
    "Los datos se almacenan en el archivo `taxi.csv`. \t\n",
    "El número de pedidos está en la columna `num_orders`."
   ]
  },
  {
   "cell_type": "markdown",
   "metadata": {},
   "source": [
    "## Preparación"
   ]
  },
  {
   "cell_type": "markdown",
   "metadata": {},
   "source": [
    "### Inicialización Cargar librerias"
   ]
  },
  {
   "cell_type": "code",
   "execution_count": 1,
   "metadata": {},
   "outputs": [],
   "source": [
    "import pandas as pd\n",
    "import sklearn\n",
    "import numpy as np\n",
    "\n",
    "from sklearn.tree import DecisionTreeRegressor\n",
    "from sklearn.metrics import mean_squared_error\n",
    "\n",
    "from sklearn.model_selection import train_test_split\n",
    "import seaborn as sns\n",
    "\n",
    "from sklearn.impute import SimpleImputer\n",
    "from sklearn.preprocessing import OneHotEncoder\n",
    "from sklearn.preprocessing import OrdinalEncoder\n",
    "\n",
    "import catboost as cb\n",
    "from sklearn.linear_model import LinearRegression\n",
    "from sklearn.ensemble import RandomForestRegressor\n",
    "from sklearn.ensemble import RandomForestClassifier\n",
    "\n",
    "from sklearn.metrics import f1_score\n",
    "from sklearn.metrics import mean_squared_error, r2_score\n",
    "from sklearn.metrics import accuracy_score, roc_auc_score, roc_curve, auc\n",
    "\n",
    "import matplotlib.pyplot as plt\n",
    "from statsmodels.tsa.seasonal import seasonal_decompose"
   ]
  },
  {
   "cell_type": "code",
   "execution_count": 2,
   "metadata": {},
   "outputs": [],
   "source": [
    "# Cargamos datasets\n",
    "vehicles = pd.read_csv('/datasets/taxi.csv')"
   ]
  },
  {
   "cell_type": "code",
   "execution_count": 3,
   "metadata": {},
   "outputs": [],
   "source": [
    "# Renombramos las columnas para que el código se vea más coherente con su estilo snake_case\n",
    "vehicles = vehicles.rename(columns={\n",
    "    'datetime': 'date_time'\n",
    "})\n",
    "\n",
    "# actualizar indice\n",
    "vehicles.reset_index(drop=True, inplace=True)"
   ]
  },
  {
   "cell_type": "code",
   "execution_count": 4,
   "metadata": {},
   "outputs": [
    {
     "name": "stdout",
     "output_type": "stream",
     "text": [
      "<class 'pandas.core.frame.DataFrame'>\n",
      "RangeIndex: 26496 entries, 0 to 26495\n",
      "Data columns (total 2 columns):\n",
      " #   Column      Non-Null Count  Dtype \n",
      "---  ------      --------------  ----- \n",
      " 0   date_time   26496 non-null  object\n",
      " 1   num_orders  26496 non-null  int64 \n",
      "dtypes: int64(1), object(1)\n",
      "memory usage: 414.1+ KB\n"
     ]
    }
   ],
   "source": [
    "vehicles.info()"
   ]
  },
  {
   "cell_type": "code",
   "execution_count": 5,
   "metadata": {},
   "outputs": [
    {
     "data": {
      "text/html": [
       "<div>\n",
       "<style scoped>\n",
       "    .dataframe tbody tr th:only-of-type {\n",
       "        vertical-align: middle;\n",
       "    }\n",
       "\n",
       "    .dataframe tbody tr th {\n",
       "        vertical-align: top;\n",
       "    }\n",
       "\n",
       "    .dataframe thead th {\n",
       "        text-align: right;\n",
       "    }\n",
       "</style>\n",
       "<table border=\"1\" class=\"dataframe\">\n",
       "  <thead>\n",
       "    <tr style=\"text-align: right;\">\n",
       "      <th></th>\n",
       "      <th>date_time</th>\n",
       "      <th>num_orders</th>\n",
       "    </tr>\n",
       "  </thead>\n",
       "  <tbody>\n",
       "    <tr>\n",
       "      <th>0</th>\n",
       "      <td>2018-03-01 00:00:00</td>\n",
       "      <td>9</td>\n",
       "    </tr>\n",
       "    <tr>\n",
       "      <th>1</th>\n",
       "      <td>2018-03-01 00:10:00</td>\n",
       "      <td>14</td>\n",
       "    </tr>\n",
       "    <tr>\n",
       "      <th>2</th>\n",
       "      <td>2018-03-01 00:20:00</td>\n",
       "      <td>28</td>\n",
       "    </tr>\n",
       "    <tr>\n",
       "      <th>3</th>\n",
       "      <td>2018-03-01 00:30:00</td>\n",
       "      <td>20</td>\n",
       "    </tr>\n",
       "    <tr>\n",
       "      <th>4</th>\n",
       "      <td>2018-03-01 00:40:00</td>\n",
       "      <td>32</td>\n",
       "    </tr>\n",
       "  </tbody>\n",
       "</table>\n",
       "</div>"
      ],
      "text/plain": [
       "             date_time  num_orders\n",
       "0  2018-03-01 00:00:00           9\n",
       "1  2018-03-01 00:10:00          14\n",
       "2  2018-03-01 00:20:00          28\n",
       "3  2018-03-01 00:30:00          20\n",
       "4  2018-03-01 00:40:00          32"
      ]
     },
     "execution_count": 5,
     "metadata": {},
     "output_type": "execute_result"
    }
   ],
   "source": [
    "vehicles.head()"
   ]
  },
  {
   "cell_type": "code",
   "execution_count": 6,
   "metadata": {},
   "outputs": [
    {
     "data": {
      "text/plain": [
       "(26496, 2)"
      ]
     },
     "execution_count": 6,
     "metadata": {},
     "output_type": "execute_result"
    }
   ],
   "source": [
    "vehicles.shape"
   ]
  },
  {
   "cell_type": "code",
   "execution_count": 7,
   "metadata": {},
   "outputs": [
    {
     "data": {
      "text/plain": [
       "date_time     0\n",
       "num_orders    0\n",
       "dtype: int64"
      ]
     },
     "execution_count": 7,
     "metadata": {},
     "output_type": "execute_result"
    }
   ],
   "source": [
    "# Verifica si hay valores nulos\n",
    "vehicles.isnull().sum()"
   ]
  },
  {
   "cell_type": "code",
   "execution_count": 8,
   "metadata": {},
   "outputs": [
    {
     "data": {
      "text/plain": [
       "Index(['date_time', 'num_orders'], dtype='object')"
      ]
     },
     "execution_count": 8,
     "metadata": {},
     "output_type": "execute_result"
    }
   ],
   "source": [
    "# Verificamos que las columnas \n",
    "vehicles.columns"
   ]
  },
  {
   "cell_type": "code",
   "execution_count": 9,
   "metadata": {},
   "outputs": [
    {
     "data": {
      "text/plain": [
       "date_time     object\n",
       "num_orders     int64\n",
       "dtype: object"
      ]
     },
     "execution_count": 9,
     "metadata": {},
     "output_type": "execute_result"
    }
   ],
   "source": [
    "# Verificamos los tipos de datos\n",
    "vehicles.dtypes"
   ]
  },
  {
   "cell_type": "code",
   "execution_count": 10,
   "metadata": {},
   "outputs": [],
   "source": [
    "# Verificamos que la columna num_orders sea del tipo objeto \"float\"\n",
    "vehicles['num_orders'] = vehicles['num_orders'].astype(float)"
   ]
  },
  {
   "cell_type": "code",
   "execution_count": 11,
   "metadata": {},
   "outputs": [],
   "source": [
    "# Verificamos que la columna de tiempo sea de tipo datetime\n",
    "vehicles['date_time'] = pd.to_datetime(vehicles['date_time'])"
   ]
  },
  {
   "cell_type": "code",
   "execution_count": 12,
   "metadata": {},
   "outputs": [
    {
     "data": {
      "text/plain": [
       "date_time     datetime64[ns]\n",
       "num_orders           float64\n",
       "dtype: object"
      ]
     },
     "execution_count": 12,
     "metadata": {},
     "output_type": "execute_result"
    }
   ],
   "source": [
    "# Verificamos los tipos de datos cambiados sea de tipo datatime\n",
    "vehicles.dtypes"
   ]
  },
  {
   "cell_type": "code",
   "execution_count": 13,
   "metadata": {},
   "outputs": [
    {
     "data": {
      "text/plain": [
       "0"
      ]
     },
     "execution_count": 13,
     "metadata": {},
     "output_type": "execute_result"
    }
   ],
   "source": [
    "# Contar duplicados explícitos\n",
    "vehicles.duplicated().sum()"
   ]
  },
  {
   "cell_type": "markdown",
   "metadata": {},
   "source": [
    "## Analisis"
   ]
  },
  {
   "cell_type": "markdown",
   "metadata": {},
   "source": [
    "### Realiza el remuestreo por hora (60min)"
   ]
  },
  {
   "cell_type": "code",
   "execution_count": 14,
   "metadata": {},
   "outputs": [],
   "source": [
    "# Utilizamos método resample para agrupar los datos por hora y calcular la media de las otras columnas.\n",
    "# la columna de tiempo sea el índice del DataFrame:\n",
    "\n",
    "date_time_resampled = vehicles.set_index('date_time').resample('1H').mean()"
   ]
  },
  {
   "cell_type": "code",
   "execution_count": 15,
   "metadata": {},
   "outputs": [
    {
     "data": {
      "text/html": [
       "<div>\n",
       "<style scoped>\n",
       "    .dataframe tbody tr th:only-of-type {\n",
       "        vertical-align: middle;\n",
       "    }\n",
       "\n",
       "    .dataframe tbody tr th {\n",
       "        vertical-align: top;\n",
       "    }\n",
       "\n",
       "    .dataframe thead th {\n",
       "        text-align: right;\n",
       "    }\n",
       "</style>\n",
       "<table border=\"1\" class=\"dataframe\">\n",
       "  <thead>\n",
       "    <tr style=\"text-align: right;\">\n",
       "      <th></th>\n",
       "      <th>num_orders</th>\n",
       "    </tr>\n",
       "    <tr>\n",
       "      <th>date_time</th>\n",
       "      <th></th>\n",
       "    </tr>\n",
       "  </thead>\n",
       "  <tbody>\n",
       "    <tr>\n",
       "      <th>2018-03-01 00:00:00</th>\n",
       "      <td>20.666667</td>\n",
       "    </tr>\n",
       "    <tr>\n",
       "      <th>2018-03-01 01:00:00</th>\n",
       "      <td>14.166667</td>\n",
       "    </tr>\n",
       "    <tr>\n",
       "      <th>2018-03-01 02:00:00</th>\n",
       "      <td>11.833333</td>\n",
       "    </tr>\n",
       "    <tr>\n",
       "      <th>2018-03-01 03:00:00</th>\n",
       "      <td>11.000000</td>\n",
       "    </tr>\n",
       "    <tr>\n",
       "      <th>2018-03-01 04:00:00</th>\n",
       "      <td>7.166667</td>\n",
       "    </tr>\n",
       "  </tbody>\n",
       "</table>\n",
       "</div>"
      ],
      "text/plain": [
       "                     num_orders\n",
       "date_time                      \n",
       "2018-03-01 00:00:00   20.666667\n",
       "2018-03-01 01:00:00   14.166667\n",
       "2018-03-01 02:00:00   11.833333\n",
       "2018-03-01 03:00:00   11.000000\n",
       "2018-03-01 04:00:00    7.166667"
      ]
     },
     "execution_count": 15,
     "metadata": {},
     "output_type": "execute_result"
    }
   ],
   "source": [
    "date_time_resampled.head(5)"
   ]
  },
  {
   "cell_type": "code",
   "execution_count": 16,
   "metadata": {},
   "outputs": [
    {
     "data": {
      "image/png": "[encoded data removed]",
      "text/plain": [
       "<Figure size 1600x600 with 1 Axes>"
      ]
     },
     "metadata": {},
     "output_type": "display_data"
    }
   ],
   "source": [
    "date_time_resampled.resample(\"1D\").mean().plot(figsize=(16, 6), lw=1)\n",
    "plt.show()"
   ]
  },
  {
   "cell_type": "markdown",
   "metadata": {},
   "source": [
    "- Conclusion, tenemos un alza en los meses de julio a agosto se ven aumentados los numero de orndenes."
   ]
  },
  {
   "cell_type": "code",
   "execution_count": 17,
   "metadata": {},
   "outputs": [],
   "source": [
    "# Componentes de descoposición \n",
    "decomposed_series = seasonal_decompose(vehicles[\"num_orders\"], period=365) # consideramos el periodo de un año"
   ]
  },
  {
   "cell_type": "code",
   "execution_count": 18,
   "metadata": {},
   "outputs": [
    {
     "data": {
      "image/png": "[encoded data removed]",
      "text/plain": [
       "<Figure size 2000x1000 with 3 Axes>"
      ]
     },
     "metadata": {},
     "output_type": "display_data"
    }
   ],
   "source": [
    "plt.figure(figsize=(20, 10))\n",
    "\n",
    "plt.subplot(311)\n",
    "decomposed_series.trend.plot(ax=plt.gca())\n",
    "plt.title(\"Trend component\") # componente de tendencia\n",
    "\n",
    "plt.subplot(312)\n",
    "decomposed_series.seasonal.plot(ax=plt.gca())\n",
    "plt.title(\"Seasonal component\") # componente de Estacional\n",
    "\n",
    "plt.subplot(313)\n",
    "decomposed_series.resid.plot(ax=plt.gca())\n",
    "plt.title(\"Residual component\") # componente de Residual\n",
    "\n",
    "plt.tight_layout()"
   ]
  },
  {
   "cell_type": "markdown",
   "metadata": {},
   "source": [
    "- conclusión, verificamos que tan importante es el factor estacional, la descomposición nos da el resultado de la suma de componentes de la serie original."
   ]
  },
  {
   "cell_type": "code",
   "execution_count": 19,
   "metadata": {},
   "outputs": [],
   "source": [
    "combined_series = decomposed_series.trend + decomposed_series.resid + decomposed_series.seasonal"
   ]
  },
  {
   "cell_type": "code",
   "execution_count": 20,
   "metadata": {},
   "outputs": [
    {
     "data": {
      "text/plain": [
       "100   NaN\n",
       "101   NaN\n",
       "102   NaN\n",
       "103   NaN\n",
       "104   NaN\n",
       "105   NaN\n",
       "106   NaN\n",
       "107   NaN\n",
       "108   NaN\n",
       "109   NaN\n",
       "dtype: float64"
      ]
     },
     "execution_count": 20,
     "metadata": {},
     "output_type": "execute_result"
    }
   ],
   "source": [
    "combined_series[100:110]"
   ]
  },
  {
   "cell_type": "code",
   "execution_count": 21,
   "metadata": {},
   "outputs": [
    {
     "data": {
      "text/html": [
       "<div>\n",
       "<style scoped>\n",
       "    .dataframe tbody tr th:only-of-type {\n",
       "        vertical-align: middle;\n",
       "    }\n",
       "\n",
       "    .dataframe tbody tr th {\n",
       "        vertical-align: top;\n",
       "    }\n",
       "\n",
       "    .dataframe thead th {\n",
       "        text-align: right;\n",
       "    }\n",
       "</style>\n",
       "<table border=\"1\" class=\"dataframe\">\n",
       "  <thead>\n",
       "    <tr style=\"text-align: right;\">\n",
       "      <th></th>\n",
       "      <th>num_orders</th>\n",
       "    </tr>\n",
       "    <tr>\n",
       "      <th>date_time</th>\n",
       "      <th></th>\n",
       "    </tr>\n",
       "  </thead>\n",
       "  <tbody>\n",
       "    <tr>\n",
       "      <th>2018-03-05 04:00:00</th>\n",
       "      <td>5.666667</td>\n",
       "    </tr>\n",
       "    <tr>\n",
       "      <th>2018-03-05 05:00:00</th>\n",
       "      <td>2.666667</td>\n",
       "    </tr>\n",
       "    <tr>\n",
       "      <th>2018-03-05 06:00:00</th>\n",
       "      <td>0.500000</td>\n",
       "    </tr>\n",
       "    <tr>\n",
       "      <th>2018-03-05 07:00:00</th>\n",
       "      <td>2.333333</td>\n",
       "    </tr>\n",
       "    <tr>\n",
       "      <th>2018-03-05 08:00:00</th>\n",
       "      <td>5.166667</td>\n",
       "    </tr>\n",
       "    <tr>\n",
       "      <th>2018-03-05 09:00:00</th>\n",
       "      <td>9.833333</td>\n",
       "    </tr>\n",
       "    <tr>\n",
       "      <th>2018-03-05 10:00:00</th>\n",
       "      <td>8.333333</td>\n",
       "    </tr>\n",
       "    <tr>\n",
       "      <th>2018-03-05 11:00:00</th>\n",
       "      <td>10.333333</td>\n",
       "    </tr>\n",
       "    <tr>\n",
       "      <th>2018-03-05 12:00:00</th>\n",
       "      <td>14.166667</td>\n",
       "    </tr>\n",
       "    <tr>\n",
       "      <th>2018-03-05 13:00:00</th>\n",
       "      <td>6.166667</td>\n",
       "    </tr>\n",
       "  </tbody>\n",
       "</table>\n",
       "</div>"
      ],
      "text/plain": [
       "                     num_orders\n",
       "date_time                      \n",
       "2018-03-05 04:00:00    5.666667\n",
       "2018-03-05 05:00:00    2.666667\n",
       "2018-03-05 06:00:00    0.500000\n",
       "2018-03-05 07:00:00    2.333333\n",
       "2018-03-05 08:00:00    5.166667\n",
       "2018-03-05 09:00:00    9.833333\n",
       "2018-03-05 10:00:00    8.333333\n",
       "2018-03-05 11:00:00   10.333333\n",
       "2018-03-05 12:00:00   14.166667\n",
       "2018-03-05 13:00:00    6.166667"
      ]
     },
     "execution_count": 21,
     "metadata": {},
     "output_type": "execute_result"
    }
   ],
   "source": [
    "date_time_resampled[100:110]"
   ]
  },
  {
   "cell_type": "markdown",
   "metadata": {},
   "source": [
    "## Entrena diferentes modelos con diferentes hiperparámetros. \n",
    "    - La muestra de prueba debe ser el 10% del conjunto de datos "
   ]
  },
  {
   "cell_type": "code",
   "execution_count": 22,
   "metadata": {},
   "outputs": [
    {
     "data": {
      "text/plain": [
       "0   2018-03-01 00:00:00\n",
       "1   2018-03-01 00:10:00\n",
       "2   2018-03-01 00:20:00\n",
       "3   2018-03-01 00:30:00\n",
       "4   2018-03-01 00:40:00\n",
       "Name: date_time, dtype: datetime64[ns]"
      ]
     },
     "execution_count": 22,
     "metadata": {},
     "output_type": "execute_result"
    }
   ],
   "source": [
    "vehicles[\"date_time\"].head()"
   ]
  },
  {
   "cell_type": "code",
   "execution_count": 23,
   "metadata": {},
   "outputs": [
    {
     "data": {
      "text/plain": [
       "0                   NaT\n",
       "1   2018-03-01 00:00:00\n",
       "2   2018-03-01 00:10:00\n",
       "3   2018-03-01 00:20:00\n",
       "4   2018-03-01 00:30:00\n",
       "Name: date_time, dtype: datetime64[ns]"
      ]
     },
     "execution_count": 23,
     "metadata": {},
     "output_type": "execute_result"
    }
   ],
   "source": [
    "vehicles[\"date_time\"].shift(1).head()"
   ]
  },
  {
   "cell_type": "code",
   "execution_count": 24,
   "metadata": {},
   "outputs": [],
   "source": [
    "def make_features(df, lag_size=5, rolling_size=5):\n",
    "\n",
    "  data_copy = df.copy() # data_copy = df.copy().to_frame()\n",
    "\n",
    "  for i in range(lag_size):\n",
    "    data_copy[f\"num_orders{str(i+1)}\"] = data_copy[\"num_orders\"].shift(i+1)\n",
    "\n",
    "  data_copy[f\"num_orders\"] = data_copy[\"num_orders\"].shift(24)\n",
    "\n",
    "  data_copy[\"rolling_mean\"] = data_copy[\"num_orders\"].shift(1).rolling(rolling_size).mean()\n",
    "  data_copy[\"rolling_std\"] = data_copy[\"num_orders\"].shift(1).rolling(rolling_size).std()\n",
    "  data_copy[\"rolling_max\"] = data_copy[\"num_orders\"].shift(1).rolling(rolling_size).max()\n",
    "  data_copy[\"rolling_min\"] = data_copy[\"num_orders\"].shift(1).rolling(rolling_size).min()\n",
    "\n",
    "  data_copy['num_orders'] = data_copy.index.dayofweek # dia de la semana\n",
    "\n",
    "  return data_copy"
   ]
  },
  {
   "cell_type": "code",
   "execution_count": 25,
   "metadata": {},
   "outputs": [],
   "source": [
    "df_with_features = make_features(date_time_resampled, lag_size=5, rolling_size=5)"
   ]
  },
  {
   "cell_type": "code",
   "execution_count": 26,
   "metadata": {},
   "outputs": [
    {
     "data": {
      "text/html": [
       "<div>\n",
       "<style scoped>\n",
       "    .dataframe tbody tr th:only-of-type {\n",
       "        vertical-align: middle;\n",
       "    }\n",
       "\n",
       "    .dataframe tbody tr th {\n",
       "        vertical-align: top;\n",
       "    }\n",
       "\n",
       "    .dataframe thead th {\n",
       "        text-align: right;\n",
       "    }\n",
       "</style>\n",
       "<table border=\"1\" class=\"dataframe\">\n",
       "  <thead>\n",
       "    <tr style=\"text-align: right;\">\n",
       "      <th></th>\n",
       "      <th>num_orders</th>\n",
       "      <th>num_orders1</th>\n",
       "      <th>num_orders2</th>\n",
       "      <th>num_orders3</th>\n",
       "      <th>num_orders4</th>\n",
       "      <th>num_orders5</th>\n",
       "      <th>rolling_mean</th>\n",
       "      <th>rolling_std</th>\n",
       "      <th>rolling_max</th>\n",
       "      <th>rolling_min</th>\n",
       "    </tr>\n",
       "    <tr>\n",
       "      <th>date_time</th>\n",
       "      <th></th>\n",
       "      <th></th>\n",
       "      <th></th>\n",
       "      <th></th>\n",
       "      <th></th>\n",
       "      <th></th>\n",
       "      <th></th>\n",
       "      <th></th>\n",
       "      <th></th>\n",
       "      <th></th>\n",
       "    </tr>\n",
       "  </thead>\n",
       "  <tbody>\n",
       "    <tr>\n",
       "      <th>2018-03-01 00:00:00</th>\n",
       "      <td>3</td>\n",
       "      <td>NaN</td>\n",
       "      <td>NaN</td>\n",
       "      <td>NaN</td>\n",
       "      <td>NaN</td>\n",
       "      <td>NaN</td>\n",
       "      <td>NaN</td>\n",
       "      <td>NaN</td>\n",
       "      <td>NaN</td>\n",
       "      <td>NaN</td>\n",
       "    </tr>\n",
       "    <tr>\n",
       "      <th>2018-03-01 01:00:00</th>\n",
       "      <td>3</td>\n",
       "      <td>20.666667</td>\n",
       "      <td>NaN</td>\n",
       "      <td>NaN</td>\n",
       "      <td>NaN</td>\n",
       "      <td>NaN</td>\n",
       "      <td>NaN</td>\n",
       "      <td>NaN</td>\n",
       "      <td>NaN</td>\n",
       "      <td>NaN</td>\n",
       "    </tr>\n",
       "    <tr>\n",
       "      <th>2018-03-01 02:00:00</th>\n",
       "      <td>3</td>\n",
       "      <td>14.166667</td>\n",
       "      <td>20.666667</td>\n",
       "      <td>NaN</td>\n",
       "      <td>NaN</td>\n",
       "      <td>NaN</td>\n",
       "      <td>NaN</td>\n",
       "      <td>NaN</td>\n",
       "      <td>NaN</td>\n",
       "      <td>NaN</td>\n",
       "    </tr>\n",
       "    <tr>\n",
       "      <th>2018-03-01 03:00:00</th>\n",
       "      <td>3</td>\n",
       "      <td>11.833333</td>\n",
       "      <td>14.166667</td>\n",
       "      <td>20.666667</td>\n",
       "      <td>NaN</td>\n",
       "      <td>NaN</td>\n",
       "      <td>NaN</td>\n",
       "      <td>NaN</td>\n",
       "      <td>NaN</td>\n",
       "      <td>NaN</td>\n",
       "    </tr>\n",
       "    <tr>\n",
       "      <th>2018-03-01 04:00:00</th>\n",
       "      <td>3</td>\n",
       "      <td>11.000000</td>\n",
       "      <td>11.833333</td>\n",
       "      <td>14.166667</td>\n",
       "      <td>20.666667</td>\n",
       "      <td>NaN</td>\n",
       "      <td>NaN</td>\n",
       "      <td>NaN</td>\n",
       "      <td>NaN</td>\n",
       "      <td>NaN</td>\n",
       "    </tr>\n",
       "  </tbody>\n",
       "</table>\n",
       "</div>"
      ],
      "text/plain": [
       "                     num_orders  num_orders1  num_orders2  num_orders3  \\\n",
       "date_time                                                                \n",
       "2018-03-01 00:00:00           3          NaN          NaN          NaN   \n",
       "2018-03-01 01:00:00           3    20.666667          NaN          NaN   \n",
       "2018-03-01 02:00:00           3    14.166667    20.666667          NaN   \n",
       "2018-03-01 03:00:00           3    11.833333    14.166667    20.666667   \n",
       "2018-03-01 04:00:00           3    11.000000    11.833333    14.166667   \n",
       "\n",
       "                     num_orders4  num_orders5  rolling_mean  rolling_std  \\\n",
       "date_time                                                                  \n",
       "2018-03-01 00:00:00          NaN          NaN           NaN          NaN   \n",
       "2018-03-01 01:00:00          NaN          NaN           NaN          NaN   \n",
       "2018-03-01 02:00:00          NaN          NaN           NaN          NaN   \n",
       "2018-03-01 03:00:00          NaN          NaN           NaN          NaN   \n",
       "2018-03-01 04:00:00    20.666667          NaN           NaN          NaN   \n",
       "\n",
       "                     rolling_max  rolling_min  \n",
       "date_time                                      \n",
       "2018-03-01 00:00:00          NaN          NaN  \n",
       "2018-03-01 01:00:00          NaN          NaN  \n",
       "2018-03-01 02:00:00          NaN          NaN  \n",
       "2018-03-01 03:00:00          NaN          NaN  \n",
       "2018-03-01 04:00:00          NaN          NaN  "
      ]
     },
     "execution_count": 26,
     "metadata": {},
     "output_type": "execute_result"
    }
   ],
   "source": [
    "# creamos el dataset\n",
    "df_with_features.head()"
   ]
  },
  {
   "cell_type": "code",
   "execution_count": 27,
   "metadata": {},
   "outputs": [],
   "source": [
    "# reiniciamos el dataset\n",
    "clean_df_with_features = df_with_features.dropna()"
   ]
  },
  {
   "cell_type": "code",
   "execution_count": 28,
   "metadata": {},
   "outputs": [
    {
     "data": {
      "text/html": [
       "<div>\n",
       "<style scoped>\n",
       "    .dataframe tbody tr th:only-of-type {\n",
       "        vertical-align: middle;\n",
       "    }\n",
       "\n",
       "    .dataframe tbody tr th {\n",
       "        vertical-align: top;\n",
       "    }\n",
       "\n",
       "    .dataframe thead th {\n",
       "        text-align: right;\n",
       "    }\n",
       "</style>\n",
       "<table border=\"1\" class=\"dataframe\">\n",
       "  <thead>\n",
       "    <tr style=\"text-align: right;\">\n",
       "      <th></th>\n",
       "      <th>num_orders</th>\n",
       "      <th>num_orders1</th>\n",
       "      <th>num_orders2</th>\n",
       "      <th>num_orders3</th>\n",
       "      <th>num_orders4</th>\n",
       "      <th>num_orders5</th>\n",
       "      <th>rolling_mean</th>\n",
       "      <th>rolling_std</th>\n",
       "      <th>rolling_max</th>\n",
       "      <th>rolling_min</th>\n",
       "    </tr>\n",
       "    <tr>\n",
       "      <th>date_time</th>\n",
       "      <th></th>\n",
       "      <th></th>\n",
       "      <th></th>\n",
       "      <th></th>\n",
       "      <th></th>\n",
       "      <th></th>\n",
       "      <th></th>\n",
       "      <th></th>\n",
       "      <th></th>\n",
       "      <th></th>\n",
       "    </tr>\n",
       "  </thead>\n",
       "  <tbody>\n",
       "    <tr>\n",
       "      <th>2018-03-02 05:00:00</th>\n",
       "      <td>4</td>\n",
       "      <td>3.333333</td>\n",
       "      <td>10.666667</td>\n",
       "      <td>12.500000</td>\n",
       "      <td>20.0</td>\n",
       "      <td>15.0</td>\n",
       "      <td>12.966667</td>\n",
       "      <td>4.988041</td>\n",
       "      <td>20.666667</td>\n",
       "      <td>7.166667</td>\n",
       "    </tr>\n",
       "    <tr>\n",
       "      <th>2018-03-02 06:00:00</th>\n",
       "      <td>4</td>\n",
       "      <td>1.833333</td>\n",
       "      <td>3.333333</td>\n",
       "      <td>10.666667</td>\n",
       "      <td>12.5</td>\n",
       "      <td>20.0</td>\n",
       "      <td>9.033333</td>\n",
       "      <td>5.149703</td>\n",
       "      <td>14.166667</td>\n",
       "      <td>1.000000</td>\n",
       "    </tr>\n",
       "  </tbody>\n",
       "</table>\n",
       "</div>"
      ],
      "text/plain": [
       "                     num_orders  num_orders1  num_orders2  num_orders3  \\\n",
       "date_time                                                                \n",
       "2018-03-02 05:00:00           4     3.333333    10.666667    12.500000   \n",
       "2018-03-02 06:00:00           4     1.833333     3.333333    10.666667   \n",
       "\n",
       "                     num_orders4  num_orders5  rolling_mean  rolling_std  \\\n",
       "date_time                                                                  \n",
       "2018-03-02 05:00:00         20.0         15.0     12.966667     4.988041   \n",
       "2018-03-02 06:00:00         12.5         20.0      9.033333     5.149703   \n",
       "\n",
       "                     rolling_max  rolling_min  \n",
       "date_time                                      \n",
       "2018-03-02 05:00:00    20.666667     7.166667  \n",
       "2018-03-02 06:00:00    14.166667     1.000000  "
      ]
     },
     "execution_count": 28,
     "metadata": {},
     "output_type": "execute_result"
    }
   ],
   "source": [
    "# Data set limpio\n",
    "clean_df_with_features.head(2)"
   ]
  },
  {
   "cell_type": "code",
   "execution_count": 29,
   "metadata": {},
   "outputs": [
    {
     "data": {
      "text/plain": [
       "'0.24.1'"
      ]
     },
     "execution_count": 29,
     "metadata": {},
     "output_type": "execute_result"
    }
   ],
   "source": [
    "# Verificar la versión de la libreria\n",
    "sklearn.__version__"
   ]
  },
  {
   "cell_type": "code",
   "execution_count": 30,
   "metadata": {},
   "outputs": [],
   "source": [
    "# anterior revisar\n",
    "# Dividir los datos en conjuntos de entrenamiento y prueba (90% entrenamiento, 10% prueba)\n",
    "# Separa utilizando train_test_split.\n",
    "\n",
    "# train_df, test_df = train_test_split(\n",
    "#     vehicles, \n",
    "#     test_size = 0.1,\n",
    "#     random_state = 88\n",
    "# )"
   ]
  },
  {
   "cell_type": "code",
   "execution_count": 31,
   "metadata": {},
   "outputs": [
    {
     "data": {
      "text/plain": [
       "0.1000683838614087"
      ]
     },
     "execution_count": 31,
     "metadata": {},
     "output_type": "execute_result"
    }
   ],
   "source": [
    "# Dividir los datos en conjuntos de entrenamiento y prueba (90% entrenamiento, 10% prueba)\n",
    "\n",
    "train_set, test_set = train_test_split(clean_df_with_features, shuffle=False, test_size=0.1)\n",
    "reduced_train_set, valid_set = train_test_split(train_set, shuffle=False, test_size=0.1)\n",
    "\n",
    "len(test_set) / (len(train_set) + len(test_set))"
   ]
  },
  {
   "cell_type": "code",
   "execution_count": 32,
   "metadata": {},
   "outputs": [],
   "source": [
    "# Definir el target \n",
    "target = \"num_orders\"\n",
    "features = [c for c in train_set.columns if c != target]"
   ]
  },
  {
   "cell_type": "code",
   "execution_count": 33,
   "metadata": {},
   "outputs": [],
   "source": [
    "# LinealRegression, RandomForest, LightGBMRegressor, XGBoostRegressor, SVRegressor, LSTM (RNN)"
   ]
  },
  {
   "cell_type": "markdown",
   "metadata": {},
   "source": [
    "### Modelo DecisionTreeRegressor"
   ]
  },
  {
   "cell_type": "code",
   "execution_count": 34,
   "metadata": {
    "scrolled": true
   },
   "outputs": [
    {
     "name": "stdout",
     "output_type": "stream",
     "text": [
      "\n",
      "    Criterio: mse\n",
      "    RMSE: 2.6553027909058518\n",
      "    \n",
      "\n",
      "    Criterio: friedman_mse\n",
      "    RMSE: 2.6294341692905934\n",
      "    \n",
      "\n",
      "    Criterio: mae\n",
      "    RMSE: 2.9161271351493627\n",
      "    \n",
      "\n",
      "    Criterio: poisson\n",
      "    RMSE: 2.791050708404254\n",
      "    \n"
     ]
    }
   ],
   "source": [
    "# max_depth_space = list(np.linspace(1, 20, 11).astype(\"int\"))\n",
    "# max_depth_space.append(None)\n",
    "\n",
    "# from sklearn.tree import DecisionTreeRegressor\n",
    "# from sklearn.metrics import mean_squared_error\n",
    "\n",
    "for i, criteria in enumerate([\"mse\", \"friedman_mse\", \"mae\", \"poisson\"]):\n",
    "    model = DecisionTreeRegressor(criterion=criteria, random_state=i + 100)\n",
    "    model.fit(reduced_train_set[features], reduced_train_set[target])\n",
    "\n",
    "    preds = model.predict(valid_set[features])\n",
    "\n",
    "    print(f\"\"\"\n",
    "    Criterio: {criteria}\n",
    "    RMSE: {mean_squared_error(valid_set[target], preds)**0.5}\n",
    "    \"\"\")\n",
    "\n",
    "# squared_error : mse\n",
    "# absolute_error : mae\n",
    "        "
   ]
  },
  {
   "cell_type": "code",
   "execution_count": 35,
   "metadata": {},
   "outputs": [],
   "source": [
    "best_criteria = \"poisson\"\n",
    "\n",
    "best_model = DecisionTreeRegressor(criterion=best_criteria, random_state=200)\n",
    "best_model.fit(train_set[features], train_set[target])\n",
    "\n",
    "best_preds = best_model.predict(test_set[features])"
   ]
  },
  {
   "cell_type": "code",
   "execution_count": 36,
   "metadata": {},
   "outputs": [
    {
     "name": "stdout",
     "output_type": "stream",
     "text": [
      "\n",
      "Criteria: poisson\n",
      "RMSE: 2.9646229139245754\n",
      "\n"
     ]
    }
   ],
   "source": [
    "print(f\"\"\"\n",
    "Criteria: {best_criteria}\n",
    "RMSE: {mean_squared_error(test_set[target], best_preds)**0.5}\n",
    "\"\"\")"
   ]
  },
  {
   "cell_type": "code",
   "execution_count": 37,
   "metadata": {},
   "outputs": [],
   "source": [
    "series_preds = pd.DataFrame(data={\n",
    "    \"prediction\": best_preds,\n",
    "    \"target\": test_set[target],\n",
    "}, index=test_set.index)"
   ]
  },
  {
   "cell_type": "code",
   "execution_count": 38,
   "metadata": {},
   "outputs": [
    {
     "data": {
      "image/png": "[encoded data removed]",
      "text/plain": [
       "<Figure size 2000x600 with 1 Axes>"
      ]
     },
     "metadata": {},
     "output_type": "display_data"
    }
   ],
   "source": [
    "# Graficamos los resultados \n",
    "\n",
    "sns.set_theme()\n",
    "\n",
    "plt.figure(figsize=(20, 6))\n",
    "sns.lineplot(data=series_preds, x=series_preds.index, y=\"prediction\", label=\"prediction\", color=\"orange\")\n",
    "sns.lineplot(data=series_preds, x=series_preds.index, y=\"target\", label=\"target\", color=\"blue\")\n",
    "plt.title(\"Target vs. Prediction\", size=20)\n",
    "plt.tight_layout()"
   ]
  },
  {
   "cell_type": "markdown",
   "metadata": {},
   "source": [
    "    Conclusión En el gráfico, puedes ver dos líneas: \n",
    "- una en color naranja que representa las predicciones. Muestra cómo se comparan tus predicciones con los valores reales a lo largo del tiempo.\n",
    "- otra en azul que representa los valores reales (objetivos). \n",
    "\n",
    "    Algunas observaciones clave podrían ser:\n",
    "\n",
    "    - Si la línea naranja sigue de cerca la línea azul, significa que tus predicciones son precisas y están en línea con los valores reales.\n",
    "   - Si la línea naranja se desvía significativamente de la línea azul, podría indicar que tus predicciones no son tan precisas y que hay margen de mejora."
   ]
  },
  {
   "cell_type": "code",
   "execution_count": 39,
   "metadata": {},
   "outputs": [],
   "source": [
    "# verificamos el performance por meses y semanas \n",
    "series_preds[\"month\"] = pd.to_datetime(series_preds.index) # Agrupamos por mes\n",
    "series_preds[\"month\"] = series_preds[\"month\"].dt.to_period(\"M\").dt.start_time\n",
    "\n",
    "series_preds[\"week\"] = pd.to_datetime(series_preds.index) # Agrupamos por semana\n",
    "series_preds[\"week\"] = series_preds[\"week\"].dt.to_period(\"W-MON\").dt.start_time\n",
    "\n",
    "rmses = []\n",
    "periods = []\n",
    "granularity = \"week\"\n",
    "\n",
    "for g in series_preds[granularity].unique():\n",
    "\n",
    "  tmp_data = series_preds[series_preds[granularity] == g]\n",
    "\n",
    "  rmses.append(mean_squared_error(tmp_data[\"target\"], tmp_data[\"prediction\"])**0.5)\n",
    "  periods.append(g)\n",
    "\n",
    "performance_over_time = pd.DataFrame(data={\n",
    "    granularity: periods,\n",
    "    \"rmse\": rmses\n",
    "})"
   ]
  },
  {
   "cell_type": "code",
   "execution_count": 40,
   "metadata": {},
   "outputs": [
    {
     "data": {
      "image/png": "[encoded data removed]",
      "text/plain": [
       "<Figure size 2000x600 with 1 Axes>"
      ]
     },
     "metadata": {},
     "output_type": "display_data"
    }
   ],
   "source": [
    "# Graficamos el desempeño a través del tiempo \n",
    "plt.figure(figsize=(20, 6))\n",
    "sns.lineplot(data=performance_over_time, x=granularity, y=\"rmse\")\n",
    "plt.title(f\"{granularity}ly RMSE\", size=20)\n",
    "plt.tight_layout()"
   ]
  },
  {
   "cell_type": "markdown",
   "metadata": {},
   "source": [
    "Conclusión,  el grafico muestra el error cuadrático medio (RMSE) a lo largo del tiempo, con respecto a la granularidad (por ejemplo, diariamente, semanalmente o mensualmente). \n",
    "Aquí está la conclusión basada en el gráfico:\n",
    "\n",
    "- Si la línea del RMSE es constante o disminuye a lo largo del tiempo, significa que tu modelo está mejorando o al menos manteniendo su rendimiento.\n",
    "- Si la línea del RMSE aumenta a lo largo del tiempo, podría indicar que tu modelo está empeorando o que hay algún problema en los datos o en el proceso de entrenamiento."
   ]
  },
  {
   "cell_type": "markdown",
   "metadata": {},
   "source": [
    "### Modelo CatBoostRegressor"
   ]
  },
  {
   "cell_type": "code",
   "execution_count": 41,
   "metadata": {},
   "outputs": [
    {
     "data": {
      "text/plain": [
       "'1.0.3'"
      ]
     },
     "execution_count": 41,
     "metadata": {},
     "output_type": "execute_result"
    }
   ],
   "source": [
    "# Verificamos la versión y la documentación \n",
    "cb.__version__"
   ]
  },
  {
   "cell_type": "code",
   "execution_count": 42,
   "metadata": {},
   "outputs": [
    {
     "name": "stdout",
     "output_type": "stream",
     "text": [
      "Learning rate set to 0.5\n",
      "0:\tlearn: 1.9724801\ttotal: 50.1ms\tremaining: 2.45s\n",
      "1:\tlearn: 1.9572410\ttotal: 53.4ms\tremaining: 1.28s\n",
      "2:\tlearn: 1.9450486\ttotal: 56.8ms\tremaining: 890ms\n",
      "3:\tlearn: 1.9350053\ttotal: 60.2ms\tremaining: 693ms\n",
      "4:\tlearn: 1.9223734\ttotal: 63.7ms\tremaining: 573ms\n",
      "5:\tlearn: 1.9180278\ttotal: 67ms\tremaining: 491ms\n",
      "6:\tlearn: 1.9146673\ttotal: 70.5ms\tremaining: 433ms\n",
      "7:\tlearn: 1.9080955\ttotal: 73.9ms\tremaining: 388ms\n",
      "8:\tlearn: 1.9001252\ttotal: 77.3ms\tremaining: 352ms\n",
      "9:\tlearn: 1.8875234\ttotal: 80.9ms\tremaining: 324ms\n",
      "10:\tlearn: 1.8785481\ttotal: 84.4ms\tremaining: 299ms\n",
      "11:\tlearn: 1.8733343\ttotal: 87.9ms\tremaining: 278ms\n",
      "12:\tlearn: 1.8682415\ttotal: 91.3ms\tremaining: 260ms\n",
      "13:\tlearn: 1.8602652\ttotal: 95.2ms\tremaining: 245ms\n",
      "14:\tlearn: 1.8560080\ttotal: 99ms\tremaining: 231ms\n",
      "15:\tlearn: 1.8427799\ttotal: 102ms\tremaining: 218ms\n",
      "16:\tlearn: 1.8340087\ttotal: 106ms\tremaining: 206ms\n",
      "17:\tlearn: 1.8288547\ttotal: 110ms\tremaining: 195ms\n",
      "18:\tlearn: 1.8242612\ttotal: 113ms\tremaining: 185ms\n",
      "19:\tlearn: 1.8059902\ttotal: 117ms\tremaining: 175ms\n",
      "20:\tlearn: 1.7955937\ttotal: 120ms\tremaining: 166ms\n",
      "21:\tlearn: 1.7850936\ttotal: 123ms\tremaining: 157ms\n",
      "22:\tlearn: 1.7749412\ttotal: 127ms\tremaining: 149ms\n",
      "23:\tlearn: 1.7687919\ttotal: 130ms\tremaining: 141ms\n",
      "24:\tlearn: 1.7553501\ttotal: 134ms\tremaining: 134ms\n",
      "25:\tlearn: 1.7498579\ttotal: 137ms\tremaining: 127ms\n",
      "26:\tlearn: 1.7431682\ttotal: 141ms\tremaining: 120ms\n",
      "27:\tlearn: 1.7352366\ttotal: 145ms\tremaining: 114ms\n",
      "28:\tlearn: 1.7259269\ttotal: 148ms\tremaining: 107ms\n",
      "29:\tlearn: 1.7181981\ttotal: 152ms\tremaining: 101ms\n",
      "30:\tlearn: 1.7103888\ttotal: 155ms\tremaining: 95ms\n",
      "31:\tlearn: 1.7071183\ttotal: 158ms\tremaining: 89.1ms\n",
      "32:\tlearn: 1.6995655\ttotal: 162ms\tremaining: 83.6ms\n",
      "33:\tlearn: 1.6869147\ttotal: 166ms\tremaining: 78.3ms\n",
      "34:\tlearn: 1.6816093\ttotal: 170ms\tremaining: 73ms\n",
      "35:\tlearn: 1.6726069\ttotal: 174ms\tremaining: 67.6ms\n",
      "36:\tlearn: 1.6648443\ttotal: 177ms\tremaining: 62.4ms\n",
      "37:\tlearn: 1.6576491\ttotal: 181ms\tremaining: 57.2ms\n",
      "38:\tlearn: 1.6521274\ttotal: 185ms\tremaining: 52.2ms\n",
      "39:\tlearn: 1.6473642\ttotal: 188ms\tremaining: 47.1ms\n",
      "40:\tlearn: 1.6373564\ttotal: 196ms\tremaining: 43ms\n",
      "41:\tlearn: 1.6297743\ttotal: 200ms\tremaining: 38ms\n",
      "42:\tlearn: 1.6222530\ttotal: 204ms\tremaining: 33.1ms\n",
      "43:\tlearn: 1.6097791\ttotal: 207ms\tremaining: 28.3ms\n",
      "44:\tlearn: 1.6027311\ttotal: 211ms\tremaining: 23.5ms\n",
      "45:\tlearn: 1.5926519\ttotal: 215ms\tremaining: 18.7ms\n",
      "46:\tlearn: 1.5888639\ttotal: 219ms\tremaining: 14ms\n",
      "47:\tlearn: 1.5816751\ttotal: 224ms\tremaining: 9.32ms\n",
      "48:\tlearn: 1.5774625\ttotal: 227ms\tremaining: 4.63ms\n",
      "49:\tlearn: 1.5719969\ttotal: 231ms\tremaining: 0us\n",
      "\n",
      "RMSE_Catboost performance:\n",
      "2.2691\n",
      "\n",
      "CPU times: user 201 ms, sys: 7.27 ms, total: 208 ms\n",
      "Wall time: 326 ms\n"
     ]
    }
   ],
   "source": [
    "%%time\n",
    "\n",
    "# Ajustar el modelo\n",
    "model_cb = cb.CatBoostRegressor(loss_function='RMSE', iterations=50)\n",
    "model_cb.fit(train_set.drop(columns=['num_orders']), train_set['num_orders'])\n",
    "\n",
    "# Utilizar test_df para la predicción\n",
    "preds_cb = model_cb.predict(test_set.drop(columns = 'num_orders'))\n",
    "\n",
    "# Calcular el error cuadratico medio, calcular cuadrada y redondeado a 4 decimales\n",
    "print(f\"\"\"\n",
    "RMSE_Catboost performance:\n",
    "{round(mean_squared_error(test_set['num_orders'], preds_cb)**0.5, 4)}\n",
    "\"\"\")"
   ]
  },
  {
   "cell_type": "markdown",
   "metadata": {},
   "source": [
    "### Modelo RandomForestRegressor"
   ]
  },
  {
   "cell_type": "code",
   "execution_count": 43,
   "metadata": {},
   "outputs": [
    {
     "name": "stdout",
     "output_type": "stream",
     "text": [
      "\n",
      "RMSE_RandomForestRegressor:\n",
      "2.0671\n",
      "\n",
      "CPU times: user 3.05 s, sys: 7.77 ms, total: 3.05 s\n",
      "Wall time: 3.06 s\n"
     ]
    }
   ],
   "source": [
    "%%time\n",
    "\n",
    "# Modelo de Random Forest\n",
    "model_rf = RandomForestRegressor(random_state=88)\n",
    "model_rf.fit(train_set.drop(columns = 'num_orders'), train_set['num_orders'])  \n",
    "\n",
    "# utilizamos test_df para la predicción \n",
    "preds_rf = model_rf.predict(test_set.drop(columns = 'num_orders'))\n",
    "\n",
    "# Calcular el error cuadratico medio, calcular cuadrada y redondeado a 4 decimales\n",
    "print(f\"\"\"\n",
    "RMSE_RandomForestRegressor:\n",
    "{round(mean_squared_error(test_set['num_orders'], preds_rf)**0.5, 4)}\n",
    "\"\"\")"
   ]
  },
  {
   "cell_type": "markdown",
   "metadata": {},
   "source": [
    "### Modelo LinearRegression"
   ]
  },
  {
   "cell_type": "code",
   "execution_count": 44,
   "metadata": {},
   "outputs": [
    {
     "name": "stdout",
     "output_type": "stream",
     "text": [
      "date_time              datetime64[ns]\n",
      "num_orders                    float64\n",
      "date_time_numerical           float64\n",
      "dtype: object\n"
     ]
    }
   ],
   "source": [
    "# Supongamos que tienes un DataFrame llamado 'df' con una columna 'fecha' de tipo datetime64\n",
    "# Vamos a convertir la columna 'fecha' a valores numéricos (días desde una fecha de referencia)\n",
    "vehicles['date_time_numerical'] = (vehicles['date_time'] - pd.to_datetime('1970-01-01')).dt.total_seconds() / (24 * 60 * 60)\n",
    "\n",
    "# Ahora puedes convertir la columna 'fecha_numerica' a tipo float64\n",
    "vehicles['date_time_numerical'] = vehicles['date_time_numerical'].astype(float)\n",
    "\n",
    "# Verifica que la conversión haya sido exitosa\n",
    "print(vehicles.dtypes)\n"
   ]
  },
  {
   "cell_type": "code",
   "execution_count": 45,
   "metadata": {},
   "outputs": [
    {
     "name": "stdout",
     "output_type": "stream",
     "text": [
      "RMSE_LinearRegression:\n",
      "2.0036\n",
      "CPU times: user 7.75 ms, sys: 12.5 ms, total: 20.2 ms\n",
      "Wall time: 41.7 ms\n"
     ]
    }
   ],
   "source": [
    "%%time\n",
    "\n",
    "# Ajustar el modelo\n",
    "model_lr = LinearRegression()\n",
    "model_lr.fit(train_set.drop(columns=['num_orders']), train_set['num_orders'])\n",
    "\n",
    "# Utilizar test_df para la predicción\n",
    "preds_lr = model_lr.predict(test_set.drop(columns = 'num_orders'))\n",
    "\n",
    "# Calcular el error cuadrático medio, calcular raíz cuadrada y redondear a 4 decimales\n",
    "rmse_lr = round(mean_squared_error(test_set['num_orders'], preds_lr) ** 0.5, 4)\n",
    "print(f\"RMSE_LinearRegression:\\n{rmse_lr}\")"
   ]
  },
  {
   "cell_type": "markdown",
   "metadata": {},
   "source": [
    "## Prueba"
   ]
  },
  {
   "cell_type": "markdown",
   "metadata": {},
   "source": [
    "### Conclusiones\n",
    "- CatBoostRegressor: Tiene el RMSE más bajo (2.2691), lo que sugiere que es el modelo más preciso en tu conjunto.\n",
    "- RandomForestRegressor: Aunque su RMSE (2.0671) es mejor que el DecisionTreeRegressor, aún está por encima del CatBoost.\n",
    "- LinearRegression: Tiene el RMSE más bajo de todos (2.0036), lo que indica que es un buen modelo lineal.\n"
   ]
  },
  {
   "cell_type": "markdown",
   "metadata": {},
   "source": [
    "### RMSE_DecisionTreeRegressor:  2.655\n",
    "        \n",
    "### RMSE_Catboost performance: 2.2691      \n",
    "\n",
    "### RMSE_RandomForestRegressor: 2.0671\n",
    "\n",
    "### RMSE_LinearRegression: 2.0036\n"
   ]
  },
  {
   "cell_type": "markdown",
   "metadata": {},
   "source": [
    "# Lista de revisión"
   ]
  },
  {
   "cell_type": "markdown",
   "metadata": {},
   "source": [
    "- [x]  Jupyter Notebook está abierto.\n",
    "- [x]  El código no tiene errores\n",
    "- [x]  Las celdas con el código han sido colocadas en el orden de ejecución.\n",
    "- [x]  Los datos han sido descargados y preparados.\n",
    "- [x]  Se ha realizado el paso 2: los datos han sido analizados\n",
    "- [x]  Se entrenó el modelo y se seleccionaron los hiperparámetros\n",
    "- [x]  Se han evaluado los modelos. Se expuso una conclusión\n",
    "- [x] La *RECM* para el conjunto de prueba no es más de 48"
   ]
  }
 ],
 "metadata": {
  "ExecuteTimeLog": [
   {
    "duration": 307,
    "start_time": "2024-07-31T12:15:27.226Z"
   },
   {
    "duration": 1341,
    "start_time": "2024-07-31T12:15:44.310Z"
   },
   {
    "duration": 40,
    "start_time": "2024-07-31T12:16:49.472Z"
   },
   {
    "duration": 25,
    "start_time": "2024-07-31T12:17:32.447Z"
   },
   {
    "duration": 16,
    "start_time": "2024-07-31T12:17:44.104Z"
   },
   {
    "duration": 10,
    "start_time": "2024-07-31T12:18:12.165Z"
   },
   {
    "duration": 4,
    "start_time": "2024-07-31T12:20:36.680Z"
   },
   {
    "duration": 23,
    "start_time": "2024-07-31T12:22:49.549Z"
   },
   {
    "duration": 5,
    "start_time": "2024-07-31T12:22:50.127Z"
   },
   {
    "duration": 14,
    "start_time": "2024-07-31T12:22:50.859Z"
   },
   {
    "duration": 9,
    "start_time": "2024-07-31T12:22:53.516Z"
   },
   {
    "duration": 2,
    "start_time": "2024-07-31T12:22:54.549Z"
   },
   {
    "duration": 4,
    "start_time": "2024-07-31T12:22:55.621Z"
   },
   {
    "duration": 5,
    "start_time": "2024-07-31T12:23:20.084Z"
   },
   {
    "duration": 6,
    "start_time": "2024-07-31T12:24:08.810Z"
   },
   {
    "duration": 167,
    "start_time": "2024-07-31T12:24:25.801Z"
   },
   {
    "duration": 7,
    "start_time": "2024-07-31T12:24:36.046Z"
   },
   {
    "duration": 9,
    "start_time": "2024-07-31T12:25:10.606Z"
   },
   {
    "duration": 6,
    "start_time": "2024-07-31T12:27:14.986Z"
   },
   {
    "duration": 9,
    "start_time": "2024-07-31T12:28:03.572Z"
   },
   {
    "duration": 6,
    "start_time": "2024-07-31T12:28:31.412Z"
   },
   {
    "duration": 6,
    "start_time": "2024-07-31T12:29:04.940Z"
   },
   {
    "duration": 5,
    "start_time": "2024-07-31T12:29:24.017Z"
   },
   {
    "duration": 46,
    "start_time": "2024-07-31T12:30:48.190Z"
   },
   {
    "duration": 1382,
    "start_time": "2024-07-31T17:43:34.043Z"
   },
   {
    "duration": 55,
    "start_time": "2024-07-31T17:43:35.431Z"
   },
   {
    "duration": 6,
    "start_time": "2024-07-31T17:43:35.797Z"
   },
   {
    "duration": 22,
    "start_time": "2024-07-31T17:43:36.740Z"
   },
   {
    "duration": 20,
    "start_time": "2024-07-31T17:43:37.700Z"
   },
   {
    "duration": 3,
    "start_time": "2024-07-31T17:43:44.427Z"
   },
   {
    "duration": 10,
    "start_time": "2024-07-31T17:43:45.045Z"
   },
   {
    "duration": 19,
    "start_time": "2024-07-31T17:43:46.630Z"
   },
   {
    "duration": 8,
    "start_time": "2024-07-31T17:43:47.660Z"
   },
   {
    "duration": 10,
    "start_time": "2024-07-31T17:43:48.542Z"
   },
   {
    "duration": 7,
    "start_time": "2024-07-31T17:43:49.333Z"
   },
   {
    "duration": 8,
    "start_time": "2024-07-31T17:43:50.482Z"
   },
   {
    "duration": 8,
    "start_time": "2024-07-31T17:43:51.352Z"
   },
   {
    "duration": 509,
    "start_time": "2024-07-31T17:44:17.113Z"
   },
   {
    "duration": 5,
    "start_time": "2024-07-31T17:44:24.520Z"
   },
   {
    "duration": 5,
    "start_time": "2024-07-31T17:44:42.750Z"
   },
   {
    "duration": 5,
    "start_time": "2024-07-31T17:44:46.186Z"
   },
   {
    "duration": 8,
    "start_time": "2024-07-31T17:44:52.862Z"
   },
   {
    "duration": 11,
    "start_time": "2024-07-31T17:45:26.794Z"
   },
   {
    "duration": 5,
    "start_time": "2024-07-31T17:45:39.999Z"
   },
   {
    "duration": 7,
    "start_time": "2024-07-31T17:45:49.468Z"
   },
   {
    "duration": 11,
    "start_time": "2024-07-31T17:46:00.451Z"
   },
   {
    "duration": 9,
    "start_time": "2024-07-31T17:49:14.812Z"
   },
   {
    "duration": 1737,
    "start_time": "2024-07-31T17:51:05.460Z"
   },
   {
    "duration": 34,
    "start_time": "2024-07-31T17:51:07.201Z"
   },
   {
    "duration": 7,
    "start_time": "2024-07-31T17:51:07.237Z"
   },
   {
    "duration": 19,
    "start_time": "2024-07-31T17:51:07.569Z"
   },
   {
    "duration": 13,
    "start_time": "2024-07-31T17:51:08.066Z"
   },
   {
    "duration": 1574,
    "start_time": "2024-07-31T17:52:33.224Z"
   },
   {
    "duration": 34,
    "start_time": "2024-07-31T17:52:34.802Z"
   },
   {
    "duration": 7,
    "start_time": "2024-07-31T17:52:34.839Z"
   },
   {
    "duration": 18,
    "start_time": "2024-07-31T17:52:34.850Z"
   },
   {
    "duration": 22,
    "start_time": "2024-07-31T17:52:34.871Z"
   },
   {
    "duration": 1652,
    "start_time": "2024-07-31T17:53:01.661Z"
   },
   {
    "duration": 29,
    "start_time": "2024-07-31T17:53:03.316Z"
   },
   {
    "duration": 6,
    "start_time": "2024-07-31T17:53:03.348Z"
   },
   {
    "duration": 19,
    "start_time": "2024-07-31T17:53:03.357Z"
   },
   {
    "duration": 49,
    "start_time": "2024-07-31T17:53:03.381Z"
   },
   {
    "duration": 5422,
    "start_time": "2024-08-05T19:48:14.054Z"
   },
   {
    "duration": 38,
    "start_time": "2024-08-05T19:48:19.479Z"
   },
   {
    "duration": 6,
    "start_time": "2024-08-05T19:48:19.520Z"
   },
   {
    "duration": 19,
    "start_time": "2024-08-05T19:48:19.530Z"
   },
   {
    "duration": 19,
    "start_time": "2024-08-05T19:48:19.555Z"
   },
   {
    "duration": 435,
    "start_time": "2024-08-05T19:48:19.609Z"
   },
   {
    "duration": 0,
    "start_time": "2024-08-05T19:48:20.049Z"
   },
   {
    "duration": 0,
    "start_time": "2024-08-05T19:48:20.052Z"
   },
   {
    "duration": 0,
    "start_time": "2024-08-05T19:48:20.054Z"
   },
   {
    "duration": 0,
    "start_time": "2024-08-05T19:48:20.056Z"
   },
   {
    "duration": 1,
    "start_time": "2024-08-05T19:48:20.058Z"
   },
   {
    "duration": 0,
    "start_time": "2024-08-05T19:48:20.060Z"
   },
   {
    "duration": 0,
    "start_time": "2024-08-05T19:48:20.063Z"
   },
   {
    "duration": 0,
    "start_time": "2024-08-05T19:48:20.065Z"
   },
   {
    "duration": 0,
    "start_time": "2024-08-05T19:48:20.067Z"
   },
   {
    "duration": 0,
    "start_time": "2024-08-05T19:48:20.069Z"
   },
   {
    "duration": 0,
    "start_time": "2024-08-05T19:48:20.071Z"
   },
   {
    "duration": 1,
    "start_time": "2024-08-05T19:48:20.106Z"
   },
   {
    "duration": 0,
    "start_time": "2024-08-05T19:48:20.109Z"
   },
   {
    "duration": 34,
    "start_time": "2024-08-05T19:48:31.390Z"
   },
   {
    "duration": 1629,
    "start_time": "2024-08-05T19:49:35.663Z"
   },
   {
    "duration": 32,
    "start_time": "2024-08-05T19:49:37.297Z"
   },
   {
    "duration": 6,
    "start_time": "2024-08-05T19:49:37.331Z"
   },
   {
    "duration": 23,
    "start_time": "2024-08-05T19:49:37.341Z"
   },
   {
    "duration": 50,
    "start_time": "2024-08-05T19:49:37.370Z"
   },
   {
    "duration": 16,
    "start_time": "2024-08-05T19:49:37.423Z"
   },
   {
    "duration": 4,
    "start_time": "2024-08-05T19:49:37.443Z"
   },
   {
    "duration": 6,
    "start_time": "2024-08-05T19:49:37.450Z"
   },
   {
    "duration": 48,
    "start_time": "2024-08-05T19:49:37.458Z"
   },
   {
    "duration": 9,
    "start_time": "2024-08-05T19:49:37.509Z"
   },
   {
    "duration": 5,
    "start_time": "2024-08-05T19:49:37.521Z"
   },
   {
    "duration": 9,
    "start_time": "2024-08-05T19:49:37.530Z"
   },
   {
    "duration": 6,
    "start_time": "2024-08-05T19:49:37.542Z"
   },
   {
    "duration": 54,
    "start_time": "2024-08-05T19:49:37.553Z"
   },
   {
    "duration": 5,
    "start_time": "2024-08-05T19:49:37.610Z"
   },
   {
    "duration": 495,
    "start_time": "2024-08-05T19:49:37.619Z"
   },
   {
    "duration": 6,
    "start_time": "2024-08-05T19:49:52.764Z"
   },
   {
    "duration": 4,
    "start_time": "2024-08-05T19:50:12.790Z"
   },
   {
    "duration": 7,
    "start_time": "2024-08-05T19:50:15.840Z"
   },
   {
    "duration": 7,
    "start_time": "2024-08-05T19:50:31.385Z"
   },
   {
    "duration": 8,
    "start_time": "2024-08-05T19:54:21.351Z"
   },
   {
    "duration": 28,
    "start_time": "2024-08-05T19:54:21.728Z"
   },
   {
    "duration": 6,
    "start_time": "2024-08-05T19:54:22.830Z"
   },
   {
    "duration": 16,
    "start_time": "2024-08-05T19:54:24.700Z"
   },
   {
    "duration": 11,
    "start_time": "2024-08-05T19:54:28.739Z"
   },
   {
    "duration": 6,
    "start_time": "2024-08-05T19:56:33.757Z"
   },
   {
    "duration": 26,
    "start_time": "2024-08-05T19:56:34.584Z"
   },
   {
    "duration": 15,
    "start_time": "2024-08-05T19:56:52.225Z"
   },
   {
    "duration": 6,
    "start_time": "2024-08-05T19:56:57.374Z"
   },
   {
    "duration": 812,
    "start_time": "2024-08-05T19:59:18.285Z"
   },
   {
    "duration": 25,
    "start_time": "2024-08-05T19:59:51.903Z"
   },
   {
    "duration": 388,
    "start_time": "2024-08-05T20:00:02.657Z"
   },
   {
    "duration": 9,
    "start_time": "2024-08-05T20:00:09.990Z"
   },
   {
    "duration": 10,
    "start_time": "2024-08-05T20:00:14.914Z"
   },
   {
    "duration": 18,
    "start_time": "2024-08-05T20:00:20.709Z"
   },
   {
    "duration": 11,
    "start_time": "2024-08-05T20:00:50.559Z"
   },
   {
    "duration": 14,
    "start_time": "2024-08-05T20:05:18.389Z"
   },
   {
    "duration": 11,
    "start_time": "2024-08-05T20:05:33.463Z"
   },
   {
    "duration": 15,
    "start_time": "2024-08-05T20:05:57.260Z"
   },
   {
    "duration": 14,
    "start_time": "2024-08-05T20:06:14.250Z"
   },
   {
    "duration": 9,
    "start_time": "2024-08-05T20:06:20.454Z"
   },
   {
    "duration": 11,
    "start_time": "2024-08-05T20:06:56.227Z"
   },
   {
    "duration": 605,
    "start_time": "2024-08-05T20:07:19.133Z"
   },
   {
    "duration": 7,
    "start_time": "2024-08-05T20:07:32.972Z"
   },
   {
    "duration": 13,
    "start_time": "2024-08-05T20:07:41.518Z"
   },
   {
    "duration": 18,
    "start_time": "2024-08-05T20:09:24.618Z"
   },
   {
    "duration": 9,
    "start_time": "2024-08-05T20:10:02.413Z"
   },
   {
    "duration": 10,
    "start_time": "2024-08-05T20:12:13.536Z"
   },
   {
    "duration": 11,
    "start_time": "2024-08-05T20:15:58.943Z"
   },
   {
    "duration": 13,
    "start_time": "2024-08-05T20:16:59.566Z"
   },
   {
    "duration": 13,
    "start_time": "2024-08-05T20:17:14.305Z"
   },
   {
    "duration": 1644,
    "start_time": "2024-08-05T20:19:03.435Z"
   },
   {
    "duration": 35,
    "start_time": "2024-08-05T20:19:05.083Z"
   },
   {
    "duration": 6,
    "start_time": "2024-08-05T20:19:05.121Z"
   },
   {
    "duration": 19,
    "start_time": "2024-08-05T20:19:05.133Z"
   },
   {
    "duration": 13,
    "start_time": "2024-08-05T20:19:05.155Z"
   },
   {
    "duration": 42,
    "start_time": "2024-08-05T20:19:05.171Z"
   },
   {
    "duration": 7,
    "start_time": "2024-08-05T20:19:05.216Z"
   },
   {
    "duration": 8,
    "start_time": "2024-08-05T20:19:05.226Z"
   },
   {
    "duration": 13,
    "start_time": "2024-08-05T20:19:05.237Z"
   },
   {
    "duration": 52,
    "start_time": "2024-08-05T20:19:05.258Z"
   },
   {
    "duration": 14,
    "start_time": "2024-08-05T20:19:05.313Z"
   },
   {
    "duration": 14,
    "start_time": "2024-08-05T20:19:05.332Z"
   },
   {
    "duration": 14,
    "start_time": "2024-08-05T20:19:05.349Z"
   },
   {
    "duration": 41,
    "start_time": "2024-08-05T20:19:05.366Z"
   },
   {
    "duration": 1634,
    "start_time": "2024-08-05T20:20:39.272Z"
   },
   {
    "duration": 29,
    "start_time": "2024-08-05T20:20:40.910Z"
   },
   {
    "duration": 6,
    "start_time": "2024-08-05T20:20:40.942Z"
   },
   {
    "duration": 17,
    "start_time": "2024-08-05T20:20:40.951Z"
   },
   {
    "duration": 41,
    "start_time": "2024-08-05T20:20:40.974Z"
   },
   {
    "duration": 10,
    "start_time": "2024-08-05T20:20:41.018Z"
   },
   {
    "duration": 7,
    "start_time": "2024-08-05T20:20:41.031Z"
   },
   {
    "duration": 9,
    "start_time": "2024-08-05T20:20:41.040Z"
   },
   {
    "duration": 57,
    "start_time": "2024-08-05T20:20:41.052Z"
   },
   {
    "duration": 7,
    "start_time": "2024-08-05T20:20:41.112Z"
   },
   {
    "duration": 13,
    "start_time": "2024-08-05T20:20:41.122Z"
   },
   {
    "duration": 13,
    "start_time": "2024-08-05T20:20:41.137Z"
   },
   {
    "duration": 10,
    "start_time": "2024-08-05T20:20:41.153Z"
   },
   {
    "duration": 5,
    "start_time": "2024-08-05T20:20:41.209Z"
   },
   {
    "duration": 1749,
    "start_time": "2024-08-05T20:20:59.294Z"
   },
   {
    "duration": 27,
    "start_time": "2024-08-05T20:21:01.047Z"
   },
   {
    "duration": 9,
    "start_time": "2024-08-05T20:21:01.077Z"
   },
   {
    "duration": 30,
    "start_time": "2024-08-05T20:21:01.089Z"
   },
   {
    "duration": 14,
    "start_time": "2024-08-05T20:21:01.124Z"
   },
   {
    "duration": 11,
    "start_time": "2024-08-05T20:21:01.142Z"
   },
   {
    "duration": 6,
    "start_time": "2024-08-05T20:21:01.155Z"
   },
   {
    "duration": 7,
    "start_time": "2024-08-05T20:21:01.207Z"
   },
   {
    "duration": 12,
    "start_time": "2024-08-05T20:21:01.218Z"
   },
   {
    "duration": 7,
    "start_time": "2024-08-05T20:21:01.234Z"
   },
   {
    "duration": 15,
    "start_time": "2024-08-05T20:21:01.243Z"
   },
   {
    "duration": 56,
    "start_time": "2024-08-05T20:21:01.261Z"
   },
   {
    "duration": 11,
    "start_time": "2024-08-05T20:21:01.320Z"
   },
   {
    "duration": 8,
    "start_time": "2024-08-05T20:21:01.338Z"
   },
   {
    "duration": 307,
    "start_time": "2024-08-05T20:56:57.807Z"
   },
   {
    "duration": 22,
    "start_time": "2024-08-05T20:57:03.504Z"
   },
   {
    "duration": 20,
    "start_time": "2024-08-05T20:57:04.194Z"
   },
   {
    "duration": 1534,
    "start_time": "2024-08-05T20:57:45.905Z"
   },
   {
    "duration": 48,
    "start_time": "2024-08-05T20:57:48.873Z"
   },
   {
    "duration": 5,
    "start_time": "2024-08-05T20:57:50.289Z"
   },
   {
    "duration": 1384,
    "start_time": "2024-08-06T01:23:04.704Z"
   },
   {
    "duration": 45,
    "start_time": "2024-08-06T01:23:06.091Z"
   },
   {
    "duration": 5,
    "start_time": "2024-08-06T01:23:06.553Z"
   },
   {
    "duration": 16,
    "start_time": "2024-08-06T01:23:07.634Z"
   },
   {
    "duration": 15,
    "start_time": "2024-08-06T01:23:08.362Z"
   },
   {
    "duration": 9,
    "start_time": "2024-08-06T01:23:09.053Z"
   },
   {
    "duration": 6,
    "start_time": "2024-08-06T01:23:09.567Z"
   },
   {
    "duration": 8,
    "start_time": "2024-08-06T01:23:09.999Z"
   },
   {
    "duration": 17,
    "start_time": "2024-08-06T01:23:10.497Z"
   },
   {
    "duration": 13,
    "start_time": "2024-08-06T01:23:10.912Z"
   },
   {
    "duration": 13,
    "start_time": "2024-08-06T01:23:11.568Z"
   },
   {
    "duration": 13,
    "start_time": "2024-08-06T01:23:12.929Z"
   },
   {
    "duration": 12,
    "start_time": "2024-08-06T01:23:13.415Z"
   },
   {
    "duration": 3,
    "start_time": "2024-08-06T01:25:34.244Z"
   },
   {
    "duration": 6,
    "start_time": "2024-08-06T01:25:35.031Z"
   },
   {
    "duration": 8,
    "start_time": "2024-08-06T01:25:36.066Z"
   },
   {
    "duration": 6,
    "start_time": "2024-08-06T01:25:37.368Z"
   },
   {
    "duration": 5,
    "start_time": "2024-08-06T01:26:08.196Z"
   },
   {
    "duration": 7,
    "start_time": "2024-08-06T01:26:10.651Z"
   },
   {
    "duration": 7,
    "start_time": "2024-08-06T01:33:19.820Z"
   },
   {
    "duration": 462,
    "start_time": "2024-08-06T01:33:49.633Z"
   },
   {
    "duration": 7,
    "start_time": "2024-08-06T01:34:07.380Z"
   },
   {
    "duration": 12,
    "start_time": "2024-08-06T01:34:42.828Z"
   },
   {
    "duration": 13,
    "start_time": "2024-08-06T01:34:43.296Z"
   },
   {
    "duration": 13,
    "start_time": "2024-08-06T01:35:47.595Z"
   },
   {
    "duration": 7,
    "start_time": "2024-08-06T01:35:48.497Z"
   },
   {
    "duration": 6,
    "start_time": "2024-08-06T01:35:50.249Z"
   },
   {
    "duration": 4,
    "start_time": "2024-08-06T01:35:50.967Z"
   },
   {
    "duration": 112,
    "start_time": "2024-08-06T01:35:51.601Z"
   },
   {
    "duration": 30,
    "start_time": "2024-08-06T01:36:15.086Z"
   },
   {
    "duration": 789,
    "start_time": "2024-08-06T01:37:05.894Z"
   },
   {
    "duration": 0,
    "start_time": "2024-08-06T01:37:06.691Z"
   },
   {
    "duration": 11,
    "start_time": "2024-08-06T01:38:50.534Z"
   },
   {
    "duration": 14,
    "start_time": "2024-08-06T01:38:51.312Z"
   },
   {
    "duration": 6,
    "start_time": "2024-08-06T01:38:52.516Z"
   },
   {
    "duration": 57,
    "start_time": "2024-08-06T01:38:53.258Z"
   },
   {
    "duration": 62,
    "start_time": "2024-08-06T01:38:53.932Z"
   },
   {
    "duration": 43,
    "start_time": "2024-08-06T01:38:55.177Z"
   },
   {
    "duration": 79,
    "start_time": "2024-08-06T01:39:11.642Z"
   },
   {
    "duration": 13,
    "start_time": "2024-08-06T01:39:21.211Z"
   },
   {
    "duration": 28,
    "start_time": "2024-08-06T01:39:21.966Z"
   },
   {
    "duration": 7,
    "start_time": "2024-08-06T01:39:24.448Z"
   },
   {
    "duration": 24,
    "start_time": "2024-08-06T01:39:24.848Z"
   },
   {
    "duration": 11,
    "start_time": "2024-08-06T01:39:25.172Z"
   },
   {
    "duration": 12,
    "start_time": "2024-08-06T01:39:25.478Z"
   },
   {
    "duration": 6,
    "start_time": "2024-08-06T01:39:25.786Z"
   },
   {
    "duration": 7,
    "start_time": "2024-08-06T01:39:26.052Z"
   },
   {
    "duration": 17,
    "start_time": "2024-08-06T01:39:26.332Z"
   },
   {
    "duration": 7,
    "start_time": "2024-08-06T01:39:26.583Z"
   },
   {
    "duration": 19,
    "start_time": "2024-08-06T01:39:26.876Z"
   },
   {
    "duration": 23,
    "start_time": "2024-08-06T01:39:27.486Z"
   },
   {
    "duration": 15,
    "start_time": "2024-08-06T01:39:27.776Z"
   },
   {
    "duration": 9,
    "start_time": "2024-08-06T01:39:28.541Z"
   },
   {
    "duration": 3,
    "start_time": "2024-08-06T01:39:28.951Z"
   },
   {
    "duration": 8,
    "start_time": "2024-08-06T01:39:29.481Z"
   },
   {
    "duration": 6,
    "start_time": "2024-08-06T01:39:29.973Z"
   },
   {
    "duration": 9,
    "start_time": "2024-08-06T01:39:31.038Z"
   },
   {
    "duration": 26,
    "start_time": "2024-08-06T01:39:31.781Z"
   },
   {
    "duration": 84,
    "start_time": "2024-08-06T01:39:32.761Z"
   },
   {
    "duration": 28,
    "start_time": "2024-08-06T01:39:55.753Z"
   },
   {
    "duration": 6124,
    "start_time": "2024-08-06T01:42:32.779Z"
   },
   {
    "duration": 33,
    "start_time": "2024-08-06T01:44:26.787Z"
   },
   {
    "duration": 275,
    "start_time": "2024-08-06T01:44:41.726Z"
   },
   {
    "duration": 5,
    "start_time": "2024-08-06T01:47:20.032Z"
   },
   {
    "duration": 7,
    "start_time": "2024-08-06T01:47:23.181Z"
   },
   {
    "duration": 12,
    "start_time": "2024-08-06T01:47:25.131Z"
   },
   {
    "duration": 19,
    "start_time": "2024-08-06T01:47:25.578Z"
   },
   {
    "duration": 12,
    "start_time": "2024-08-06T01:47:27.426Z"
   },
   {
    "duration": 79,
    "start_time": "2024-08-06T01:47:35.710Z"
   },
   {
    "duration": 11,
    "start_time": "2024-08-06T01:47:40.932Z"
   },
   {
    "duration": 6,
    "start_time": "2024-08-06T01:47:41.964Z"
   },
   {
    "duration": 7,
    "start_time": "2024-08-06T01:47:44.303Z"
   },
   {
    "duration": 9,
    "start_time": "2024-08-06T01:47:44.982Z"
   },
   {
    "duration": 9,
    "start_time": "2024-08-06T01:47:45.329Z"
   },
   {
    "duration": 183,
    "start_time": "2024-08-06T01:47:47.521Z"
   },
   {
    "duration": 1630,
    "start_time": "2024-08-06T01:49:26.457Z"
   },
   {
    "duration": 129,
    "start_time": "2024-08-06T01:49:58.007Z"
   },
   {
    "duration": 30,
    "start_time": "2024-08-06T01:52:06.219Z"
   },
   {
    "duration": 117,
    "start_time": "2024-08-06T01:52:20.504Z"
   },
   {
    "duration": 32,
    "start_time": "2024-08-06T01:54:19.872Z"
   },
   {
    "duration": 83,
    "start_time": "2024-08-06T01:54:31.557Z"
   },
   {
    "duration": 90,
    "start_time": "2024-08-06T01:54:59.358Z"
   },
   {
    "duration": 9,
    "start_time": "2024-08-06T01:56:05.949Z"
   },
   {
    "duration": 73,
    "start_time": "2024-08-06T01:56:21.902Z"
   },
   {
    "duration": 7,
    "start_time": "2024-08-06T01:58:00.651Z"
   },
   {
    "duration": 15,
    "start_time": "2024-08-06T01:58:59.330Z"
   },
   {
    "duration": 82,
    "start_time": "2024-08-06T01:59:07.109Z"
   },
   {
    "duration": 35,
    "start_time": "2024-08-06T01:59:23.610Z"
   },
   {
    "duration": 34,
    "start_time": "2024-08-06T01:59:47.802Z"
   },
   {
    "duration": 10,
    "start_time": "2024-08-06T02:00:46.451Z"
   },
   {
    "duration": 69,
    "start_time": "2024-08-06T02:00:53.211Z"
   },
   {
    "duration": 28,
    "start_time": "2024-08-06T02:01:42.960Z"
   },
   {
    "duration": 77,
    "start_time": "2024-08-06T02:01:51.949Z"
   },
   {
    "duration": 73,
    "start_time": "2024-08-06T02:02:07.733Z"
   },
   {
    "duration": 79,
    "start_time": "2024-08-06T02:02:30.974Z"
   },
   {
    "duration": 74,
    "start_time": "2024-08-06T02:02:47.668Z"
   },
   {
    "duration": 84,
    "start_time": "2024-08-06T02:03:50.770Z"
   },
   {
    "duration": 8,
    "start_time": "2024-08-06T02:04:11.287Z"
   },
   {
    "duration": 79,
    "start_time": "2024-08-06T02:04:12.171Z"
   },
   {
    "duration": 17,
    "start_time": "2024-08-06T02:04:24.426Z"
   },
   {
    "duration": 9,
    "start_time": "2024-08-06T02:04:25.509Z"
   },
   {
    "duration": 61,
    "start_time": "2024-08-06T02:04:26.192Z"
   },
   {
    "duration": 60,
    "start_time": "2024-08-06T02:04:46.165Z"
   },
   {
    "duration": 6,
    "start_time": "2024-08-06T02:04:51.370Z"
   },
   {
    "duration": 19,
    "start_time": "2024-08-06T02:05:21.594Z"
   },
   {
    "duration": 90,
    "start_time": "2024-08-06T02:06:48.706Z"
   },
   {
    "duration": 16,
    "start_time": "2024-08-06T02:07:07.951Z"
   },
   {
    "duration": 21,
    "start_time": "2024-08-06T02:08:11.136Z"
   },
   {
    "duration": 11,
    "start_time": "2024-08-06T02:08:54.903Z"
   },
   {
    "duration": 7,
    "start_time": "2024-08-06T02:11:37.066Z"
   },
   {
    "duration": 464,
    "start_time": "2024-08-06T02:11:37.807Z"
   },
   {
    "duration": 213,
    "start_time": "2024-08-06T02:11:48.492Z"
   },
   {
    "duration": 9,
    "start_time": "2024-08-06T02:12:11.469Z"
   },
   {
    "duration": 10,
    "start_time": "2024-08-06T02:12:14.732Z"
   },
   {
    "duration": 420,
    "start_time": "2024-08-06T02:12:50.713Z"
   },
   {
    "duration": 4,
    "start_time": "2024-08-06T02:17:40.944Z"
   },
   {
    "duration": 367,
    "start_time": "2024-08-06T02:49:33.786Z"
   },
   {
    "duration": 22,
    "start_time": "2024-08-06T02:49:34.467Z"
   },
   {
    "duration": 1401,
    "start_time": "2024-08-06T02:49:46.755Z"
   },
   {
    "duration": 35,
    "start_time": "2024-08-06T02:49:48.160Z"
   },
   {
    "duration": 10,
    "start_time": "2024-08-06T02:49:48.197Z"
   },
   {
    "duration": 17,
    "start_time": "2024-08-06T02:49:48.211Z"
   },
   {
    "duration": 16,
    "start_time": "2024-08-06T02:49:48.234Z"
   },
   {
    "duration": 43,
    "start_time": "2024-08-06T02:49:48.253Z"
   },
   {
    "duration": 6,
    "start_time": "2024-08-06T02:49:48.302Z"
   },
   {
    "duration": 9,
    "start_time": "2024-08-06T02:49:48.311Z"
   },
   {
    "duration": 5,
    "start_time": "2024-08-06T02:49:48.323Z"
   },
   {
    "duration": 15,
    "start_time": "2024-08-06T02:49:48.332Z"
   },
   {
    "duration": 9,
    "start_time": "2024-08-06T02:49:48.390Z"
   },
   {
    "duration": 17,
    "start_time": "2024-08-06T02:49:48.402Z"
   },
   {
    "duration": 16,
    "start_time": "2024-08-06T02:49:48.422Z"
   },
   {
    "duration": 5011,
    "start_time": "2024-08-06T02:49:48.445Z"
   },
   {
    "duration": 0,
    "start_time": "2024-08-06T02:49:53.459Z"
   },
   {
    "duration": 0,
    "start_time": "2024-08-06T02:49:53.463Z"
   },
   {
    "duration": 0,
    "start_time": "2024-08-06T02:49:53.465Z"
   },
   {
    "duration": 0,
    "start_time": "2024-08-06T02:49:53.467Z"
   },
   {
    "duration": 0,
    "start_time": "2024-08-06T02:49:53.468Z"
   },
   {
    "duration": 0,
    "start_time": "2024-08-06T02:49:53.470Z"
   },
   {
    "duration": 0,
    "start_time": "2024-08-06T02:49:53.493Z"
   },
   {
    "duration": 0,
    "start_time": "2024-08-06T02:49:53.495Z"
   },
   {
    "duration": 0,
    "start_time": "2024-08-06T02:49:53.497Z"
   },
   {
    "duration": 8,
    "start_time": "2024-08-06T02:50:48.090Z"
   },
   {
    "duration": 332,
    "start_time": "2024-08-06T02:50:48.790Z"
   },
   {
    "duration": 7,
    "start_time": "2024-08-06T02:50:58.192Z"
   },
   {
    "duration": 44,
    "start_time": "2024-08-06T02:55:19.872Z"
   },
   {
    "duration": 41,
    "start_time": "2024-08-06T02:55:31.902Z"
   },
   {
    "duration": 25,
    "start_time": "2024-08-06T02:55:50.961Z"
   },
   {
    "duration": 2683,
    "start_time": "2024-08-06T02:56:07.700Z"
   },
   {
    "duration": 611,
    "start_time": "2024-08-06T02:56:40.802Z"
   },
   {
    "duration": 95,
    "start_time": "2024-08-06T02:58:17.273Z"
   },
   {
    "duration": 77,
    "start_time": "2024-08-06T02:58:50.047Z"
   },
   {
    "duration": 78,
    "start_time": "2024-08-06T02:59:02.319Z"
   },
   {
    "duration": 74,
    "start_time": "2024-08-06T02:59:17.126Z"
   },
   {
    "duration": 5,
    "start_time": "2024-08-06T02:59:21.303Z"
   },
   {
    "duration": 9,
    "start_time": "2024-08-06T02:59:29.197Z"
   },
   {
    "duration": 24,
    "start_time": "2024-08-06T02:59:39.548Z"
   },
   {
    "duration": 14,
    "start_time": "2024-08-06T03:00:00.303Z"
   },
   {
    "duration": 9,
    "start_time": "2024-08-06T03:13:45.941Z"
   },
   {
    "duration": 420,
    "start_time": "2024-08-06T03:13:46.835Z"
   },
   {
    "duration": 11,
    "start_time": "2024-08-06T03:14:12.333Z"
   },
   {
    "duration": 26,
    "start_time": "2024-08-06T03:14:31.357Z"
   },
   {
    "duration": 12,
    "start_time": "2024-08-06T03:14:42.741Z"
   },
   {
    "duration": 31,
    "start_time": "2024-08-06T03:15:48.285Z"
   },
   {
    "duration": 31,
    "start_time": "2024-08-06T03:16:01.498Z"
   },
   {
    "duration": 331,
    "start_time": "2024-08-06T03:16:16.166Z"
   },
   {
    "duration": 414,
    "start_time": "2024-08-06T03:16:28.821Z"
   },
   {
    "duration": 308,
    "start_time": "2024-08-06T03:17:04.864Z"
   },
   {
    "duration": 675,
    "start_time": "2024-08-06T03:17:51.735Z"
   },
   {
    "duration": 2598,
    "start_time": "2024-08-06T03:17:52.716Z"
   },
   {
    "duration": 31,
    "start_time": "2024-08-06T03:18:10.610Z"
   },
   {
    "duration": 2634,
    "start_time": "2024-08-06T03:18:11.500Z"
   },
   {
    "duration": 100,
    "start_time": "2024-08-06T03:18:36.280Z"
   },
   {
    "duration": 26,
    "start_time": "2024-08-06T03:18:52.433Z"
   },
   {
    "duration": 2666,
    "start_time": "2024-08-06T03:18:54.070Z"
   },
   {
    "duration": 21,
    "start_time": "2024-08-06T03:19:24.957Z"
   },
   {
    "duration": 1142,
    "start_time": "2024-08-06T03:19:25.811Z"
   },
   {
    "duration": 5,
    "start_time": "2024-08-06T03:21:46.670Z"
   },
   {
    "duration": 7,
    "start_time": "2024-08-06T03:21:48.136Z"
   },
   {
    "duration": 9,
    "start_time": "2024-08-06T03:21:48.969Z"
   },
   {
    "duration": 399,
    "start_time": "2024-08-06T03:22:04.202Z"
   },
   {
    "duration": 563,
    "start_time": "2024-08-06T03:22:12.626Z"
   },
   {
    "duration": 455,
    "start_time": "2024-08-06T03:22:38.154Z"
   },
   {
    "duration": 86,
    "start_time": "2024-08-06T03:23:41.329Z"
   },
   {
    "duration": 82,
    "start_time": "2024-08-06T03:24:03.417Z"
   },
   {
    "duration": 73,
    "start_time": "2024-08-06T03:25:49.679Z"
   },
   {
    "duration": 1419,
    "start_time": "2024-08-06T03:26:47.451Z"
   },
   {
    "duration": 0,
    "start_time": "2024-08-06T03:26:48.874Z"
   },
   {
    "duration": 76,
    "start_time": "2024-08-06T03:26:58.811Z"
   },
   {
    "duration": 5228,
    "start_time": "2024-08-06T20:19:20.885Z"
   },
   {
    "duration": 34,
    "start_time": "2024-08-06T20:19:26.116Z"
   },
   {
    "duration": 7,
    "start_time": "2024-08-06T20:19:26.153Z"
   },
   {
    "duration": 16,
    "start_time": "2024-08-06T20:19:26.163Z"
   },
   {
    "duration": 47,
    "start_time": "2024-08-06T20:19:26.183Z"
   },
   {
    "duration": 9,
    "start_time": "2024-08-06T20:19:26.233Z"
   },
   {
    "duration": 6,
    "start_time": "2024-08-06T20:19:26.245Z"
   },
   {
    "duration": 8,
    "start_time": "2024-08-06T20:19:26.255Z"
   },
   {
    "duration": 5,
    "start_time": "2024-08-06T20:19:26.266Z"
   },
   {
    "duration": 61,
    "start_time": "2024-08-06T20:19:26.275Z"
   },
   {
    "duration": 8,
    "start_time": "2024-08-06T20:19:26.339Z"
   },
   {
    "duration": 11,
    "start_time": "2024-08-06T20:19:26.350Z"
   },
   {
    "duration": 11,
    "start_time": "2024-08-06T20:19:26.364Z"
   },
   {
    "duration": 50,
    "start_time": "2024-08-06T20:19:26.381Z"
   },
   {
    "duration": 437,
    "start_time": "2024-08-06T20:19:26.434Z"
   },
   {
    "duration": 26,
    "start_time": "2024-08-06T20:19:26.874Z"
   },
   {
    "duration": 1154,
    "start_time": "2024-08-06T20:19:26.903Z"
   },
   {
    "duration": 5,
    "start_time": "2024-08-06T20:19:28.060Z"
   },
   {
    "duration": 8,
    "start_time": "2024-08-06T20:19:28.068Z"
   },
   {
    "duration": 11,
    "start_time": "2024-08-06T20:19:28.079Z"
   },
   {
    "duration": 5,
    "start_time": "2024-08-06T20:19:28.130Z"
   },
   {
    "duration": 7,
    "start_time": "2024-08-06T20:19:28.138Z"
   },
   {
    "duration": 9,
    "start_time": "2024-08-06T20:19:28.148Z"
   },
   {
    "duration": 6,
    "start_time": "2024-08-06T20:19:28.160Z"
   },
   {
    "duration": 5,
    "start_time": "2024-08-06T20:19:28.169Z"
   },
   {
    "duration": 424,
    "start_time": "2024-08-06T20:19:28.178Z"
   },
   {
    "duration": 5242,
    "start_time": "2024-08-06T20:19:28.607Z"
   },
   {
    "duration": 11,
    "start_time": "2024-08-06T20:19:33.853Z"
   },
   {
    "duration": 61,
    "start_time": "2024-08-06T20:19:33.868Z"
   },
   {
    "duration": 310,
    "start_time": "2024-08-06T20:20:06.090Z"
   },
   {
    "duration": 5,
    "start_time": "2024-08-06T20:21:19.647Z"
   },
   {
    "duration": 15,
    "start_time": "2024-08-06T20:21:38.002Z"
   },
   {
    "duration": 10,
    "start_time": "2024-08-06T20:21:46.313Z"
   },
   {
    "duration": 287,
    "start_time": "2024-08-06T20:25:38.447Z"
   },
   {
    "duration": 306,
    "start_time": "2024-08-06T20:25:47.027Z"
   },
   {
    "duration": 23,
    "start_time": "2024-08-06T20:25:47.337Z"
   },
   {
    "duration": 371,
    "start_time": "2024-08-06T20:25:57.904Z"
   },
   {
    "duration": 191,
    "start_time": "2024-08-06T20:28:26.917Z"
   },
   {
    "duration": 345,
    "start_time": "2024-08-06T20:29:03.803Z"
   },
   {
    "duration": 446,
    "start_time": "2024-08-06T20:29:26.062Z"
   },
   {
    "duration": 349,
    "start_time": "2024-08-06T20:29:41.185Z"
   },
   {
    "duration": 22,
    "start_time": "2024-08-06T20:30:55.582Z"
   },
   {
    "duration": 20,
    "start_time": "2024-08-06T20:31:15.297Z"
   },
   {
    "duration": 36,
    "start_time": "2024-08-06T20:32:14.319Z"
   },
   {
    "duration": 1095,
    "start_time": "2024-08-06T20:32:15.141Z"
   },
   {
    "duration": 8,
    "start_time": "2024-08-06T20:32:40.010Z"
   },
   {
    "duration": 8,
    "start_time": "2024-08-06T20:32:47.774Z"
   },
   {
    "duration": 1215,
    "start_time": "2024-08-06T20:32:48.501Z"
   },
   {
    "duration": 39,
    "start_time": "2024-08-06T20:33:22.226Z"
   },
   {
    "duration": 1216,
    "start_time": "2024-08-06T20:33:29.424Z"
   },
   {
    "duration": 8,
    "start_time": "2024-08-06T20:35:12.939Z"
   },
   {
    "duration": 10,
    "start_time": "2024-08-06T20:35:13.239Z"
   },
   {
    "duration": 7,
    "start_time": "2024-08-06T21:10:59.791Z"
   },
   {
    "duration": 7,
    "start_time": "2024-08-06T21:11:28.328Z"
   },
   {
    "duration": 7,
    "start_time": "2024-08-06T21:11:47.350Z"
   },
   {
    "duration": 7,
    "start_time": "2024-08-06T21:13:53.430Z"
   },
   {
    "duration": 411,
    "start_time": "2024-08-06T21:14:16.870Z"
   },
   {
    "duration": 35,
    "start_time": "2024-08-06T21:14:39.609Z"
   },
   {
    "duration": 32,
    "start_time": "2024-08-06T21:17:09.322Z"
   },
   {
    "duration": 31,
    "start_time": "2024-08-06T21:17:21.755Z"
   },
   {
    "duration": 11,
    "start_time": "2024-08-06T21:19:41.240Z"
   },
   {
    "duration": 10,
    "start_time": "2024-08-06T21:19:41.934Z"
   },
   {
    "duration": 31,
    "start_time": "2024-08-06T21:19:53.759Z"
   },
   {
    "duration": 24,
    "start_time": "2024-08-06T21:21:12.407Z"
   },
   {
    "duration": 7,
    "start_time": "2024-08-06T21:21:26.796Z"
   },
   {
    "duration": 874,
    "start_time": "2024-08-06T21:21:27.882Z"
   },
   {
    "duration": 22,
    "start_time": "2024-08-06T21:21:29.803Z"
   },
   {
    "duration": 7,
    "start_time": "2024-08-06T21:23:25.179Z"
   },
   {
    "duration": 7,
    "start_time": "2024-08-06T21:23:25.991Z"
   },
   {
    "duration": 7,
    "start_time": "2024-08-06T21:23:46.541Z"
   },
   {
    "duration": 11,
    "start_time": "2024-08-06T21:23:47.028Z"
   },
   {
    "duration": 7,
    "start_time": "2024-08-06T21:23:48.000Z"
   },
   {
    "duration": 20,
    "start_time": "2024-08-06T21:23:48.685Z"
   },
   {
    "duration": 19,
    "start_time": "2024-08-06T21:23:49.687Z"
   },
   {
    "duration": 29,
    "start_time": "2024-08-06T21:24:26.045Z"
   },
   {
    "duration": 23,
    "start_time": "2024-08-06T21:24:46.756Z"
   },
   {
    "duration": 8,
    "start_time": "2024-08-06T21:25:50.744Z"
   },
   {
    "duration": 10,
    "start_time": "2024-08-06T21:25:51.490Z"
   },
   {
    "duration": 7,
    "start_time": "2024-08-06T21:27:42.562Z"
   },
   {
    "duration": 15,
    "start_time": "2024-08-06T21:27:43.490Z"
   },
   {
    "duration": 22,
    "start_time": "2024-08-06T21:27:44.102Z"
   },
   {
    "duration": 19,
    "start_time": "2024-08-06T21:28:44.222Z"
   },
   {
    "duration": 9,
    "start_time": "2024-08-06T21:29:08.627Z"
   },
   {
    "duration": 16,
    "start_time": "2024-08-06T21:29:17.952Z"
   },
   {
    "duration": 5,
    "start_time": "2024-08-06T21:31:35.303Z"
   },
   {
    "duration": 13,
    "start_time": "2024-08-06T21:33:22.705Z"
   },
   {
    "duration": 3,
    "start_time": "2024-08-06T21:33:34.500Z"
   },
   {
    "duration": 7,
    "start_time": "2024-08-06T21:34:32.921Z"
   },
   {
    "duration": 29,
    "start_time": "2024-08-06T21:34:57.830Z"
   },
   {
    "duration": 12,
    "start_time": "2024-08-06T21:35:17.314Z"
   },
   {
    "duration": 4,
    "start_time": "2024-08-06T21:35:18.043Z"
   },
   {
    "duration": 3,
    "start_time": "2024-08-06T21:35:18.812Z"
   },
   {
    "duration": 173,
    "start_time": "2024-08-06T21:35:19.359Z"
   },
   {
    "duration": 83,
    "start_time": "2024-08-06T21:35:56.576Z"
   },
   {
    "duration": 80,
    "start_time": "2024-08-06T21:36:56.661Z"
   },
   {
    "duration": 10,
    "start_time": "2024-08-06T21:37:10.852Z"
   },
   {
    "duration": 4,
    "start_time": "2024-08-06T21:37:11.647Z"
   },
   {
    "duration": 3,
    "start_time": "2024-08-06T21:37:12.220Z"
   },
   {
    "duration": 80,
    "start_time": "2024-08-06T21:37:12.912Z"
   },
   {
    "duration": 243,
    "start_time": "2024-08-06T21:38:42.888Z"
   },
   {
    "duration": 2688,
    "start_time": "2024-08-06T21:39:30.578Z"
   },
   {
    "duration": 80,
    "start_time": "2024-08-06T21:40:37.712Z"
   },
   {
    "duration": 2642,
    "start_time": "2024-08-06T21:40:48.788Z"
   },
   {
    "duration": 2638,
    "start_time": "2024-08-06T21:41:44.043Z"
   },
   {
    "duration": 7,
    "start_time": "2024-08-06T21:42:01.259Z"
   },
   {
    "duration": 295,
    "start_time": "2024-08-06T21:44:49.842Z"
   },
   {
    "duration": 5,
    "start_time": "2024-08-06T21:45:01.497Z"
   },
   {
    "duration": 3,
    "start_time": "2024-08-06T21:46:27.078Z"
   },
   {
    "duration": 307,
    "start_time": "2024-08-06T21:47:09.193Z"
   },
   {
    "duration": 5159,
    "start_time": "2024-08-06T21:47:17.562Z"
   },
   {
    "duration": 17,
    "start_time": "2024-08-06T21:47:27.840Z"
   },
   {
    "duration": 10,
    "start_time": "2024-08-06T21:47:31.219Z"
   },
   {
    "duration": 13,
    "start_time": "2024-08-06T21:47:32.561Z"
   },
   {
    "duration": 5,
    "start_time": "2024-08-06T22:49:56.166Z"
   },
   {
    "duration": 951,
    "start_time": "2024-08-06T22:50:13.771Z"
   },
   {
    "duration": 7,
    "start_time": "2024-08-06T22:50:31.946Z"
   },
   {
    "duration": 21,
    "start_time": "2024-08-06T22:56:58.698Z"
   },
   {
    "duration": 607,
    "start_time": "2024-08-06T22:57:16.065Z"
   },
   {
    "duration": 1605,
    "start_time": "2024-08-06T23:16:33.106Z"
   },
   {
    "duration": 32,
    "start_time": "2024-08-06T23:16:34.715Z"
   },
   {
    "duration": 6,
    "start_time": "2024-08-06T23:16:34.750Z"
   },
   {
    "duration": 16,
    "start_time": "2024-08-06T23:16:34.760Z"
   },
   {
    "duration": 14,
    "start_time": "2024-08-06T23:16:34.779Z"
   },
   {
    "duration": 37,
    "start_time": "2024-08-06T23:16:34.796Z"
   },
   {
    "duration": 10,
    "start_time": "2024-08-06T23:16:34.837Z"
   },
   {
    "duration": 7,
    "start_time": "2024-08-06T23:16:34.850Z"
   },
   {
    "duration": 8,
    "start_time": "2024-08-06T23:16:34.861Z"
   },
   {
    "duration": 54,
    "start_time": "2024-08-06T23:16:34.876Z"
   },
   {
    "duration": 12,
    "start_time": "2024-08-06T23:16:34.933Z"
   },
   {
    "duration": 6,
    "start_time": "2024-08-06T23:16:34.948Z"
   },
   {
    "duration": 10,
    "start_time": "2024-08-06T23:16:34.958Z"
   },
   {
    "duration": 12,
    "start_time": "2024-08-06T23:16:34.971Z"
   },
   {
    "duration": 51,
    "start_time": "2024-08-06T23:16:34.985Z"
   },
   {
    "duration": 428,
    "start_time": "2024-08-06T23:16:35.039Z"
   },
   {
    "duration": 35,
    "start_time": "2024-08-06T23:16:35.471Z"
   },
   {
    "duration": 1141,
    "start_time": "2024-08-06T23:16:35.509Z"
   },
   {
    "duration": 5,
    "start_time": "2024-08-06T23:16:36.653Z"
   },
   {
    "duration": 7,
    "start_time": "2024-08-06T23:16:36.662Z"
   },
   {
    "duration": 10,
    "start_time": "2024-08-06T23:16:36.672Z"
   },
   {
    "duration": 47,
    "start_time": "2024-08-06T23:16:36.685Z"
   },
   {
    "duration": 8,
    "start_time": "2024-08-06T23:16:36.735Z"
   },
   {
    "duration": 7,
    "start_time": "2024-08-06T23:16:36.747Z"
   },
   {
    "duration": 18,
    "start_time": "2024-08-06T23:16:36.758Z"
   },
   {
    "duration": 62,
    "start_time": "2024-08-06T23:16:36.780Z"
   },
   {
    "duration": 18,
    "start_time": "2024-08-06T23:16:36.845Z"
   },
   {
    "duration": 15,
    "start_time": "2024-08-06T23:16:36.871Z"
   },
   {
    "duration": 6,
    "start_time": "2024-08-06T23:16:36.889Z"
   },
   {
    "duration": 4,
    "start_time": "2024-08-06T23:16:36.930Z"
   },
   {
    "duration": 12,
    "start_time": "2024-08-06T23:16:36.936Z"
   },
   {
    "duration": 4,
    "start_time": "2024-08-06T23:16:36.952Z"
   },
   {
    "duration": 3,
    "start_time": "2024-08-06T23:16:36.960Z"
   },
   {
    "duration": 2246,
    "start_time": "2024-08-06T23:16:36.966Z"
   },
   {
    "duration": 267,
    "start_time": "2024-08-06T23:16:39.215Z"
   },
   {
    "duration": 5,
    "start_time": "2024-08-06T23:16:39.485Z"
   },
   {
    "duration": 5,
    "start_time": "2024-08-06T23:16:39.493Z"
   },
   {
    "duration": 994,
    "start_time": "2024-08-06T23:16:39.501Z"
   },
   {
    "duration": 44,
    "start_time": "2024-08-06T23:16:40.500Z"
   },
   {
    "duration": 617,
    "start_time": "2024-08-06T23:16:40.547Z"
   },
   {
    "duration": 6,
    "start_time": "2024-08-06T23:16:41.167Z"
   },
   {
    "duration": 307,
    "start_time": "2024-08-06T23:16:41.175Z"
   },
   {
    "duration": 17,
    "start_time": "2024-08-06T23:16:41.485Z"
   },
   {
    "duration": 25,
    "start_time": "2024-08-06T23:16:41.505Z"
   },
   {
    "duration": 19,
    "start_time": "2024-08-06T23:16:41.534Z"
   },
   {
    "duration": 17,
    "start_time": "2024-08-06T23:18:02.663Z"
   },
   {
    "duration": 19,
    "start_time": "2024-08-06T23:18:52.935Z"
   },
   {
    "duration": 20,
    "start_time": "2024-08-06T23:19:07.559Z"
   },
   {
    "duration": 323,
    "start_time": "2024-08-06T23:19:17.338Z"
   },
   {
    "duration": 3031,
    "start_time": "2024-08-06T23:20:07.111Z"
   },
   {
    "duration": 278,
    "start_time": "2024-08-06T23:20:24.014Z"
   },
   {
    "duration": 1541,
    "start_time": "2024-08-06T23:21:09.118Z"
   },
   {
    "duration": 14,
    "start_time": "2024-08-06T23:21:27.881Z"
   },
   {
    "duration": 171,
    "start_time": "2024-08-06T23:36:48.665Z"
   },
   {
    "duration": 25,
    "start_time": "2024-08-06T23:36:54.915Z"
   },
   {
    "duration": 25,
    "start_time": "2024-08-06T23:37:02.496Z"
   },
   {
    "duration": 13,
    "start_time": "2024-08-06T23:37:39.124Z"
   },
   {
    "duration": 1658,
    "start_time": "2024-08-06T23:39:38.802Z"
   },
   {
    "duration": 27,
    "start_time": "2024-08-06T23:39:40.464Z"
   },
   {
    "duration": 5,
    "start_time": "2024-08-06T23:39:40.494Z"
   },
   {
    "duration": 36,
    "start_time": "2024-08-06T23:39:40.503Z"
   },
   {
    "duration": 14,
    "start_time": "2024-08-06T23:39:40.543Z"
   },
   {
    "duration": 5,
    "start_time": "2024-08-06T23:39:40.560Z"
   },
   {
    "duration": 10,
    "start_time": "2024-08-06T23:39:40.568Z"
   },
   {
    "duration": 49,
    "start_time": "2024-08-06T23:39:40.581Z"
   },
   {
    "duration": 7,
    "start_time": "2024-08-06T23:39:40.633Z"
   },
   {
    "duration": 5,
    "start_time": "2024-08-06T23:39:40.644Z"
   },
   {
    "duration": 12,
    "start_time": "2024-08-06T23:39:40.653Z"
   },
   {
    "duration": 8,
    "start_time": "2024-08-06T23:39:40.667Z"
   },
   {
    "duration": 59,
    "start_time": "2024-08-06T23:39:40.677Z"
   },
   {
    "duration": 11,
    "start_time": "2024-08-06T23:39:40.742Z"
   },
   {
    "duration": 11,
    "start_time": "2024-08-06T23:39:40.756Z"
   },
   {
    "duration": 437,
    "start_time": "2024-08-06T23:39:40.770Z"
   },
   {
    "duration": 38,
    "start_time": "2024-08-06T23:39:41.210Z"
   },
   {
    "duration": 1143,
    "start_time": "2024-08-06T23:39:41.251Z"
   },
   {
    "duration": 4,
    "start_time": "2024-08-06T23:39:42.398Z"
   },
   {
    "duration": 25,
    "start_time": "2024-08-06T23:39:42.405Z"
   },
   {
    "duration": 15,
    "start_time": "2024-08-06T23:39:42.435Z"
   },
   {
    "duration": 8,
    "start_time": "2024-08-06T23:39:42.453Z"
   },
   {
    "duration": 8,
    "start_time": "2024-08-06T23:39:42.465Z"
   },
   {
    "duration": 7,
    "start_time": "2024-08-06T23:39:42.477Z"
   },
   {
    "duration": 21,
    "start_time": "2024-08-06T23:39:42.531Z"
   },
   {
    "duration": 20,
    "start_time": "2024-08-06T23:39:42.555Z"
   },
   {
    "duration": 14,
    "start_time": "2024-08-06T23:39:42.578Z"
   },
   {
    "duration": 47,
    "start_time": "2024-08-06T23:39:42.597Z"
   },
   {
    "duration": 5,
    "start_time": "2024-08-06T23:39:42.648Z"
   },
   {
    "duration": 4,
    "start_time": "2024-08-06T23:39:42.656Z"
   },
   {
    "duration": 11,
    "start_time": "2024-08-06T23:39:42.662Z"
   },
   {
    "duration": 5,
    "start_time": "2024-08-06T23:39:42.676Z"
   },
   {
    "duration": 48,
    "start_time": "2024-08-06T23:39:42.684Z"
   },
   {
    "duration": 2221,
    "start_time": "2024-08-06T23:39:42.735Z"
   },
   {
    "duration": 261,
    "start_time": "2024-08-06T23:39:44.960Z"
   },
   {
    "duration": 11,
    "start_time": "2024-08-06T23:39:45.223Z"
   },
   {
    "duration": 5,
    "start_time": "2024-08-06T23:39:45.237Z"
   },
   {
    "duration": 1014,
    "start_time": "2024-08-06T23:39:45.247Z"
   },
   {
    "duration": 22,
    "start_time": "2024-08-06T23:39:46.264Z"
   },
   {
    "duration": 633,
    "start_time": "2024-08-06T23:39:46.288Z"
   },
   {
    "duration": 6,
    "start_time": "2024-08-06T23:39:46.937Z"
   },
   {
    "duration": 320,
    "start_time": "2024-08-06T23:39:46.946Z"
   },
   {
    "duration": 3032,
    "start_time": "2024-08-06T23:39:47.269Z"
   },
   {
    "duration": 10,
    "start_time": "2024-08-06T23:39:50.303Z"
   },
   {
    "duration": 16,
    "start_time": "2024-08-06T23:39:50.331Z"
   },
   {
    "duration": 1682,
    "start_time": "2024-08-08T18:06:33.332Z"
   },
   {
    "duration": 38,
    "start_time": "2024-08-08T18:06:35.018Z"
   },
   {
    "duration": 6,
    "start_time": "2024-08-08T18:06:35.060Z"
   },
   {
    "duration": 16,
    "start_time": "2024-08-08T18:06:35.071Z"
   },
   {
    "duration": 14,
    "start_time": "2024-08-08T18:06:35.105Z"
   },
   {
    "duration": 7,
    "start_time": "2024-08-08T18:06:35.121Z"
   },
   {
    "duration": 10,
    "start_time": "2024-08-08T18:06:35.131Z"
   },
   {
    "duration": 5,
    "start_time": "2024-08-08T18:06:35.144Z"
   },
   {
    "duration": 55,
    "start_time": "2024-08-08T18:06:35.152Z"
   },
   {
    "duration": 5,
    "start_time": "2024-08-08T18:06:35.213Z"
   },
   {
    "duration": 13,
    "start_time": "2024-08-08T18:06:35.222Z"
   },
   {
    "duration": 8,
    "start_time": "2024-08-08T18:06:35.238Z"
   },
   {
    "duration": 57,
    "start_time": "2024-08-08T18:06:35.249Z"
   },
   {
    "duration": 12,
    "start_time": "2024-08-08T18:06:35.309Z"
   },
   {
    "duration": 12,
    "start_time": "2024-08-08T18:06:35.323Z"
   },
   {
    "duration": 415,
    "start_time": "2024-08-08T18:06:35.338Z"
   },
   {
    "duration": 59,
    "start_time": "2024-08-08T18:06:35.756Z"
   },
   {
    "duration": 1134,
    "start_time": "2024-08-08T18:06:35.818Z"
   },
   {
    "duration": 5,
    "start_time": "2024-08-08T18:06:36.955Z"
   },
   {
    "duration": 9,
    "start_time": "2024-08-08T18:06:36.963Z"
   },
   {
    "duration": 36,
    "start_time": "2024-08-08T18:06:36.976Z"
   },
   {
    "duration": 8,
    "start_time": "2024-08-08T18:06:37.014Z"
   },
   {
    "duration": 8,
    "start_time": "2024-08-08T18:06:37.025Z"
   },
   {
    "duration": 7,
    "start_time": "2024-08-08T18:06:37.037Z"
   },
   {
    "duration": 66,
    "start_time": "2024-08-08T18:06:37.047Z"
   },
   {
    "duration": 17,
    "start_time": "2024-08-08T18:06:37.115Z"
   },
   {
    "duration": 9,
    "start_time": "2024-08-08T18:06:37.135Z"
   },
   {
    "duration": 16,
    "start_time": "2024-08-08T18:06:37.153Z"
   },
   {
    "duration": 7,
    "start_time": "2024-08-08T18:06:37.208Z"
   },
   {
    "duration": 6,
    "start_time": "2024-08-08T18:06:37.218Z"
   },
   {
    "duration": 11,
    "start_time": "2024-08-08T18:06:37.227Z"
   },
   {
    "duration": 4,
    "start_time": "2024-08-08T18:06:37.241Z"
   },
   {
    "duration": 3,
    "start_time": "2024-08-08T18:06:37.249Z"
   },
   {
    "duration": 775,
    "start_time": "2024-08-08T18:06:37.255Z"
   },
   {
    "duration": 0,
    "start_time": "2024-08-08T18:06:38.033Z"
   },
   {
    "duration": 0,
    "start_time": "2024-08-08T18:06:38.036Z"
   },
   {
    "duration": 0,
    "start_time": "2024-08-08T18:06:38.038Z"
   },
   {
    "duration": 0,
    "start_time": "2024-08-08T18:06:38.040Z"
   },
   {
    "duration": 0,
    "start_time": "2024-08-08T18:06:38.043Z"
   },
   {
    "duration": 0,
    "start_time": "2024-08-08T18:06:38.045Z"
   },
   {
    "duration": 0,
    "start_time": "2024-08-08T18:06:38.048Z"
   },
   {
    "duration": 0,
    "start_time": "2024-08-08T18:06:38.050Z"
   },
   {
    "duration": 0,
    "start_time": "2024-08-08T18:06:38.051Z"
   },
   {
    "duration": 0,
    "start_time": "2024-08-08T18:06:38.053Z"
   },
   {
    "duration": 0,
    "start_time": "2024-08-08T18:06:38.055Z"
   },
   {
    "duration": 81,
    "start_time": "2024-08-08T18:07:02.202Z"
   },
   {
    "duration": 6,
    "start_time": "2024-08-08T18:07:02.288Z"
   },
   {
    "duration": 6,
    "start_time": "2024-08-08T18:07:02.308Z"
   },
   {
    "duration": 1002,
    "start_time": "2024-08-08T18:07:02.318Z"
   },
   {
    "duration": 24,
    "start_time": "2024-08-08T18:07:03.325Z"
   },
   {
    "duration": 659,
    "start_time": "2024-08-08T18:07:03.351Z"
   },
   {
    "duration": 6,
    "start_time": "2024-08-08T18:07:04.013Z"
   },
   {
    "duration": 349,
    "start_time": "2024-08-08T18:07:04.023Z"
   },
   {
    "duration": 3831,
    "start_time": "2024-08-08T18:07:04.375Z"
   },
   {
    "duration": 12,
    "start_time": "2024-08-08T18:07:08.210Z"
   },
   {
    "duration": 16,
    "start_time": "2024-08-08T18:07:08.225Z"
   },
   {
    "duration": 8,
    "start_time": "2024-08-08T18:09:22.749Z"
   },
   {
    "duration": 5195,
    "start_time": "2024-08-10T14:20:03.838Z"
   },
   {
    "duration": 34,
    "start_time": "2024-08-10T14:20:09.037Z"
   },
   {
    "duration": 6,
    "start_time": "2024-08-10T14:20:09.074Z"
   },
   {
    "duration": 16,
    "start_time": "2024-08-10T14:20:09.084Z"
   },
   {
    "duration": 35,
    "start_time": "2024-08-10T14:20:09.105Z"
   },
   {
    "duration": 7,
    "start_time": "2024-08-10T14:20:09.142Z"
   },
   {
    "duration": 9,
    "start_time": "2024-08-10T14:20:09.152Z"
   },
   {
    "duration": 9,
    "start_time": "2024-08-10T14:20:09.163Z"
   },
   {
    "duration": 10,
    "start_time": "2024-08-10T14:20:09.174Z"
   },
   {
    "duration": 5,
    "start_time": "2024-08-10T14:20:09.232Z"
   },
   {
    "duration": 13,
    "start_time": "2024-08-10T14:20:09.240Z"
   },
   {
    "duration": 6,
    "start_time": "2024-08-10T14:20:09.256Z"
   },
   {
    "duration": 11,
    "start_time": "2024-08-10T14:20:09.265Z"
   },
   {
    "duration": 53,
    "start_time": "2024-08-10T14:20:09.284Z"
   },
   {
    "duration": 10,
    "start_time": "2024-08-10T14:20:09.341Z"
   },
   {
    "duration": 401,
    "start_time": "2024-08-10T14:20:09.355Z"
   },
   {
    "duration": 35,
    "start_time": "2024-08-10T14:20:09.759Z"
   },
   {
    "duration": 1252,
    "start_time": "2024-08-10T14:20:09.797Z"
   },
   {
    "duration": 5,
    "start_time": "2024-08-10T14:20:11.053Z"
   },
   {
    "duration": 7,
    "start_time": "2024-08-10T14:20:11.061Z"
   },
   {
    "duration": 9,
    "start_time": "2024-08-10T14:20:11.072Z"
   },
   {
    "duration": 44,
    "start_time": "2024-08-10T14:20:11.085Z"
   },
   {
    "duration": 9,
    "start_time": "2024-08-10T14:20:11.132Z"
   },
   {
    "duration": 8,
    "start_time": "2024-08-10T14:20:11.144Z"
   },
   {
    "duration": 18,
    "start_time": "2024-08-10T14:20:11.155Z"
   },
   {
    "duration": 60,
    "start_time": "2024-08-10T14:20:11.176Z"
   },
   {
    "duration": 10,
    "start_time": "2024-08-10T14:20:11.240Z"
   },
   {
    "duration": 16,
    "start_time": "2024-08-10T14:20:11.252Z"
   },
   {
    "duration": 5,
    "start_time": "2024-08-10T14:20:11.272Z"
   },
   {
    "duration": 3,
    "start_time": "2024-08-10T14:20:11.281Z"
   },
   {
    "duration": 52,
    "start_time": "2024-08-10T14:20:11.287Z"
   },
   {
    "duration": 4,
    "start_time": "2024-08-10T14:20:11.342Z"
   },
   {
    "duration": 4,
    "start_time": "2024-08-10T14:20:11.350Z"
   },
   {
    "duration": 628,
    "start_time": "2024-08-10T14:20:11.358Z"
   },
   {
    "duration": 0,
    "start_time": "2024-08-10T14:20:11.990Z"
   },
   {
    "duration": 0,
    "start_time": "2024-08-10T14:20:11.991Z"
   },
   {
    "duration": 0,
    "start_time": "2024-08-10T14:20:11.993Z"
   },
   {
    "duration": 0,
    "start_time": "2024-08-10T14:20:11.995Z"
   },
   {
    "duration": 0,
    "start_time": "2024-08-10T14:20:11.998Z"
   },
   {
    "duration": 0,
    "start_time": "2024-08-10T14:20:12.001Z"
   },
   {
    "duration": 0,
    "start_time": "2024-08-10T14:20:12.030Z"
   },
   {
    "duration": 0,
    "start_time": "2024-08-10T14:20:12.032Z"
   },
   {
    "duration": 0,
    "start_time": "2024-08-10T14:20:12.034Z"
   },
   {
    "duration": 0,
    "start_time": "2024-08-10T14:20:12.036Z"
   },
   {
    "duration": 0,
    "start_time": "2024-08-10T14:20:12.038Z"
   },
   {
    "duration": 3,
    "start_time": "2024-08-10T14:20:31.626Z"
   },
   {
    "duration": 3,
    "start_time": "2024-08-10T14:20:32.446Z"
   },
   {
    "duration": 78,
    "start_time": "2024-08-10T14:20:33.885Z"
   },
   {
    "duration": 6,
    "start_time": "2024-08-10T14:20:42.316Z"
   },
   {
    "duration": 23,
    "start_time": "2024-08-10T14:20:43.204Z"
   },
   {
    "duration": 6,
    "start_time": "2024-08-10T14:20:44.261Z"
   },
   {
    "duration": 15,
    "start_time": "2024-08-10T14:20:44.750Z"
   },
   {
    "duration": 9,
    "start_time": "2024-08-10T14:20:45.373Z"
   },
   {
    "duration": 5,
    "start_time": "2024-08-10T14:20:45.670Z"
   },
   {
    "duration": 9,
    "start_time": "2024-08-10T14:20:45.946Z"
   },
   {
    "duration": 6,
    "start_time": "2024-08-10T14:20:46.305Z"
   },
   {
    "duration": 8,
    "start_time": "2024-08-10T14:20:46.574Z"
   },
   {
    "duration": 5,
    "start_time": "2024-08-10T14:20:46.948Z"
   },
   {
    "duration": 12,
    "start_time": "2024-08-10T14:20:47.234Z"
   },
   {
    "duration": 6,
    "start_time": "2024-08-10T14:20:47.536Z"
   },
   {
    "duration": 10,
    "start_time": "2024-08-10T14:20:47.865Z"
   },
   {
    "duration": 9,
    "start_time": "2024-08-10T14:20:48.833Z"
   },
   {
    "duration": 9,
    "start_time": "2024-08-10T14:20:49.288Z"
   },
   {
    "duration": 364,
    "start_time": "2024-08-10T14:20:49.824Z"
   },
   {
    "duration": 35,
    "start_time": "2024-08-10T14:20:50.786Z"
   },
   {
    "duration": 1109,
    "start_time": "2024-08-10T14:20:51.359Z"
   },
   {
    "duration": 5,
    "start_time": "2024-08-10T14:20:53.877Z"
   },
   {
    "duration": 7,
    "start_time": "2024-08-10T14:20:54.298Z"
   },
   {
    "duration": 9,
    "start_time": "2024-08-10T14:20:54.847Z"
   },
   {
    "duration": 7,
    "start_time": "2024-08-10T14:20:56.353Z"
   },
   {
    "duration": 8,
    "start_time": "2024-08-10T14:20:56.624Z"
   },
   {
    "duration": 7,
    "start_time": "2024-08-10T14:20:57.197Z"
   },
   {
    "duration": 16,
    "start_time": "2024-08-10T14:20:57.715Z"
   },
   {
    "duration": 18,
    "start_time": "2024-08-10T14:20:58.236Z"
   },
   {
    "duration": 11,
    "start_time": "2024-08-10T14:20:58.734Z"
   },
   {
    "duration": 15,
    "start_time": "2024-08-10T14:20:59.310Z"
   },
   {
    "duration": 5,
    "start_time": "2024-08-10T14:20:59.825Z"
   },
   {
    "duration": 3,
    "start_time": "2024-08-10T14:21:00.447Z"
   },
   {
    "duration": 10,
    "start_time": "2024-08-10T14:21:01.132Z"
   },
   {
    "duration": 4,
    "start_time": "2024-08-10T14:21:02.572Z"
   },
   {
    "duration": 3,
    "start_time": "2024-08-10T14:21:03.056Z"
   },
   {
    "duration": 167,
    "start_time": "2024-08-10T14:21:04.218Z"
   },
   {
    "duration": 11,
    "start_time": "2024-08-10T14:22:07.432Z"
   },
   {
    "duration": 4,
    "start_time": "2024-08-10T14:22:08.944Z"
   },
   {
    "duration": 3,
    "start_time": "2024-08-10T14:22:09.734Z"
   },
   {
    "duration": 78,
    "start_time": "2024-08-10T14:22:11.075Z"
   },
   {
    "duration": 2207,
    "start_time": "2024-08-10T14:23:40.682Z"
   },
   {
    "duration": 1690,
    "start_time": "2024-08-10T14:24:04.616Z"
   },
   {
    "duration": 33,
    "start_time": "2024-08-10T14:24:06.311Z"
   },
   {
    "duration": 6,
    "start_time": "2024-08-10T14:24:06.348Z"
   },
   {
    "duration": 17,
    "start_time": "2024-08-10T14:24:06.358Z"
   },
   {
    "duration": 51,
    "start_time": "2024-08-10T14:24:06.380Z"
   },
   {
    "duration": 7,
    "start_time": "2024-08-10T14:24:06.435Z"
   },
   {
    "duration": 11,
    "start_time": "2024-08-10T14:24:06.447Z"
   },
   {
    "duration": 7,
    "start_time": "2024-08-10T14:24:06.461Z"
   },
   {
    "duration": 7,
    "start_time": "2024-08-10T14:24:06.471Z"
   },
   {
    "duration": 48,
    "start_time": "2024-08-10T14:24:06.482Z"
   },
   {
    "duration": 15,
    "start_time": "2024-08-10T14:24:06.538Z"
   },
   {
    "duration": 8,
    "start_time": "2024-08-10T14:24:06.557Z"
   },
   {
    "duration": 12,
    "start_time": "2024-08-10T14:24:06.569Z"
   },
   {
    "duration": 49,
    "start_time": "2024-08-10T14:24:06.588Z"
   },
   {
    "duration": 15,
    "start_time": "2024-08-10T14:24:06.640Z"
   },
   {
    "duration": 417,
    "start_time": "2024-08-10T14:24:06.658Z"
   },
   {
    "duration": 63,
    "start_time": "2024-08-10T14:24:07.079Z"
   },
   {
    "duration": 1162,
    "start_time": "2024-08-10T14:24:07.145Z"
   },
   {
    "duration": 21,
    "start_time": "2024-08-10T14:24:08.310Z"
   },
   {
    "duration": 9,
    "start_time": "2024-08-10T14:24:08.335Z"
   },
   {
    "duration": 12,
    "start_time": "2024-08-10T14:24:08.347Z"
   },
   {
    "duration": 8,
    "start_time": "2024-08-10T14:24:08.362Z"
   },
   {
    "duration": 55,
    "start_time": "2024-08-10T14:24:08.375Z"
   },
   {
    "duration": 10,
    "start_time": "2024-08-10T14:24:08.433Z"
   },
   {
    "duration": 20,
    "start_time": "2024-08-10T14:24:08.446Z"
   },
   {
    "duration": 16,
    "start_time": "2024-08-10T14:24:08.470Z"
   },
   {
    "duration": 46,
    "start_time": "2024-08-10T14:24:08.490Z"
   },
   {
    "duration": 25,
    "start_time": "2024-08-10T14:24:08.540Z"
   },
   {
    "duration": 6,
    "start_time": "2024-08-10T14:24:08.570Z"
   },
   {
    "duration": 4,
    "start_time": "2024-08-10T14:24:08.580Z"
   },
   {
    "duration": 51,
    "start_time": "2024-08-10T14:24:08.588Z"
   },
   {
    "duration": 5,
    "start_time": "2024-08-10T14:24:08.643Z"
   },
   {
    "duration": 4,
    "start_time": "2024-08-10T14:24:08.653Z"
   },
   {
    "duration": 2296,
    "start_time": "2024-08-10T14:24:08.661Z"
   },
   {
    "duration": 306,
    "start_time": "2024-08-10T14:24:10.960Z"
   },
   {
    "duration": 6,
    "start_time": "2024-08-10T14:24:11.269Z"
   },
   {
    "duration": 8,
    "start_time": "2024-08-10T14:24:11.278Z"
   },
   {
    "duration": 1064,
    "start_time": "2024-08-10T14:24:11.290Z"
   },
   {
    "duration": 27,
    "start_time": "2024-08-10T14:24:12.357Z"
   },
   {
    "duration": 676,
    "start_time": "2024-08-10T14:24:12.388Z"
   },
   {
    "duration": 6,
    "start_time": "2024-08-10T14:24:13.072Z"
   },
   {
    "duration": 378,
    "start_time": "2024-08-10T14:24:13.082Z"
   },
   {
    "duration": 3019,
    "start_time": "2024-08-10T14:24:13.463Z"
   },
   {
    "duration": 10,
    "start_time": "2024-08-10T14:24:16.484Z"
   },
   {
    "duration": 35,
    "start_time": "2024-08-10T14:24:16.497Z"
   },
   {
    "duration": 6,
    "start_time": "2024-08-10T14:25:06.630Z"
   },
   {
    "duration": 2188,
    "start_time": "2024-08-10T14:25:45.467Z"
   },
   {
    "duration": 2199,
    "start_time": "2024-08-10T14:26:05.090Z"
   },
   {
    "duration": 648,
    "start_time": "2024-08-10T14:27:09.049Z"
   },
   {
    "duration": 82,
    "start_time": "2024-08-10T14:27:33.902Z"
   },
   {
    "duration": 1338,
    "start_time": "2024-08-10T14:28:02.539Z"
   },
   {
    "duration": 29,
    "start_time": "2024-08-10T14:28:16.693Z"
   },
   {
    "duration": 22,
    "start_time": "2024-08-10T14:28:24.473Z"
   },
   {
    "duration": 1565,
    "start_time": "2024-08-10T14:28:30.273Z"
   },
   {
    "duration": 25,
    "start_time": "2024-08-10T14:28:31.842Z"
   },
   {
    "duration": 5,
    "start_time": "2024-08-10T14:28:31.870Z"
   },
   {
    "duration": 15,
    "start_time": "2024-08-10T14:28:31.880Z"
   },
   {
    "duration": 12,
    "start_time": "2024-08-10T14:28:31.931Z"
   },
   {
    "duration": 5,
    "start_time": "2024-08-10T14:28:31.946Z"
   },
   {
    "duration": 11,
    "start_time": "2024-08-10T14:28:31.954Z"
   },
   {
    "duration": 6,
    "start_time": "2024-08-10T14:28:31.968Z"
   },
   {
    "duration": 7,
    "start_time": "2024-08-10T14:28:31.977Z"
   },
   {
    "duration": 52,
    "start_time": "2024-08-10T14:28:31.989Z"
   },
   {
    "duration": 16,
    "start_time": "2024-08-10T14:28:32.048Z"
   },
   {
    "duration": 7,
    "start_time": "2024-08-10T14:28:32.067Z"
   },
   {
    "duration": 11,
    "start_time": "2024-08-10T14:28:32.077Z"
   },
   {
    "duration": 18,
    "start_time": "2024-08-10T14:28:32.132Z"
   },
   {
    "duration": 10,
    "start_time": "2024-08-10T14:28:32.153Z"
   },
   {
    "duration": 417,
    "start_time": "2024-08-10T14:28:32.166Z"
   },
   {
    "duration": 61,
    "start_time": "2024-08-10T14:28:32.586Z"
   },
   {
    "duration": 1108,
    "start_time": "2024-08-10T14:28:32.650Z"
   },
   {
    "duration": 5,
    "start_time": "2024-08-10T14:28:33.761Z"
   },
   {
    "duration": 7,
    "start_time": "2024-08-10T14:28:33.769Z"
   },
   {
    "duration": 13,
    "start_time": "2024-08-10T14:28:33.779Z"
   },
   {
    "duration": 40,
    "start_time": "2024-08-10T14:28:33.795Z"
   },
   {
    "duration": 8,
    "start_time": "2024-08-10T14:28:33.839Z"
   },
   {
    "duration": 9,
    "start_time": "2024-08-10T14:28:33.850Z"
   },
   {
    "duration": 17,
    "start_time": "2024-08-10T14:28:33.863Z"
   },
   {
    "duration": 61,
    "start_time": "2024-08-10T14:28:33.883Z"
   },
   {
    "duration": 9,
    "start_time": "2024-08-10T14:28:33.947Z"
   },
   {
    "duration": 16,
    "start_time": "2024-08-10T14:28:33.964Z"
   },
   {
    "duration": 5,
    "start_time": "2024-08-10T14:28:33.983Z"
   },
   {
    "duration": 3,
    "start_time": "2024-08-10T14:28:34.030Z"
   },
   {
    "duration": 11,
    "start_time": "2024-08-10T14:28:34.037Z"
   },
   {
    "duration": 4,
    "start_time": "2024-08-10T14:28:34.051Z"
   },
   {
    "duration": 3,
    "start_time": "2024-08-10T14:28:34.059Z"
   },
   {
    "duration": 2245,
    "start_time": "2024-08-10T14:28:34.065Z"
   },
   {
    "duration": 663,
    "start_time": "2024-08-10T14:28:36.313Z"
   },
   {
    "duration": 0,
    "start_time": "2024-08-10T14:28:36.979Z"
   },
   {
    "duration": 0,
    "start_time": "2024-08-10T14:28:36.981Z"
   },
   {
    "duration": 0,
    "start_time": "2024-08-10T14:28:36.983Z"
   },
   {
    "duration": 0,
    "start_time": "2024-08-10T14:28:36.986Z"
   },
   {
    "duration": 0,
    "start_time": "2024-08-10T14:28:36.987Z"
   },
   {
    "duration": 0,
    "start_time": "2024-08-10T14:28:36.989Z"
   },
   {
    "duration": 0,
    "start_time": "2024-08-10T14:28:36.992Z"
   },
   {
    "duration": 0,
    "start_time": "2024-08-10T14:28:36.994Z"
   },
   {
    "duration": 0,
    "start_time": "2024-08-10T14:28:36.996Z"
   },
   {
    "duration": 0,
    "start_time": "2024-08-10T14:28:36.998Z"
   },
   {
    "duration": 0,
    "start_time": "2024-08-10T14:28:37.031Z"
   },
   {
    "duration": 2196,
    "start_time": "2024-08-10T14:32:58.081Z"
   },
   {
    "duration": 22,
    "start_time": "2024-08-10T14:34:02.558Z"
   },
   {
    "duration": 28,
    "start_time": "2024-08-10T14:34:44.261Z"
   },
   {
    "duration": 23,
    "start_time": "2024-08-10T14:34:50.294Z"
   },
   {
    "duration": 25,
    "start_time": "2024-08-10T14:34:53.415Z"
   },
   {
    "duration": 22,
    "start_time": "2024-08-10T14:34:58.696Z"
   },
   {
    "duration": 23,
    "start_time": "2024-08-10T14:35:08.893Z"
   },
   {
    "duration": 316,
    "start_time": "2024-08-10T14:39:36.205Z"
   },
   {
    "duration": 1540,
    "start_time": "2024-08-10T14:39:42.690Z"
   },
   {
    "duration": 27,
    "start_time": "2024-08-10T14:39:44.374Z"
   },
   {
    "duration": 1601,
    "start_time": "2024-08-10T14:39:50.967Z"
   },
   {
    "duration": 23,
    "start_time": "2024-08-10T14:39:52.572Z"
   },
   {
    "duration": 5,
    "start_time": "2024-08-10T14:39:52.598Z"
   },
   {
    "duration": 38,
    "start_time": "2024-08-10T14:39:52.607Z"
   },
   {
    "duration": 13,
    "start_time": "2024-08-10T14:39:52.650Z"
   },
   {
    "duration": 5,
    "start_time": "2024-08-10T14:39:52.666Z"
   },
   {
    "duration": 9,
    "start_time": "2024-08-10T14:39:52.674Z"
   },
   {
    "duration": 47,
    "start_time": "2024-08-10T14:39:52.686Z"
   },
   {
    "duration": 9,
    "start_time": "2024-08-10T14:39:52.736Z"
   },
   {
    "duration": 5,
    "start_time": "2024-08-10T14:39:52.748Z"
   },
   {
    "duration": 12,
    "start_time": "2024-08-10T14:39:52.756Z"
   },
   {
    "duration": 7,
    "start_time": "2024-08-10T14:39:52.771Z"
   },
   {
    "duration": 57,
    "start_time": "2024-08-10T14:39:52.781Z"
   },
   {
    "duration": 12,
    "start_time": "2024-08-10T14:39:52.846Z"
   },
   {
    "duration": 10,
    "start_time": "2024-08-10T14:39:52.860Z"
   },
   {
    "duration": 430,
    "start_time": "2024-08-10T14:39:52.873Z"
   },
   {
    "duration": 49,
    "start_time": "2024-08-10T14:39:53.306Z"
   },
   {
    "duration": 1124,
    "start_time": "2024-08-10T14:39:53.358Z"
   },
   {
    "duration": 5,
    "start_time": "2024-08-10T14:39:54.485Z"
   },
   {
    "duration": 7,
    "start_time": "2024-08-10T14:39:54.493Z"
   },
   {
    "duration": 35,
    "start_time": "2024-08-10T14:39:54.504Z"
   },
   {
    "duration": 7,
    "start_time": "2024-08-10T14:39:54.542Z"
   },
   {
    "duration": 7,
    "start_time": "2024-08-10T14:39:54.552Z"
   },
   {
    "duration": 7,
    "start_time": "2024-08-10T14:39:54.563Z"
   },
   {
    "duration": 62,
    "start_time": "2024-08-10T14:39:54.574Z"
   },
   {
    "duration": 18,
    "start_time": "2024-08-10T14:39:54.638Z"
   },
   {
    "duration": 9,
    "start_time": "2024-08-10T14:39:54.659Z"
   },
   {
    "duration": 16,
    "start_time": "2024-08-10T14:39:54.671Z"
   },
   {
    "duration": 44,
    "start_time": "2024-08-10T14:39:54.689Z"
   },
   {
    "duration": 4,
    "start_time": "2024-08-10T14:39:54.736Z"
   },
   {
    "duration": 11,
    "start_time": "2024-08-10T14:39:54.743Z"
   },
   {
    "duration": 4,
    "start_time": "2024-08-10T14:39:54.757Z"
   },
   {
    "duration": 4,
    "start_time": "2024-08-10T14:39:54.764Z"
   },
   {
    "duration": 2250,
    "start_time": "2024-08-10T14:39:54.772Z"
   },
   {
    "duration": 259,
    "start_time": "2024-08-10T14:39:57.031Z"
   },
   {
    "duration": 6,
    "start_time": "2024-08-10T14:39:57.292Z"
   },
   {
    "duration": 5,
    "start_time": "2024-08-10T14:39:57.301Z"
   },
   {
    "duration": 933,
    "start_time": "2024-08-10T14:39:57.332Z"
   },
   {
    "duration": 24,
    "start_time": "2024-08-10T14:39:58.268Z"
   },
   {
    "duration": 659,
    "start_time": "2024-08-10T14:39:58.295Z"
   },
   {
    "duration": 5,
    "start_time": "2024-08-10T14:39:58.962Z"
   },
   {
    "duration": 332,
    "start_time": "2024-08-10T14:39:58.971Z"
   },
   {
    "duration": 3062,
    "start_time": "2024-08-10T14:39:59.305Z"
   },
   {
    "duration": 11,
    "start_time": "2024-08-10T14:40:02.370Z"
   },
   {
    "duration": 49,
    "start_time": "2024-08-10T14:40:02.384Z"
   },
   {
    "duration": 1717,
    "start_time": "2024-08-12T05:32:57.509Z"
   },
   {
    "duration": 37,
    "start_time": "2024-08-12T05:32:59.229Z"
   },
   {
    "duration": 6,
    "start_time": "2024-08-12T05:32:59.269Z"
   },
   {
    "duration": 29,
    "start_time": "2024-08-12T05:32:59.280Z"
   },
   {
    "duration": 13,
    "start_time": "2024-08-12T05:32:59.312Z"
   },
   {
    "duration": 5,
    "start_time": "2024-08-12T05:32:59.329Z"
   },
   {
    "duration": 12,
    "start_time": "2024-08-12T05:32:59.338Z"
   },
   {
    "duration": 50,
    "start_time": "2024-08-12T05:32:59.353Z"
   },
   {
    "duration": 7,
    "start_time": "2024-08-12T05:32:59.407Z"
   },
   {
    "duration": 4,
    "start_time": "2024-08-12T05:32:59.420Z"
   },
   {
    "duration": 13,
    "start_time": "2024-08-12T05:32:59.427Z"
   },
   {
    "duration": 8,
    "start_time": "2024-08-12T05:32:59.443Z"
   },
   {
    "duration": 12,
    "start_time": "2024-08-12T05:32:59.502Z"
   },
   {
    "duration": 11,
    "start_time": "2024-08-12T05:32:59.517Z"
   },
   {
    "duration": 9,
    "start_time": "2024-08-12T05:32:59.531Z"
   },
   {
    "duration": 422,
    "start_time": "2024-08-12T05:32:59.543Z"
   },
   {
    "duration": 49,
    "start_time": "2024-08-12T05:32:59.968Z"
   },
   {
    "duration": 1101,
    "start_time": "2024-08-12T05:33:00.019Z"
   },
   {
    "duration": 5,
    "start_time": "2024-08-12T05:33:01.124Z"
   },
   {
    "duration": 7,
    "start_time": "2024-08-12T05:33:01.134Z"
   },
   {
    "duration": 13,
    "start_time": "2024-08-12T05:33:01.145Z"
   },
   {
    "duration": 44,
    "start_time": "2024-08-12T05:33:01.161Z"
   },
   {
    "duration": 9,
    "start_time": "2024-08-12T05:33:01.208Z"
   },
   {
    "duration": 8,
    "start_time": "2024-08-12T05:33:01.220Z"
   },
   {
    "duration": 24,
    "start_time": "2024-08-12T05:33:01.232Z"
   },
   {
    "duration": 19,
    "start_time": "2024-08-12T05:33:01.303Z"
   },
   {
    "duration": 11,
    "start_time": "2024-08-12T05:33:01.325Z"
   },
   {
    "duration": 16,
    "start_time": "2024-08-12T05:33:01.342Z"
   },
   {
    "duration": 42,
    "start_time": "2024-08-12T05:33:01.362Z"
   },
   {
    "duration": 4,
    "start_time": "2024-08-12T05:33:01.407Z"
   },
   {
    "duration": 12,
    "start_time": "2024-08-12T05:33:01.415Z"
   },
   {
    "duration": 5,
    "start_time": "2024-08-12T05:33:01.430Z"
   },
   {
    "duration": 3,
    "start_time": "2024-08-12T05:33:01.439Z"
   },
   {
    "duration": 2213,
    "start_time": "2024-08-12T05:33:18.963Z"
   }
  ],
  "kernelspec": {
   "display_name": "Python 3 (ipykernel)",
   "language": "python",
   "name": "python3"
  },
  "language_info": {
   "codemirror_mode": {
    "name": "ipython",
    "version": 3
   },
   "file_extension": ".py",
   "mimetype": "text/x-python",
   "name": "python",
   "nbconvert_exporter": "python",
   "pygments_lexer": "ipython3",
   "version": "3.9.19"
  },
  "toc": {
   "base_numbering": 1,
   "nav_menu": {},
   "number_sections": true,
   "sideBar": true,
   "skip_h1_title": true,
   "title_cell": "Table of Contents",
   "title_sidebar": "Contents",
   "toc_cell": false,
   "toc_position": {
    "height": "calc(100% - 180px)",
    "left": "10px",
    "top": "150px",
    "width": "165px"
   },
   "toc_section_display": true,
   "toc_window_display": true
  }
 },
 "nbformat": 4,
 "nbformat_minor": 2
}
